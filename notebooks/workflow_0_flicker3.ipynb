{
 "cells": [
  {
   "cell_type": "markdown",
   "metadata": {},
   "source": [
    "# Workflow"
   ]
  },
  {
   "cell_type": "code",
   "execution_count": null,
   "metadata": {},
   "outputs": [],
   "source": [
    "import numpy as np\n",
    "import healpy as hp\n",
    "import matplotlib.pyplot as plt\n",
    "import sys\n",
    "\n",
    "sys.path.append('../hydra_tod/')\n",
    "\n",
    "from astropy.coordinates import EarthLocation, AltAz, SkyCoord\n",
    "from astropy.time import Time, TimeDelta\n",
    "import astropy.units as u\n",
    "from utils import Leg_poly_proj, view_samples\n",
    "from flicker_model import sim_noise, flicker_cov\n",
    "from simulation import * "
   ]
  },
  {
   "cell_type": "markdown",
   "metadata": {},
   "source": [
    "## A. Simulation"
   ]
  },
  {
   "cell_type": "code",
   "execution_count": null,
   "metadata": {},
   "outputs": [],
   "source": [
    "nside = 64"
   ]
  },
  {
   "cell_type": "markdown",
   "metadata": {},
   "source": [
    "### 1. Define the two scans (rising and setting)\n",
    "Tsky parameters and operators"
   ]
  },
  {
   "cell_type": "code",
   "execution_count": null,
   "metadata": {},
   "outputs": [],
   "source": [
    "# Get the timestream of beam centers (theta_c, phi_c) for each scan\n",
    "t_list, theta_c_setting, phi_c_setting = sim_MeerKAT_scan(elevation=41.5, az_s=-60.3, az_e=-42.3, start_time_utc=\"2019-04-23 20:41:56.397\")\n",
    "bool_map_setting, integrated_beam_setting = stacked_beam_map(theta_c_setting, \n",
    "                                       phi_c_setting, \n",
    "                                       FWHM=1.1, \n",
    "                                       NSIDE=nside, \n",
    "                                       threshold = 0.0111) # This threshold cut off the beam directions outside the 3sigma region."
   ]
  },
  {
   "cell_type": "code",
   "execution_count": null,
   "metadata": {},
   "outputs": [],
   "source": [
    "full_bool_map = bool_map_setting\n",
    "pixel_indices = np.where(full_bool_map)[0]\n",
    "integrated_beam = integrated_beam_setting \n",
    "\n",
    "Tsky_operator_setting = generate_Tsky_proj(full_bool_map, theta_c_setting, phi_c_setting, FWHM=1.1)"
   ]
  },
  {
   "cell_type": "code",
   "execution_count": null,
   "metadata": {},
   "outputs": [],
   "source": [
    "def sky_vector(pixel_indices, freq, Nside=64, sky_model=None):\n",
    "    if sky_model is None:\n",
    "        from pygdsm import GlobalSkyModel\n",
    "        gsm = GlobalSkyModel()\n",
    "        skymap = gsm.generate(freq)\n",
    "    else:\n",
    "        skymap = sky_model(freq)\n",
    "    skymap = hp.ud_grade(skymap, nside_out=Nside)\n",
    "    ptsrc = np.load(\"gleam_nside512_K_allsky_408MHz.npy\")\n",
    "    ptsrc_map = hp.ud_grade(ptsrc, nside_out=Nside)\n",
    "    skymap = skymap + ptsrc_map\n",
    "    return skymap[pixel_indices]\n",
    "\n",
    "sky_params = sky_vector(pixel_indices, 408, Nside=nside, sky_model=None)\n",
    "print(\"Number of pixels: \", len(pixel_indices))"
   ]
  },
  {
   "cell_type": "markdown",
   "metadata": {},
   "source": [
    "### 2. Define Tdiode and Trec"
   ]
  },
  {
   "cell_type": "code",
   "execution_count": null,
   "metadata": {},
   "outputs": [],
   "source": [
    "# generate a vector of length ntime, every 10 elements there is a 1, the rest is 0\n",
    "def generate_vector(ntime):\n",
    "    vector = np.zeros(ntime)\n",
    "    for i in range(0, ntime, 10):\n",
    "        vector[i] = 1\n",
    "    return vector\n",
    "\n",
    "ntime = len(t_list)\n",
    "ndiode_proj = generate_vector(ntime)\n",
    "\n",
    "nd_rec_operator = np.zeros((ntime, 5))\n",
    "nd_rec_operator[:, 0] = ndiode_proj    # The noise diode part\n",
    "nd_rec_operator[:, 1:] = Leg_poly_proj(4, t_list) # The Legendre polynomial (receiver temperature and all) part\n",
    "\n",
    "T_ndiode = 10.0\n",
    "rec_params=np.array([4, 0.5, 0.5, 0.5]) # The receiver temperature and all\n",
    "nd_rec_params = np.zeros(5)\n",
    "nd_rec_params[0] = T_ndiode\n",
    "nd_rec_params[1:] = rec_params\n",
    "\n",
    "plt.title(\"Receiver + Tnd temperature\")\n",
    "plt.plot(nd_rec_operator @ nd_rec_params)"
   ]
  },
  {
   "cell_type": "markdown",
   "metadata": {},
   "source": [
    "### 3. Define Gain and Noise"
   ]
  },
  {
   "cell_type": "code",
   "execution_count": null,
   "metadata": {},
   "outputs": [],
   "source": [
    "gain_proj = Leg_poly_proj(4, t_list)\n",
    "\n",
    "gain_params_setting = np.array([6.31194264, 0.42038942, 0.264222, 0.05578821])\n",
    "gains_setting = gain_proj @ gain_params_setting\n",
    "print(gain_params_setting)\n",
    "# save the gain parameters\n",
    "np.savez('outputs/sim0_flicker3/gain_params.npy', gain_params_setting)"
   ]
  },
  {
   "cell_type": "code",
   "execution_count": null,
   "metadata": {},
   "outputs": [],
   "source": [
    "dtime = 2\n",
    "fc = (1/ntime/dtime)*2*np.pi\n",
    "logfc = np.log10(fc)\n",
    "alpha = 2.0\n",
    "logf0_list=[-4.874571109426952, -3.874259892646189, -2.901434432609383] \n",
    "# Corresponding to knee frequencies: 0.001. 0.01, 0.1\n",
    "sigma_2 = 1/(4e5)\n",
    "\n",
    "f0 = 10**logf0_list[2]\n",
    "\n",
    "noise_setting = sim_noise(f0, fc, alpha, t_list, white_n_variance=sigma_2)"
   ]
  },
  {
   "cell_type": "code",
   "execution_count": null,
   "metadata": {},
   "outputs": [],
   "source": [
    "Tsys_setting = Tsky_operator_setting @ sky_params + nd_rec_operator @ nd_rec_params \n",
    "TOD_setting = Tsys_setting * (1+noise_setting) * gains_setting"
   ]
  },
  {
   "cell_type": "markdown",
   "metadata": {},
   "source": [
    "## B. Sampling"
   ]
  },
  {
   "cell_type": "code",
   "execution_count": null,
   "metadata": {},
   "outputs": [],
   "source": [
    "# Convert theta/phi coordinates to HEALPix pixels\n",
    "pixels_c_setting = [hp.ang2pix(nside=nside, theta=theta, phi=phi)\n",
    "          for theta, phi in zip(theta_c_setting, phi_c_setting)]\n",
    "bool_map_c_setting = np.zeros(hp.nside2npix(nside))\n",
    "bool_map_c_setting[pixels_c_setting] = 1"
   ]
  },
  {
   "cell_type": "code",
   "execution_count": null,
   "metadata": {},
   "outputs": [],
   "source": [
    "# For a 1D array 'integrated_beam_setting'\n",
    "n_cal_pixs=1\n",
    "top_20_beam_indices = np.argpartition(integrated_beam_setting[pixel_indices], -20)[-20:]\n",
    "top_n_sky_indices = np.argpartition(sky_params[top_20_beam_indices], -n_cal_pixs)[-n_cal_pixs:]\n",
    "calibration_indices = top_20_beam_indices[top_n_sky_indices]"
   ]
  },
  {
   "cell_type": "code",
   "execution_count": null,
   "metadata": {},
   "outputs": [],
   "source": [
    "init_Tsys_params = np.hstack([sky_params, nd_rec_params])\n",
    "init_noise_params = [-4.8, 2.2]\n",
    "\n",
    "gain_prior_cov_inv = np.ones(4)*0.5\n",
    "#gain_prior_cov_inv[0, 0] = 1.\n",
    "gain_prior_mean = gain_params_setting\n",
    "\n",
    "Tsky_prior_cov_inv = np.ones_like(sky_params) * 0.1\n",
    "Tsky_prior_cov_inv[calibration_indices] = 1e20\n",
    "\n",
    "Trec_prior_cov_inv = [np.zeros_like(nd_rec_params)] # Effectlively no prior\n",
    "\n",
    "# logfc_c= np.log10(fc)\n",
    "# def log_prior_noise(params):\n",
    "#     _, logfc, _ = params\n",
    "#     return -1e10 * (logfc_c - logfc)**4 # Effectively constrain f_c\n"
   ]
  },
  {
   "cell_type": "code",
   "execution_count": null,
   "metadata": {},
   "outputs": [],
   "source": [
    "# class TOD_sim:\n",
    "#     def __init__(self, t_list, theta_c, phi_c, \n",
    "#                  TOD, gain_proj, Tsky_proj, nd_rec_proj,\n",
    "#                  ):\n",
    "#         self.t_list = None\n",
    "#         self.theta_c = None\n",
    "#         self.phi_c = None"
   ]
  },
  {
   "cell_type": "code",
   "execution_count": null,
   "metadata": {},
   "outputs": [],
   "source": [
    "from full_Gibbs_sampler import full_Gibbs_sampler_multi_TODS_v2\n",
    "\n",
    "Tsys_samples, all_gain_samples, all_noise_samples = \\\n",
    "    full_Gibbs_sampler_multi_TODS_v2([TOD_setting],\n",
    "                                    [t_list],\n",
    "                                    [gain_proj],\n",
    "                                    [Tsky_operator_setting],\n",
    "                                    [nd_rec_operator],\n",
    "                                    init_Tsys_params,\n",
    "                                    init_noise_params, \n",
    "                                    [logfc],\n",
    "                                    num_Jeffrey=False,\n",
    "                                    wnoise_var=2.5e-6,\n",
    "                                    Tsky_prior_cov_inv=Tsky_prior_cov_inv,\n",
    "                                    Tsky_prior_mean=sky_params,\n",
    "                                    local_Trec_prior_cov_inv_list=Trec_prior_cov_inv,\n",
    "                                    local_Trec_prior_mean_list=[nd_rec_params],\n",
    "                                    local_gain_prior_cov_inv_list=[gain_prior_cov_inv],\n",
    "                                    local_gain_prior_mean_list=[gain_prior_mean],\n",
    "                                    #local_noise_prior_func_list=[log_prior_noise, log_prior_noise],\n",
    "                                    n_samples=300,\n",
    "                                    tol=1e-12)"
   ]
  },
  {
   "cell_type": "markdown",
   "metadata": {},
   "source": [
    "#### Visualize the Tsky samples"
   ]
  },
  {
   "cell_type": "code",
   "execution_count": null,
   "metadata": {},
   "outputs": [],
   "source": [
    "# First, save the samples as npy files..\n",
    "\n",
    "np.save(\"outputs/sim0_flicker3/Tsys_samples.npy\", Tsys_samples)\n",
    "np.save(\"outputs/sim0_flicker3/gain_samples.npy\", np.concatenate(all_gain_samples, axis=0))\n",
    "np.save(\"outputs/sim0_flicker3/noise_samples.npy\", np.concatenate(all_noise_samples, axis=0))"
   ]
  },
  {
   "cell_type": "code",
   "execution_count": null,
   "metadata": {},
   "outputs": [],
   "source": [
    "# Read the saved samples\n",
    "\n",
    "# Tsys_samples = np.load('outputs/sim0_flicker3/Tsys_samples.npy')\n"
   ]
  },
  {
   "cell_type": "code",
   "execution_count": null,
   "metadata": {},
   "outputs": [],
   "source": [
    "num_pixels = len(pixel_indices)\n",
    "Tsky_samples = Tsys_samples[:, :num_pixels]\n",
    "Tmean = np.mean(Tsky_samples, axis=0)\n",
    "Tstd = np.std(Tsky_samples, axis=0)\n",
    "\n",
    "NPIX = hp.nside2npix(nside)\n",
    "\n",
    "true_map = np.zeros(NPIX, dtype=float)\n",
    "sample_mean_map = np.zeros(NPIX, dtype=float)\n",
    "sample_std_map = np.zeros(NPIX, dtype=float)\n",
    "\n",
    "true_map[pixel_indices] = sky_params\n",
    "sample_mean_map[pixel_indices] = Tmean\n",
    "sample_std_map[pixel_indices] = Tstd"
   ]
  },
  {
   "cell_type": "code",
   "execution_count": null,
   "metadata": {},
   "outputs": [],
   "source": [
    "def view_patch_map(map, pixel_indices):\n",
    "    # Create a new map with just the patch (other pixels set to UNSEEN)\n",
    "    patch_only_map = np.full(len(map), hp.UNSEEN)\n",
    "    patch_only_map[pixel_indices] = map[pixel_indices]\n",
    "    return patch_only_map\n"
   ]
  },
  {
   "cell_type": "code",
   "execution_count": null,
   "metadata": {},
   "outputs": [],
   "source": [
    "# Get pixel coordinates\n",
    "theta, phi = hp.pix2ang(nside, pixel_indices)\n",
    "lon, lat = np.degrees(phi), 90 - np.degrees(theta)\n",
    "lon_center, lat_center = np.median(lon), np.median(lat)\n",
    "\n",
    "# Calculate appropriate zoom/resolution\n",
    "patch_size = 100  # Add 20% margin\n",
    "res = patch_size / 20  # Adjust resolution based on patch size"
   ]
  },
  {
   "cell_type": "code",
   "execution_count": null,
   "metadata": {},
   "outputs": [],
   "source": [
    "sky_min = np.min(sky_params)\n",
    "sky_max = np.max(sky_params)"
   ]
  },
  {
   "cell_type": "code",
   "execution_count": null,
   "metadata": {},
   "outputs": [],
   "source": [
    "patch_true_map = view_patch_map(true_map, pixel_indices)\n",
    "\n",
    "hp.gnomview(patch_true_map, rot=(lon_center, lat_center), \n",
    "           xsize=520, ysize=350, reso=res, \n",
    "           title=\" \", \n",
    "           unit=\"K\", cmap='jet', min=sky_min, max=sky_max,\n",
    "           #notext=True,\n",
    "           coord=['C'], \n",
    "           cbar=True, notext=False, badcolor='gray')\n",
    "#plt.grid(True)\n",
    "hp.graticule(dpar=10, dmer=10, coord=['C'], local=True)  \n",
    "#plt.grid(color='gray', linestyle=':', alpha=0.5)  # Custom grid style\n",
    "plt.gca().set_facecolor('gray')  # Set background to white\n",
    "plt.savefig('outputs/sim0_flicker3/true_map.pdf', bbox_inches='tight', \n",
    "            pad_inches=0.1)"
   ]
  },
  {
   "cell_type": "code",
   "execution_count": null,
   "metadata": {},
   "outputs": [],
   "source": [
    "patch_mean_map = view_patch_map(sample_mean_map, pixel_indices)\n",
    "\n",
    "hp.gnomview(patch_mean_map, rot=(lon_center, lat_center), \n",
    "           xsize=520, ysize=350, reso=res, title=\" \", \n",
    "           unit=\"K\", cmap='jet', min=sky_min, max=sky_max,\n",
    "           #notext=True,\n",
    "           coord=['C'], \n",
    "           cbar=True, notext=False, badcolor='gray')\n",
    "#plt.grid(True)\n",
    "hp.graticule(dpar=10, dmer=10, coord=['C'], local=True)  \n",
    "#plt.grid(color='gray', linestyle=':', alpha=0.5)  # Custom grid style\n",
    "plt.gca().set_facecolor('gray')  # Set background to white\n",
    "plt.savefig(\"outputs/sim0_flicker3/mean_map.pdf\", bbox_inches='tight', \n",
    "            pad_inches=0.1)"
   ]
  },
  {
   "cell_type": "code",
   "execution_count": null,
   "metadata": {},
   "outputs": [],
   "source": [
    "patch_error_map = view_patch_map(sample_mean_map-true_map, pixel_indices)\n",
    "# plt.figure(figsize=(10, 6))\n",
    "hp.gnomview(patch_error_map, rot=(lon_center, lat_center), \n",
    "           xsize=520, ysize=350, reso=res, title=\" \", \n",
    "           unit=\"K\", cmap='RdBu_r', min=-2.8, max=2.8,\n",
    "           #notext=True,\n",
    "           coord=['C'], \n",
    "           cbar=True, notext=False,\n",
    "           badcolor='gray')\n",
    "#plt.grid(True)\n",
    "hp.graticule(dpar=10, dmer=10, coord=['C'], local=True)  \n",
    "#plt.grid(color='gray', linestyle=':', alpha=0.5)  # Custom grid style\n",
    "plt.gca().set_facecolor('gray')  # Set background to white\n",
    "plt.savefig(\"outputs/sim0_flicker3/error_map_multi_TOD.pdf\", bbox_inches='tight', \n",
    "            pad_inches=0.1)"
   ]
  },
  {
   "cell_type": "code",
   "execution_count": null,
   "metadata": {},
   "outputs": [],
   "source": [
    "patch_std_map = view_patch_map(sample_std_map, pixel_indices)\n",
    "\n",
    "hp.gnomview(patch_std_map, rot=(lon_center, lat_center), \n",
    "           xsize=520, ysize=350, reso=res, title=None, \n",
    "           unit=\"K\", cmap='jet', \n",
    "           notext=False,\n",
    "           coord=['C'], \n",
    "           cbar=True, \n",
    "           badcolor='gray',\n",
    "           #sub=(2, 1, 1),  # Proper subplot specification\n",
    "           #margins=(0.05, 0.15, 0.05, 0.15)\n",
    "           )\n",
    "#plt.grid(True)\n",
    "hp.graticule(dpar=10, dmer=10, coord=['C'], local=True)  \n",
    "#plt.grid(color='gray', linestyle=':', alpha=0.5)  # Custom grid style\n",
    "plt.gca().set_facecolor('gray')  # Set background to white\n",
    "plt.savefig(\"outputs/sim0_flicker3/std_map_multi_TOD.pdf\", bbox_inches='tight', \n",
    "            pad_inches=0.1)"
   ]
  },
  {
   "cell_type": "code",
   "execution_count": null,
   "metadata": {},
   "outputs": [],
   "source": [
    "\n",
    "# # ---- Plot results ----\n",
    "# # Generate a 2D plot of (RA, Dec) coordinates\n",
    "# plt.figure(figsize=(12, 6))\n",
    "# plt.scatter(equatorial_coords_setting.ra, equatorial_coords_setting.dec)\n",
    "# plt.scatter(equatorial_coords_rising.ra, equatorial_coords_rising.dec)\n",
    "# plt.xlabel(\"Right Ascension (degrees)\")\n",
    "# plt.ylabel(\"Declination (degrees)\")\n",
    "# plt.title(\"Sky Coordinates at Different Times\")\n",
    "# plt.show()\n"
   ]
  },
  {
   "cell_type": "markdown",
   "metadata": {},
   "source": [
    "### Other components"
   ]
  },
  {
   "cell_type": "code",
   "execution_count": null,
   "metadata": {},
   "outputs": [],
   "source": [
    "#gain_samples = np.load(\"outputs/sim0_flicker3/gain_samples.npy\")"
   ]
  },
  {
   "cell_type": "code",
   "execution_count": null,
   "metadata": {},
   "outputs": [],
   "source": [
    "all_noise_samples[0].shape"
   ]
  },
  {
   "cell_type": "code",
   "execution_count": null,
   "metadata": {},
   "outputs": [],
   "source": [
    "view_samples(all_noise_samples[0][0], [np.log10(f0), alpha])"
   ]
  },
  {
   "cell_type": "code",
   "execution_count": null,
   "metadata": {},
   "outputs": [],
   "source": [
    "view_samples(all_gain_samples[0][0], gain_params_setting)"
   ]
  },
  {
   "cell_type": "code",
   "execution_count": null,
   "metadata": {},
   "outputs": [],
   "source": [
    "view_samples(Tsys_samples[:,-5:], nd_rec_params)"
   ]
  }
 ],
 "metadata": {
  "kernelspec": {
   "display_name": "TOD",
   "language": "python",
   "name": "python3"
  },
  "language_info": {
   "codemirror_mode": {
    "name": "ipython",
    "version": 3
   },
   "file_extension": ".py",
   "mimetype": "text/x-python",
   "name": "python",
   "nbconvert_exporter": "python",
   "pygments_lexer": "ipython3",
   "version": "3.13.2"
  }
 },
 "nbformat": 4,
 "nbformat_minor": 2
}
