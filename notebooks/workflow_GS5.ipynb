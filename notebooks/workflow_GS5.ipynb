{
 "cells": [
  {
   "cell_type": "markdown",
   "metadata": {},
   "source": [
    "# Workflow"
   ]
  },
  {
   "cell_type": "code",
   "execution_count": 1,
   "metadata": {},
   "outputs": [],
   "source": [
    "import numpy as np\n",
    "import healpy as hp\n",
    "import matplotlib.pyplot as plt\n",
    "import sys\n",
    "\n",
    "sys.path.append('../hydra_tod/')\n",
    "\n",
    "from astropy.coordinates import EarthLocation, AltAz, SkyCoord\n",
    "from astropy.time import Time, TimeDelta\n",
    "import astropy.units as u\n",
    "from utils import Leg_poly_proj, view_samples\n",
    "from flicker_model import sim_noise, flicker_cov\n",
    "from simulation import * "
   ]
  },
  {
   "cell_type": "code",
   "execution_count": 2,
   "metadata": {},
   "outputs": [
    {
     "name": "stdout",
     "output_type": "stream",
     "text": [
      "Using the emulator for flicker noise correlation function.\n"
     ]
    }
   ],
   "source": [
    "# Import the FlickerCorrEmulator class first\n",
    "from flicker_model import FlickerCorrEmulator\n",
    "\n",
    "# Then import from noise_sampler_fixed_fc\n",
    "from noise_sampler_fixed_fc import flicker_noise_sampler, flicker_likeli_func\n",
    "\n",
    "# Load the simulation results\n",
    "import pickle\n",
    "from simulation import TODSimulation\n",
    "\n",
    "with open('tod_simulation_single.pkl', 'rb') as f:\n",
    "    tod_sim = pickle.load(f)"
   ]
  },
  {
   "cell_type": "code",
   "execution_count": 3,
   "metadata": {},
   "outputs": [],
   "source": [
    "sky_params = tod_sim.sky_params\n",
    "nd_rec_params = tod_sim.nd_rec_params\n",
    "gain_params_setting = tod_sim.gain_params_setting\n",
    "calibration_indices = tod_sim.calibration_5_indices\n",
    "alpha = tod_sim.alpha\n",
    "\n",
    "TOD_setting = tod_sim.TOD_setting\n",
    "t_list = tod_sim.t_list\n",
    "gain_proj = tod_sim.gain_proj\n",
    "Tsky_operator_setting = tod_sim.Tsky_operator_setting\n",
    "nd_rec_operator = tod_sim.nd_rec_operator\n",
    "\n",
    "logfc = tod_sim.logfc\n",
    "\n",
    "# Additional variables needed for the analysis\n",
    "pixel_indices = tod_sim.pixel_indices\n",
    "nside = tod_sim.nside\n",
    "f0 = tod_sim.f0\n",
    "T_ndiode = tod_sim.T_ndiode\n",
    "rec_params = tod_sim.rec_params\n",
    "logf0_list = [tod_sim.logf0]  # Convert to list format as expected later"
   ]
  },
  {
   "cell_type": "code",
   "execution_count": 4,
   "metadata": {},
   "outputs": [],
   "source": [
    "init_Tsys_params = np.hstack([sky_params, nd_rec_params])\n",
    "init_noise_params = [-4.8, 2.2]\n",
    "\n",
    "gain_prior_cov_inv = np.zeros(4)\n",
    "gain_prior_cov_inv[0] = 2.51 # DC mode: Prior STD ~10%\n",
    "gain_prior_mean = gain_params_setting\n",
    "\n",
    "prior_std_frac = 0.1\n",
    "Tsky_prior_cov_inv = 1. / (prior_std_frac * sky_params)**2\n",
    "Tsky_prior_cov_inv[calibration_indices] = 1e20\n",
    "\n",
    "aux = np.ones_like(nd_rec_params)*0.0\n",
    "aux[0] = 1\n",
    "Trec_prior_cov_inv = [aux] # Effectlively no prior\n",
    "\n",
    "# logfc_c= np.log10(fc)\n",
    "# def log_prior_noise(params):\n",
    "#     _, logfc, _ = params\n",
    "#     return -1e10 * (logfc_c - logfc)**4 # Effectively constrain f_c\n"
   ]
  },
  {
   "cell_type": "code",
   "execution_count": null,
   "metadata": {},
   "outputs": [],
   "source": [
    "# Import the FlickerCorrEmulator class first\n",
    "from flicker_model import FlickerCorrEmulator\n",
    "\n",
    "from full_Gibbs_sampler import full_Gibbs_sampler_multi_TODS_v2\n",
    "\n",
    "Tsys_samples, all_gain_samples, all_noise_samples = \\\n",
    "    full_Gibbs_sampler_multi_TODS_v2([TOD_setting],\n",
    "                                    [t_list],\n",
    "                                    [gain_proj],\n",
    "                                    [Tsky_operator_setting],\n",
    "                                    [nd_rec_operator],\n",
    "                                    init_Tsys_params,\n",
    "                                    init_noise_params, \n",
    "                                    [logfc],\n",
    "                                    num_Jeffrey=False,\n",
    "                                    wnoise_var=2.5e-6,\n",
    "                                    Tsky_prior_cov_inv=Tsky_prior_cov_inv,\n",
    "                                    Tsky_prior_mean=sky_params,\n",
    "                                    local_Trec_prior_cov_inv_list=Trec_prior_cov_inv,\n",
    "                                    local_Trec_prior_mean_list=[nd_rec_params],\n",
    "                                    local_gain_prior_cov_inv_list=[gain_prior_cov_inv],\n",
    "                                    local_gain_prior_mean_list=[gain_prior_mean],\n",
    "                                    #local_noise_prior_func_list=[log_prior_noise, log_prior_noise],\n",
    "                                    n_samples=1000,\n",
    "                                    tol=1e-12)"
   ]
  },
  {
   "cell_type": "code",
   "execution_count": 6,
   "metadata": {},
   "outputs": [],
   "source": [
    "# First, save the samples as npy files..\n",
    "\n",
    "np.save(\"outputs/GS5/Tsys_samples.npy\", Tsys_samples)\n",
    "np.save(\"outputs/GS5/gain_samples.npy\", np.concatenate(all_gain_samples, axis=0))\n",
    "np.save(\"outputs/GS5/noise_samples.npy\", np.concatenate(all_noise_samples, axis=0))"
   ]
  }
 ],
 "metadata": {
  "kernelspec": {
   "display_name": "TOD",
   "language": "python",
   "name": "python3"
  },
  "language_info": {
   "codemirror_mode": {
    "name": "ipython",
    "version": 3
   },
   "file_extension": ".py",
   "mimetype": "text/x-python",
   "name": "python",
   "nbconvert_exporter": "python",
   "pygments_lexer": "ipython3",
   "version": "3.13.2"
  }
 },
 "nbformat": 4,
 "nbformat_minor": 2
}
