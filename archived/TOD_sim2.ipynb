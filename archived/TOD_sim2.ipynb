{
 "cells": [
  {
   "cell_type": "markdown",
   "metadata": {},
   "source": [
    "# Workflow"
   ]
  },
  {
   "cell_type": "code",
   "execution_count": 1,
   "metadata": {},
   "outputs": [],
   "source": [
    "import numpy as np\n",
    "import healpy as hp\n",
    "import matplotlib.pyplot as plt\n",
    "import sys\n",
    "\n",
    "sys.path.append('../hydra_tod/')\n",
    "\n",
    "from astropy.coordinates import EarthLocation, AltAz, SkyCoord\n",
    "from astropy.time import Time, TimeDelta\n",
    "import astropy.units as u\n",
    "from utils import Leg_poly_proj, view_samples\n",
    "from flicker_model import sim_noise, flicker_cov\n",
    "from simulation import * "
   ]
  },
  {
   "cell_type": "markdown",
   "metadata": {},
   "source": [
    "## A. Simulation"
   ]
  },
  {
   "cell_type": "code",
   "execution_count": 2,
   "metadata": {},
   "outputs": [],
   "source": [
    "nside = 64"
   ]
  },
  {
   "cell_type": "markdown",
   "metadata": {},
   "source": [
    "### 1. Define the two scans (rising and setting)\n",
    "Tsky parameters and operators"
   ]
  },
  {
   "cell_type": "code",
   "execution_count": null,
   "metadata": {},
   "outputs": [],
   "source": [
    "# Get the timestream of beam centers (theta_c, phi_c) for each scan\n",
    "_, theta_c_setting, phi_c_setting = sim_MeerKAT_scan(elevation=41.5, az_s=-63.3, az_e=-39.3, start_time_utc=\"2019-04-23 20:41:56.397\")\n",
    "bool_map_setting, integrated_beam_setting = stacked_beam_map(theta_c_setting, \n",
    "                                       phi_c_setting, \n",
    "                                       FWHM=1.1, \n",
    "                                       NSIDE=nside, \n",
    "                                       threshold = 0.0111) # This threshold cut off the beam directions outside the 3sigma region."
   ]
  },
  {
   "cell_type": "code",
   "execution_count": null,
   "metadata": {},
   "outputs": [],
   "source": [
    "\n",
    "t_list, theta_c_rising, phi_c_rising = sim_MeerKAT_scan(elevation=40.5, az_s=40.7, az_e=64.7, start_time_utc=\"2019-03-30 17:19:02.397\")\n",
    "bool_map_rising, integrated_beam_rising = stacked_beam_map(theta_c_rising, \n",
    "                                                            phi_c_rising, \n",
    "                                                            FWHM=1.1, \n",
    "                                                            NSIDE=nside, \n",
    "                                                            threshold = 0.0111)"
   ]
  },
  {
   "cell_type": "code",
   "execution_count": 5,
   "metadata": {},
   "outputs": [],
   "source": [
    "full_bool_map, pixel_indices = reduce_bool_maps_LOR([bool_map_setting, bool_map_rising])\n",
    "integrated_beam = integrated_beam_setting + integrated_beam_rising\n",
    "\n",
    "Tsky_operator_setting = generate_Tsky_proj(full_bool_map, theta_c_setting, phi_c_setting, FWHM=1.1)\n",
    "Tsky_operator_rising = generate_Tsky_proj(full_bool_map, theta_c_rising, phi_c_rising, FWHM=1.1)"
   ]
  },
  {
   "cell_type": "code",
   "execution_count": 6,
   "metadata": {},
   "outputs": [
    {
     "name": "stdout",
     "output_type": "stream",
     "text": [
      "Number of pixels:  473\n"
     ]
    }
   ],
   "source": [
    "sky_params = sky_vector(pixel_indices, 500, Nside=nside, sky_model=None)\n",
    "print(\"Number of pixels: \", len(pixel_indices))"
   ]
  },
  {
   "cell_type": "markdown",
   "metadata": {},
   "source": [
    "### 2. Define Tdiode and Trec"
   ]
  },
  {
   "cell_type": "code",
   "execution_count": 7,
   "metadata": {},
   "outputs": [
    {
     "data": {
      "text/plain": [
       "[<matplotlib.lines.Line2D at 0x369317c50>]"
      ]
     },
     "execution_count": 7,
     "metadata": {},
     "output_type": "execute_result"
    },
    {
     "data": {
      "image/png": "[encoded data removed]",
      "text/plain": [
       "<Figure size 640x480 with 1 Axes>"
      ]
     },
     "metadata": {},
     "output_type": "display_data"
    }
   ],
   "source": [
    "# generate a vector of length ntime, every 10 elements there is a 1, the rest is 0\n",
    "def generate_vector(ntime):\n",
    "    vector = np.zeros(ntime)\n",
    "    for i in range(0, ntime, 10):\n",
    "        vector[i] = 1\n",
    "    return vector\n",
    "\n",
    "ntime = len(t_list)\n",
    "ndiode_proj = generate_vector(ntime)\n",
    "\n",
    "nd_rec_operator = np.zeros((ntime, 5))\n",
    "nd_rec_operator[:, 0] = ndiode_proj    # The noise diode part\n",
    "nd_rec_operator[:, 1:] = Leg_poly_proj(4, t_list) # The Legendre polynomial (receiver temperature and all) part\n",
    "\n",
    "T_ndiode = 10.0\n",
    "rec_params=np.array([4, 0.5, 0.5, 0.5]) # The receiver temperature and all\n",
    "nd_rec_params = np.zeros(5)\n",
    "nd_rec_params[0] = T_ndiode\n",
    "nd_rec_params[1:] = rec_params\n",
    "\n",
    "plt.title(\"Receiver + Tnd temperature\")\n",
    "plt.plot(nd_rec_operator @ nd_rec_params)"
   ]
  },
  {
   "cell_type": "markdown",
   "metadata": {},
   "source": [
    "### 3. Define Gain and Noise"
   ]
  },
  {
   "cell_type": "code",
   "execution_count": 8,
   "metadata": {},
   "outputs": [],
   "source": [
    "gain_proj = Leg_poly_proj(4, t_list)\n",
    "\n",
    "gain_params_setting = np.random.uniform(low=0.0, high=1.0, size=4) + np.array([6., 0., 0., 0.])\n",
    "gains_setting = gain_proj @ gain_params_setting\n",
    "\n",
    "gain_params_rising = np.random.uniform(low=0.0, high=1.0, size=4) + np.array([6., 0., 0., 0.])\n",
    "gains_rising  = gain_proj @ gain_params_rising "
   ]
  },
  {
   "cell_type": "code",
   "execution_count": 9,
   "metadata": {},
   "outputs": [],
   "source": [
    "f0, fc, alpha = 1e-4, 2e-5, 2.0\n",
    "sigma_2 = 1/(4e5)\n",
    "\n",
    "noise_setting = sim_noise(f0, fc, alpha, t_list, white_n_variance=sigma_2)\n",
    "noise_rising = sim_noise(f0, fc, alpha, t_list, white_n_variance=sigma_2)"
   ]
  },
  {
   "cell_type": "code",
   "execution_count": 10,
   "metadata": {},
   "outputs": [],
   "source": [
    "Tsys_setting = Tsky_operator_setting @ sky_params + nd_rec_operator @ nd_rec_params \n",
    "TOD_setting = Tsys_setting * (1+noise_setting) * gains_setting\n",
    "\n",
    "Tsys_rising = Tsky_operator_rising @ sky_params + nd_rec_operator @ nd_rec_params \n",
    "TOD_rising = Tsys_rising * (1+noise_rising) * gains_rising"
   ]
  },
  {
   "cell_type": "markdown",
   "metadata": {},
   "source": [
    "## B. Sampling"
   ]
  },
  {
   "cell_type": "code",
   "execution_count": 11,
   "metadata": {},
   "outputs": [],
   "source": [
    "def reduce_bool_maps_LAND(bool_maps):\n",
    "    \"\"\"\n",
    "    Reduce a list of boolean maps using the \"logical and\" operation.\n",
    "    \"\"\"\n",
    "    reduced_map = np.logical_and.reduce(bool_maps)\n",
    "    # Get the pixel indices of the \"1\" pixels:\n",
    "    pixel_indices = np.where(reduced_map)[0]\n",
    "    return reduced_map, pixel_indices"
   ]
  },
  {
   "cell_type": "code",
   "execution_count": 12,
   "metadata": {},
   "outputs": [],
   "source": [
    "# Convert theta/phi coordinates to HEALPix pixels\n",
    "pixels_c_setting = [hp.ang2pix(nside=nside, theta=theta, phi=phi)\n",
    "          for theta, phi in zip(theta_c_setting, phi_c_setting)]\n",
    "bool_map_c_setting = np.zeros(hp.nside2npix(nside))\n",
    "bool_map_c_setting[pixels_c_setting] = 1\n",
    "\n",
    "# Convert theta/phi coordinates to HEALPix pixels\n",
    "pixels_c_rising = [hp.ang2pix(nside=nside, theta=theta, phi=phi)\n",
    "          for theta, phi in zip(theta_c_rising, phi_c_rising)]\n",
    "bool_map_c_rising = np.zeros(hp.nside2npix(nside))\n",
    "bool_map_c_rising[pixels_c_rising] = 1\n",
    "\n",
    "LAND_bool_map, shared_pixel_indices = reduce_bool_maps_LAND([bool_map_c_setting, bool_map_c_rising])\n",
    "shared_indices = [list(pixel_indices).index(item) for item in shared_pixel_indices]"
   ]
  },
  {
   "cell_type": "code",
   "execution_count": 14,
   "metadata": {},
   "outputs": [],
   "source": [
    "init_Tsys_params = np.hstack([sky_params, nd_rec_params, nd_rec_params])\n",
    "init_noise_params = [-3.8, -4.3, 2.]\n",
    "\n",
    "Tsky_prior_cov_inv = np.zeros_like(sky_params)\n",
    "Tsky_prior_cov_inv[shared_indices[:5]] = 1e10\n",
    "\n",
    "Trec_prior_cov_inv = [np.zeros_like(nd_rec_params), np.zeros_like(nd_rec_params)]\n",
    "\n",
    "logfc_c= np.log10(fc)\n",
    "def log_prior_noise(params):\n",
    "    _, logfc, _ = params\n",
    "    return -1e10 * (logfc_c - logfc)**4 # Effectively constrain f_c\n"
   ]
  },
  {
   "cell_type": "code",
   "execution_count": null,
   "metadata": {},
   "outputs": [],
   "source": [
    "# class TOD_sim:\n",
    "#     def __init__(self, t_list, theta_c, phi_c, \n",
    "#                  TOD, gain_proj, Tsky_proj, nd_rec_proj,\n",
    "#                  ):\n",
    "#         self.t_list = None\n",
    "#         self.theta_c = None\n",
    "#         self.phi_c = None"
   ]
  },
  {
   "cell_type": "code",
   "execution_count": null,
   "metadata": {},
   "outputs": [
    {
     "name": "stdout",
     "output_type": "stream",
     "text": [
      "Rank: 0, local id: 0, gain_sample 0: [6.57467661 0.35787025 0.92485987 0.51529655]\n",
      "Rank: 0, local id: 0, noise_sample 0: [-3.88574556 -4.69290534  1.87870316]\n",
      "Rank: 0, local id: 1, gain_sample 0: [7.1714496  0.90714416 0.84750059 0.88818649]\n",
      "Rank: 0, local id: 1, noise_sample 0: [-3.84029117 -4.70058348  1.8952518 ]\n",
      "Reached max iterations with fractional norm error 0.0006734325765054979.\n",
      "Rank: 0, local id: 0, gain_sample 1: [6.70909852 0.43971803 0.99452713 0.51923574]\n",
      "Rank: 0, local id: 0, noise_sample 1: [-3.95203298 -4.6591927   1.76278315]\n",
      "Rank: 0, local id: 1, gain_sample 1: [7.45730368 0.84430504 0.85707095 0.92664555]\n",
      "Rank: 0, local id: 1, noise_sample 1: [-4.19287485 -4.70266985  2.24112002]\n",
      "Reached max iterations with fractional norm error 0.0013023912194845574.\n",
      "Rank: 0, local id: 0, gain_sample 2: [6.72902502 0.3439772  0.97863182 0.56198312]\n",
      "Rank: 0, local id: 0, noise_sample 2: [-3.79148468 -4.6915627   1.6438975 ]\n",
      "Rank: 0, local id: 1, gain_sample 2: [7.25801597 0.84675532 0.82550943 0.89654412]\n",
      "Rank: 0, local id: 1, noise_sample 2: [-4.47153935 -4.69812681  1.79803854]\n",
      "Reached max iterations with fractional norm error 0.0007461477368637831.\n",
      "Rank: 0, local id: 0, gain_sample 3: [6.62326412 0.42651518 0.8764191  0.52776155]\n",
      "Rank: 0, local id: 0, noise_sample 3: [-3.75723294 -4.70472512  1.48897074]\n",
      "Rank: 0, local id: 1, gain_sample 3: [7.16381838 0.82314722 0.81374315 0.88497134]\n",
      "Rank: 0, local id: 1, noise_sample 3: [-3.7943152  -4.62290125  2.23886744]\n",
      "Reached max iterations with fractional norm error 0.004140037802912488.\n",
      "Converged in 8 iterations.\n",
      "Rank: 0, local id: 0, gain_sample 4: [6.66305306 0.32391997 0.86196054 0.53957796]\n",
      "Rank: 0, local id: 0, noise_sample 4: [-3.98982988 -4.69410457  1.56903188]\n",
      "Rank: 0, local id: 1, gain_sample 4: [7.06811596 0.83163202 0.81706775 0.84859923]\n"
     ]
    }
   ],
   "source": [
    "from full_Gibbs_sampler import full_Gibbs_sampler_multi_TODS_v2\n",
    "\n",
    "Tsys_samples, all_gain_samples, all_noise_samples = \\\n",
    "    full_Gibbs_sampler_multi_TODS_v2([TOD_setting, TOD_rising],\n",
    "                                    [t_list, t_list],\n",
    "                                    [gain_proj, gain_proj],\n",
    "                                    [Tsky_operator_setting, Tsky_operator_rising],\n",
    "                                    [nd_rec_operator, nd_rec_operator],\n",
    "                                    init_Tsys_params,\n",
    "                                    init_noise_params, \n",
    "                                    wnoise_var=2.5e-6,\n",
    "                                    Tsky_prior_cov_inv=Tsky_prior_cov_inv,\n",
    "                                    Tsky_prior_mean=sky_params,\n",
    "                                    local_Trec_prior_cov_inv_list=Trec_prior_cov_inv,\n",
    "                                    local_Trec_prior_mean_list=[nd_rec_params, nd_rec_params],\n",
    "                                    gain_prior_cov_inv=None,\n",
    "                                    gain_prior_mean=None,\n",
    "                                    noise_prior_func_list=[log_prior_noise, log_prior_noise],\n",
    "                                    n_samples=100,\n",
    "                                    tol=1e-12)"
   ]
  },
  {
   "cell_type": "markdown",
   "metadata": {},
   "source": [
    "#### Visualize the Tsky samples"
   ]
  },
  {
   "cell_type": "code",
   "execution_count": null,
   "metadata": {},
   "outputs": [],
   "source": [
    "# First, save the samples as npy files..\n",
    "\n",
    "np.save(\"outputs/sim1/Tsys_samples.npy\", Tsys_samples)\n",
    "np.save(\"outputs/sim1/gain_samples.npy\", np.concatenate(all_gain_samples, axis=0))\n",
    "np.save(\"outputs/sim1/noise_samples.npy\", np.concatenate(all_noise_samples, axis=0))\n",
    "\n"
   ]
  },
  {
   "cell_type": "code",
   "execution_count": null,
   "metadata": {},
   "outputs": [],
   "source": [
    "num_pixels = len(pixel_indices)\n",
    "Tsky_samples = Tsys_samples[:, :num_pixels]\n",
    "Tmean = np.mean(Tsky_samples, axis=0)\n",
    "Tstd = np.std(Tsky_samples, axis=0)\n",
    "\n",
    "NPIX = hp.nside2npix(nside)\n",
    "\n",
    "true_map = np.zeros(NPIX, dtype=float)\n",
    "sample_mean_map = np.zeros(NPIX, dtype=float)\n",
    "sample_std_map = np.zeros(NPIX, dtype=float)\n",
    "\n",
    "true_map[pixel_indices] = true_Tsky\n",
    "sample_mean_map[pixel_indices] = Tmean\n",
    "sample_std_map[pixel_indices] = Tstd"
   ]
  },
  {
   "cell_type": "code",
   "execution_count": null,
   "metadata": {},
   "outputs": [],
   "source": [
    "def view_patch_map(map, pixel_indices):\n",
    "    # Create a new map with just the patch (other pixels set to UNSEEN)\n",
    "    patch_only_map = np.full(len(map), hp.UNSEEN)\n",
    "    patch_only_map[pixel_indices] = map[pixel_indices]\n",
    "    return patch_only_map\n"
   ]
  },
  {
   "cell_type": "code",
   "execution_count": null,
   "metadata": {},
   "outputs": [],
   "source": [
    "# Get pixel coordinates\n",
    "theta, phi = hp.pix2ang(NSIDE, pixel_indices)\n",
    "lon, lat = np.degrees(phi), 90 - np.degrees(theta)\n",
    "lon_center, lat_center = np.median(lon)-25, np.median(lat)\n",
    "\n",
    "# Calculate appropriate zoom/resolution\n",
    "patch_size = 100  # Add 20% margin\n",
    "res = patch_size / 20  # Adjust resolution based on patch size"
   ]
  },
  {
   "cell_type": "code",
   "execution_count": null,
   "metadata": {},
   "outputs": [],
   "source": [
    "patch_true_map = view_patch_map(true_map, pixel_indices)\n",
    "\n",
    "hp.gnomview(patch_true_map, rot=(lon_center, lat_center), \n",
    "           xsize=800, ysize=550, reso=res, \n",
    "           title=\"True map\", \n",
    "           unit=\"K\", cmap='jet', min=10, max=35,\n",
    "           #notext=True,\n",
    "           coord=['C'], \n",
    "           cbar=True, notext=False, badcolor='gray')\n",
    "#plt.grid(True)\n",
    "hp.graticule(dpar=10, dmer=10, coord=['C'], local=True)  \n",
    "#plt.grid(color='gray', linestyle=':', alpha=0.5)  # Custom grid style\n",
    "plt.gca().set_facecolor('gray')  # Set background to white"
   ]
  },
  {
   "cell_type": "code",
   "execution_count": null,
   "metadata": {},
   "outputs": [],
   "source": [
    "patch_mean_map = view_patch_map(sample_mean_map, pixel_indices)\n",
    "\n",
    "hp.gnomview(patch_mean_map, rot=(lon_center, lat_center), \n",
    "           xsize=800, ysize=550, reso=res, title=\"Estimated map\", \n",
    "           unit=\"K\", cmap='jet', min=10, max=35,\n",
    "           #notext=True,\n",
    "           coord=['C'], \n",
    "           cbar=True, notext=False, badcolor='gray')\n",
    "#plt.grid(True)\n",
    "hp.graticule(dpar=10, dmer=10, coord=['C'], local=True)  \n",
    "#plt.grid(color='gray', linestyle=':', alpha=0.5)  # Custom grid style\n",
    "plt.gca().set_facecolor('gray')  # Set background to white"
   ]
  },
  {
   "cell_type": "code",
   "execution_count": null,
   "metadata": {},
   "outputs": [],
   "source": [
    "patch_error_map = view_patch_map(sample_mean_map-true_map, pixel_indices)\n",
    "\n",
    "hp.gnomview(patch_error_map, rot=(lon_center, lat_center), \n",
    "           xsize=800, ysize=550, reso=res, title=\"Error map\", \n",
    "           unit=\"K\", cmap='RdBu_r', min=-2.8, max=2.8,\n",
    "           #notext=True,\n",
    "           coord=['C'], \n",
    "           cbar=True, notext=False,\n",
    "           badcolor='gray')\n",
    "#plt.grid(True)\n",
    "hp.graticule(dpar=10, dmer=10, coord=['C'], local=True)  \n",
    "#plt.grid(color='gray', linestyle=':', alpha=0.5)  # Custom grid style\n",
    "plt.gca().set_facecolor('gray')  # Set background to white\n",
    "plt.savefig(\"sim3_multi_results/error_map_multi_TOD.pdf\")"
   ]
  },
  {
   "cell_type": "code",
   "execution_count": null,
   "metadata": {},
   "outputs": [
    {
     "name": "stdout",
     "output_type": "stream",
     "text": [
      "Total length of TOD:  2860\n",
      "Total length of TOD:  2860\n"
     ]
    }
   ],
   "source": [
    "# plt.figure(figsize=(12, 7))\n",
    "# # Generate the equatorial coordinates of the pointings:\n",
    "# ra_list = []\n",
    "# dec_list = []\n",
    "\n",
    "# plt.subplot(211)\n",
    "# plt.plot(t_list, azimuths_setting, label='Setting')\n",
    "# plt.plot(t_list, azimuths_rising, label='Rising')\n",
    "# plt.xlabel('Time (s)')\n",
    "# plt.ylabel('Azimuth (deg)')\n",
    "\n",
    "# plt.subplot(212)\n",
    "# plt.plot(t_list, elevation*np.ones_like(azimuths_setting))\n",
    "# plt.xlabel('Time (s)')\n",
    "# plt.ylabel('Elevation (deg)')\n"
   ]
  },
  {
   "cell_type": "code",
   "execution_count": 44,
   "metadata": {},
   "outputs": [],
   "source": [
    "\n",
    "# # ---- Plot results ----\n",
    "# # Generate a 2D plot of (RA, Dec) coordinates\n",
    "# plt.figure(figsize=(12, 6))\n",
    "# plt.scatter(equatorial_coords_setting.ra, equatorial_coords_setting.dec)\n",
    "# plt.scatter(equatorial_coords_rising.ra, equatorial_coords_rising.dec)\n",
    "# plt.xlabel(\"Right Ascension (degrees)\")\n",
    "# plt.ylabel(\"Declination (degrees)\")\n",
    "# plt.title(\"Sky Coordinates at Different Times\")\n",
    "# plt.show()\n"
   ]
  },
  {
   "cell_type": "markdown",
   "metadata": {},
   "source": [
    "### Calibration source"
   ]
  },
  {
   "cell_type": "code",
   "execution_count": null,
   "metadata": {},
   "outputs": [
    {
     "name": "stdout",
     "output_type": "stream",
     "text": [
      "RA: 79.95718°, Dec: -45.77885°\n"
     ]
    }
   ],
   "source": [
    "# from astropy.coordinates import SkyCoord\n",
    "\n",
    "# # Using SIMBAD identifier\n",
    "# # c = SkyCoord.from_name('3C 237')  \n",
    "# c = SkyCoord.from_name('Pictor A')  \n",
    "# print(f\"RA: {c.ra.deg:.5f}°, Dec: {c.dec.deg:.5f}°\")\n"
   ]
  },
  {
   "cell_type": "code",
   "execution_count": null,
   "metadata": {},
   "outputs": [],
   "source": [
    "# # Using coordinates from previous calculation\n",
    "# c = SkyCoord.from_name('3C 237')  # RA/Dec from earlier cell\n",
    "\n",
    "# # Create observation time array (example: 24-hour period in UTC)\n",
    "# observation_time = Time.now() + np.linspace(0, 1, 100)*u.day  # 100 points over 24h\n",
    "\n",
    "# # Get telescope location from TOD_sim class (assuming it's initialized)\n",
    "# # From TOD_simulator.py: location = EarthLocation(lat=..., lon=..., height=...)\n",
    "# altaz_frame = AltAz(obstime=observation_time, location=tod_sim.location)\n",
    "\n",
    "# # Transform ICRS coordinates to Alt/Az\n",
    "# altaz = c.transform_to(altaz_frame)\n",
    "\n",
    "# # Plot results\n",
    "# plt.figure(figsize=(12, 6))\n",
    "# plt.plot(observation_time.datetime64, altaz.alt.deg, label='Elevation')\n",
    "# plt.plot(observation_time.datetime64, altaz.az.deg, label='Azimuth')\n",
    "# plt.xlabel('Time (UTC)')\n",
    "# plt.ylabel('Degrees')\n",
    "# plt.legend()\n",
    "# plt.show()"
   ]
  },
  {
   "cell_type": "markdown",
   "metadata": {},
   "source": [
    "### Beam setup\n",
    "\n",
    " Gaussian Beam (FWHM = 1.1 degrees)\n",
    "\n",
    "$\n",
    "\\text{FWHM} = 2 \\sigma \\sqrt{2 \\ln(2)}\n",
    "$"
   ]
  },
  {
   "cell_type": "code",
   "execution_count": null,
   "metadata": {},
   "outputs": [],
   "source": [
    "# Plot the beam in Mollweide projection\n",
    "hp.mollview(sum_map, title=f\"Sumed Gaussian Beam\", unit=\"Arbitrary Units\")\n",
    "hp.graticule()"
   ]
  },
  {
   "cell_type": "code",
   "execution_count": 8,
   "metadata": {},
   "outputs": [
    {
     "data": {
      "image/png": "[encoded data removed]",
      "text/plain": [
       "<Figure size 850x540 with 2 Axes>"
      ]
     },
     "metadata": {},
     "output_type": "display_data"
    }
   ],
   "source": [
    "hp.mollview(full_bool_map, title=f\"Boolean map: masked pixels\", unit=\"Arbitrary Units\")\n",
    "hp.graticule()"
   ]
  },
  {
   "cell_type": "markdown",
   "metadata": {},
   "source": [
    "### Noise diode setup"
   ]
  },
  {
   "cell_type": "code",
   "execution_count": null,
   "metadata": {},
   "outputs": [],
   "source": []
  },
  {
   "cell_type": "markdown",
   "metadata": {},
   "source": [
    "### Receiver temperature"
   ]
  },
  {
   "cell_type": "code",
   "execution_count": null,
   "metadata": {},
   "outputs": [
    {
     "ename": "NameError",
     "evalue": "name 't_list' is not defined",
     "output_type": "error",
     "traceback": [
      "\u001b[31m---------------------------------------------------------------------------\u001b[39m",
      "\u001b[31mNameError\u001b[39m                                 Traceback (most recent call last)",
      "\u001b[36mCell\u001b[39m\u001b[36m \u001b[39m\u001b[32mIn[16]\u001b[39m\u001b[32m, line 1\u001b[39m\n\u001b[32m----> \u001b[39m\u001b[32m1\u001b[39m rec_proj = Leg_poly_proj(\u001b[32m4\u001b[39m, \u001b[43mt_list\u001b[49m)[:, :]\n\u001b[32m      2\u001b[39m rec_params=np.array([\u001b[32m4\u001b[39m, \u001b[32m1\u001b[39m, \u001b[32m0.5\u001b[39m, \u001b[32m1\u001b[39m])\n\u001b[32m      3\u001b[39m plt.title(\u001b[33m\"\u001b[39m\u001b[33mReceiver temperature\u001b[39m\u001b[33m\"\u001b[39m)\n",
      "\u001b[31mNameError\u001b[39m: name 't_list' is not defined"
     ]
    }
   ],
   "source": []
  },
  {
   "cell_type": "markdown",
   "metadata": {},
   "source": [
    "### Gain and noise setup "
   ]
  },
  {
   "cell_type": "code",
   "execution_count": null,
   "metadata": {},
   "outputs": [
    {
     "data": {
      "text/plain": [
       "<matplotlib.legend.Legend at 0x31f3138c0>"
      ]
     },
     "execution_count": 12,
     "metadata": {},
     "output_type": "execute_result"
    },
    {
     "data": {
      "image/png": "[encoded data removed]",
      "text/plain": [
       "<Figure size 640x480 with 1 Axes>"
      ]
     },
     "metadata": {},
     "output_type": "display_data"
    }
   ],
   "source": [
    "from numpy.linalg import cholesky\n",
    "\n",
    "gain_proj = Leg_poly_proj(4, t_list)\n",
    "gain_params= np.random.uniform(low=0.0, high=1.0, size=4) + np.array([6., 0., 0., 0.])\n",
    "\n",
    "gains = gain_proj @ gain_params \n",
    "\n",
    "f0, fc, alpha = 1e-4, 2e-5, 2.0\n",
    "sigma_2 = 1/(4e5)\n",
    "\n",
    "noise = sim_noise(f0, fc, alpha, t_list, n_samples=1, white_n_variance=sigma_2)[0]\n",
    "covmat = flicker_cov(t_list, f0, fc, alpha, white_n_variance=sigma_2, only_row_0=False)\n",
    "# invert the symmetric matrix, covmat\n",
    "Ninv = np.linalg.inv(covmat)\n",
    "\n",
    "aux_mat = cholesky(Ninv, upper=True)\n",
    "white_noise = aux_mat @ noise\n",
    "\n",
    "# Check if white noise is white: compare PSD of corr_noise and white_noise\n",
    "psd_corr = np.abs(np.fft.rfft(noise))**2\n",
    "psd_white = np.abs(np.fft.rfft(white_noise))**2\n",
    "freqs = np.fft.rfftfreq(ntime, d=2)\n",
    "# plot psd\n",
    "plt.loglog(freqs, psd_corr, label='corr_noise')\n",
    "plt.loglog(freqs, psd_white, label='white_noise')\n",
    "ex_noise = np.random.randn(ntime)\n",
    "psd_ex = np.abs(np.fft.rfft(ex_noise))**2\n",
    "plt.loglog(freqs, psd_ex, label='ex_noise')\n",
    "\n",
    "plt.legend()"
   ]
  },
  {
   "cell_type": "code",
   "execution_count": 15,
   "metadata": {},
   "outputs": [
    {
     "data": {
      "text/plain": [
       "array([0.00236494, 0.0005306 , 0.00136824, 0.00022486])"
      ]
     },
     "execution_count": 15,
     "metadata": {},
     "output_type": "execute_result"
    }
   ],
   "source": [
    "inv_gains = 1/gains\n",
    "p_gain_var = gain_proj.T @ (inv_gains[:, np.newaxis] * Ninv * inv_gains[np.newaxis, :]) @ gain_proj\n",
    "p_gain_var = np.diag(np.linalg.inv(p_gain_var))\n",
    "p_gain_var"
   ]
  },
  {
   "cell_type": "code",
   "execution_count": null,
   "metadata": {},
   "outputs": [],
   "source": [
    "plt.plot(gains)"
   ]
  },
  {
   "cell_type": "markdown",
   "metadata": {},
   "source": []
  },
  {
   "cell_type": "markdown",
   "metadata": {},
   "source": [
    "Generate a sequence of time-ordered data for a scan of a receiver."
   ]
  },
  {
   "cell_type": "markdown",
   "metadata": {},
   "source": [
    "## Noise Parameter Sampler"
   ]
  },
  {
   "cell_type": "code",
   "execution_count": 17,
   "metadata": {},
   "outputs": [],
   "source": [
    "from noise_sampler import noise_params_sampler, flicker_likeli_func\n",
    "from mcmc_sampler import mcmc_sampler"
   ]
  },
  {
   "cell_type": "code",
   "execution_count": null,
   "metadata": {},
   "outputs": [],
   "source": [
    "# logn_params = [np.log10(f0), np.log10(fc), alpha]\n",
    "# boundaries = [[-12.,0.], [-12.,0.], [1.01,5.0]]\n",
    "# log_likeli = flicker_likeli_func(t_list, TOD_sim, gains, Tsys_sim, wnoise_var=2.5e-6, boundaries=None)\n",
    "# noise_samples_Jeff = mcmc_sampler(log_likeli, logn_params, p_std=0.05, \n",
    "#                     nsteps=50,  # steps for each chain\n",
    "#                     n_samples=1,\n",
    "#                     prior_func=None,\n",
    "#                     num_Jeffrey=False,\n",
    "#                     return_sampler=False)\n",
    "\n",
    "# view_samples(noise_samples_Jeff, logn_params)\n"
   ]
  },
  {
   "cell_type": "code",
   "execution_count": null,
   "metadata": {},
   "outputs": [],
   "source": [
    "# noise_samples_no_prior = noise_params_sampler(t_list, TOD_sim, gains, Tsys_sim, \n",
    "#                         sigma_2,\n",
    "#                         nwalkers=6, \n",
    "#                         nsteps=100, \n",
    "#                         n_samples=300,\n",
    "#                         log_scale=True, \n",
    "#                         prior_func=None,\n",
    "#                         return_sampler=False)\n",
    "\n",
    "# noise_samples = noise_samples_no_prior\n",
    "# # Calculate statistics\n",
    "# mean = np.mean(noise_samples, axis=0)\n",
    "# std = np.std(noise_samples, axis=0)\n",
    "\n",
    "# # Create subplots for four parameters\n",
    "# fig, axes = plt.subplots(1, 3, figsize=(15, 6))\n",
    "# axes = axes.ravel()\n",
    "\n",
    "# logn_params = np.log10(f0), np.log10(fc), alpha\n",
    "# params_names = ['log(f0)', 'log(fc)', 'alpha']\n",
    "# for i in range(3):\n",
    "#     # Plot histogram of samples for each parameter\n",
    "#     axes[i].hist(noise_samples[:, i], bins=50, density=True, alpha=0.6, label='Samples')\n",
    "    \n",
    "#     # Plot true value line\n",
    "#     axes[i].axvline(x=logn_params[i], color='r', linestyle='-', label='True Value', linewidth=2, alpha=0.7)\n",
    "    \n",
    "#     # Plot mean value line\n",
    "#     axes[i].axvline(x=mean[i], color='g', linestyle='--', label='Mean')\n",
    "    \n",
    "#     # Add labels and title\n",
    "#     axes[i].set_xlabel('Coefficient')\n",
    "#     axes[i].set_ylabel('Density')\n",
    "#     axes[i].set_title(f'Parameter {params_names[i]}')\n",
    "#     axes[i].legend()\n",
    "    \n",
    "#     # Print numerical comparison for each parameter\n",
    "#     print(f\"\\nGain Parameter {i+1}:\")\n",
    "#     print(f\"True value: {logn_params[i]:.6f}\")\n",
    "#     print(f\"Mean sampled: {mean[i]:.6f}\")\n",
    "#     print(f\"Standard deviation: {std[i]:.6f}\")\n",
    "\n",
    "# plt.suptitle('Comparison of True Values, Mean for Noise Parameters (No Prior) (300 samples)')\n",
    "\n",
    "# plt.tight_layout()\n",
    "# plt.show()"
   ]
  },
  {
   "cell_type": "markdown",
   "metadata": {},
   "source": [
    "## Gain Sampler Test"
   ]
  },
  {
   "cell_type": "markdown",
   "metadata": {},
   "source": [
    "To test the gain sampler, we sample gain coefficients with given noise parameters and system parameters."
   ]
  },
  {
   "cell_type": "markdown",
   "metadata": {},
   "source": [
    "Iterative Generalised Least Squares (GLS) procedure."
   ]
  },
  {
   "cell_type": "code",
   "execution_count": 18,
   "metadata": {},
   "outputs": [
    {
     "ename": "NameError",
     "evalue": "name 'TOD_sim' is not defined",
     "output_type": "error",
     "traceback": [
      "\u001b[31m---------------------------------------------------------------------------\u001b[39m",
      "\u001b[31mNameError\u001b[39m                                 Traceback (most recent call last)",
      "\u001b[36mCell\u001b[39m\u001b[36m \u001b[39m\u001b[32mIn[18]\u001b[39m\u001b[32m, line 3\u001b[39m\n\u001b[32m      1\u001b[39m \u001b[38;5;28;01mfrom\u001b[39;00m\u001b[38;5;250m \u001b[39m\u001b[34;01mgain_sampler\u001b[39;00m\u001b[38;5;250m \u001b[39m\u001b[38;5;28;01mimport\u001b[39;00m gain_coeff_sampler\n\u001b[32m----> \u001b[39m\u001b[32m3\u001b[39m gain_samples = gain_coeff_sampler(\u001b[43mTOD_sim\u001b[49m, \n\u001b[32m      4\u001b[39m                     gain_proj, \n\u001b[32m      5\u001b[39m                     Tsys_sim, \n\u001b[32m      6\u001b[39m                     covmat, \n\u001b[32m      7\u001b[39m                     mu=mu0,\n\u001b[32m      8\u001b[39m                     n_samples=\u001b[32m4000\u001b[39m,\n\u001b[32m      9\u001b[39m                     tol=\u001b[32m1e-20\u001b[39m,\n\u001b[32m     10\u001b[39m                     prior_cov_inv=\u001b[38;5;28;01mNone\u001b[39;00m, \n\u001b[32m     11\u001b[39m                     prior_mean=\u001b[38;5;28;01mNone\u001b[39;00m, \n\u001b[32m     12\u001b[39m                     solver=\u001b[38;5;28;01mNone\u001b[39;00m)\n\u001b[32m     14\u001b[39m view_samples(gain_samples, gain_params)\n",
      "\u001b[31mNameError\u001b[39m: name 'TOD_sim' is not defined"
     ]
    }
   ],
   "source": [
    "from gain_sampler import gain_coeff_sampler\n",
    "\n",
    "gain_samples = gain_coeff_sampler(TOD_sim, \n",
    "                    gain_proj, \n",
    "                    Tsys_sim, \n",
    "                    covmat, \n",
    "                    mu=mu0,\n",
    "                    n_samples=4000,\n",
    "                    tol=1e-20,\n",
    "                    prior_cov_inv=None, \n",
    "                    prior_mean=None, \n",
    "                    solver=None)\n",
    "\n",
    "view_samples(gain_samples, gain_params)\n"
   ]
  },
  {
   "cell_type": "code",
   "execution_count": null,
   "metadata": {},
   "outputs": [],
   "source": []
  },
  {
   "cell_type": "code",
   "execution_count": 19,
   "metadata": {},
   "outputs": [
    {
     "data": {
      "text/plain": [
       "array([0.04863061, 0.02303466, 0.03698967, 0.01499534])"
      ]
     },
     "execution_count": 19,
     "metadata": {},
     "output_type": "execute_result"
    }
   ],
   "source": [
    "inv_gains = 1/gains\n",
    "p_gain_var = gain_proj.T @ (inv_gains[:, np.newaxis] * Ninv * inv_gains[np.newaxis, :]) @ gain_proj\n",
    "p_gain_var = np.diag(np.linalg.inv(p_gain_var))\n",
    "np.sqrt(p_gain_var)"
   ]
  },
  {
   "cell_type": "markdown",
   "metadata": {},
   "source": [
    "## System temperature sampler"
   ]
  },
  {
   "cell_type": "code",
   "execution_count": null,
   "metadata": {},
   "outputs": [],
   "source": [
    "from Tsys_sampler import Tsys_coeff_sampler, overall_operator\n",
    "\n",
    "TOD_ndiode = T_ndiode*ndiode_proj\n",
    "\n",
    "Tsys_proj = overall_operator([beam_proj, rec_proj])\n",
    "\n",
    "\n",
    "Tsys_params = Tsys_coeff_sampler(TOD_sim, \n",
    "                       gains, \n",
    "                       Tsys_proj, \n",
    "                       covmat, \n",
    "                       n_samples=100,\n",
    "                       mu=TOD_ndiode,\n",
    "                       tol=1e-17,\n",
    "                       prior_cov_inv=None, \n",
    "                       prior_mean=None, \n",
    "                       solver=None)\n"
   ]
  },
  {
   "cell_type": "code",
   "execution_count": null,
   "metadata": {},
   "outputs": [],
   "source": [
    "Tsky_samples = Tsys_params[:,:num_pixels]\n",
    "Tsky_mean = np.mean(Tsky_samples, axis=0)\n",
    "Tsky_std = np.std(Tsky_samples, axis=0)\n",
    "#Trec_samples = Tsys_params[:,num_pixels:]\n",
    "#view_samples(Trec_samples, rec_params)"
   ]
  },
  {
   "cell_type": "code",
   "execution_count": null,
   "metadata": {},
   "outputs": [],
   "source": [
    "# Compare true Tsky and sampled Tsky\n",
    "\n",
    "plt.figure(figsize=(10, 6))\n",
    "plt.plot(true_Tsky, label='True Tsky')\n",
    "# Plot the mean of the samples, with error bars being the standard deviation\n",
    "plt.errorbar(np.arange(len(true_Tsky)), Tsky_mean, yerr=Tsky_std, label='Sampled Tsky')\n",
    "plt.ylim(5, 12)\n",
    "plt.legend()"
   ]
  },
  {
   "cell_type": "code",
   "execution_count": null,
   "metadata": {},
   "outputs": [],
   "source": [
    "plt.figure(figsize=(10, 6))\n",
    "plt.plot(true_Tsky, label='True Tsky')\n",
    "# Plot the mean of the samples, with error bars being the standard deviation\n",
    "plt.plot(Tsky_mean, label='Mean of samples')\n",
    "plt.ylim(5, 12)\n",
    "plt.legend()"
   ]
  },
  {
   "cell_type": "code",
   "execution_count": null,
   "metadata": {},
   "outputs": [],
   "source": [
    "plt.plot(Tsky_std)"
   ]
  },
  {
   "cell_type": "markdown",
   "metadata": {},
   "source": [
    "## Test the full Gibbs sampler"
   ]
  },
  {
   "cell_type": "code",
   "execution_count": null,
   "metadata": {},
   "outputs": [],
   "source": [
    "from full_Gibbs_sampler import full_Gibbs_sampler_singledish "
   ]
  },
  {
   "cell_type": "code",
   "execution_count": null,
   "metadata": {},
   "outputs": [],
   "source": [
    "# read off the samples from Tsys_samples.npy\n",
    "#\n",
    "\n",
    "Tsys_samples = np.load('Tsys_samples.npy')"
   ]
  },
  {
   "cell_type": "code",
   "execution_count": null,
   "metadata": {},
   "outputs": [],
   "source": [
    "Tsky_samples = Tsys_samples[:, :num_pixels]\n",
    "Tmean = np.mean(Tsky_samples, axis=0)\n",
    "Tstd = np.std(Tsky_samples, axis=0)\n",
    "\n",
    "\n",
    "\n",
    "# plot the mean with error bars\n",
    "# plt.errorbar(range(len(Tmean)), Tmean, yerr=Tstd, fmt='o', label='mean Tsky')\n",
    "plt.plot(range(len(Tmean)), Tmean, label='mean Tsky')\n",
    "plt.plot(range(len(Tmean)), true_Tsky, label='true Tsky', linestyle='--')\n",
    "plt.ylim(5, 15)\n",
    "plt.legend()\n",
    "\n"
   ]
  },
  {
   "cell_type": "code",
   "execution_count": null,
   "metadata": {},
   "outputs": [],
   "source": [
    "# Show the healpix maps\n",
    "\n",
    "true_map = np.zeros(NPIX, dtype=float)\n",
    "sample_mean_map = np.zeros(NPIX, dtype=float)\n",
    "sample_std_map = np.zeros(NPIX, dtype=float)\n",
    "\n",
    "true_map[pixel_indices] = true_Tsky\n",
    "sample_mean_map[pixel_indices] = Tmean\n",
    "sample_std_map[pixel_indices] = Tstd\n"
   ]
  },
  {
   "cell_type": "code",
   "execution_count": null,
   "metadata": {},
   "outputs": [],
   "source": [
    "# view the map using the saved colorbar\n",
    "\n",
    "hp.mollview(true_map, title=\"True Tsky\", unit=\"K\", cmap='jet', min=5, max=15)"
   ]
  },
  {
   "cell_type": "code",
   "execution_count": null,
   "metadata": {},
   "outputs": [],
   "source": [
    "hp.mollview(sample_mean_map, title=\"Mean Sampled Tsky\", unit=\"K\", cmap='jet', min=5, max=15)"
   ]
  },
  {
   "cell_type": "code",
   "execution_count": null,
   "metadata": {},
   "outputs": [],
   "source": []
  }
 ],
 "metadata": {
  "kernelspec": {
   "display_name": "TOD",
   "language": "python",
   "name": "python3"
  },
  "language_info": {
   "codemirror_mode": {
    "name": "ipython",
    "version": 3
   },
   "file_extension": ".py",
   "mimetype": "text/x-python",
   "name": "python",
   "nbconvert_exporter": "python",
   "pygments_lexer": "ipython3",
   "version": "3.13.2"
  }
 },
 "nbformat": 4,
 "nbformat_minor": 2
}
