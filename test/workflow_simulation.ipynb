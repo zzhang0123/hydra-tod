{
 "cells": [
  {
   "cell_type": "markdown",
   "metadata": {},
   "source": [
    "# Workflow"
   ]
  },
  {
   "cell_type": "code",
   "execution_count": 1,
   "metadata": {},
   "outputs": [],
   "source": [
    "import numpy as np\n",
    "import healpy as hp\n",
    "import matplotlib.pyplot as plt\n",
    "import sys\n",
    "\n",
    "sys.path.append('../hydra_tod/')\n",
    "\n",
    "from astropy.coordinates import EarthLocation, AltAz, SkyCoord\n",
    "from astropy.time import Time, TimeDelta\n",
    "import astropy.units as u\n",
    "from utils import Leg_poly_proj\n",
    "from flicker_model import sim_noise, flicker_cov\n",
    "from simulation import * \n",
    "import pickle\n"
   ]
  },
  {
   "cell_type": "markdown",
   "metadata": {},
   "source": [
    "## Simulation"
   ]
  },
  {
   "cell_type": "code",
   "execution_count": 2,
   "metadata": {},
   "outputs": [
    {
     "data": {
      "image/png": "[encoded data removed]",
      "text/plain": [
       "<Figure size 850x540 with 2 Axes>"
      ]
     },
     "metadata": {},
     "output_type": "display_data"
    }
   ],
   "source": [
    "def example_katbeam_healpix():\n",
    "    \"\"\"\n",
    "    Example: generate a MeerKAT beam model on a HEALPix grid using katbeam\n",
    "    \"\"\"\n",
    "\n",
    "    import katbeam\n",
    "\n",
    "    # --- beam on a Cartesian grid ---\n",
    "    beam = katbeam.JimBeam(\"MKAT-AA-L-JIM-2020\")\n",
    "    beam_grid_size = 20.0       # degrees\n",
    "    Nx = Ny = 300\n",
    "    freq = 900.0                # MHz\n",
    "    delta = np.linspace(-beam_grid_size/2, beam_grid_size/2, Nx)\n",
    "    x2d, y2d = np.meshgrid(delta, delta)\n",
    "    beam_pix_I = beam.I(x2d, y2d, freq)       # Stokes I, in power\n",
    "\n",
    "    # --- choose nside (resolution) ---\n",
    "    nside = 512        # ~7 arcmin pixels; adjust as needed\n",
    "    npix  = hp.nside2npix(nside)\n",
    "\n",
    "    # coordinates of every HEALPix pixel\n",
    "    theta, phi = hp.pix2ang(nside, np.arange(npix))\n",
    "\n",
    "    # convert beam’s (x,y) [deg] to polar offsets\n",
    "    r   = np.degrees(theta)            # θ from boresight in deg\n",
    "    az  = np.degrees(phi)              # φ around beam axis in deg\n",
    "\n",
    "    # bilinear interpolation on the beam grid\n",
    "    from scipy.interpolate import RegularGridInterpolator\n",
    "\n",
    "    interp = RegularGridInterpolator(\n",
    "        (delta, delta), beam_pix_I, bounds_error=False, fill_value=0.0\n",
    "    )\n",
    "    xy = np.column_stack([ r*np.cos(np.radians(az)),\n",
    "                        r*np.sin(np.radians(az)) ])\n",
    "    beam_hp = interp(xy)\n",
    "\n",
    "    # hp.write_map(\"MeerKAT_beam_I.fits\", beam_hp)\n",
    "    hp.mollview(beam_hp, title=\"MeerKAT beam (Stokes I)\", rot=(0,90), unit=\"Power\", norm=\"hist\")\n",
    "    return beam_hp\n",
    "\n",
    "beam_hp = example_katbeam_healpix()"
   ]
  },
  {
   "cell_type": "code",
   "execution_count": 3,
   "metadata": {},
   "outputs": [],
   "source": [
    "t_list, azi_deg_list = sim_MeerKAT_scan_v2(az_s=-60.3, \n",
    "                                       az_e=-42.3, \n",
    "                                       dt=2.0)\n"
   ]
  },
  {
   "cell_type": "code",
   "execution_count": 4,
   "metadata": {},
   "outputs": [],
   "source": [
    "from astropy.time import Time, TimeDelta\n",
    "from astropy.coordinates import EarthLocation\n",
    "import numpy as np\n",
    "\n",
    "\n",
    "def generate_LSTs_rad(t_list, start_time_utc=\"2019-04-23 20:41:56.397\"):\n",
    "\n",
    "    # start_time_utc=\"2019-04-23 20:41:56.397\"\n",
    "    # --- site coordinates (example: MeerKAT) ---\n",
    "    site = EarthLocation(lat=-30.713*u.deg, lon=21.443*u.deg, height=1050*u.m)\n",
    "\n",
    "    # --- define start time and offsets (sec) ---\n",
    "    start_time = Time(start_time_utc)                     # e.g. \"2025-09-16T00:00:00\"\n",
    "    UTC_list = start_time + TimeDelta(t_list, format=\"sec\")\n",
    "\n",
    "    # --- compute Local Sidereal Time ---\n",
    "    LST_list = UTC_list.sidereal_time(\"apparent\", longitude=site.lon)\n",
    "\n",
    "    # convert to radians (Angle object → value)\n",
    "    LST_list_rad = LST_list.to(u.rad).value\n",
    "\n",
    "    return LST_list_rad\n",
    "\n",
    "\n",
    "LSTs_rad = generate_LSTs_rad(t_list, start_time_utc=\"2019-04-23 20:41:56.397\")"
   ]
  },
  {
   "cell_type": "code",
   "execution_count": 9,
   "metadata": {},
   "outputs": [
    {
     "data": {
      "text/plain": [
       "array([ 2.48505956e-04+0.00000000e+00j,  4.30344954e-04+0.00000000e+00j,\n",
       "        5.55370209e-04+0.00000000e+00j, ...,\n",
       "       -2.75798199e-24+1.31764767e-24j, -2.37295453e-24-1.94582295e-24j,\n",
       "       -1.01338100e-25+1.24890081e-24j])"
      ]
     },
     "execution_count": 9,
     "metadata": {},
     "output_type": "execute_result"
    }
   ],
   "source": [
    "hp.map2alm(beam_hp, lmax=200)\n"
   ]
  },
  {
   "cell_type": "code",
   "execution_count": null,
   "metadata": {},
   "outputs": [
    {
     "name": "stdout",
     "output_type": "stream",
     "text": [
      "Original alm first few values: [0.00024851+0.j 0.00043034+0.j 0.00055537+0.j 0.00065676+0.j\n",
      " 0.00074415+0.j]\n",
      "rotate_alm returned: None\n",
      "alm_copy first few values after rotation: [0.00024851+0.j 0.00042819+0.j 0.00054703+0.j 0.00063711+0.j\n",
      " 0.00070723+0.j]\n",
      "alm_copy changed: True\n",
      "rotate_alm with lmax returned: None\n",
      "alm_copy2 changed: True\n",
      "rotate_alm with lmax returned: None\n",
      "alm_copy2 changed: True\n"
     ]
    }
   ],
   "source": [
    "# Test the corrected function\n",
    "stacked_beam_map = integrated_beam_map_single_TOD(\n",
    "    beam_hp,\n",
    "    ant_lat=np.radians(-30.713),\n",
    "    ant_ele=np.radians(41.5),\n",
    "    ant_azi_list=np.radians(azi_deg_list),\n",
    "    LST_list=LSTs_rad,\n",
    "    lmax=200,\n",
    "    facing_north=True,\n",
    "    nside=64\n",
    ")\n",
    "\n",
    "print(f\"stacked_beam_map shape: {stacked_beam_map.shape}\")\n",
    "print(f\"stacked_beam_map min/max: {np.min(stacked_beam_map):.3e} / {np.max(stacked_beam_map):.3e}\")\n",
    "print(\"Success!\")"
   ]
  },
  {
   "cell_type": "code",
   "execution_count": 10,
   "metadata": {},
   "outputs": [
    {
     "ename": "NameError",
     "evalue": "name 'alpha' is not defined",
     "output_type": "error",
     "traceback": [
      "\u001b[0;31m---------------------------------------------------------------------------\u001b[0m",
      "\u001b[0;31mNameError\u001b[0m                                 Traceback (most recent call last)",
      "Cell \u001b[0;32mIn[10], line 1\u001b[0m\n\u001b[0;32m----> 1\u001b[0m \u001b[43malpha\u001b[49m\n",
      "\u001b[0;31mNameError\u001b[0m: name 'alpha' is not defined"
     ]
    }
   ],
   "source": [
    "alpha"
   ]
  },
  {
   "cell_type": "code",
   "execution_count": null,
   "metadata": {},
   "outputs": [],
   "source": []
  },
  {
   "cell_type": "code",
   "execution_count": null,
   "metadata": {},
   "outputs": [],
   "source": []
  },
  {
   "cell_type": "code",
   "execution_count": null,
   "metadata": {},
   "outputs": [],
   "source": []
  },
  {
   "cell_type": "code",
   "execution_count": null,
   "metadata": {},
   "outputs": [],
   "source": []
  },
  {
   "cell_type": "code",
   "execution_count": null,
   "metadata": {},
   "outputs": [],
   "source": []
  },
  {
   "cell_type": "code",
   "execution_count": 4,
   "metadata": {},
   "outputs": [
    {
     "name": "stdout",
     "output_type": "stream",
     "text": [
      "Number of pixels: 375\n",
      "Gain parameters: [6.31194264 0.42038942 0.264222   0.05578821]\n",
      "\n",
      "Simulation Summary:\n",
      "nside: 64\n",
      "n_pixels: 375\n",
      "n_time_samples: 2860\n",
      "frequency_MHz: 750\n",
      "beam_FWHM_deg: 1.1\n",
      "elevation_deg: 41.5\n",
      "azimuth_range_deg: (-60.3, -42.3)\n",
      "gain_params: [6.31194264 0.42038942 0.264222   0.05578821]\n",
      "noise_knee_freq_Hz: 1.3348390111267891e-05\n",
      "noise_spectral_index: 2.0\n",
      "T_ndiode_K: 15.0\n",
      "receiver_params_K: [12.6  0.5  0.5  0.5]\n",
      "\n",
      "Simulation Summary:\n",
      "nside: 64\n",
      "n_pixels: 375\n",
      "n_time_samples: 2860\n",
      "frequency_MHz: 750\n",
      "beam_FWHM_deg: 1.1\n",
      "elevation_deg: 41.5\n",
      "azimuth_range_deg: (-60.3, -42.3)\n",
      "gain_params: [6.31194264 0.42038942 0.264222   0.05578821]\n",
      "noise_knee_freq_Hz: 1.3348390111267891e-05\n",
      "noise_spectral_index: 2.0\n",
      "T_ndiode_K: 15.0\n",
      "receiver_params_K: [12.6  0.5  0.5  0.5]\n"
     ]
    }
   ],
   "source": [
    "# Create the simulation instance\n",
    "tod_sim = TODSimulation()\n",
    "\n",
    "# Print simulation summary\n",
    "print(\"\\nSimulation Summary:\")\n",
    "for key, value in tod_sim.get_simulation_summary().items():\n",
    "    print(f\"{key}: {value}\")\n",
    "\n",
    "# Save the class object of TODSimulation\n",
    "# This can be done using pickle or any other serialization method\n"
   ]
  },
  {
   "cell_type": "code",
   "execution_count": null,
   "metadata": {},
   "outputs": [],
   "source": [
    "with open('tod_simulation_single.pkl', 'wb') as f:\n",
    "    pickle.dump(tod_sim, f)"
   ]
  },
  {
   "cell_type": "code",
   "execution_count": 2,
   "metadata": {},
   "outputs": [
    {
     "name": "stdout",
     "output_type": "stream",
     "text": [
      "Number of pixels: 473\n",
      "\n",
      "Multi-TOD Simulation Summary:\n",
      "nside: 64\n",
      "n_pixels: 473\n",
      "n_time_samples: 2860\n",
      "frequency_MHz: 750\n",
      "beam_FWHM_deg: 1.1\n",
      "setting_scan:\n",
      "  elevation_deg: 41.5\n",
      "  azimuth_range_deg: (-60.3, -42.3)\n",
      "  gain_params: [6.31194264 0.42038942 0.264222   0.05578821]\n",
      "rising_scan:\n",
      "  elevation_deg: 40.5\n",
      "  azimuth_range_deg: (43.7, 61.7)\n",
      "  gain_params: [6.84507868 0.14156859 0.7441104  0.77863955]\n",
      "noise_knee_freq_Hz: 1.3348390111267891e-05\n",
      "noise_spectral_index: 2.0\n",
      "T_ndiode_K: 15.0\n",
      "receiver_params_K: [12.6  0.5  0.5  0.5]\n",
      "calibration_pixels:\n",
      "  single_cal_index: [149]\n",
      "  five_cal_indices: [np.int64(394), np.int64(344), np.int64(281), np.int64(254), np.int64(176)]\n"
     ]
    }
   ],
   "source": [
    "\n",
    "# Create the multi-TOD simulation instance\n",
    "multi_tod_sim = MultiTODSimulation()\n",
    "\n",
    "# Print simulation summary\n",
    "print(\"\\nMulti-TOD Simulation Summary:\")\n",
    "summary = multi_tod_sim.get_simulation_summary()\n",
    "for key, value in summary.items():\n",
    "    if isinstance(value, dict):\n",
    "        print(f\"{key}:\")\n",
    "        for subkey, subvalue in value.items():\n",
    "            print(f\"  {subkey}: {subvalue}\")\n",
    "    else:\n",
    "        print(f\"{key}: {value}\")"
   ]
  },
  {
   "cell_type": "code",
   "execution_count": 3,
   "metadata": {},
   "outputs": [],
   "source": [
    "# Save the simulation data to a pickle file\n",
    "with open('multi_tod_simulation_data.pkl', 'wb') as f:\n",
    "    pickle.dump(multi_tod_sim, f)"
   ]
  },
  {
   "cell_type": "code",
   "execution_count": null,
   "metadata": {},
   "outputs": [],
   "source": []
  }
 ],
 "metadata": {
  "kernelspec": {
   "display_name": "katbeam",
   "language": "python",
   "name": "python3"
  },
  "language_info": {
   "codemirror_mode": {
    "name": "ipython",
    "version": 3
   },
   "file_extension": ".py",
   "mimetype": "text/x-python",
   "name": "python",
   "nbconvert_exporter": "python",
   "pygments_lexer": "ipython3",
   "version": "3.9.23"
  }
 },
 "nbformat": 4,
 "nbformat_minor": 2
}
