{
 "cells": [
  {
   "cell_type": "markdown",
   "metadata": {},
   "source": [
    "# Workflow"
   ]
  },
  {
   "cell_type": "code",
   "execution_count": null,
   "metadata": {},
   "outputs": [],
   "source": [
    "import numpy as np\n",
    "import healpy as hp\n",
    "import matplotlib.pyplot as plt\n",
    "import sys\n",
    "\n",
    "sys.path.append('../hydra_tod/')\n",
    "\n",
    "from astropy.coordinates import EarthLocation, AltAz, SkyCoord\n",
    "from astropy.time import Time, TimeDelta\n",
    "import astropy.units as u\n",
    "from utils import Leg_poly_proj\n",
    "from flicker_model import sim_noise, flicker_cov\n",
    "from simulation import * \n",
    "import pickle\n"
   ]
  },
  {
   "cell_type": "code",
   "execution_count": null,
   "metadata": {},
   "outputs": [],
   "source": []
  },
  {
   "cell_type": "markdown",
   "metadata": {},
   "source": [
    "## Simulation"
   ]
  },
  {
   "cell_type": "code",
   "execution_count": 4,
   "metadata": {},
   "outputs": [
    {
     "name": "stdout",
     "output_type": "stream",
     "text": [
      "Number of pixels: 375\n",
      "Gain parameters: [6.31194264 0.42038942 0.264222   0.05578821]\n",
      "\n",
      "Simulation Summary:\n",
      "nside: 64\n",
      "n_pixels: 375\n",
      "n_time_samples: 2860\n",
      "frequency_MHz: 750\n",
      "beam_FWHM_deg: 1.1\n",
      "elevation_deg: 41.5\n",
      "azimuth_range_deg: (-60.3, -42.3)\n",
      "gain_params: [6.31194264 0.42038942 0.264222   0.05578821]\n",
      "noise_knee_freq_Hz: 1.3348390111267891e-05\n",
      "noise_spectral_index: 2.0\n",
      "T_ndiode_K: 15.0\n",
      "receiver_params_K: [12.6  0.5  0.5  0.5]\n",
      "\n",
      "Simulation Summary:\n",
      "nside: 64\n",
      "n_pixels: 375\n",
      "n_time_samples: 2860\n",
      "frequency_MHz: 750\n",
      "beam_FWHM_deg: 1.1\n",
      "elevation_deg: 41.5\n",
      "azimuth_range_deg: (-60.3, -42.3)\n",
      "gain_params: [6.31194264 0.42038942 0.264222   0.05578821]\n",
      "noise_knee_freq_Hz: 1.3348390111267891e-05\n",
      "noise_spectral_index: 2.0\n",
      "T_ndiode_K: 15.0\n",
      "receiver_params_K: [12.6  0.5  0.5  0.5]\n"
     ]
    }
   ],
   "source": [
    "# Create the simulation instance\n",
    "tod_sim = TODSimulation()\n",
    "\n",
    "# Print simulation summary\n",
    "print(\"\\nSimulation Summary:\")\n",
    "for key, value in tod_sim.get_simulation_summary().items():\n",
    "    print(f\"{key}: {value}\")\n",
    "\n",
    "# Save the class object of TODSimulation\n",
    "# This can be done using pickle or any other serialization method\n"
   ]
  },
  {
   "cell_type": "code",
   "execution_count": null,
   "metadata": {},
   "outputs": [],
   "source": [
    "with open('tod_simulation_single.pkl', 'wb') as f:\n",
    "    pickle.dump(tod_sim, f)"
   ]
  },
  {
   "cell_type": "code",
   "execution_count": 2,
   "metadata": {},
   "outputs": [
    {
     "name": "stdout",
     "output_type": "stream",
     "text": [
      "Number of pixels: 473\n",
      "\n",
      "Multi-TOD Simulation Summary:\n",
      "nside: 64\n",
      "n_pixels: 473\n",
      "n_time_samples: 2860\n",
      "frequency_MHz: 750\n",
      "beam_FWHM_deg: 1.1\n",
      "setting_scan:\n",
      "  elevation_deg: 41.5\n",
      "  azimuth_range_deg: (-60.3, -42.3)\n",
      "  gain_params: [6.31194264 0.42038942 0.264222   0.05578821]\n",
      "rising_scan:\n",
      "  elevation_deg: 40.5\n",
      "  azimuth_range_deg: (43.7, 61.7)\n",
      "  gain_params: [6.84507868 0.14156859 0.7441104  0.77863955]\n",
      "noise_knee_freq_Hz: 1.3348390111267891e-05\n",
      "noise_spectral_index: 2.0\n",
      "T_ndiode_K: 15.0\n",
      "receiver_params_K: [12.6  0.5  0.5  0.5]\n",
      "calibration_pixels:\n",
      "  single_cal_index: [149]\n",
      "  five_cal_indices: [np.int64(394), np.int64(344), np.int64(281), np.int64(254), np.int64(176)]\n"
     ]
    }
   ],
   "source": [
    "\n",
    "# Create the multi-TOD simulation instance\n",
    "multi_tod_sim = MultiTODSimulation()\n",
    "\n",
    "# Print simulation summary\n",
    "print(\"\\nMulti-TOD Simulation Summary:\")\n",
    "summary = multi_tod_sim.get_simulation_summary()\n",
    "for key, value in summary.items():\n",
    "    if isinstance(value, dict):\n",
    "        print(f\"{key}:\")\n",
    "        for subkey, subvalue in value.items():\n",
    "            print(f\"  {subkey}: {subvalue}\")\n",
    "    else:\n",
    "        print(f\"{key}: {value}\")"
   ]
  },
  {
   "cell_type": "code",
   "execution_count": 3,
   "metadata": {},
   "outputs": [],
   "source": [
    "# Save the simulation data to a pickle file\n",
    "with open('multi_tod_simulation_data.pkl', 'wb') as f:\n",
    "    pickle.dump(multi_tod_sim, f)"
   ]
  },
  {
   "cell_type": "code",
   "execution_count": null,
   "metadata": {},
   "outputs": [],
   "source": []
  }
 ],
 "metadata": {
  "kernelspec": {
   "display_name": "flicker",
   "language": "python",
   "name": "python3"
  },
  "language_info": {
   "codemirror_mode": {
    "name": "ipython",
    "version": 3
   },
   "file_extension": ".py",
   "mimetype": "text/x-python",
   "name": "python",
   "nbconvert_exporter": "python",
   "pygments_lexer": "ipython3",
   "version": "3.11.8"
  }
 },
 "nbformat": 4,
 "nbformat_minor": 2
}
