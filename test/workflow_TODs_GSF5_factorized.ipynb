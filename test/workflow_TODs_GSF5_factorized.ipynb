{
 "cells": [
  {
   "cell_type": "markdown",
   "metadata": {},
   "source": [
    "# Workflow"
   ]
  },
  {
   "cell_type": "code",
   "execution_count": 1,
   "metadata": {},
   "outputs": [],
   "source": [
    "import numpy as np\n",
    "import healpy as hp\n",
    "import matplotlib.pyplot as plt\n",
    "import sys\n",
    "\n",
    "sys.path.append('../hydra_tod/')\n",
    "\n",
    "from astropy.coordinates import EarthLocation, AltAz, SkyCoord\n",
    "from astropy.time import Time, TimeDelta\n",
    "import astropy.units as u\n",
    "from utils import Leg_poly_proj, view_samples\n",
    "from flicker_model import sim_noise, flicker_cov\n"
   ]
  },
  {
   "cell_type": "code",
   "execution_count": 2,
   "metadata": {},
   "outputs": [],
   "source": [
    "import pickle\n",
    "from simulation import MultiTODSimulation\n",
    "# Load the simulation data from a pickle file\n",
    "with open('multi_tod_simulation_data.pkl', 'rb') as f:\n",
    "    multi_tod_sim = pickle.load(f)"
   ]
  },
  {
   "cell_type": "code",
   "execution_count": 3,
   "metadata": {},
   "outputs": [],
   "source": [
    "# Make all the individual variables available for backward compatibility\n",
    "t_list = multi_tod_sim.t_list\n",
    "theta_c_setting = multi_tod_sim.theta_c_setting\n",
    "phi_c_setting = multi_tod_sim.phi_c_setting\n",
    "theta_c_rising = multi_tod_sim.theta_c_rising\n",
    "phi_c_rising = multi_tod_sim.phi_c_rising\n",
    "bool_map_setting = multi_tod_sim.bool_map_setting\n",
    "bool_map_rising = multi_tod_sim.bool_map_rising\n",
    "integrated_beam_setting = multi_tod_sim.integrated_beam_setting\n",
    "integrated_beam_rising = multi_tod_sim.integrated_beam_rising\n",
    "full_bool_map = multi_tod_sim.full_bool_map\n",
    "pixel_indices = multi_tod_sim.pixel_indices\n",
    "integrated_beam = multi_tod_sim.integrated_beam\n",
    "Tsky_operator_setting = multi_tod_sim.Tsky_operator_setting\n",
    "Tsky_operator_rising = multi_tod_sim.Tsky_operator_rising\n",
    "sky_params = multi_tod_sim.sky_params\n",
    "ntime = multi_tod_sim.ntime\n",
    "ndiode_proj = multi_tod_sim.ndiode_proj\n",
    "nd_rec_operator = multi_tod_sim.nd_rec_operator\n",
    "nd_rec_params = multi_tod_sim.nd_rec_params\n",
    "gain_proj = multi_tod_sim.gain_proj\n",
    "gain_params_setting = multi_tod_sim.gain_params_setting\n",
    "gain_params_rising = multi_tod_sim.gain_params_rising\n",
    "gains_setting = multi_tod_sim.gains_setting\n",
    "gains_rising = multi_tod_sim.gains_rising\n",
    "fc = multi_tod_sim.fc\n",
    "logfc = multi_tod_sim.logfc\n",
    "f0 = multi_tod_sim.f0\n",
    "logf0 = multi_tod_sim.logf0\n",
    "noise_setting = multi_tod_sim.noise_setting\n",
    "noise_rising = multi_tod_sim.noise_rising\n",
    "Tsys_setting = multi_tod_sim.Tsys_setting\n",
    "Tsys_rising = multi_tod_sim.Tsys_rising\n",
    "TOD_setting = multi_tod_sim.TOD_setting\n",
    "TOD_rising = multi_tod_sim.TOD_rising\n",
    "pixels_c_setting = multi_tod_sim.pixels_c_setting\n",
    "bool_map_c_setting = multi_tod_sim.bool_map_c_setting\n",
    "calibration_1_index = multi_tod_sim.calibration_1_index\n",
    "calibration_5_indices = multi_tod_sim.calibration_5_indices\n",
    "\n",
    "# Additional constants from the original code\n",
    "T_ndiode = multi_tod_sim.T_ndiode\n",
    "rec_params = multi_tod_sim.rec_params\n",
    "dtime = multi_tod_sim.dtime\n",
    "alpha = multi_tod_sim.alpha\n",
    "logf0_list = [multi_tod_sim.logf0]\n",
    "sigma_2 = multi_tod_sim.sigma_2"
   ]
  },
  {
   "cell_type": "code",
   "execution_count": 4,
   "metadata": {},
   "outputs": [],
   "source": [
    "gain_proj = gain_proj[:, 1:]\n",
    "gain_prior_mean_s = gain_params_setting[1:]/gain_params_setting[0]\n",
    "gain_prior_mean_r = gain_params_rising[1:]/gain_params_rising[0]\n",
    "gain_prior_mean_list = [gain_prior_mean_s, gain_prior_mean_r]\n",
    "gain_prior_cov_inv_s = 1 / (0.1 * gain_prior_mean_s)**2\n",
    "gain_prior_cov_inv_r = 1 / (0.1 * gain_prior_mean_r)**2\n",
    "gain_prior_cov_inv_list = [gain_prior_cov_inv_s, gain_prior_cov_inv_r]"
   ]
  },
  {
   "cell_type": "code",
   "execution_count": 5,
   "metadata": {},
   "outputs": [],
   "source": [
    "\n",
    "prior_std_frac = 0.1\n",
    "Tsky_prior_cov_inv = 1. / (prior_std_frac * sky_params)**2\n",
    "calibration_indices = calibration_5_indices\n",
    "Tsky_prior_cov_inv[calibration_indices] = 1e20\n",
    "\n",
    "\n",
    "Tloc_prior_mean_list = [nd_rec_params, nd_rec_params]\n",
    "aux = np.ones_like(nd_rec_params)*0.0\n",
    "aux[0] = 10.0 # Prior STD ~10%\n",
    "aux[1] = 100.0 # Strong prior\n",
    "Tloc_prior_cov_inv_list = [aux, aux]\n",
    "\n",
    "import jax.numpy as jnp\n",
    "# init_Tsys_params = np.hstack([sky_params, nd_rec_params, nd_rec_params])\n",
    "init_Tloc_params_list = [nd_rec_params, nd_rec_params]\n",
    "init_Tsky_params = sky_params\n",
    "init_noise_params_s = jnp.array([gain_params_setting[0],logf0, alpha])\n",
    "init_noise_params_r = jnp.array([gain_params_rising[0],logf0, alpha])\n",
    "init_noise_params_list = [init_noise_params_s, init_noise_params_r]\n",
    "\n",
    "def log_prior_noise_s(params):\n",
    "    params = jnp.array(params)\n",
    "    diff2 = (params - init_noise_params_s)**2\n",
    "    sig2 = (0.05 * init_noise_params_s)**2\n",
    "    cost = -0.5 * diff2 / sig2\n",
    "    return jnp.sum(cost)\n",
    "\n",
    "def log_prior_noise_r(params):\n",
    "    params = jnp.array(params)\n",
    "    diff2 = (params - init_noise_params_r)**2\n",
    "    sig2 = (0.05 * init_noise_params_r)**2\n",
    "    cost = -0.5 * diff2 / sig2\n",
    "    return jnp.sum(cost)"
   ]
  },
  {
   "cell_type": "code",
   "execution_count": null,
   "metadata": {},
   "outputs": [
    {
     "name": "stdout",
     "output_type": "stream",
     "text": [
      "Using the emulator for flicker noise correlation function.\n",
      "Get the JAX version of the emulators\n",
      "Get the JAX version of the log-det emulator\n"
     ]
    },
    {
     "name": "stderr",
     "output_type": "stream",
     "text": [
      "Gibbs Sampling:   0%|          | 0/1500 [00:00<?, ?it/s]"
     ]
    },
    {
     "name": "stdout",
     "output_type": "stream",
     "text": [
      "Initial params in unconstrained space: [-0.46701175 -0.5102159  -0.7985077 ]\n",
      "Initial params in unconstrained space: [-0.10337298 -0.5102159  -0.7985077 ]\n"
     ]
    },
    {
     "name": "stderr",
     "output_type": "stream",
     "text": [
      "Gibbs Sampling:   0%|          | 1/1500 [00:45<19:08:24, 45.97s/it, Sample=1, Status=Complete]"
     ]
    },
    {
     "name": "stdout",
     "output_type": "stream",
     "text": [
      "Reached max iterations with fractional norm error 0.0005827261647924455.\n",
      "Converged in 19 iterations.\n",
      "Initial params in unconstrained space: [-0.46701175 -0.5102159  -0.7985077 ]\n",
      "Converged in 15 iterations.\n",
      "Initial params in unconstrained space: [-0.10337298 -0.5102159  -0.7985077 ]\n"
     ]
    },
    {
     "name": "stderr",
     "output_type": "stream",
     "text": [
      "Gibbs Sampling:   0%|          | 2/1500 [01:23<17:01:04, 40.90s/it, Sample=2, Status=Complete]"
     ]
    },
    {
     "name": "stdout",
     "output_type": "stream",
     "text": [
      "Reached max iterations with fractional norm error 0.0014086094873715295.\n",
      "Initial params in unconstrained space: [-0.46701175 -0.5102159  -0.7985077 ]\n",
      "Initial params in unconstrained space: [-0.10337298 -0.5102159  -0.7985077 ]\n"
     ]
    },
    {
     "name": "stderr",
     "output_type": "stream",
     "text": [
      "Gibbs Sampling:   0%|          | 3/1500 [02:10<18:14:07, 43.85s/it, Sample=3, Status=Complete]"
     ]
    },
    {
     "name": "stdout",
     "output_type": "stream",
     "text": [
      "Reached max iterations with fractional norm error 0.0005810314176794312.\n",
      "Initial params in unconstrained space: [-0.46701175 -0.5102159  -0.7985077 ]\n",
      "Initial params in unconstrained space: [-0.10337298 -0.5102159  -0.7985077 ]\n"
     ]
    },
    {
     "name": "stderr",
     "output_type": "stream",
     "text": [
      "Gibbs Sampling:   0%|          | 4/1500 [02:50<17:33:19, 42.25s/it, Sample=4, Status=Complete]"
     ]
    },
    {
     "name": "stdout",
     "output_type": "stream",
     "text": [
      "Reached max iterations with fractional norm error 1.1795081718497824.\n",
      "Initial params in unconstrained space: [-0.46701175 -0.5102159  -0.7985077 ]\n",
      "Initial params in unconstrained space: [-0.10337298 -0.5102159  -0.7985077 ]\n",
      "Reached max iterations with fractional norm error 1.161244645105985.\n"
     ]
    },
    {
     "name": "stderr",
     "output_type": "stream",
     "text": [
      "Gibbs Sampling:   0%|          | 5/1500 [03:33<17:40:00, 42.54s/it, Sample=5, Status=Complete]"
     ]
    },
    {
     "name": "stdout",
     "output_type": "stream",
     "text": [
      "Initial params in unconstrained space: [-0.46701175 -0.5102159  -0.7985077 ]\n",
      "Initial params in unconstrained space: [-0.10337298 -0.5102159  -0.7985077 ]\n"
     ]
    },
    {
     "name": "stderr",
     "output_type": "stream",
     "text": [
      "Gibbs Sampling:   0%|          | 6/1500 [04:23<18:44:02, 45.14s/it, Sample=6, Status=Complete]"
     ]
    },
    {
     "name": "stdout",
     "output_type": "stream",
     "text": [
      "Reached max iterations with fractional norm error 0.7775421445703959.\n",
      "Initial params in unconstrained space: [-0.46701175 -0.5102159  -0.7985077 ]\n",
      "Initial params in unconstrained space: [-0.10337298 -0.5102159  -0.7985077 ]\n"
     ]
    },
    {
     "name": "stderr",
     "output_type": "stream",
     "text": [
      "Gibbs Sampling:   0%|          | 7/1500 [05:04<18:08:42, 43.75s/it, Sample=7, Status=Complete]"
     ]
    },
    {
     "name": "stdout",
     "output_type": "stream",
     "text": [
      "Reached max iterations with fractional norm error 149.9571842798388.\n",
      "Initial params in unconstrained space: [-0.46701175 -0.5102159  -0.7985077 ]\n",
      "Initial params in unconstrained space: [-0.10337298 -0.5102159  -0.7985077 ]\n",
      "Reached max iterations with fractional norm error 1.0744187960994378.\n"
     ]
    },
    {
     "name": "stderr",
     "output_type": "stream",
     "text": [
      "Gibbs Sampling:   1%|          | 8/1500 [05:49<18:15:04, 44.04s/it, Sample=8, Status=Complete]"
     ]
    },
    {
     "name": "stdout",
     "output_type": "stream",
     "text": [
      "Initial params in unconstrained space: [-0.46701175 -0.5102159  -0.7985077 ]\n",
      "Initial params in unconstrained space: [-0.10337298 -0.5102159  -0.7985077 ]\n"
     ]
    },
    {
     "name": "stderr",
     "output_type": "stream",
     "text": [
      "Gibbs Sampling:   1%|          | 9/1500 [06:35<18:30:46, 44.70s/it, Sample=9, Status=Complete]"
     ]
    },
    {
     "name": "stdout",
     "output_type": "stream",
     "text": [
      "Reached max iterations with fractional norm error 0.6649054737136707.\n",
      "Initial params in unconstrained space: [-0.46701175 -0.5102159  -0.7985077 ]\n",
      "Initial params in unconstrained space: [-0.10337298 -0.5102159  -0.7985077 ]\n"
     ]
    },
    {
     "name": "stderr",
     "output_type": "stream",
     "text": [
      "Gibbs Sampling:   1%|          | 10/1500 [07:19<18:23:18, 44.43s/it, Sample=10, Status=Complete]"
     ]
    },
    {
     "name": "stdout",
     "output_type": "stream",
     "text": [
      "Reached max iterations with fractional norm error 0.8107867735136223.\n",
      "Initial params in unconstrained space: [-0.46701175 -0.5102159  -0.7985077 ]\n",
      "Initial params in unconstrained space: [-0.10337298 -0.5102159  -0.7985077 ]\n"
     ]
    },
    {
     "name": "stderr",
     "output_type": "stream",
     "text": [
      "Gibbs Sampling:   1%|          | 11/1500 [08:05<18:37:37, 45.04s/it, Sample=11, Status=Complete]"
     ]
    },
    {
     "name": "stdout",
     "output_type": "stream",
     "text": [
      "Reached max iterations with fractional norm error 0.8837848388592989.\n",
      "Initial params in unconstrained space: [-0.46701175 -0.5102159  -0.7985077 ]\n",
      "Initial params in unconstrained space: [-0.10337298 -0.5102159  -0.7985077 ]\n"
     ]
    },
    {
     "name": "stderr",
     "output_type": "stream",
     "text": [
      "Gibbs Sampling:   1%|          | 12/1500 [08:46<18:08:28, 43.89s/it, Sample=12, Status=Complete]"
     ]
    },
    {
     "name": "stdout",
     "output_type": "stream",
     "text": [
      "Reached max iterations with fractional norm error 39.98219738659.\n",
      "Initial params in unconstrained space: [-0.46701175 -0.5102159  -0.7985077 ]\n",
      "Initial params in unconstrained space: [-0.10337298 -0.5102159  -0.7985077 ]\n",
      "Reached max iterations with fractional norm error 1.2736995367515658.\n"
     ]
    },
    {
     "name": "stderr",
     "output_type": "stream",
     "text": [
      "Gibbs Sampling:   1%|          | 13/1500 [09:27<17:43:02, 42.89s/it, Sample=13, Status=Complete]"
     ]
    },
    {
     "name": "stdout",
     "output_type": "stream",
     "text": [
      "Initial params in unconstrained space: [-0.46701175 -0.5102159  -0.7985077 ]\n",
      "Initial params in unconstrained space: [-0.10337298 -0.5102159  -0.7985077 ]\n"
     ]
    },
    {
     "name": "stderr",
     "output_type": "stream",
     "text": [
      "Gibbs Sampling:   1%|          | 14/1500 [10:14<18:10:00, 44.01s/it, Sample=14, Status=Complete]"
     ]
    },
    {
     "name": "stdout",
     "output_type": "stream",
     "text": [
      "Reached max iterations with fractional norm error 0.8158295934289641.\n",
      "Initial params in unconstrained space: [-0.46701175 -0.5102159  -0.7985077 ]\n",
      "Initial params in unconstrained space: [-0.10337298 -0.5102159  -0.7985077 ]\n"
     ]
    },
    {
     "name": "stderr",
     "output_type": "stream",
     "text": [
      "Gibbs Sampling:   1%|          | 15/1500 [10:53<17:36:50, 42.70s/it, Sample=15, Status=Complete]"
     ]
    },
    {
     "name": "stdout",
     "output_type": "stream",
     "text": [
      "Reached max iterations with fractional norm error 7.948347191054154.\n",
      "Initial params in unconstrained space: [-0.46701175 -0.5102159  -0.7985077 ]\n",
      "Initial params in unconstrained space: [-0.10337298 -0.5102159  -0.7985077 ]\n"
     ]
    },
    {
     "name": "stderr",
     "output_type": "stream",
     "text": [
      "Gibbs Sampling:   1%|          | 16/1500 [11:35<17:28:32, 42.39s/it, Sample=16, Status=Complete]"
     ]
    },
    {
     "name": "stdout",
     "output_type": "stream",
     "text": [
      "Reached max iterations with fractional norm error 0.4227079657539432.\n",
      "Initial params in unconstrained space: [-0.46701175 -0.5102159  -0.7985077 ]\n",
      "Initial params in unconstrained space: [-0.10337298 -0.5102159  -0.7985077 ]\n"
     ]
    },
    {
     "name": "stderr",
     "output_type": "stream",
     "text": [
      "Gibbs Sampling:   1%|          | 17/1500 [12:19<17:38:55, 42.84s/it, Sample=17, Status=Complete]"
     ]
    },
    {
     "name": "stdout",
     "output_type": "stream",
     "text": [
      "Reached max iterations with fractional norm error 0.9610352586159512.\n",
      "Initial params in unconstrained space: [-0.46701175 -0.5102159  -0.7985077 ]\n",
      "Initial params in unconstrained space: [-0.10337298 -0.5102159  -0.7985077 ]\n"
     ]
    },
    {
     "name": "stderr",
     "output_type": "stream",
     "text": [
      "Gibbs Sampling:   1%|          | 18/1500 [13:01<17:35:48, 42.75s/it, Sample=18, Status=Complete]"
     ]
    },
    {
     "name": "stdout",
     "output_type": "stream",
     "text": [
      "Reached max iterations with fractional norm error 1.606445239801734.\n",
      "Initial params in unconstrained space: [-0.46701175 -0.5102159  -0.7985077 ]\n",
      "Initial params in unconstrained space: [-0.10337298 -0.5102159  -0.7985077 ]\n"
     ]
    },
    {
     "name": "stderr",
     "output_type": "stream",
     "text": [
      "Gibbs Sampling:   1%|▏         | 19/1500 [13:43<17:24:44, 42.33s/it, Sample=19, Status=Complete]"
     ]
    },
    {
     "name": "stdout",
     "output_type": "stream",
     "text": [
      "Reached max iterations with fractional norm error 0.8097809286586214.\n",
      "Initial params in unconstrained space: [-0.46701175 -0.5102159  -0.7985077 ]\n",
      "Initial params in unconstrained space: [-0.10337298 -0.5102159  -0.7985077 ]\n"
     ]
    },
    {
     "name": "stderr",
     "output_type": "stream",
     "text": [
      "Gibbs Sampling:   1%|▏         | 20/1500 [14:31<18:04:57, 43.98s/it, Sample=20, Status=Complete]"
     ]
    },
    {
     "name": "stdout",
     "output_type": "stream",
     "text": [
      "Reached max iterations with fractional norm error 32.680435619339455.\n",
      "Initial params in unconstrained space: [-0.46701175 -0.5102159  -0.7985077 ]\n",
      "Initial params in unconstrained space: [-0.10337298 -0.5102159  -0.7985077 ]\n"
     ]
    },
    {
     "name": "stderr",
     "output_type": "stream",
     "text": [
      "Gibbs Sampling:   1%|▏         | 21/1500 [15:12<17:43:30, 43.14s/it, Sample=21, Status=Complete]"
     ]
    },
    {
     "name": "stdout",
     "output_type": "stream",
     "text": [
      "Reached max iterations with fractional norm error 0.10771747582233801.\n",
      "Initial params in unconstrained space: [-0.46701175 -0.5102159  -0.7985077 ]\n",
      "Initial params in unconstrained space: [-0.10337298 -0.5102159  -0.7985077 ]\n",
      "Reached max iterations with fractional norm error 0.999604911793877.\n"
     ]
    },
    {
     "name": "stderr",
     "output_type": "stream",
     "text": [
      "Gibbs Sampling:   1%|▏         | 22/1500 [15:54<17:37:30, 42.93s/it, Sample=22, Status=Complete]"
     ]
    },
    {
     "name": "stdout",
     "output_type": "stream",
     "text": [
      "Initial params in unconstrained space: [-0.46701175 -0.5102159  -0.7985077 ]\n",
      "Initial params in unconstrained space: [-0.10337298 -0.5102159  -0.7985077 ]\n"
     ]
    },
    {
     "name": "stderr",
     "output_type": "stream",
     "text": [
      "Gibbs Sampling:   2%|▏         | 23/1500 [16:40<17:56:11, 43.72s/it, Sample=23, Status=Complete]"
     ]
    },
    {
     "name": "stdout",
     "output_type": "stream",
     "text": [
      "Reached max iterations with fractional norm error 0.39645418102111224.\n",
      "Initial params in unconstrained space: [-0.46701175 -0.5102159  -0.7985077 ]\n",
      "Initial params in unconstrained space: [-0.10337298 -0.5102159  -0.7985077 ]\n"
     ]
    },
    {
     "name": "stderr",
     "output_type": "stream",
     "text": [
      "Gibbs Sampling:   2%|▏         | 24/1500 [17:20<17:32:40, 42.79s/it, Sample=24, Status=Complete]"
     ]
    },
    {
     "name": "stdout",
     "output_type": "stream",
     "text": [
      "Reached max iterations with fractional norm error 0.37328010484069957.\n",
      "Initial params in unconstrained space: [-0.46701175 -0.5102159  -0.7985077 ]\n",
      "Initial params in unconstrained space: [-0.10337298 -0.5102159  -0.7985077 ]\n"
     ]
    },
    {
     "name": "stderr",
     "output_type": "stream",
     "text": [
      "Gibbs Sampling:   2%|▏         | 25/1500 [18:01<17:15:33, 42.12s/it, Sample=25, Status=Complete]"
     ]
    },
    {
     "name": "stdout",
     "output_type": "stream",
     "text": [
      "Reached max iterations with fractional norm error 0.6922444700448572.\n",
      "Initial params in unconstrained space: [-0.46701175 -0.5102159  -0.7985077 ]\n",
      "Initial params in unconstrained space: [-0.10337298 -0.5102159  -0.7985077 ]\n"
     ]
    },
    {
     "name": "stderr",
     "output_type": "stream",
     "text": [
      "Gibbs Sampling:   2%|▏         | 26/1500 [18:47<17:45:11, 43.36s/it, Sample=26, Status=Complete]"
     ]
    },
    {
     "name": "stdout",
     "output_type": "stream",
     "text": [
      "Reached max iterations with fractional norm error 0.2726621383486217.\n",
      "Initial params in unconstrained space: [-0.46701175 -0.5102159  -0.7985077 ]\n",
      "Initial params in unconstrained space: [-0.10337298 -0.5102159  -0.7985077 ]\n"
     ]
    },
    {
     "name": "stderr",
     "output_type": "stream",
     "text": [
      "Gibbs Sampling:   2%|▏         | 27/1500 [19:28<17:22:48, 42.48s/it, Sample=27, Status=Complete]"
     ]
    },
    {
     "name": "stdout",
     "output_type": "stream",
     "text": [
      "Reached max iterations with fractional norm error 0.39724841305119146.\n",
      "Initial params in unconstrained space: [-0.46701175 -0.5102159  -0.7985077 ]\n",
      "Initial params in unconstrained space: [-0.10337298 -0.5102159  -0.7985077 ]\n"
     ]
    },
    {
     "name": "stderr",
     "output_type": "stream",
     "text": [
      "Gibbs Sampling:   2%|▏         | 28/1500 [20:10<17:21:13, 42.44s/it, Sample=28, Status=Complete]"
     ]
    },
    {
     "name": "stdout",
     "output_type": "stream",
     "text": [
      "Reached max iterations with fractional norm error 0.8438165859603873.\n",
      "Initial params in unconstrained space: [-0.46701175 -0.5102159  -0.7985077 ]\n",
      "Initial params in unconstrained space: [-0.10337298 -0.5102159  -0.7985077 ]\n",
      "Reached max iterations with fractional norm error 0.8695965702003989.\n"
     ]
    },
    {
     "name": "stderr",
     "output_type": "stream",
     "text": [
      "Gibbs Sampling:   2%|▏         | 29/1500 [20:54<17:35:31, 43.05s/it, Sample=29, Status=Complete]"
     ]
    },
    {
     "name": "stdout",
     "output_type": "stream",
     "text": [
      "Initial params in unconstrained space: [-0.46701175 -0.5102159  -0.7985077 ]\n",
      "Initial params in unconstrained space: [-0.10337298 -0.5102159  -0.7985077 ]\n"
     ]
    },
    {
     "name": "stderr",
     "output_type": "stream",
     "text": [
      "Gibbs Sampling:   2%|▏         | 30/1500 [21:35<17:17:25, 42.34s/it, Sample=30, Status=Complete]"
     ]
    },
    {
     "name": "stdout",
     "output_type": "stream",
     "text": [
      "Reached max iterations with fractional norm error 0.9689820601427674.\n",
      "Initial params in unconstrained space: [-0.46701175 -0.5102159  -0.7985077 ]\n",
      "Initial params in unconstrained space: [-0.10337298 -0.5102159  -0.7985077 ]\n",
      "Reached max iterations with fractional norm error 0.8524300153873201.\n"
     ]
    },
    {
     "name": "stderr",
     "output_type": "stream",
     "text": [
      "Gibbs Sampling:   2%|▏         | 31/1500 [22:17<17:16:57, 42.35s/it, Sample=31, Status=Complete]"
     ]
    },
    {
     "name": "stdout",
     "output_type": "stream",
     "text": [
      "Initial params in unconstrained space: [-0.46701175 -0.5102159  -0.7985077 ]\n",
      "Initial params in unconstrained space: [-0.10337298 -0.5102159  -0.7985077 ]\n"
     ]
    },
    {
     "name": "stderr",
     "output_type": "stream",
     "text": [
      "Gibbs Sampling:   2%|▏         | 32/1500 [23:04<17:49:09, 43.70s/it, Sample=32, Status=Complete]"
     ]
    },
    {
     "name": "stdout",
     "output_type": "stream",
     "text": [
      "Reached max iterations with fractional norm error 0.5919049082966313.\n",
      "Initial params in unconstrained space: [-0.46701175 -0.5102159  -0.7985077 ]\n",
      "Initial params in unconstrained space: [-0.10337298 -0.5102159  -0.7985077 ]\n"
     ]
    },
    {
     "name": "stderr",
     "output_type": "stream",
     "text": [
      "Gibbs Sampling:   2%|▏         | 33/1500 [23:45<17:29:04, 42.91s/it, Sample=33, Status=Complete]"
     ]
    },
    {
     "name": "stdout",
     "output_type": "stream",
     "text": [
      "Reached max iterations with fractional norm error 2.0883190418984.\n",
      "Initial params in unconstrained space: [-0.46701175 -0.5102159  -0.7985077 ]\n",
      "Initial params in unconstrained space: [-0.10337298 -0.5102159  -0.7985077 ]\n"
     ]
    },
    {
     "name": "stderr",
     "output_type": "stream",
     "text": [
      "Gibbs Sampling:   2%|▏         | 34/1500 [24:28<17:29:21, 42.95s/it, Sample=34, Status=Complete]"
     ]
    },
    {
     "name": "stdout",
     "output_type": "stream",
     "text": [
      "Reached max iterations with fractional norm error 0.9680819007766853.\n",
      "Initial params in unconstrained space: [-0.46701175 -0.5102159  -0.7985077 ]\n",
      "Initial params in unconstrained space: [-0.10337298 -0.5102159  -0.7985077 ]\n"
     ]
    },
    {
     "name": "stderr",
     "output_type": "stream",
     "text": [
      "Gibbs Sampling:   2%|▏         | 35/1500 [25:14<17:50:50, 43.86s/it, Sample=35, Status=Complete]"
     ]
    },
    {
     "name": "stdout",
     "output_type": "stream",
     "text": [
      "Reached max iterations with fractional norm error 0.701322664273618.\n",
      "Initial params in unconstrained space: [-0.46701175 -0.5102159  -0.7985077 ]\n",
      "Initial params in unconstrained space: [-0.10337298 -0.5102159  -0.7985077 ]\n"
     ]
    },
    {
     "name": "stderr",
     "output_type": "stream",
     "text": [
      "Gibbs Sampling:   2%|▏         | 36/1500 [25:55<17:28:49, 42.98s/it, Sample=36, Status=Complete]"
     ]
    },
    {
     "name": "stdout",
     "output_type": "stream",
     "text": [
      "Reached max iterations with fractional norm error 0.20411975537255286.\n",
      "Initial params in unconstrained space: [-0.46701175 -0.5102159  -0.7985077 ]\n",
      "Initial params in unconstrained space: [-0.10337298 -0.5102159  -0.7985077 ]\n"
     ]
    },
    {
     "name": "stderr",
     "output_type": "stream",
     "text": [
      "Gibbs Sampling:   2%|▏         | 37/1500 [26:38<17:25:17, 42.87s/it, Sample=37, Status=Complete]"
     ]
    },
    {
     "name": "stdout",
     "output_type": "stream",
     "text": [
      "Reached max iterations with fractional norm error 0.1293738084649181.\n",
      "Initial params in unconstrained space: [-0.46701175 -0.5102159  -0.7985077 ]\n",
      "Initial params in unconstrained space: [-0.10337298 -0.5102159  -0.7985077 ]\n"
     ]
    },
    {
     "name": "stderr",
     "output_type": "stream",
     "text": [
      "Gibbs Sampling:   3%|▎         | 38/1500 [27:24<17:47:19, 43.80s/it, Sample=38, Status=Complete]"
     ]
    },
    {
     "name": "stdout",
     "output_type": "stream",
     "text": [
      "Reached max iterations with fractional norm error 0.4147938826372149.\n",
      "Initial params in unconstrained space: [-0.46701175 -0.5102159  -0.7985077 ]\n",
      "Initial params in unconstrained space: [-0.10337298 -0.5102159  -0.7985077 ]\n"
     ]
    },
    {
     "name": "stderr",
     "output_type": "stream",
     "text": [
      "Gibbs Sampling:   3%|▎         | 39/1500 [28:05<17:23:54, 42.87s/it, Sample=39, Status=Complete]"
     ]
    },
    {
     "name": "stdout",
     "output_type": "stream",
     "text": [
      "Reached max iterations with fractional norm error 1.1287808893151752.\n",
      "Initial params in unconstrained space: [-0.46701175 -0.5102159  -0.7985077 ]\n",
      "Initial params in unconstrained space: [-0.10337298 -0.5102159  -0.7985077 ]\n"
     ]
    },
    {
     "name": "stderr",
     "output_type": "stream",
     "text": [
      "Gibbs Sampling:   3%|▎         | 40/1500 [28:49<17:35:23, 43.37s/it, Sample=40, Status=Complete]"
     ]
    },
    {
     "name": "stdout",
     "output_type": "stream",
     "text": [
      "Reached max iterations with fractional norm error 0.34870823915497506.\n",
      "Initial params in unconstrained space: [-0.46701175 -0.5102159  -0.7985077 ]\n",
      "Initial params in unconstrained space: [-0.10337298 -0.5102159  -0.7985077 ]\n"
     ]
    },
    {
     "name": "stderr",
     "output_type": "stream",
     "text": [
      "Gibbs Sampling:   3%|▎         | 41/1500 [29:36<17:58:18, 44.34s/it, Sample=41, Status=Complete]"
     ]
    },
    {
     "name": "stdout",
     "output_type": "stream",
     "text": [
      "Reached max iterations with fractional norm error 0.46929906734135257.\n",
      "Initial params in unconstrained space: [-0.46701175 -0.5102159  -0.7985077 ]\n",
      "Initial params in unconstrained space: [-0.10337298 -0.5102159  -0.7985077 ]\n"
     ]
    },
    {
     "name": "stderr",
     "output_type": "stream",
     "text": [
      "Gibbs Sampling:   3%|▎         | 42/1500 [30:18<17:42:33, 43.73s/it, Sample=42, Status=Complete]"
     ]
    },
    {
     "name": "stdout",
     "output_type": "stream",
     "text": [
      "Reached max iterations with fractional norm error 0.2766468846888616.\n",
      "Initial params in unconstrained space: [-0.46701175 -0.5102159  -0.7985077 ]\n",
      "Initial params in unconstrained space: [-0.10337298 -0.5102159  -0.7985077 ]\n",
      "Reached max iterations with fractional norm error 3.132416899898177.\n"
     ]
    },
    {
     "name": "stderr",
     "output_type": "stream",
     "text": [
      "Gibbs Sampling:   3%|▎         | 43/1500 [31:01<17:33:43, 43.39s/it, Sample=43, Status=Complete]"
     ]
    },
    {
     "name": "stdout",
     "output_type": "stream",
     "text": [
      "Initial params in unconstrained space: [-0.46701175 -0.5102159  -0.7985077 ]\n",
      "Initial params in unconstrained space: [-0.10337298 -0.5102159  -0.7985077 ]\n"
     ]
    },
    {
     "name": "stderr",
     "output_type": "stream",
     "text": [
      "Gibbs Sampling:   3%|▎         | 44/1500 [31:48<17:59:51, 44.50s/it, Sample=44, Status=Complete]"
     ]
    },
    {
     "name": "stdout",
     "output_type": "stream",
     "text": [
      "Reached max iterations with fractional norm error 0.6618583331677872.\n",
      "Initial params in unconstrained space: [-0.46701175 -0.5102159  -0.7985077 ]\n",
      "Initial params in unconstrained space: [-0.10337298 -0.5102159  -0.7985077 ]\n"
     ]
    },
    {
     "name": "stderr",
     "output_type": "stream",
     "text": [
      "Gibbs Sampling:   3%|▎         | 45/1500 [32:29<17:34:46, 43.50s/it, Sample=45, Status=Complete]"
     ]
    },
    {
     "name": "stdout",
     "output_type": "stream",
     "text": [
      "Reached max iterations with fractional norm error 1.33849428473954.\n",
      "Initial params in unconstrained space: [-0.46701175 -0.5102159  -0.7985077 ]\n",
      "Initial params in unconstrained space: [-0.10337298 -0.5102159  -0.7985077 ]\n",
      "Reached max iterations with fractional norm error 1.2183709458416534.\n"
     ]
    },
    {
     "name": "stderr",
     "output_type": "stream",
     "text": [
      "Gibbs Sampling:   3%|▎         | 46/1500 [33:12<17:30:38, 43.36s/it, Sample=46, Status=Complete]"
     ]
    },
    {
     "name": "stdout",
     "output_type": "stream",
     "text": [
      "Initial params in unconstrained space: [-0.46701175 -0.5102159  -0.7985077 ]\n",
      "Initial params in unconstrained space: [-0.10337298 -0.5102159  -0.7985077 ]\n"
     ]
    },
    {
     "name": "stderr",
     "output_type": "stream",
     "text": [
      "Gibbs Sampling:   3%|▎         | 47/1500 [33:58<17:50:04, 44.19s/it, Sample=47, Status=Complete]"
     ]
    },
    {
     "name": "stdout",
     "output_type": "stream",
     "text": [
      "Reached max iterations with fractional norm error 0.9196781869049503.\n",
      "Initial params in unconstrained space: [-0.46701175 -0.5102159  -0.7985077 ]\n",
      "Initial params in unconstrained space: [-0.10337298 -0.5102159  -0.7985077 ]\n"
     ]
    },
    {
     "name": "stderr",
     "output_type": "stream",
     "text": [
      "Gibbs Sampling:   3%|▎         | 48/1500 [34:40<17:32:15, 43.48s/it, Sample=48, Status=Complete]"
     ]
    },
    {
     "name": "stdout",
     "output_type": "stream",
     "text": [
      "Reached max iterations with fractional norm error 0.9168240700730265.\n",
      "Initial params in unconstrained space: [-0.46701175 -0.5102159  -0.7985077 ]\n",
      "Initial params in unconstrained space: [-0.10337298 -0.5102159  -0.7985077 ]\n",
      "Reached max iterations with fractional norm error 1.3824939657564561.\n"
     ]
    },
    {
     "name": "stderr",
     "output_type": "stream",
     "text": [
      "Gibbs Sampling:   3%|▎         | 49/1500 [35:24<17:33:24, 43.56s/it, Sample=49, Status=Complete]"
     ]
    },
    {
     "name": "stdout",
     "output_type": "stream",
     "text": [
      "Initial params in unconstrained space: [-0.46701175 -0.5102159  -0.7985077 ]\n",
      "Initial params in unconstrained space: [-0.10337298 -0.5102159  -0.7985077 ]\n"
     ]
    },
    {
     "name": "stderr",
     "output_type": "stream",
     "text": [
      "Gibbs Sampling:   3%|▎         | 50/1500 [36:09<17:44:34, 44.05s/it, Sample=50, Status=Complete]"
     ]
    },
    {
     "name": "stdout",
     "output_type": "stream",
     "text": [
      "Reached max iterations with fractional norm error 0.09376441810777583.\n",
      "Initial params in unconstrained space: [-0.46701175 -0.5102159  -0.7985077 ]\n",
      "Initial params in unconstrained space: [-0.10337298 -0.5102159  -0.7985077 ]\n"
     ]
    },
    {
     "name": "stderr",
     "output_type": "stream",
     "text": [
      "Gibbs Sampling:   3%|▎         | 51/1500 [36:53<17:43:21, 44.03s/it, Sample=51, Status=Complete]"
     ]
    },
    {
     "name": "stdout",
     "output_type": "stream",
     "text": [
      "Reached max iterations with fractional norm error 0.9743310663541138.\n",
      "Initial params in unconstrained space: [-0.46701175 -0.5102159  -0.7985077 ]\n",
      "Initial params in unconstrained space: [-0.10337298 -0.5102159  -0.7985077 ]\n"
     ]
    },
    {
     "name": "stderr",
     "output_type": "stream",
     "text": [
      "Gibbs Sampling:   3%|▎         | 52/1500 [37:41<18:10:25, 45.18s/it, Sample=52, Status=Complete]"
     ]
    },
    {
     "name": "stdout",
     "output_type": "stream",
     "text": [
      "Reached max iterations with fractional norm error 0.9761286783665093.\n",
      "Initial params in unconstrained space: [-0.46701175 -0.5102159  -0.7985077 ]\n",
      "Initial params in unconstrained space: [-0.10337298 -0.5102159  -0.7985077 ]\n"
     ]
    },
    {
     "name": "stderr",
     "output_type": "stream",
     "text": [
      "Gibbs Sampling:   4%|▎         | 53/1500 [38:22<17:41:46, 44.03s/it, Sample=53, Status=Complete]"
     ]
    },
    {
     "name": "stdout",
     "output_type": "stream",
     "text": [
      "Reached max iterations with fractional norm error 0.28645363677251845.\n",
      "Initial params in unconstrained space: [-0.46701175 -0.5102159  -0.7985077 ]\n",
      "Initial params in unconstrained space: [-0.10337298 -0.5102159  -0.7985077 ]\n",
      "Reached max iterations with fractional norm error 0.4611965350220526.\n"
     ]
    },
    {
     "name": "stderr",
     "output_type": "stream",
     "text": [
      "Gibbs Sampling:   4%|▎         | 54/1500 [39:04<17:25:31, 43.38s/it, Sample=54, Status=Complete]"
     ]
    },
    {
     "name": "stdout",
     "output_type": "stream",
     "text": [
      "Initial params in unconstrained space: [-0.46701175 -0.5102159  -0.7985077 ]\n",
      "Initial params in unconstrained space: [-0.10337298 -0.5102159  -0.7985077 ]\n"
     ]
    },
    {
     "name": "stderr",
     "output_type": "stream",
     "text": [
      "Gibbs Sampling:   4%|▎         | 55/1500 [39:51<17:51:30, 44.49s/it, Sample=55, Status=Complete]"
     ]
    },
    {
     "name": "stdout",
     "output_type": "stream",
     "text": [
      "Reached max iterations with fractional norm error 0.21743291936564585.\n",
      "Initial params in unconstrained space: [-0.46701175 -0.5102159  -0.7985077 ]\n",
      "Initial params in unconstrained space: [-0.10337298 -0.5102159  -0.7985077 ]\n",
      "Reached max iterations with fractional norm error 0.5703987027996468.\n"
     ]
    },
    {
     "name": "stderr",
     "output_type": "stream",
     "text": [
      "Gibbs Sampling:   4%|▎         | 56/1500 [40:32<17:26:39, 43.49s/it, Sample=56, Status=Complete]"
     ]
    },
    {
     "name": "stdout",
     "output_type": "stream",
     "text": [
      "Initial params in unconstrained space: [-0.46701175 -0.5102159  -0.7985077 ]\n",
      "Initial params in unconstrained space: [-0.10337298 -0.5102159  -0.7985077 ]\n"
     ]
    },
    {
     "name": "stderr",
     "output_type": "stream",
     "text": [
      "Gibbs Sampling:   4%|▍         | 57/1500 [41:13<17:08:02, 42.75s/it, Sample=57, Status=Complete]"
     ]
    },
    {
     "name": "stdout",
     "output_type": "stream",
     "text": [
      "Reached max iterations with fractional norm error 42.60378692775532.\n",
      "Initial params in unconstrained space: [-0.46701175 -0.5102159  -0.7985077 ]\n",
      "Initial params in unconstrained space: [-0.10337298 -0.5102159  -0.7985077 ]\n"
     ]
    },
    {
     "name": "stderr",
     "output_type": "stream",
     "text": [
      "Gibbs Sampling:   4%|▍         | 58/1500 [41:59<17:30:03, 43.69s/it, Sample=58, Status=Complete]"
     ]
    },
    {
     "name": "stdout",
     "output_type": "stream",
     "text": [
      "Reached max iterations with fractional norm error 6.536467481653475.\n",
      "Initial params in unconstrained space: [-0.46701175 -0.5102159  -0.7985077 ]\n",
      "Initial params in unconstrained space: [-0.10337298 -0.5102159  -0.7985077 ]\n"
     ]
    },
    {
     "name": "stderr",
     "output_type": "stream",
     "text": [
      "Gibbs Sampling:   4%|▍         | 59/1500 [42:41<17:14:29, 43.07s/it, Sample=59, Status=Complete]"
     ]
    },
    {
     "name": "stdout",
     "output_type": "stream",
     "text": [
      "Reached max iterations with fractional norm error 0.6619347751622789.\n",
      "Initial params in unconstrained space: [-0.46701175 -0.5102159  -0.7985077 ]\n",
      "Initial params in unconstrained space: [-0.10337298 -0.5102159  -0.7985077 ]\n",
      "Reached max iterations with fractional norm error 0.18679150560113916.\n"
     ]
    },
    {
     "name": "stderr",
     "output_type": "stream",
     "text": [
      "Gibbs Sampling:   4%|▍         | 60/1500 [43:23<17:08:47, 42.87s/it, Sample=60, Status=Complete]"
     ]
    },
    {
     "name": "stdout",
     "output_type": "stream",
     "text": [
      "Initial params in unconstrained space: [-0.46701175 -0.5102159  -0.7985077 ]\n",
      "Initial params in unconstrained space: [-0.10337298 -0.5102159  -0.7985077 ]\n"
     ]
    },
    {
     "name": "stderr",
     "output_type": "stream",
     "text": [
      "Gibbs Sampling:   4%|▍         | 61/1500 [44:09<17:29:51, 43.77s/it, Sample=61, Status=Complete]"
     ]
    },
    {
     "name": "stdout",
     "output_type": "stream",
     "text": [
      "Reached max iterations with fractional norm error 0.9996787889311564.\n",
      "Initial params in unconstrained space: [-0.46701175 -0.5102159  -0.7985077 ]\n",
      "Initial params in unconstrained space: [-0.10337298 -0.5102159  -0.7985077 ]\n"
     ]
    },
    {
     "name": "stderr",
     "output_type": "stream",
     "text": [
      "Gibbs Sampling:   4%|▍         | 62/1500 [44:50<17:11:01, 43.02s/it, Sample=62, Status=Complete]"
     ]
    },
    {
     "name": "stdout",
     "output_type": "stream",
     "text": [
      "Reached max iterations with fractional norm error 244.76171690978381.\n",
      "Initial params in unconstrained space: [-0.46701175 -0.5102159  -0.7985077 ]\n",
      "Initial params in unconstrained space: [-0.10337298 -0.5102159  -0.7985077 ]\n"
     ]
    },
    {
     "name": "stderr",
     "output_type": "stream",
     "text": [
      "Gibbs Sampling:   4%|▍         | 63/1500 [45:34<17:14:15, 43.18s/it, Sample=63, Status=Complete]"
     ]
    },
    {
     "name": "stdout",
     "output_type": "stream",
     "text": [
      "Reached max iterations with fractional norm error 0.9994684610283026.\n",
      "Initial params in unconstrained space: [-0.46701175 -0.5102159  -0.7985077 ]\n",
      "Initial params in unconstrained space: [-0.10337298 -0.5102159  -0.7985077 ]\n"
     ]
    },
    {
     "name": "stderr",
     "output_type": "stream",
     "text": [
      "Gibbs Sampling:   4%|▍         | 64/1500 [46:23<17:53:09, 44.84s/it, Sample=64, Status=Complete]"
     ]
    },
    {
     "name": "stdout",
     "output_type": "stream",
     "text": [
      "Reached max iterations with fractional norm error 0.9427491282770757.\n",
      "Initial params in unconstrained space: [-0.46701175 -0.5102159  -0.7985077 ]\n",
      "Initial params in unconstrained space: [-0.10337298 -0.5102159  -0.7985077 ]\n"
     ]
    },
    {
     "name": "stderr",
     "output_type": "stream",
     "text": [
      "Gibbs Sampling:   4%|▍         | 65/1500 [47:03<17:20:57, 43.52s/it, Sample=65, Status=Complete]"
     ]
    },
    {
     "name": "stdout",
     "output_type": "stream",
     "text": [
      "Reached max iterations with fractional norm error 1.7629712140688119.\n",
      "Initial params in unconstrained space: [-0.46701175 -0.5102159  -0.7985077 ]\n",
      "Initial params in unconstrained space: [-0.10337298 -0.5102159  -0.7985077 ]\n",
      "Reached max iterations with fractional norm error 0.15632788886714305.\n"
     ]
    },
    {
     "name": "stderr",
     "output_type": "stream",
     "text": [
      "Gibbs Sampling:   4%|▍         | 66/1500 [47:46<17:19:51, 43.51s/it, Sample=66, Status=Complete]"
     ]
    },
    {
     "name": "stdout",
     "output_type": "stream",
     "text": [
      "Initial params in unconstrained space: [-0.46701175 -0.5102159  -0.7985077 ]\n",
      "Initial params in unconstrained space: [-0.10337298 -0.5102159  -0.7985077 ]\n"
     ]
    },
    {
     "name": "stderr",
     "output_type": "stream",
     "text": [
      "Gibbs Sampling:   4%|▍         | 67/1500 [48:30<17:19:44, 43.53s/it, Sample=67, Status=Complete]"
     ]
    },
    {
     "name": "stdout",
     "output_type": "stream",
     "text": [
      "Reached max iterations with fractional norm error 0.8728807526213245.\n",
      "Initial params in unconstrained space: [-0.46701175 -0.5102159  -0.7985077 ]\n",
      "Initial params in unconstrained space: [-0.10337298 -0.5102159  -0.7985077 ]\n"
     ]
    },
    {
     "name": "stderr",
     "output_type": "stream",
     "text": [
      "Gibbs Sampling:   5%|▍         | 68/1500 [49:11<17:02:04, 42.82s/it, Sample=68, Status=Complete]"
     ]
    },
    {
     "name": "stdout",
     "output_type": "stream",
     "text": [
      "Reached max iterations with fractional norm error 5.726261954252458.\n",
      "Initial params in unconstrained space: [-0.46701175 -0.5102159  -0.7985077 ]\n",
      "Initial params in unconstrained space: [-0.10337298 -0.5102159  -0.7985077 ]\n"
     ]
    },
    {
     "name": "stderr",
     "output_type": "stream",
     "text": [
      "Gibbs Sampling:   5%|▍         | 69/1500 [49:55<17:10:09, 43.19s/it, Sample=69, Status=Complete]"
     ]
    },
    {
     "name": "stdout",
     "output_type": "stream",
     "text": [
      "Reached max iterations with fractional norm error 5.408440526352372.\n",
      "Initial params in unconstrained space: [-0.46701175 -0.5102159  -0.7985077 ]\n",
      "Initial params in unconstrained space: [-0.10337298 -0.5102159  -0.7985077 ]\n"
     ]
    },
    {
     "name": "stderr",
     "output_type": "stream",
     "text": [
      "Gibbs Sampling:   5%|▍         | 70/1500 [50:41<17:25:41, 43.88s/it, Sample=70, Status=Complete]"
     ]
    },
    {
     "name": "stdout",
     "output_type": "stream",
     "text": [
      "Reached max iterations with fractional norm error 0.9859058281383184.\n",
      "Initial params in unconstrained space: [-0.46701175 -0.5102159  -0.7985077 ]\n",
      "Initial params in unconstrained space: [-0.10337298 -0.5102159  -0.7985077 ]\n"
     ]
    },
    {
     "name": "stderr",
     "output_type": "stream",
     "text": [
      "Gibbs Sampling:   5%|▍         | 71/1500 [51:22<17:09:34, 43.23s/it, Sample=71, Status=Complete]"
     ]
    },
    {
     "name": "stdout",
     "output_type": "stream",
     "text": [
      "Reached max iterations with fractional norm error 0.2702667409423688.\n",
      "Initial params in unconstrained space: [-0.46701175 -0.5102159  -0.7985077 ]\n",
      "Initial params in unconstrained space: [-0.10337298 -0.5102159  -0.7985077 ]\n"
     ]
    },
    {
     "name": "stderr",
     "output_type": "stream",
     "text": [
      "Gibbs Sampling:   5%|▍         | 72/1500 [52:06<17:09:45, 43.27s/it, Sample=72, Status=Complete]"
     ]
    },
    {
     "name": "stdout",
     "output_type": "stream",
     "text": [
      "Reached max iterations with fractional norm error 0.12718813733266732.\n",
      "Initial params in unconstrained space: [-0.46701175 -0.5102159  -0.7985077 ]\n",
      "Initial params in unconstrained space: [-0.10337298 -0.5102159  -0.7985077 ]\n"
     ]
    },
    {
     "name": "stderr",
     "output_type": "stream",
     "text": [
      "Gibbs Sampling:   5%|▍         | 73/1500 [52:51<17:20:41, 43.76s/it, Sample=73, Status=Complete]"
     ]
    },
    {
     "name": "stdout",
     "output_type": "stream",
     "text": [
      "Reached max iterations with fractional norm error 0.11557867846188806.\n",
      "Initial params in unconstrained space: [-0.46701175 -0.5102159  -0.7985077 ]\n",
      "Initial params in unconstrained space: [-0.10337298 -0.5102159  -0.7985077 ]\n"
     ]
    },
    {
     "name": "stderr",
     "output_type": "stream",
     "text": [
      "Gibbs Sampling:   5%|▍         | 74/1500 [53:32<17:03:16, 43.05s/it, Sample=74, Status=Complete]"
     ]
    },
    {
     "name": "stdout",
     "output_type": "stream",
     "text": [
      "Reached max iterations with fractional norm error 1.879273516705119.\n",
      "Initial params in unconstrained space: [-0.46701175 -0.5102159  -0.7985077 ]\n",
      "Initial params in unconstrained space: [-0.10337298 -0.5102159  -0.7985077 ]\n"
     ]
    },
    {
     "name": "stderr",
     "output_type": "stream",
     "text": [
      "Gibbs Sampling:   5%|▌         | 75/1500 [54:17<17:13:46, 43.53s/it, Sample=75, Status=Complete]"
     ]
    },
    {
     "name": "stdout",
     "output_type": "stream",
     "text": [
      "Reached max iterations with fractional norm error 0.24503253097987282.\n",
      "Initial params in unconstrained space: [-0.46701175 -0.5102159  -0.7985077 ]\n",
      "Initial params in unconstrained space: [-0.10337298 -0.5102159  -0.7985077 ]\n"
     ]
    },
    {
     "name": "stderr",
     "output_type": "stream",
     "text": [
      "Gibbs Sampling:   5%|▌         | 76/1500 [55:01<17:17:04, 43.70s/it, Sample=76, Status=Complete]"
     ]
    },
    {
     "name": "stdout",
     "output_type": "stream",
     "text": [
      "Reached max iterations with fractional norm error 0.999896355183309.\n",
      "Initial params in unconstrained space: [-0.46701175 -0.5102159  -0.7985077 ]\n",
      "Initial params in unconstrained space: [-0.10337298 -0.5102159  -0.7985077 ]\n"
     ]
    },
    {
     "name": "stderr",
     "output_type": "stream",
     "text": [
      "Gibbs Sampling:   5%|▌         | 77/1500 [55:41<16:52:21, 42.69s/it, Sample=77, Status=Complete]"
     ]
    },
    {
     "name": "stdout",
     "output_type": "stream",
     "text": [
      "Reached max iterations with fractional norm error 0.5858935978794837.\n",
      "Initial params in unconstrained space: [-0.46701175 -0.5102159  -0.7985077 ]\n",
      "Initial params in unconstrained space: [-0.10337298 -0.5102159  -0.7985077 ]\n",
      "Reached max iterations with fractional norm error 0.8778941157371276.\n"
     ]
    },
    {
     "name": "stderr",
     "output_type": "stream",
     "text": [
      "Gibbs Sampling:   5%|▌         | 78/1500 [56:27<17:12:21, 43.56s/it, Sample=78, Status=Complete]"
     ]
    },
    {
     "name": "stdout",
     "output_type": "stream",
     "text": [
      "Initial params in unconstrained space: [-0.46701175 -0.5102159  -0.7985077 ]\n",
      "Initial params in unconstrained space: [-0.10337298 -0.5102159  -0.7985077 ]\n"
     ]
    },
    {
     "name": "stderr",
     "output_type": "stream",
     "text": [
      "Gibbs Sampling:   5%|▌         | 79/1500 [57:10<17:11:50, 43.57s/it, Sample=79, Status=Complete]"
     ]
    },
    {
     "name": "stdout",
     "output_type": "stream",
     "text": [
      "Reached max iterations with fractional norm error 10.63401220314907.\n",
      "Initial params in unconstrained space: [-0.46701175 -0.5102159  -0.7985077 ]\n",
      "Initial params in unconstrained space: [-0.10337298 -0.5102159  -0.7985077 ]\n"
     ]
    },
    {
     "name": "stderr",
     "output_type": "stream",
     "text": [
      "Gibbs Sampling:   5%|▌         | 80/1500 [57:51<16:50:56, 42.72s/it, Sample=80, Status=Complete]"
     ]
    },
    {
     "name": "stdout",
     "output_type": "stream",
     "text": [
      "Reached max iterations with fractional norm error 0.993533073237747.\n",
      "Initial params in unconstrained space: [-0.46701175 -0.5102159  -0.7985077 ]\n",
      "Initial params in unconstrained space: [-0.10337298 -0.5102159  -0.7985077 ]\n"
     ]
    },
    {
     "name": "stderr",
     "output_type": "stream",
     "text": [
      "Gibbs Sampling:   5%|▌         | 81/1500 [58:34<16:51:31, 42.77s/it, Sample=81, Status=Complete]"
     ]
    },
    {
     "name": "stdout",
     "output_type": "stream",
     "text": [
      "Reached max iterations with fractional norm error 0.8890065407917733.\n",
      "Initial params in unconstrained space: [-0.46701175 -0.5102159  -0.7985077 ]\n",
      "Initial params in unconstrained space: [-0.10337298 -0.5102159  -0.7985077 ]\n"
     ]
    },
    {
     "name": "stderr",
     "output_type": "stream",
     "text": [
      "Gibbs Sampling:   5%|▌         | 82/1500 [59:18<16:59:12, 43.13s/it, Sample=82, Status=Complete]"
     ]
    },
    {
     "name": "stdout",
     "output_type": "stream",
     "text": [
      "Reached max iterations with fractional norm error 0.9843456599851055.\n",
      "Initial params in unconstrained space: [-0.46701175 -0.5102159  -0.7985077 ]\n",
      "Initial params in unconstrained space: [-0.10337298 -0.5102159  -0.7985077 ]\n"
     ]
    },
    {
     "name": "stderr",
     "output_type": "stream",
     "text": [
      "Gibbs Sampling:   6%|▌         | 83/1500 [59:59<16:44:20, 42.53s/it, Sample=83, Status=Complete]"
     ]
    },
    {
     "name": "stdout",
     "output_type": "stream",
     "text": [
      "Reached max iterations with fractional norm error 0.8652246112274743.\n",
      "Initial params in unconstrained space: [-0.46701175 -0.5102159  -0.7985077 ]\n",
      "Initial params in unconstrained space: [-0.10337298 -0.5102159  -0.7985077 ]\n"
     ]
    },
    {
     "name": "stderr",
     "output_type": "stream",
     "text": [
      "Gibbs Sampling:   6%|▌         | 84/1500 [1:00:43<16:52:03, 42.88s/it, Sample=84, Status=Complete]"
     ]
    },
    {
     "name": "stdout",
     "output_type": "stream",
     "text": [
      "Reached max iterations with fractional norm error 0.121039390456897.\n",
      "Initial params in unconstrained space: [-0.46701175 -0.5102159  -0.7985077 ]\n",
      "Initial params in unconstrained space: [-0.10337298 -0.5102159  -0.7985077 ]\n"
     ]
    },
    {
     "name": "stderr",
     "output_type": "stream",
     "text": [
      "Gibbs Sampling:   6%|▌         | 85/1500 [1:01:26<16:55:53, 43.08s/it, Sample=85, Status=Complete]"
     ]
    },
    {
     "name": "stdout",
     "output_type": "stream",
     "text": [
      "Reached max iterations with fractional norm error 0.1304294087601829.\n",
      "Initial params in unconstrained space: [-0.46701175 -0.5102159  -0.7985077 ]\n",
      "Initial params in unconstrained space: [-0.10337298 -0.5102159  -0.7985077 ]\n"
     ]
    },
    {
     "name": "stderr",
     "output_type": "stream",
     "text": [
      "Gibbs Sampling:   6%|▌         | 86/1500 [1:02:08<16:48:33, 42.80s/it, Sample=86, Status=Complete]"
     ]
    },
    {
     "name": "stdout",
     "output_type": "stream",
     "text": [
      "Reached max iterations with fractional norm error 1.000200284929896.\n",
      "Initial params in unconstrained space: [-0.46701175 -0.5102159  -0.7985077 ]\n",
      "Initial params in unconstrained space: [-0.10337298 -0.5102159  -0.7985077 ]\n",
      "Reached max iterations with fractional norm error 0.9580483220958234.\n"
     ]
    },
    {
     "name": "stderr",
     "output_type": "stream",
     "text": [
      "Gibbs Sampling:   6%|▌         | 87/1500 [1:02:54<17:06:05, 43.57s/it, Sample=87, Status=Complete]"
     ]
    },
    {
     "name": "stdout",
     "output_type": "stream",
     "text": [
      "Initial params in unconstrained space: [-0.46701175 -0.5102159  -0.7985077 ]\n",
      "Initial params in unconstrained space: [-0.10337298 -0.5102159  -0.7985077 ]\n"
     ]
    },
    {
     "name": "stderr",
     "output_type": "stream",
     "text": [
      "Gibbs Sampling:   6%|▌         | 88/1500 [1:03:38<17:07:13, 43.65s/it, Sample=88, Status=Complete]"
     ]
    },
    {
     "name": "stdout",
     "output_type": "stream",
     "text": [
      "Reached max iterations with fractional norm error 0.28762654813423655.\n",
      "Initial params in unconstrained space: [-0.46701175 -0.5102159  -0.7985077 ]\n",
      "Initial params in unconstrained space: [-0.10337298 -0.5102159  -0.7985077 ]\n"
     ]
    },
    {
     "name": "stderr",
     "output_type": "stream",
     "text": [
      "Gibbs Sampling:   6%|▌         | 89/1500 [1:04:19<16:48:07, 42.87s/it, Sample=89, Status=Complete]"
     ]
    },
    {
     "name": "stdout",
     "output_type": "stream",
     "text": [
      "Reached max iterations with fractional norm error 0.35664879956634926.\n",
      "Initial params in unconstrained space: [-0.46701175 -0.5102159  -0.7985077 ]\n",
      "Initial params in unconstrained space: [-0.10337298 -0.5102159  -0.7985077 ]\n"
     ]
    },
    {
     "name": "stderr",
     "output_type": "stream",
     "text": [
      "Gibbs Sampling:   6%|▌         | 90/1500 [1:05:03<17:00:36, 43.43s/it, Sample=90, Status=Complete]"
     ]
    },
    {
     "name": "stdout",
     "output_type": "stream",
     "text": [
      "Reached max iterations with fractional norm error 0.47591390430341884.\n",
      "Initial params in unconstrained space: [-0.46701175 -0.5102159  -0.7985077 ]\n",
      "Initial params in unconstrained space: [-0.10337298 -0.5102159  -0.7985077 ]\n"
     ]
    },
    {
     "name": "stderr",
     "output_type": "stream",
     "text": [
      "Gibbs Sampling:   6%|▌         | 91/1500 [1:05:48<17:06:04, 43.69s/it, Sample=91, Status=Complete]"
     ]
    },
    {
     "name": "stdout",
     "output_type": "stream",
     "text": [
      "Reached max iterations with fractional norm error 1.9623055536406395.\n",
      "Initial params in unconstrained space: [-0.46701175 -0.5102159  -0.7985077 ]\n",
      "Initial params in unconstrained space: [-0.10337298 -0.5102159  -0.7985077 ]\n"
     ]
    },
    {
     "name": "stderr",
     "output_type": "stream",
     "text": [
      "Gibbs Sampling:   6%|▌         | 92/1500 [1:06:29<16:51:36, 43.11s/it, Sample=92, Status=Complete]"
     ]
    },
    {
     "name": "stdout",
     "output_type": "stream",
     "text": [
      "Reached max iterations with fractional norm error 14.445699247090882.\n",
      "Initial params in unconstrained space: [-0.46701175 -0.5102159  -0.7985077 ]\n",
      "Initial params in unconstrained space: [-0.10337298 -0.5102159  -0.7985077 ]\n"
     ]
    },
    {
     "name": "stderr",
     "output_type": "stream",
     "text": [
      "Gibbs Sampling:   6%|▌         | 93/1500 [1:07:15<17:05:37, 43.74s/it, Sample=93, Status=Complete]"
     ]
    },
    {
     "name": "stdout",
     "output_type": "stream",
     "text": [
      "Reached max iterations with fractional norm error 0.20488015898340078.\n",
      "Initial params in unconstrained space: [-0.46701175 -0.5102159  -0.7985077 ]\n",
      "Initial params in unconstrained space: [-0.10337298 -0.5102159  -0.7985077 ]\n"
     ]
    },
    {
     "name": "stderr",
     "output_type": "stream",
     "text": [
      "Gibbs Sampling:   6%|▋         | 94/1500 [1:07:59<17:08:05, 43.87s/it, Sample=94, Status=Complete]"
     ]
    },
    {
     "name": "stdout",
     "output_type": "stream",
     "text": [
      "Reached max iterations with fractional norm error 0.30308023913714.\n",
      "Initial params in unconstrained space: [-0.46701175 -0.5102159  -0.7985077 ]\n",
      "Initial params in unconstrained space: [-0.10337298 -0.5102159  -0.7985077 ]\n"
     ]
    },
    {
     "name": "stderr",
     "output_type": "stream",
     "text": [
      "Gibbs Sampling:   6%|▋         | 95/1500 [1:08:40<16:47:19, 43.02s/it, Sample=95, Status=Complete]"
     ]
    },
    {
     "name": "stdout",
     "output_type": "stream",
     "text": [
      "Reached max iterations with fractional norm error 0.5882854939752924.\n",
      "Initial params in unconstrained space: [-0.46701175 -0.5102159  -0.7985077 ]\n",
      "Initial params in unconstrained space: [-0.10337298 -0.5102159  -0.7985077 ]\n"
     ]
    },
    {
     "name": "stderr",
     "output_type": "stream",
     "text": [
      "Gibbs Sampling:   6%|▋         | 96/1500 [1:09:23<16:49:08, 43.13s/it, Sample=96, Status=Complete]"
     ]
    },
    {
     "name": "stdout",
     "output_type": "stream",
     "text": [
      "Reached max iterations with fractional norm error 0.5856091528202797.\n",
      "Initial params in unconstrained space: [-0.46701175 -0.5102159  -0.7985077 ]\n",
      "Initial params in unconstrained space: [-0.10337298 -0.5102159  -0.7985077 ]\n"
     ]
    },
    {
     "name": "stderr",
     "output_type": "stream",
     "text": [
      "Gibbs Sampling:   6%|▋         | 97/1500 [1:10:09<17:05:18, 43.85s/it, Sample=97, Status=Complete]"
     ]
    },
    {
     "name": "stdout",
     "output_type": "stream",
     "text": [
      "Reached max iterations with fractional norm error 1.166871249552492.\n",
      "Initial params in unconstrained space: [-0.46701175 -0.5102159  -0.7985077 ]\n",
      "Initial params in unconstrained space: [-0.10337298 -0.5102159  -0.7985077 ]\n"
     ]
    },
    {
     "name": "stderr",
     "output_type": "stream",
     "text": [
      "Gibbs Sampling:   7%|▋         | 98/1500 [1:10:50<16:45:38, 43.04s/it, Sample=98, Status=Complete]"
     ]
    },
    {
     "name": "stdout",
     "output_type": "stream",
     "text": [
      "Reached max iterations with fractional norm error 0.9848719793493816.\n",
      "Initial params in unconstrained space: [-0.46701175 -0.5102159  -0.7985077 ]\n",
      "Initial params in unconstrained space: [-0.10337298 -0.5102159  -0.7985077 ]\n"
     ]
    },
    {
     "name": "stderr",
     "output_type": "stream",
     "text": [
      "Gibbs Sampling:   7%|▋         | 99/1500 [1:11:33<16:47:31, 43.15s/it, Sample=99, Status=Complete]"
     ]
    },
    {
     "name": "stdout",
     "output_type": "stream",
     "text": [
      "Reached max iterations with fractional norm error 0.8615020470962836.\n",
      "Initial params in unconstrained space: [-0.46701175 -0.5102159  -0.7985077 ]\n",
      "Initial params in unconstrained space: [-0.10337298 -0.5102159  -0.7985077 ]\n"
     ]
    },
    {
     "name": "stderr",
     "output_type": "stream",
     "text": [
      "Gibbs Sampling:   7%|▋         | 100/1500 [1:12:18<16:58:53, 43.67s/it, Sample=100, Status=Complete]"
     ]
    },
    {
     "name": "stdout",
     "output_type": "stream",
     "text": [
      "Reached max iterations with fractional norm error 0.38352302772040475.\n",
      "Initial params in unconstrained space: [-0.46701175 -0.5102159  -0.7985077 ]\n",
      "Initial params in unconstrained space: [-0.10337298 -0.5102159  -0.7985077 ]\n"
     ]
    },
    {
     "name": "stderr",
     "output_type": "stream",
     "text": [
      "Gibbs Sampling:   7%|▋         | 101/1500 [1:13:00<16:41:39, 42.96s/it, Sample=101, Status=Complete]"
     ]
    },
    {
     "name": "stdout",
     "output_type": "stream",
     "text": [
      "Reached max iterations with fractional norm error 0.9537182679239833.\n",
      "Initial params in unconstrained space: [-0.46701175 -0.5102159  -0.7985077 ]\n",
      "Initial params in unconstrained space: [-0.10337298 -0.5102159  -0.7985077 ]\n",
      "Reached max iterations with fractional norm error 0.8202363075485409.\n"
     ]
    },
    {
     "name": "stderr",
     "output_type": "stream",
     "text": [
      "Gibbs Sampling:   7%|▋         | 102/1500 [1:13:43<16:41:07, 42.97s/it, Sample=102, Status=Complete]"
     ]
    },
    {
     "name": "stdout",
     "output_type": "stream",
     "text": [
      "Initial params in unconstrained space: [-0.46701175 -0.5102159  -0.7985077 ]\n",
      "Initial params in unconstrained space: [-0.10337298 -0.5102159  -0.7985077 ]\n"
     ]
    },
    {
     "name": "stderr",
     "output_type": "stream",
     "text": [
      "Gibbs Sampling:   7%|▋         | 103/1500 [1:14:27<16:51:23, 43.44s/it, Sample=103, Status=Complete]"
     ]
    },
    {
     "name": "stdout",
     "output_type": "stream",
     "text": [
      "Reached max iterations with fractional norm error 5.443564757627501.\n",
      "Initial params in unconstrained space: [-0.46701175 -0.5102159  -0.7985077 ]\n",
      "Initial params in unconstrained space: [-0.10337298 -0.5102159  -0.7985077 ]\n"
     ]
    },
    {
     "name": "stderr",
     "output_type": "stream",
     "text": [
      "Gibbs Sampling:   7%|▋         | 104/1500 [1:15:09<16:36:45, 42.84s/it, Sample=104, Status=Complete]"
     ]
    },
    {
     "name": "stdout",
     "output_type": "stream",
     "text": [
      "Reached max iterations with fractional norm error 0.31038364617607406.\n",
      "Initial params in unconstrained space: [-0.46701175 -0.5102159  -0.7985077 ]\n",
      "Initial params in unconstrained space: [-0.10337298 -0.5102159  -0.7985077 ]\n",
      "Reached max iterations with fractional norm error 0.9993650374119047.\n"
     ]
    },
    {
     "name": "stderr",
     "output_type": "stream",
     "text": [
      "Gibbs Sampling:   7%|▋         | 105/1500 [1:15:52<16:38:56, 42.97s/it, Sample=105, Status=Complete]"
     ]
    },
    {
     "name": "stdout",
     "output_type": "stream",
     "text": [
      "Initial params in unconstrained space: [-0.46701175 -0.5102159  -0.7985077 ]\n",
      "Initial params in unconstrained space: [-0.10337298 -0.5102159  -0.7985077 ]\n"
     ]
    },
    {
     "name": "stderr",
     "output_type": "stream",
     "text": [
      "Gibbs Sampling:   7%|▋         | 106/1500 [1:16:37<16:51:04, 43.52s/it, Sample=106, Status=Complete]"
     ]
    },
    {
     "name": "stdout",
     "output_type": "stream",
     "text": [
      "Reached max iterations with fractional norm error 0.36305366164019737.\n",
      "Initial params in unconstrained space: [-0.46701175 -0.5102159  -0.7985077 ]\n",
      "Initial params in unconstrained space: [-0.10337298 -0.5102159  -0.7985077 ]\n"
     ]
    },
    {
     "name": "stderr",
     "output_type": "stream",
     "text": [
      "Gibbs Sampling:   7%|▋         | 107/1500 [1:17:17<16:31:12, 42.69s/it, Sample=107, Status=Complete]"
     ]
    },
    {
     "name": "stdout",
     "output_type": "stream",
     "text": [
      "Reached max iterations with fractional norm error 2.3737280697029526.\n",
      "Initial params in unconstrained space: [-0.46701175 -0.5102159  -0.7985077 ]\n",
      "Initial params in unconstrained space: [-0.10337298 -0.5102159  -0.7985077 ]\n"
     ]
    },
    {
     "name": "stderr",
     "output_type": "stream",
     "text": [
      "Gibbs Sampling:   7%|▋         | 108/1500 [1:18:01<16:34:01, 42.85s/it, Sample=108, Status=Complete]"
     ]
    },
    {
     "name": "stdout",
     "output_type": "stream",
     "text": [
      "Reached max iterations with fractional norm error 0.09208295601847508.\n",
      "Initial params in unconstrained space: [-0.46701175 -0.5102159  -0.7985077 ]\n",
      "Initial params in unconstrained space: [-0.10337298 -0.5102159  -0.7985077 ]\n"
     ]
    },
    {
     "name": "stderr",
     "output_type": "stream",
     "text": [
      "Gibbs Sampling:   7%|▋         | 109/1500 [1:18:45<16:44:12, 43.32s/it, Sample=109, Status=Complete]"
     ]
    },
    {
     "name": "stdout",
     "output_type": "stream",
     "text": [
      "Reached max iterations with fractional norm error 1.481571831453245.\n",
      "Initial params in unconstrained space: [-0.46701175 -0.5102159  -0.7985077 ]\n",
      "Initial params in unconstrained space: [-0.10337298 -0.5102159  -0.7985077 ]\n"
     ]
    },
    {
     "name": "stderr",
     "output_type": "stream",
     "text": [
      "Gibbs Sampling:   7%|▋         | 110/1500 [1:19:28<16:38:38, 43.11s/it, Sample=110, Status=Complete]"
     ]
    },
    {
     "name": "stdout",
     "output_type": "stream",
     "text": [
      "Reached max iterations with fractional norm error 1.4862207792115034.\n",
      "Initial params in unconstrained space: [-0.46701175 -0.5102159  -0.7985077 ]\n",
      "Initial params in unconstrained space: [-0.10337298 -0.5102159  -0.7985077 ]\n",
      "Reached max iterations with fractional norm error 1.0060102841584022.\n"
     ]
    },
    {
     "name": "stderr",
     "output_type": "stream",
     "text": [
      "Gibbs Sampling:   7%|▋         | 111/1500 [1:20:12<16:43:55, 43.37s/it, Sample=111, Status=Complete]"
     ]
    },
    {
     "name": "stdout",
     "output_type": "stream",
     "text": [
      "Initial params in unconstrained space: [-0.46701175 -0.5102159  -0.7985077 ]\n",
      "Initial params in unconstrained space: [-0.10337298 -0.5102159  -0.7985077 ]\n"
     ]
    },
    {
     "name": "stderr",
     "output_type": "stream",
     "text": [
      "Gibbs Sampling:   7%|▋         | 112/1500 [1:20:55<16:43:02, 43.36s/it, Sample=112, Status=Complete]"
     ]
    },
    {
     "name": "stdout",
     "output_type": "stream",
     "text": [
      "Reached max iterations with fractional norm error 0.907833152258621.\n",
      "Initial params in unconstrained space: [-0.46701175 -0.5102159  -0.7985077 ]\n",
      "Initial params in unconstrained space: [-0.10337298 -0.5102159  -0.7985077 ]\n"
     ]
    },
    {
     "name": "stderr",
     "output_type": "stream",
     "text": [
      "Gibbs Sampling:   8%|▊         | 113/1500 [1:21:36<16:28:48, 42.77s/it, Sample=113, Status=Complete]"
     ]
    },
    {
     "name": "stdout",
     "output_type": "stream",
     "text": [
      "Reached max iterations with fractional norm error 0.37565423905020234.\n",
      "Initial params in unconstrained space: [-0.46701175 -0.5102159  -0.7985077 ]\n",
      "Initial params in unconstrained space: [-0.10337298 -0.5102159  -0.7985077 ]\n"
     ]
    },
    {
     "name": "stderr",
     "output_type": "stream",
     "text": [
      "Gibbs Sampling:   8%|▊         | 114/1500 [1:22:21<16:43:08, 43.43s/it, Sample=114, Status=Complete]"
     ]
    },
    {
     "name": "stdout",
     "output_type": "stream",
     "text": [
      "Reached max iterations with fractional norm error 0.5064515770937745.\n",
      "Initial params in unconstrained space: [-0.46701175 -0.5102159  -0.7985077 ]\n",
      "Initial params in unconstrained space: [-0.10337298 -0.5102159  -0.7985077 ]\n"
     ]
    },
    {
     "name": "stderr",
     "output_type": "stream",
     "text": [
      "Gibbs Sampling:   8%|▊         | 115/1500 [1:23:06<16:52:34, 43.87s/it, Sample=115, Status=Complete]"
     ]
    },
    {
     "name": "stdout",
     "output_type": "stream",
     "text": [
      "Reached max iterations with fractional norm error 3.143388945535466.\n",
      "Initial params in unconstrained space: [-0.46701175 -0.5102159  -0.7985077 ]\n",
      "Initial params in unconstrained space: [-0.10337298 -0.5102159  -0.7985077 ]\n"
     ]
    },
    {
     "name": "stderr",
     "output_type": "stream",
     "text": [
      "Gibbs Sampling:   8%|▊         | 116/1500 [1:23:48<16:38:01, 43.27s/it, Sample=116, Status=Complete]"
     ]
    },
    {
     "name": "stdout",
     "output_type": "stream",
     "text": [
      "Reached max iterations with fractional norm error 0.6768801642364438.\n",
      "Initial params in unconstrained space: [-0.46701175 -0.5102159  -0.7985077 ]\n",
      "Initial params in unconstrained space: [-0.10337298 -0.5102159  -0.7985077 ]\n",
      "Reached max iterations with fractional norm error 1.7833054959264731.\n"
     ]
    },
    {
     "name": "stderr",
     "output_type": "stream",
     "text": [
      "Gibbs Sampling:   8%|▊         | 117/1500 [1:24:34<16:54:34, 44.02s/it, Sample=117, Status=Complete]"
     ]
    },
    {
     "name": "stdout",
     "output_type": "stream",
     "text": [
      "Initial params in unconstrained space: [-0.46701175 -0.5102159  -0.7985077 ]\n",
      "Initial params in unconstrained space: [-0.10337298 -0.5102159  -0.7985077 ]\n"
     ]
    },
    {
     "name": "stderr",
     "output_type": "stream",
     "text": [
      "Gibbs Sampling:   8%|▊         | 118/1500 [1:25:19<17:03:59, 44.46s/it, Sample=118, Status=Complete]"
     ]
    },
    {
     "name": "stdout",
     "output_type": "stream",
     "text": [
      "Reached max iterations with fractional norm error 0.9783672931943003.\n",
      "Initial params in unconstrained space: [-0.46701175 -0.5102159  -0.7985077 ]\n",
      "Initial params in unconstrained space: [-0.10337298 -0.5102159  -0.7985077 ]\n"
     ]
    },
    {
     "name": "stderr",
     "output_type": "stream",
     "text": [
      "Gibbs Sampling:   8%|▊         | 119/1500 [1:26:01<16:46:17, 43.72s/it, Sample=119, Status=Complete]"
     ]
    },
    {
     "name": "stdout",
     "output_type": "stream",
     "text": [
      "Reached max iterations with fractional norm error 2.0121874653889313.\n",
      "Initial params in unconstrained space: [-0.46701175 -0.5102159  -0.7985077 ]\n",
      "Initial params in unconstrained space: [-0.10337298 -0.5102159  -0.7985077 ]\n",
      "Reached max iterations with fractional norm error 0.5608754809709032.\n"
     ]
    },
    {
     "name": "stderr",
     "output_type": "stream",
     "text": [
      "Gibbs Sampling:   8%|▊         | 120/1500 [1:26:48<17:06:05, 44.61s/it, Sample=120, Status=Complete]"
     ]
    },
    {
     "name": "stdout",
     "output_type": "stream",
     "text": [
      "Initial params in unconstrained space: [-0.46701175 -0.5102159  -0.7985077 ]\n",
      "Initial params in unconstrained space: [-0.10337298 -0.5102159  -0.7985077 ]\n"
     ]
    },
    {
     "name": "stderr",
     "output_type": "stream",
     "text": [
      "Gibbs Sampling:   8%|▊         | 121/1500 [1:27:34<17:16:12, 45.08s/it, Sample=121, Status=Complete]"
     ]
    },
    {
     "name": "stdout",
     "output_type": "stream",
     "text": [
      "Reached max iterations with fractional norm error 0.4731559461701121.\n",
      "Initial params in unconstrained space: [-0.46701175 -0.5102159  -0.7985077 ]\n",
      "Initial params in unconstrained space: [-0.10337298 -0.5102159  -0.7985077 ]\n"
     ]
    },
    {
     "name": "stderr",
     "output_type": "stream",
     "text": [
      "Gibbs Sampling:   8%|▊         | 122/1500 [1:28:13<16:35:45, 43.36s/it, Sample=122, Status=Complete]"
     ]
    },
    {
     "name": "stdout",
     "output_type": "stream",
     "text": [
      "Reached max iterations with fractional norm error 1.0031922379398237.\n",
      "Initial params in unconstrained space: [-0.46701175 -0.5102159  -0.7985077 ]\n",
      "Initial params in unconstrained space: [-0.10337298 -0.5102159  -0.7985077 ]\n",
      "Reached max iterations with fractional norm error 53.98470884148197.\n"
     ]
    },
    {
     "name": "stderr",
     "output_type": "stream",
     "text": [
      "Gibbs Sampling:   8%|▊         | 123/1500 [1:28:57<16:36:51, 43.44s/it, Sample=123, Status=Complete]"
     ]
    },
    {
     "name": "stdout",
     "output_type": "stream",
     "text": [
      "Initial params in unconstrained space: [-0.46701175 -0.5102159  -0.7985077 ]\n",
      "Initial params in unconstrained space: [-0.10337298 -0.5102159  -0.7985077 ]\n"
     ]
    },
    {
     "name": "stderr",
     "output_type": "stream",
     "text": [
      "Gibbs Sampling:   8%|▊         | 124/1500 [1:29:42<16:44:46, 43.81s/it, Sample=124, Status=Complete]"
     ]
    },
    {
     "name": "stdout",
     "output_type": "stream",
     "text": [
      "Reached max iterations with fractional norm error 2.5264244962589837.\n",
      "Initial params in unconstrained space: [-0.46701175 -0.5102159  -0.7985077 ]\n",
      "Initial params in unconstrained space: [-0.10337298 -0.5102159  -0.7985077 ]\n"
     ]
    },
    {
     "name": "stderr",
     "output_type": "stream",
     "text": [
      "Gibbs Sampling:   8%|▊         | 125/1500 [1:30:23<16:29:03, 43.16s/it, Sample=125, Status=Complete]"
     ]
    },
    {
     "name": "stdout",
     "output_type": "stream",
     "text": [
      "Reached max iterations with fractional norm error 0.9697743989277059.\n",
      "Initial params in unconstrained space: [-0.46701175 -0.5102159  -0.7985077 ]\n",
      "Initial params in unconstrained space: [-0.10337298 -0.5102159  -0.7985077 ]\n"
     ]
    },
    {
     "name": "stderr",
     "output_type": "stream",
     "text": [
      "Gibbs Sampling:   8%|▊         | 126/1500 [1:31:07<16:33:56, 43.40s/it, Sample=126, Status=Complete]"
     ]
    },
    {
     "name": "stdout",
     "output_type": "stream",
     "text": [
      "Reached max iterations with fractional norm error 1.017733566112713.\n",
      "Initial params in unconstrained space: [-0.46701175 -0.5102159  -0.7985077 ]\n",
      "Initial params in unconstrained space: [-0.10337298 -0.5102159  -0.7985077 ]\n"
     ]
    },
    {
     "name": "stderr",
     "output_type": "stream",
     "text": [
      "Gibbs Sampling:   8%|▊         | 127/1500 [1:31:53<16:50:37, 44.16s/it, Sample=127, Status=Complete]"
     ]
    },
    {
     "name": "stdout",
     "output_type": "stream",
     "text": [
      "Reached max iterations with fractional norm error 0.4784996889669311.\n",
      "Initial params in unconstrained space: [-0.46701175 -0.5102159  -0.7985077 ]\n",
      "Initial params in unconstrained space: [-0.10337298 -0.5102159  -0.7985077 ]\n"
     ]
    },
    {
     "name": "stderr",
     "output_type": "stream",
     "text": [
      "Gibbs Sampling:   9%|▊         | 128/1500 [1:32:36<16:36:53, 43.60s/it, Sample=128, Status=Complete]"
     ]
    },
    {
     "name": "stdout",
     "output_type": "stream",
     "text": [
      "Reached max iterations with fractional norm error 1.6108034949301768.\n",
      "Initial params in unconstrained space: [-0.46701175 -0.5102159  -0.7985077 ]\n",
      "Initial params in unconstrained space: [-0.10337298 -0.5102159  -0.7985077 ]\n"
     ]
    },
    {
     "name": "stderr",
     "output_type": "stream",
     "text": [
      "Gibbs Sampling:   9%|▊         | 129/1500 [1:33:21<16:48:53, 44.15s/it, Sample=129, Status=Complete]"
     ]
    },
    {
     "name": "stdout",
     "output_type": "stream",
     "text": [
      "Reached max iterations with fractional norm error 0.2948480699090017.\n",
      "Initial params in unconstrained space: [-0.46701175 -0.5102159  -0.7985077 ]\n",
      "Initial params in unconstrained space: [-0.10337298 -0.5102159  -0.7985077 ]\n"
     ]
    },
    {
     "name": "stderr",
     "output_type": "stream",
     "text": [
      "Gibbs Sampling:   9%|▊         | 130/1500 [1:34:04<16:38:21, 43.72s/it, Sample=130, Status=Complete]"
     ]
    },
    {
     "name": "stdout",
     "output_type": "stream",
     "text": [
      "Reached max iterations with fractional norm error 0.12477291188266483.\n",
      "Initial params in unconstrained space: [-0.46701175 -0.5102159  -0.7985077 ]\n",
      "Initial params in unconstrained space: [-0.10337298 -0.5102159  -0.7985077 ]\n",
      "Reached max iterations with fractional norm error 0.9999390192093686.\n"
     ]
    },
    {
     "name": "stderr",
     "output_type": "stream",
     "text": [
      "Gibbs Sampling:   9%|▊         | 131/1500 [1:34:46<16:25:17, 43.18s/it, Sample=131, Status=Complete]"
     ]
    },
    {
     "name": "stdout",
     "output_type": "stream",
     "text": [
      "Initial params in unconstrained space: [-0.46701175 -0.5102159  -0.7985077 ]\n",
      "Initial params in unconstrained space: [-0.10337298 -0.5102159  -0.7985077 ]\n"
     ]
    },
    {
     "name": "stderr",
     "output_type": "stream",
     "text": [
      "Gibbs Sampling:   9%|▉         | 132/1500 [1:35:31<16:40:22, 43.88s/it, Sample=132, Status=Complete]"
     ]
    },
    {
     "name": "stdout",
     "output_type": "stream",
     "text": [
      "Reached max iterations with fractional norm error 0.8996175484030424.\n",
      "Initial params in unconstrained space: [-0.46701175 -0.5102159  -0.7985077 ]\n",
      "Initial params in unconstrained space: [-0.10337298 -0.5102159  -0.7985077 ]\n"
     ]
    },
    {
     "name": "stderr",
     "output_type": "stream",
     "text": [
      "Gibbs Sampling:   9%|▉         | 133/1500 [1:36:12<16:18:21, 42.94s/it, Sample=133, Status=Complete]"
     ]
    },
    {
     "name": "stdout",
     "output_type": "stream",
     "text": [
      "Reached max iterations with fractional norm error 0.46467740666146046.\n",
      "Initial params in unconstrained space: [-0.46701175 -0.5102159  -0.7985077 ]\n",
      "Initial params in unconstrained space: [-0.10337298 -0.5102159  -0.7985077 ]\n",
      "Reached max iterations with fractional norm error 0.5552902727772975.\n"
     ]
    },
    {
     "name": "stderr",
     "output_type": "stream",
     "text": [
      "Gibbs Sampling:   9%|▉         | 134/1500 [1:36:52<16:00:40, 42.20s/it, Sample=134, Status=Complete]"
     ]
    },
    {
     "name": "stdout",
     "output_type": "stream",
     "text": [
      "Initial params in unconstrained space: [-0.46701175 -0.5102159  -0.7985077 ]\n",
      "Initial params in unconstrained space: [-0.10337298 -0.5102159  -0.7985077 ]\n"
     ]
    },
    {
     "name": "stderr",
     "output_type": "stream",
     "text": [
      "Gibbs Sampling:   9%|▉         | 135/1500 [1:37:38<16:22:07, 43.17s/it, Sample=135, Status=Complete]"
     ]
    },
    {
     "name": "stdout",
     "output_type": "stream",
     "text": [
      "Reached max iterations with fractional norm error 0.6044104218449058.\n",
      "Initial params in unconstrained space: [-0.46701175 -0.5102159  -0.7985077 ]\n",
      "Initial params in unconstrained space: [-0.10337298 -0.5102159  -0.7985077 ]\n"
     ]
    },
    {
     "name": "stderr",
     "output_type": "stream",
     "text": [
      "Gibbs Sampling:   9%|▉         | 136/1500 [1:38:19<16:05:44, 42.48s/it, Sample=136, Status=Complete]"
     ]
    },
    {
     "name": "stdout",
     "output_type": "stream",
     "text": [
      "Reached max iterations with fractional norm error 0.33486839934261153.\n",
      "Initial params in unconstrained space: [-0.46701175 -0.5102159  -0.7985077 ]\n",
      "Initial params in unconstrained space: [-0.10337298 -0.5102159  -0.7985077 ]\n",
      "Reached max iterations with fractional norm error 0.3070912260305967.\n"
     ]
    },
    {
     "name": "stderr",
     "output_type": "stream",
     "text": [
      "Gibbs Sampling:   9%|▉         | 137/1500 [1:39:01<16:01:25, 42.32s/it, Sample=137, Status=Complete]"
     ]
    },
    {
     "name": "stdout",
     "output_type": "stream",
     "text": [
      "Initial params in unconstrained space: [-0.46701175 -0.5102159  -0.7985077 ]\n",
      "Initial params in unconstrained space: [-0.10337298 -0.5102159  -0.7985077 ]\n",
      "Reached max iterations with fractional norm error 1.6354614975047654.\n"
     ]
    },
    {
     "name": "stderr",
     "output_type": "stream",
     "text": [
      "Gibbs Sampling:   9%|▉         | 138/1500 [1:39:46<16:20:46, 43.21s/it, Sample=138, Status=Complete]"
     ]
    },
    {
     "name": "stdout",
     "output_type": "stream",
     "text": [
      "Initial params in unconstrained space: [-0.46701175 -0.5102159  -0.7985077 ]\n",
      "Initial params in unconstrained space: [-0.10337298 -0.5102159  -0.7985077 ]\n"
     ]
    },
    {
     "name": "stderr",
     "output_type": "stream",
     "text": [
      "Gibbs Sampling:   9%|▉         | 139/1500 [1:40:27<16:08:33, 42.70s/it, Sample=139, Status=Complete]"
     ]
    },
    {
     "name": "stdout",
     "output_type": "stream",
     "text": [
      "Reached max iterations with fractional norm error 0.6368384286392065.\n",
      "Initial params in unconstrained space: [-0.46701175 -0.5102159  -0.7985077 ]\n",
      "Initial params in unconstrained space: [-0.10337298 -0.5102159  -0.7985077 ]\n"
     ]
    },
    {
     "name": "stderr",
     "output_type": "stream",
     "text": [
      "Gibbs Sampling:   9%|▉         | 140/1500 [1:41:09<15:58:44, 42.30s/it, Sample=140, Status=Complete]"
     ]
    },
    {
     "name": "stdout",
     "output_type": "stream",
     "text": [
      "Reached max iterations with fractional norm error 0.12627722343179162.\n",
      "Initial params in unconstrained space: [-0.46701175 -0.5102159  -0.7985077 ]\n",
      "Initial params in unconstrained space: [-0.10337298 -0.5102159  -0.7985077 ]\n"
     ]
    },
    {
     "name": "stderr",
     "output_type": "stream",
     "text": [
      "Gibbs Sampling:   9%|▉         | 141/1500 [1:41:56<16:33:14, 43.85s/it, Sample=141, Status=Complete]"
     ]
    },
    {
     "name": "stdout",
     "output_type": "stream",
     "text": [
      "Reached max iterations with fractional norm error 0.607714488379411.\n",
      "Initial params in unconstrained space: [-0.46701175 -0.5102159  -0.7985077 ]\n",
      "Initial params in unconstrained space: [-0.10337298 -0.5102159  -0.7985077 ]\n"
     ]
    },
    {
     "name": "stderr",
     "output_type": "stream",
     "text": [
      "Gibbs Sampling:   9%|▉         | 142/1500 [1:42:37<16:11:10, 42.91s/it, Sample=142, Status=Complete]"
     ]
    },
    {
     "name": "stdout",
     "output_type": "stream",
     "text": [
      "Reached max iterations with fractional norm error 0.22655509117674846.\n",
      "Initial params in unconstrained space: [-0.46701175 -0.5102159  -0.7985077 ]\n",
      "Initial params in unconstrained space: [-0.10337298 -0.5102159  -0.7985077 ]\n",
      "Reached max iterations with fractional norm error 9.370884256603583.\n"
     ]
    },
    {
     "name": "stderr",
     "output_type": "stream",
     "text": [
      "Gibbs Sampling:  10%|▉         | 143/1500 [1:43:20<16:14:02, 43.07s/it, Sample=143, Status=Complete]"
     ]
    },
    {
     "name": "stdout",
     "output_type": "stream",
     "text": [
      "Initial params in unconstrained space: [-0.46701175 -0.5102159  -0.7985077 ]\n",
      "Initial params in unconstrained space: [-0.10337298 -0.5102159  -0.7985077 ]\n"
     ]
    },
    {
     "name": "stderr",
     "output_type": "stream",
     "text": [
      "Gibbs Sampling:  10%|▉         | 144/1500 [1:44:09<16:50:01, 44.69s/it, Sample=144, Status=Complete]"
     ]
    },
    {
     "name": "stdout",
     "output_type": "stream",
     "text": [
      "Reached max iterations with fractional norm error 0.9963687806822781.\n",
      "Initial params in unconstrained space: [-0.46701175 -0.5102159  -0.7985077 ]\n",
      "Initial params in unconstrained space: [-0.10337298 -0.5102159  -0.7985077 ]\n"
     ]
    },
    {
     "name": "stderr",
     "output_type": "stream",
     "text": [
      "Gibbs Sampling:  10%|▉         | 145/1500 [1:44:50<16:21:34, 43.46s/it, Sample=145, Status=Complete]"
     ]
    },
    {
     "name": "stdout",
     "output_type": "stream",
     "text": [
      "Reached max iterations with fractional norm error 0.21239935482430458.\n",
      "Initial params in unconstrained space: [-0.46701175 -0.5102159  -0.7985077 ]\n",
      "Initial params in unconstrained space: [-0.10337298 -0.5102159  -0.7985077 ]\n"
     ]
    },
    {
     "name": "stderr",
     "output_type": "stream",
     "text": [
      "Gibbs Sampling:  10%|▉         | 146/1500 [1:45:33<16:20:40, 43.46s/it, Sample=146, Status=Complete]"
     ]
    },
    {
     "name": "stdout",
     "output_type": "stream",
     "text": [
      "Reached max iterations with fractional norm error 6785.383514406254.\n",
      "Initial params in unconstrained space: [-0.46701175 -0.5102159  -0.7985077 ]\n",
      "Initial params in unconstrained space: [-0.10337298 -0.5102159  -0.7985077 ]\n"
     ]
    },
    {
     "name": "stderr",
     "output_type": "stream",
     "text": [
      "Gibbs Sampling:  10%|▉         | 147/1500 [1:46:19<16:40:01, 44.35s/it, Sample=147, Status=Complete]"
     ]
    },
    {
     "name": "stdout",
     "output_type": "stream",
     "text": [
      "Reached max iterations with fractional norm error 0.2538962102923972.\n",
      "Initial params in unconstrained space: [-0.46701175 -0.5102159  -0.7985077 ]\n",
      "Initial params in unconstrained space: [-0.10337298 -0.5102159  -0.7985077 ]\n"
     ]
    },
    {
     "name": "stderr",
     "output_type": "stream",
     "text": [
      "Gibbs Sampling:  10%|▉         | 148/1500 [1:47:01<16:19:57, 43.49s/it, Sample=148, Status=Complete]"
     ]
    },
    {
     "name": "stdout",
     "output_type": "stream",
     "text": [
      "Reached max iterations with fractional norm error 0.8690862770635158.\n",
      "Initial params in unconstrained space: [-0.46701175 -0.5102159  -0.7985077 ]\n",
      "Initial params in unconstrained space: [-0.10337298 -0.5102159  -0.7985077 ]\n"
     ]
    },
    {
     "name": "stderr",
     "output_type": "stream",
     "text": [
      "Gibbs Sampling:  10%|▉         | 149/1500 [1:47:47<16:34:01, 44.15s/it, Sample=149, Status=Complete]"
     ]
    },
    {
     "name": "stdout",
     "output_type": "stream",
     "text": [
      "Reached max iterations with fractional norm error 0.7281458275191077.\n",
      "Initial params in unconstrained space: [-0.46701175 -0.5102159  -0.7985077 ]\n",
      "Initial params in unconstrained space: [-0.10337298 -0.5102159  -0.7985077 ]\n"
     ]
    },
    {
     "name": "stderr",
     "output_type": "stream",
     "text": [
      "Gibbs Sampling:  10%|█         | 150/1500 [1:48:31<16:34:11, 44.19s/it, Sample=150, Status=Complete]"
     ]
    },
    {
     "name": "stdout",
     "output_type": "stream",
     "text": [
      "Reached max iterations with fractional norm error 1.0096778112826177.\n",
      "Initial params in unconstrained space: [-0.46701175 -0.5102159  -0.7985077 ]\n",
      "Initial params in unconstrained space: [-0.10337298 -0.5102159  -0.7985077 ]\n",
      "Reached max iterations with fractional norm error 0.3081333451407856.\n"
     ]
    },
    {
     "name": "stderr",
     "output_type": "stream",
     "text": [
      "Gibbs Sampling:  10%|█         | 151/1500 [1:49:15<16:33:35, 44.19s/it, Sample=151, Status=Complete]"
     ]
    },
    {
     "name": "stdout",
     "output_type": "stream",
     "text": [
      "Initial params in unconstrained space: [-0.46701175 -0.5102159  -0.7985077 ]\n",
      "Initial params in unconstrained space: [-0.10337298 -0.5102159  -0.7985077 ]\n"
     ]
    },
    {
     "name": "stderr",
     "output_type": "stream",
     "text": [
      "Gibbs Sampling:  10%|█         | 152/1500 [1:50:02<16:53:42, 45.12s/it, Sample=152, Status=Complete]"
     ]
    },
    {
     "name": "stdout",
     "output_type": "stream",
     "text": [
      "Reached max iterations with fractional norm error 0.307555421429647.\n",
      "Initial params in unconstrained space: [-0.46701175 -0.5102159  -0.7985077 ]\n",
      "Initial params in unconstrained space: [-0.10337298 -0.5102159  -0.7985077 ]\n"
     ]
    },
    {
     "name": "stderr",
     "output_type": "stream",
     "text": [
      "Gibbs Sampling:  10%|█         | 153/1500 [1:50:45<16:34:38, 44.30s/it, Sample=153, Status=Complete]"
     ]
    },
    {
     "name": "stdout",
     "output_type": "stream",
     "text": [
      "Reached max iterations with fractional norm error 0.3785839500840528.\n",
      "Initial params in unconstrained space: [-0.46701175 -0.5102159  -0.7985077 ]\n",
      "Initial params in unconstrained space: [-0.10337298 -0.5102159  -0.7985077 ]\n"
     ]
    },
    {
     "name": "stderr",
     "output_type": "stream",
     "text": [
      "Gibbs Sampling:  10%|█         | 154/1500 [1:51:26<16:13:39, 43.40s/it, Sample=154, Status=Complete]"
     ]
    },
    {
     "name": "stdout",
     "output_type": "stream",
     "text": [
      "Reached max iterations with fractional norm error 0.20415501393488322.\n",
      "Initial params in unconstrained space: [-0.46701175 -0.5102159  -0.7985077 ]\n",
      "Initial params in unconstrained space: [-0.10337298 -0.5102159  -0.7985077 ]\n"
     ]
    },
    {
     "name": "stderr",
     "output_type": "stream",
     "text": [
      "Gibbs Sampling:  10%|█         | 155/1500 [1:52:12<16:32:05, 44.26s/it, Sample=155, Status=Complete]"
     ]
    },
    {
     "name": "stdout",
     "output_type": "stream",
     "text": [
      "Reached max iterations with fractional norm error 0.14148383896094927.\n",
      "Initial params in unconstrained space: [-0.46701175 -0.5102159  -0.7985077 ]\n",
      "Initial params in unconstrained space: [-0.10337298 -0.5102159  -0.7985077 ]\n"
     ]
    },
    {
     "name": "stderr",
     "output_type": "stream",
     "text": [
      "Gibbs Sampling:  10%|█         | 156/1500 [1:52:53<16:09:52, 43.30s/it, Sample=156, Status=Complete]"
     ]
    },
    {
     "name": "stdout",
     "output_type": "stream",
     "text": [
      "Reached max iterations with fractional norm error 2.834502929405823.\n",
      "Initial params in unconstrained space: [-0.46701175 -0.5102159  -0.7985077 ]\n",
      "Initial params in unconstrained space: [-0.10337298 -0.5102159  -0.7985077 ]\n"
     ]
    },
    {
     "name": "stderr",
     "output_type": "stream",
     "text": [
      "Gibbs Sampling:  10%|█         | 157/1500 [1:53:34<15:48:33, 42.38s/it, Sample=157, Status=Complete]"
     ]
    },
    {
     "name": "stdout",
     "output_type": "stream",
     "text": [
      "Reached max iterations with fractional norm error 0.522939123763975.\n",
      "Initial params in unconstrained space: [-0.46701175 -0.5102159  -0.7985077 ]\n",
      "Initial params in unconstrained space: [-0.10337298 -0.5102159  -0.7985077 ]\n"
     ]
    },
    {
     "name": "stderr",
     "output_type": "stream",
     "text": [
      "Gibbs Sampling:  11%|█         | 158/1500 [1:54:19<16:08:07, 43.28s/it, Sample=158, Status=Complete]"
     ]
    },
    {
     "name": "stdout",
     "output_type": "stream",
     "text": [
      "Reached max iterations with fractional norm error 0.46653203367867724.\n",
      "Initial params in unconstrained space: [-0.46701175 -0.5102159  -0.7985077 ]\n",
      "Initial params in unconstrained space: [-0.10337298 -0.5102159  -0.7985077 ]\n",
      "Reached max iterations with fractional norm error 1.3296571492001554.\n"
     ]
    },
    {
     "name": "stderr",
     "output_type": "stream",
     "text": [
      "Gibbs Sampling:  11%|█         | 159/1500 [1:55:00<15:52:22, 42.61s/it, Sample=159, Status=Complete]"
     ]
    },
    {
     "name": "stdout",
     "output_type": "stream",
     "text": [
      "Initial params in unconstrained space: [-0.46701175 -0.5102159  -0.7985077 ]\n",
      "Initial params in unconstrained space: [-0.10337298 -0.5102159  -0.7985077 ]\n"
     ]
    },
    {
     "name": "stderr",
     "output_type": "stream",
     "text": [
      "Gibbs Sampling:  11%|█         | 160/1500 [1:55:42<15:45:37, 42.34s/it, Sample=160, Status=Complete]"
     ]
    },
    {
     "name": "stdout",
     "output_type": "stream",
     "text": [
      "Reached max iterations with fractional norm error 0.2585435355807202.\n",
      "Initial params in unconstrained space: [-0.46701175 -0.5102159  -0.7985077 ]\n",
      "Initial params in unconstrained space: [-0.10337298 -0.5102159  -0.7985077 ]\n"
     ]
    },
    {
     "name": "stderr",
     "output_type": "stream",
     "text": [
      "Gibbs Sampling:  11%|█         | 161/1500 [1:56:28<16:09:09, 43.43s/it, Sample=161, Status=Complete]"
     ]
    },
    {
     "name": "stdout",
     "output_type": "stream",
     "text": [
      "Reached max iterations with fractional norm error 9.070687600831715.\n",
      "Initial params in unconstrained space: [-0.46701175 -0.5102159  -0.7985077 ]\n",
      "Initial params in unconstrained space: [-0.10337298 -0.5102159  -0.7985077 ]\n"
     ]
    },
    {
     "name": "stderr",
     "output_type": "stream",
     "text": [
      "Gibbs Sampling:  11%|█         | 162/1500 [1:57:10<16:04:07, 43.23s/it, Sample=162, Status=Complete]"
     ]
    },
    {
     "name": "stdout",
     "output_type": "stream",
     "text": [
      "Reached max iterations with fractional norm error 0.9322604651080779.\n",
      "Initial params in unconstrained space: [-0.46701175 -0.5102159  -0.7985077 ]\n",
      "Initial params in unconstrained space: [-0.10337298 -0.5102159  -0.7985077 ]\n"
     ]
    },
    {
     "name": "stderr",
     "output_type": "stream",
     "text": [
      "Gibbs Sampling:  11%|█         | 162/1500 [1:57:53<16:04:07, 43.23s/it, Sample=163, Status=Complete]"
     ]
    },
    {
     "name": "stdout",
     "output_type": "stream",
     "text": [
      "Reached max iterations with fractional norm error 0.4797679582738899.\n"
     ]
    },
    {
     "name": "stderr",
     "output_type": "stream",
     "text": [
      "Gibbs Sampling:  11%|█         | 163/1500 [1:57:53<15:56:12, 42.91s/it, Sample=163, Status=Complete]"
     ]
    },
    {
     "name": "stdout",
     "output_type": "stream",
     "text": [
      "Initial params in unconstrained space: [-0.46701175 -0.5102159  -0.7985077 ]\n",
      "Initial params in unconstrained space: [-0.10337298 -0.5102159  -0.7985077 ]\n"
     ]
    },
    {
     "name": "stderr",
     "output_type": "stream",
     "text": [
      "Gibbs Sampling:  11%|█         | 164/1500 [1:58:40<16:24:15, 44.20s/it, Sample=164, Status=Complete]"
     ]
    },
    {
     "name": "stdout",
     "output_type": "stream",
     "text": [
      "Reached max iterations with fractional norm error 1.123873796039542.\n",
      "Initial params in unconstrained space: [-0.46701175 -0.5102159  -0.7985077 ]\n",
      "Initial params in unconstrained space: [-0.10337298 -0.5102159  -0.7985077 ]\n"
     ]
    },
    {
     "name": "stderr",
     "output_type": "stream",
     "text": [
      "Gibbs Sampling:  11%|█         | 165/1500 [1:59:22<16:10:37, 43.62s/it, Sample=165, Status=Complete]"
     ]
    },
    {
     "name": "stdout",
     "output_type": "stream",
     "text": [
      "Reached max iterations with fractional norm error 1.4864661056884763.\n",
      "Initial params in unconstrained space: [-0.46701175 -0.5102159  -0.7985077 ]\n",
      "Initial params in unconstrained space: [-0.10337298 -0.5102159  -0.7985077 ]\n",
      "Reached max iterations with fractional norm error 0.31800566106274397.\n"
     ]
    },
    {
     "name": "stderr",
     "output_type": "stream",
     "text": [
      "Gibbs Sampling:  11%|█         | 166/1500 [2:00:06<16:10:17, 43.64s/it, Sample=166, Status=Complete]"
     ]
    },
    {
     "name": "stdout",
     "output_type": "stream",
     "text": [
      "Initial params in unconstrained space: [-0.46701175 -0.5102159  -0.7985077 ]\n",
      "Initial params in unconstrained space: [-0.10337298 -0.5102159  -0.7985077 ]\n"
     ]
    },
    {
     "name": "stderr",
     "output_type": "stream",
     "text": [
      "Gibbs Sampling:  11%|█         | 167/1500 [2:00:50<16:10:05, 43.67s/it, Sample=167, Status=Complete]"
     ]
    },
    {
     "name": "stdout",
     "output_type": "stream",
     "text": [
      "Reached max iterations with fractional norm error 0.8726364282445732.\n",
      "Initial params in unconstrained space: [-0.46701175 -0.5102159  -0.7985077 ]\n",
      "Initial params in unconstrained space: [-0.10337298 -0.5102159  -0.7985077 ]\n"
     ]
    },
    {
     "name": "stderr",
     "output_type": "stream",
     "text": [
      "Gibbs Sampling:  11%|█         | 168/1500 [2:01:30<15:50:24, 42.81s/it, Sample=168, Status=Complete]"
     ]
    },
    {
     "name": "stdout",
     "output_type": "stream",
     "text": [
      "Reached max iterations with fractional norm error 0.7833143432707992.\n",
      "Initial params in unconstrained space: [-0.46701175 -0.5102159  -0.7985077 ]\n",
      "Initial params in unconstrained space: [-0.10337298 -0.5102159  -0.7985077 ]\n",
      "Reached max iterations with fractional norm error 2.9899691756345823.\n"
     ]
    },
    {
     "name": "stderr",
     "output_type": "stream",
     "text": [
      "Gibbs Sampling:  11%|█▏        | 169/1500 [2:02:14<15:58:33, 43.21s/it, Sample=169, Status=Complete]"
     ]
    },
    {
     "name": "stdout",
     "output_type": "stream",
     "text": [
      "Initial params in unconstrained space: [-0.46701175 -0.5102159  -0.7985077 ]\n",
      "Initial params in unconstrained space: [-0.10337298 -0.5102159  -0.7985077 ]\n"
     ]
    },
    {
     "name": "stderr",
     "output_type": "stream",
     "text": [
      "Gibbs Sampling:  11%|█▏        | 170/1500 [2:02:58<16:00:12, 43.32s/it, Sample=170, Status=Complete]"
     ]
    },
    {
     "name": "stdout",
     "output_type": "stream",
     "text": [
      "Reached max iterations with fractional norm error 0.10229890041998173.\n",
      "Initial params in unconstrained space: [-0.46701175 -0.5102159  -0.7985077 ]\n",
      "Initial params in unconstrained space: [-0.10337298 -0.5102159  -0.7985077 ]\n"
     ]
    },
    {
     "name": "stderr",
     "output_type": "stream",
     "text": [
      "Gibbs Sampling:  11%|█▏        | 171/1500 [2:03:39<15:44:31, 42.64s/it, Sample=171, Status=Complete]"
     ]
    },
    {
     "name": "stdout",
     "output_type": "stream",
     "text": [
      "Reached max iterations with fractional norm error 0.12805628726133472.\n",
      "Initial params in unconstrained space: [-0.46701175 -0.5102159  -0.7985077 ]\n",
      "Initial params in unconstrained space: [-0.10337298 -0.5102159  -0.7985077 ]\n"
     ]
    },
    {
     "name": "stderr",
     "output_type": "stream",
     "text": [
      "Gibbs Sampling:  11%|█▏        | 172/1500 [2:04:28<16:26:03, 44.55s/it, Sample=172, Status=Complete]"
     ]
    },
    {
     "name": "stdout",
     "output_type": "stream",
     "text": [
      "Reached max iterations with fractional norm error 1.1084839282833987.\n",
      "Initial params in unconstrained space: [-0.46701175 -0.5102159  -0.7985077 ]\n",
      "Initial params in unconstrained space: [-0.10337298 -0.5102159  -0.7985077 ]\n"
     ]
    },
    {
     "name": "stderr",
     "output_type": "stream",
     "text": [
      "Gibbs Sampling:  12%|█▏        | 173/1500 [2:05:10<16:05:33, 43.66s/it, Sample=173, Status=Complete]"
     ]
    },
    {
     "name": "stdout",
     "output_type": "stream",
     "text": [
      "Reached max iterations with fractional norm error 0.17446936389461248.\n",
      "Initial params in unconstrained space: [-0.46701175 -0.5102159  -0.7985077 ]\n",
      "Initial params in unconstrained space: [-0.10337298 -0.5102159  -0.7985077 ]\n",
      "Reached max iterations with fractional norm error 6.228852404477955.\n"
     ]
    },
    {
     "name": "stderr",
     "output_type": "stream",
     "text": [
      "Gibbs Sampling:  12%|█▏        | 174/1500 [2:05:51<15:46:39, 42.84s/it, Sample=174, Status=Complete]"
     ]
    },
    {
     "name": "stdout",
     "output_type": "stream",
     "text": [
      "Initial params in unconstrained space: [-0.46701175 -0.5102159  -0.7985077 ]\n",
      "Initial params in unconstrained space: [-0.10337298 -0.5102159  -0.7985077 ]\n",
      "Reached max iterations with fractional norm error 0.16560094685410084.\n"
     ]
    },
    {
     "name": "stderr",
     "output_type": "stream",
     "text": [
      "Gibbs Sampling:  12%|█▏        | 175/1500 [2:06:36<16:01:11, 43.53s/it, Sample=175, Status=Complete]"
     ]
    },
    {
     "name": "stdout",
     "output_type": "stream",
     "text": [
      "Initial params in unconstrained space: [-0.46701175 -0.5102159  -0.7985077 ]\n",
      "Initial params in unconstrained space: [-0.10337298 -0.5102159  -0.7985077 ]\n",
      "Reached max iterations with fractional norm error 0.25796882591294956.\n"
     ]
    },
    {
     "name": "stderr",
     "output_type": "stream",
     "text": [
      "Gibbs Sampling:  12%|█▏        | 176/1500 [2:07:17<15:43:49, 42.77s/it, Sample=176, Status=Complete]"
     ]
    },
    {
     "name": "stdout",
     "output_type": "stream",
     "text": [
      "Initial params in unconstrained space: [-0.46701175 -0.5102159  -0.7985077 ]\n",
      "Initial params in unconstrained space: [-0.10337298 -0.5102159  -0.7985077 ]\n"
     ]
    },
    {
     "name": "stderr",
     "output_type": "stream",
     "text": [
      "Gibbs Sampling:  12%|█▏        | 177/1500 [2:07:57<15:28:29, 42.11s/it, Sample=177, Status=Complete]"
     ]
    },
    {
     "name": "stdout",
     "output_type": "stream",
     "text": [
      "Reached max iterations with fractional norm error 0.1854979860589326.\n",
      "Initial params in unconstrained space: [-0.46701175 -0.5102159  -0.7985077 ]\n",
      "Initial params in unconstrained space: [-0.10337298 -0.5102159  -0.7985077 ]\n"
     ]
    },
    {
     "name": "stderr",
     "output_type": "stream",
     "text": [
      "Gibbs Sampling:  12%|█▏        | 178/1500 [2:08:44<16:01:07, 43.62s/it, Sample=178, Status=Complete]"
     ]
    },
    {
     "name": "stdout",
     "output_type": "stream",
     "text": [
      "Reached max iterations with fractional norm error 0.8430754724357289.\n",
      "Initial params in unconstrained space: [-0.46701175 -0.5102159  -0.7985077 ]\n",
      "Initial params in unconstrained space: [-0.10337298 -0.5102159  -0.7985077 ]\n"
     ]
    },
    {
     "name": "stderr",
     "output_type": "stream",
     "text": [
      "Gibbs Sampling:  12%|█▏        | 179/1500 [2:09:26<15:45:55, 42.96s/it, Sample=179, Status=Complete]"
     ]
    },
    {
     "name": "stdout",
     "output_type": "stream",
     "text": [
      "Reached max iterations with fractional norm error 1.3106737984121453.\n",
      "Initial params in unconstrained space: [-0.46701175 -0.5102159  -0.7985077 ]\n",
      "Initial params in unconstrained space: [-0.10337298 -0.5102159  -0.7985077 ]\n",
      "Reached max iterations with fractional norm error 0.5368137697037488.\n"
     ]
    },
    {
     "name": "stderr",
     "output_type": "stream",
     "text": [
      "Gibbs Sampling:  12%|█▏        | 180/1500 [2:10:08<15:40:22, 42.74s/it, Sample=180, Status=Complete]"
     ]
    },
    {
     "name": "stdout",
     "output_type": "stream",
     "text": [
      "Initial params in unconstrained space: [-0.46701175 -0.5102159  -0.7985077 ]\n",
      "Initial params in unconstrained space: [-0.10337298 -0.5102159  -0.7985077 ]\n"
     ]
    },
    {
     "name": "stderr",
     "output_type": "stream",
     "text": [
      "Gibbs Sampling:  12%|█▏        | 181/1500 [2:10:55<16:05:24, 43.92s/it, Sample=181, Status=Complete]"
     ]
    },
    {
     "name": "stdout",
     "output_type": "stream",
     "text": [
      "Reached max iterations with fractional norm error 0.30346208565587346.\n",
      "Initial params in unconstrained space: [-0.46701175 -0.5102159  -0.7985077 ]\n",
      "Initial params in unconstrained space: [-0.10337298 -0.5102159  -0.7985077 ]\n",
      "Reached max iterations with fractional norm error 0.9874850969266356.\n"
     ]
    },
    {
     "name": "stderr",
     "output_type": "stream",
     "text": [
      "Gibbs Sampling:  12%|█▏        | 182/1500 [2:11:36<15:46:16, 43.08s/it, Sample=182, Status=Complete]"
     ]
    },
    {
     "name": "stdout",
     "output_type": "stream",
     "text": [
      "Initial params in unconstrained space: [-0.46701175 -0.5102159  -0.7985077 ]\n",
      "Initial params in unconstrained space: [-0.10337298 -0.5102159  -0.7985077 ]\n"
     ]
    },
    {
     "name": "stderr",
     "output_type": "stream",
     "text": [
      "Gibbs Sampling:  12%|█▏        | 183/1500 [2:12:17<15:31:05, 42.42s/it, Sample=183, Status=Complete]"
     ]
    },
    {
     "name": "stdout",
     "output_type": "stream",
     "text": [
      "Reached max iterations with fractional norm error 0.14180612815913063.\n",
      "Initial params in unconstrained space: [-0.46701175 -0.5102159  -0.7985077 ]\n",
      "Initial params in unconstrained space: [-0.10337298 -0.5102159  -0.7985077 ]\n",
      "Reached max iterations with fractional norm error 0.3679390621499411.\n"
     ]
    },
    {
     "name": "stderr",
     "output_type": "stream",
     "text": [
      "Gibbs Sampling:  12%|█▏        | 184/1500 [2:13:01<15:44:51, 43.08s/it, Sample=184, Status=Complete]"
     ]
    },
    {
     "name": "stdout",
     "output_type": "stream",
     "text": [
      "Initial params in unconstrained space: [-0.46701175 -0.5102159  -0.7985077 ]\n",
      "Initial params in unconstrained space: [-0.10337298 -0.5102159  -0.7985077 ]\n"
     ]
    },
    {
     "name": "stderr",
     "output_type": "stream",
     "text": [
      "Gibbs Sampling:  12%|█▏        | 185/1500 [2:13:43<15:32:39, 42.56s/it, Sample=185, Status=Complete]"
     ]
    },
    {
     "name": "stdout",
     "output_type": "stream",
     "text": [
      "Reached max iterations with fractional norm error 0.11325810925755085.\n",
      "Initial params in unconstrained space: [-0.46701175 -0.5102159  -0.7985077 ]\n",
      "Initial params in unconstrained space: [-0.10337298 -0.5102159  -0.7985077 ]\n"
     ]
    },
    {
     "name": "stderr",
     "output_type": "stream",
     "text": [
      "Gibbs Sampling:  12%|█▏        | 186/1500 [2:14:25<15:28:34, 42.40s/it, Sample=186, Status=Complete]"
     ]
    },
    {
     "name": "stdout",
     "output_type": "stream",
     "text": [
      "Reached max iterations with fractional norm error 2.7098118944897065.\n",
      "Initial params in unconstrained space: [-0.46701175 -0.5102159  -0.7985077 ]\n",
      "Initial params in unconstrained space: [-0.10337298 -0.5102159  -0.7985077 ]\n"
     ]
    },
    {
     "name": "stderr",
     "output_type": "stream",
     "text": [
      "Gibbs Sampling:  12%|█▏        | 187/1500 [2:15:10<15:46:23, 43.25s/it, Sample=187, Status=Complete]"
     ]
    },
    {
     "name": "stdout",
     "output_type": "stream",
     "text": [
      "Reached max iterations with fractional norm error 1.538067175940685.\n",
      "Initial params in unconstrained space: [-0.46701175 -0.5102159  -0.7985077 ]\n",
      "Initial params in unconstrained space: [-0.10337298 -0.5102159  -0.7985077 ]\n"
     ]
    },
    {
     "name": "stderr",
     "output_type": "stream",
     "text": [
      "Gibbs Sampling:  13%|█▎        | 188/1500 [2:15:51<15:32:39, 42.65s/it, Sample=188, Status=Complete]"
     ]
    },
    {
     "name": "stdout",
     "output_type": "stream",
     "text": [
      "Reached max iterations with fractional norm error 19.686599827442652.\n",
      "Initial params in unconstrained space: [-0.46701175 -0.5102159  -0.7985077 ]\n",
      "Initial params in unconstrained space: [-0.10337298 -0.5102159  -0.7985077 ]\n"
     ]
    },
    {
     "name": "stderr",
     "output_type": "stream",
     "text": [
      "Gibbs Sampling:  13%|█▎        | 189/1500 [2:16:34<15:30:59, 42.61s/it, Sample=189, Status=Complete]"
     ]
    },
    {
     "name": "stdout",
     "output_type": "stream",
     "text": [
      "Reached max iterations with fractional norm error 0.1398512060836488.\n",
      "Initial params in unconstrained space: [-0.46701175 -0.5102159  -0.7985077 ]\n",
      "Initial params in unconstrained space: [-0.10337298 -0.5102159  -0.7985077 ]\n"
     ]
    },
    {
     "name": "stderr",
     "output_type": "stream",
     "text": [
      "Gibbs Sampling:  13%|█▎        | 190/1500 [2:17:20<15:53:08, 43.66s/it, Sample=190, Status=Complete]"
     ]
    },
    {
     "name": "stdout",
     "output_type": "stream",
     "text": [
      "Reached max iterations with fractional norm error 1.6565844478272957.\n",
      "Initial params in unconstrained space: [-0.46701175 -0.5102159  -0.7985077 ]\n",
      "Initial params in unconstrained space: [-0.10337298 -0.5102159  -0.7985077 ]\n",
      "Reached max iterations with fractional norm error 0.9979723167447122.\n"
     ]
    },
    {
     "name": "stderr",
     "output_type": "stream",
     "text": [
      "Gibbs Sampling:  13%|█▎        | 191/1500 [2:18:01<15:38:38, 43.02s/it, Sample=191, Status=Complete]"
     ]
    },
    {
     "name": "stdout",
     "output_type": "stream",
     "text": [
      "Initial params in unconstrained space: [-0.46701175 -0.5102159  -0.7985077 ]\n",
      "Initial params in unconstrained space: [-0.10337298 -0.5102159  -0.7985077 ]\n",
      "Reached max iterations with fractional norm error 0.7296461952297706.\n"
     ]
    },
    {
     "name": "stderr",
     "output_type": "stream",
     "text": [
      "Gibbs Sampling:  13%|█▎        | 192/1500 [2:18:42<15:25:02, 42.43s/it, Sample=192, Status=Complete]"
     ]
    },
    {
     "name": "stdout",
     "output_type": "stream",
     "text": [
      "Initial params in unconstrained space: [-0.46701175 -0.5102159  -0.7985077 ]\n",
      "Initial params in unconstrained space: [-0.10337298 -0.5102159  -0.7985077 ]\n"
     ]
    },
    {
     "name": "stderr",
     "output_type": "stream",
     "text": [
      "Gibbs Sampling:  13%|█▎        | 193/1500 [2:19:28<15:45:52, 43.42s/it, Sample=193, Status=Complete]"
     ]
    },
    {
     "name": "stdout",
     "output_type": "stream",
     "text": [
      "Reached max iterations with fractional norm error 2.2197270630002532.\n",
      "Initial params in unconstrained space: [-0.46701175 -0.5102159  -0.7985077 ]\n",
      "Initial params in unconstrained space: [-0.10337298 -0.5102159  -0.7985077 ]\n"
     ]
    },
    {
     "name": "stderr",
     "output_type": "stream",
     "text": [
      "Gibbs Sampling:  13%|█▎        | 194/1500 [2:20:09<15:26:48, 42.58s/it, Sample=194, Status=Complete]"
     ]
    },
    {
     "name": "stdout",
     "output_type": "stream",
     "text": [
      "Reached max iterations with fractional norm error 0.4908558370708288.\n",
      "Initial params in unconstrained space: [-0.46701175 -0.5102159  -0.7985077 ]\n",
      "Initial params in unconstrained space: [-0.10337298 -0.5102159  -0.7985077 ]\n",
      "Reached max iterations with fractional norm error 0.6553801584457799.\n"
     ]
    },
    {
     "name": "stderr",
     "output_type": "stream",
     "text": [
      "Gibbs Sampling:  13%|█▎        | 195/1500 [2:20:51<15:25:57, 42.57s/it, Sample=195, Status=Complete]"
     ]
    },
    {
     "name": "stdout",
     "output_type": "stream",
     "text": [
      "Initial params in unconstrained space: [-0.46701175 -0.5102159  -0.7985077 ]\n",
      "Initial params in unconstrained space: [-0.10337298 -0.5102159  -0.7985077 ]\n",
      "Reached max iterations with fractional norm error 1.5769143515043116.\n"
     ]
    },
    {
     "name": "stderr",
     "output_type": "stream",
     "text": [
      "Gibbs Sampling:  13%|█▎        | 196/1500 [2:21:37<15:44:48, 43.47s/it, Sample=196, Status=Complete]"
     ]
    },
    {
     "name": "stdout",
     "output_type": "stream",
     "text": [
      "Initial params in unconstrained space: [-0.46701175 -0.5102159  -0.7985077 ]\n",
      "Initial params in unconstrained space: [-0.10337298 -0.5102159  -0.7985077 ]\n",
      "Reached max iterations with fractional norm error 303006.9403350982.\n"
     ]
    },
    {
     "name": "stderr",
     "output_type": "stream",
     "text": [
      "Gibbs Sampling:  13%|█▎        | 197/1500 [2:22:20<15:39:05, 43.24s/it, Sample=197, Status=Complete]"
     ]
    },
    {
     "name": "stdout",
     "output_type": "stream",
     "text": [
      "Initial params in unconstrained space: [-0.46701175 -0.5102159  -0.7985077 ]\n",
      "Initial params in unconstrained space: [-0.10337298 -0.5102159  -0.7985077 ]\n"
     ]
    },
    {
     "name": "stderr",
     "output_type": "stream",
     "text": [
      "Gibbs Sampling:  13%|█▎        | 198/1500 [2:23:05<15:54:11, 43.97s/it, Sample=198, Status=Complete]"
     ]
    },
    {
     "name": "stdout",
     "output_type": "stream",
     "text": [
      "Reached max iterations with fractional norm error 0.9925352347695426.\n",
      "Initial params in unconstrained space: [-0.46701175 -0.5102159  -0.7985077 ]\n",
      "Initial params in unconstrained space: [-0.10337298 -0.5102159  -0.7985077 ]\n"
     ]
    },
    {
     "name": "stderr",
     "output_type": "stream",
     "text": [
      "Gibbs Sampling:  13%|█▎        | 199/1500 [2:23:50<15:58:44, 44.22s/it, Sample=199, Status=Complete]"
     ]
    },
    {
     "name": "stdout",
     "output_type": "stream",
     "text": [
      "Reached max iterations with fractional norm error 1.0520523871980318.\n",
      "Initial params in unconstrained space: [-0.46701175 -0.5102159  -0.7985077 ]\n",
      "Initial params in unconstrained space: [-0.10337298 -0.5102159  -0.7985077 ]\n"
     ]
    },
    {
     "name": "stderr",
     "output_type": "stream",
     "text": [
      "Gibbs Sampling:  13%|█▎        | 200/1500 [2:24:32<15:39:58, 43.38s/it, Sample=200, Status=Complete]"
     ]
    },
    {
     "name": "stdout",
     "output_type": "stream",
     "text": [
      "Reached max iterations with fractional norm error 1.1550233144607258.\n",
      "Initial params in unconstrained space: [-0.46701175 -0.5102159  -0.7985077 ]\n",
      "Initial params in unconstrained space: [-0.10337298 -0.5102159  -0.7985077 ]\n"
     ]
    },
    {
     "name": "stderr",
     "output_type": "stream",
     "text": [
      "Gibbs Sampling:  13%|█▎        | 201/1500 [2:25:16<15:45:28, 43.67s/it, Sample=201, Status=Complete]"
     ]
    },
    {
     "name": "stdout",
     "output_type": "stream",
     "text": [
      "Reached max iterations with fractional norm error 0.9663597332066721.\n",
      "Initial params in unconstrained space: [-0.46701175 -0.5102159  -0.7985077 ]\n",
      "Initial params in unconstrained space: [-0.10337298 -0.5102159  -0.7985077 ]\n"
     ]
    },
    {
     "name": "stderr",
     "output_type": "stream",
     "text": [
      "Gibbs Sampling:  13%|█▎        | 202/1500 [2:26:00<15:50:11, 43.92s/it, Sample=202, Status=Complete]"
     ]
    },
    {
     "name": "stdout",
     "output_type": "stream",
     "text": [
      "Reached max iterations with fractional norm error 2.065549341954783.\n",
      "Initial params in unconstrained space: [-0.46701175 -0.5102159  -0.7985077 ]\n",
      "Initial params in unconstrained space: [-0.10337298 -0.5102159  -0.7985077 ]\n",
      "Reached max iterations with fractional norm error 0.9539015446776453.\n"
     ]
    },
    {
     "name": "stderr",
     "output_type": "stream",
     "text": [
      "Gibbs Sampling:  14%|█▎        | 203/1500 [2:26:44<15:46:46, 43.80s/it, Sample=203, Status=Complete]"
     ]
    },
    {
     "name": "stdout",
     "output_type": "stream",
     "text": [
      "Initial params in unconstrained space: [-0.46701175 -0.5102159  -0.7985077 ]\n",
      "Initial params in unconstrained space: [-0.10337298 -0.5102159  -0.7985077 ]\n"
     ]
    },
    {
     "name": "stderr",
     "output_type": "stream",
     "text": [
      "Gibbs Sampling:  14%|█▎        | 204/1500 [2:27:32<16:11:34, 44.98s/it, Sample=204, Status=Complete]"
     ]
    },
    {
     "name": "stdout",
     "output_type": "stream",
     "text": [
      "Reached max iterations with fractional norm error 1798.1390343416786.\n",
      "Initial params in unconstrained space: [-0.46701175 -0.5102159  -0.7985077 ]\n",
      "Initial params in unconstrained space: [-0.10337298 -0.5102159  -0.7985077 ]\n"
     ]
    },
    {
     "name": "stderr",
     "output_type": "stream",
     "text": [
      "Gibbs Sampling:  14%|█▎        | 205/1500 [2:28:17<16:11:41, 45.02s/it, Sample=205, Status=Complete]"
     ]
    },
    {
     "name": "stdout",
     "output_type": "stream",
     "text": [
      "Reached max iterations with fractional norm error 0.8830595296629944.\n",
      "Initial params in unconstrained space: [-0.46701175 -0.5102159  -0.7985077 ]\n",
      "Initial params in unconstrained space: [-0.10337298 -0.5102159  -0.7985077 ]\n"
     ]
    },
    {
     "name": "stderr",
     "output_type": "stream",
     "text": [
      "Gibbs Sampling:  14%|█▎        | 206/1500 [2:29:01<16:04:12, 44.71s/it, Sample=206, Status=Complete]"
     ]
    },
    {
     "name": "stdout",
     "output_type": "stream",
     "text": [
      "Reached max iterations with fractional norm error 0.9800894671308388.\n",
      "Initial params in unconstrained space: [-0.46701175 -0.5102159  -0.7985077 ]\n",
      "Initial params in unconstrained space: [-0.10337298 -0.5102159  -0.7985077 ]\n"
     ]
    },
    {
     "name": "stderr",
     "output_type": "stream",
     "text": [
      "Gibbs Sampling:  14%|█▍        | 207/1500 [2:29:48<16:20:10, 45.48s/it, Sample=207, Status=Complete]"
     ]
    },
    {
     "name": "stdout",
     "output_type": "stream",
     "text": [
      "Reached max iterations with fractional norm error 0.8971599195086063.\n",
      "Initial params in unconstrained space: [-0.46701175 -0.5102159  -0.7985077 ]\n",
      "Initial params in unconstrained space: [-0.10337298 -0.5102159  -0.7985077 ]\n"
     ]
    },
    {
     "name": "stderr",
     "output_type": "stream",
     "text": [
      "Gibbs Sampling:  14%|█▍        | 208/1500 [2:30:29<15:51:10, 44.17s/it, Sample=208, Status=Complete]"
     ]
    },
    {
     "name": "stdout",
     "output_type": "stream",
     "text": [
      "Reached max iterations with fractional norm error 0.6811906206052225.\n",
      "Initial params in unconstrained space: [-0.46701175 -0.5102159  -0.7985077 ]\n",
      "Initial params in unconstrained space: [-0.10337298 -0.5102159  -0.7985077 ]\n"
     ]
    },
    {
     "name": "stderr",
     "output_type": "stream",
     "text": [
      "Gibbs Sampling:  14%|█▍        | 209/1500 [2:31:12<15:44:09, 43.88s/it, Sample=209, Status=Complete]"
     ]
    },
    {
     "name": "stdout",
     "output_type": "stream",
     "text": [
      "Reached max iterations with fractional norm error 0.6006437374371194.\n",
      "Initial params in unconstrained space: [-0.46701175 -0.5102159  -0.7985077 ]\n",
      "Initial params in unconstrained space: [-0.10337298 -0.5102159  -0.7985077 ]\n"
     ]
    },
    {
     "name": "stderr",
     "output_type": "stream",
     "text": [
      "Gibbs Sampling:  14%|█▍        | 210/1500 [2:31:59<15:59:43, 44.64s/it, Sample=210, Status=Complete]"
     ]
    },
    {
     "name": "stdout",
     "output_type": "stream",
     "text": [
      "Reached max iterations with fractional norm error 1.0020645937744035.\n",
      "Initial params in unconstrained space: [-0.46701175 -0.5102159  -0.7985077 ]\n",
      "Initial params in unconstrained space: [-0.10337298 -0.5102159  -0.7985077 ]\n"
     ]
    },
    {
     "name": "stderr",
     "output_type": "stream",
     "text": [
      "Gibbs Sampling:  14%|█▍        | 211/1500 [2:32:40<15:36:41, 43.60s/it, Sample=211, Status=Complete]"
     ]
    },
    {
     "name": "stdout",
     "output_type": "stream",
     "text": [
      "Reached max iterations with fractional norm error 0.9285120797542542.\n",
      "Initial params in unconstrained space: [-0.46701175 -0.5102159  -0.7985077 ]\n",
      "Initial params in unconstrained space: [-0.10337298 -0.5102159  -0.7985077 ]\n",
      "Reached max iterations with fractional norm error 2.3976117262440755.\n"
     ]
    },
    {
     "name": "stderr",
     "output_type": "stream",
     "text": [
      "Gibbs Sampling:  14%|█▍        | 212/1500 [2:33:25<15:48:10, 44.17s/it, Sample=212, Status=Complete]"
     ]
    },
    {
     "name": "stdout",
     "output_type": "stream",
     "text": [
      "Initial params in unconstrained space: [-0.46701175 -0.5102159  -0.7985077 ]\n",
      "Initial params in unconstrained space: [-0.10337298 -0.5102159  -0.7985077 ]\n"
     ]
    },
    {
     "name": "stderr",
     "output_type": "stream",
     "text": [
      "Gibbs Sampling:  14%|█▍        | 213/1500 [2:34:11<15:57:34, 44.64s/it, Sample=213, Status=Complete]"
     ]
    },
    {
     "name": "stdout",
     "output_type": "stream",
     "text": [
      "Reached max iterations with fractional norm error 0.9921910036840317.\n",
      "Initial params in unconstrained space: [-0.46701175 -0.5102159  -0.7985077 ]\n",
      "Initial params in unconstrained space: [-0.10337298 -0.5102159  -0.7985077 ]\n"
     ]
    },
    {
     "name": "stderr",
     "output_type": "stream",
     "text": [
      "Gibbs Sampling:  14%|█▍        | 214/1500 [2:34:53<15:36:36, 43.70s/it, Sample=214, Status=Complete]"
     ]
    },
    {
     "name": "stdout",
     "output_type": "stream",
     "text": [
      "Reached max iterations with fractional norm error 2.0360709011995124.\n",
      "Initial params in unconstrained space: [-0.46701175 -0.5102159  -0.7985077 ]\n",
      "Initial params in unconstrained space: [-0.10337298 -0.5102159  -0.7985077 ]\n",
      "Reached max iterations with fractional norm error 0.9968434048666335.\n"
     ]
    },
    {
     "name": "stderr",
     "output_type": "stream",
     "text": [
      "Gibbs Sampling:  14%|█▍        | 215/1500 [2:35:41<16:04:15, 45.02s/it, Sample=215, Status=Complete]"
     ]
    },
    {
     "name": "stdout",
     "output_type": "stream",
     "text": [
      "Initial params in unconstrained space: [-0.46701175 -0.5102159  -0.7985077 ]\n",
      "Initial params in unconstrained space: [-0.10337298 -0.5102159  -0.7985077 ]\n"
     ]
    },
    {
     "name": "stderr",
     "output_type": "stream",
     "text": [
      "Gibbs Sampling:  14%|█▍        | 216/1500 [2:36:25<15:57:03, 44.72s/it, Sample=216, Status=Complete]"
     ]
    },
    {
     "name": "stdout",
     "output_type": "stream",
     "text": [
      "Reached max iterations with fractional norm error 0.6045089718939849.\n",
      "Initial params in unconstrained space: [-0.46701175 -0.5102159  -0.7985077 ]\n",
      "Initial params in unconstrained space: [-0.10337298 -0.5102159  -0.7985077 ]\n",
      "Reached max iterations with fractional norm error 2.0782795909095797.\n"
     ]
    },
    {
     "name": "stderr",
     "output_type": "stream",
     "text": [
      "Gibbs Sampling:  14%|█▍        | 217/1500 [2:37:07<15:37:39, 43.85s/it, Sample=217, Status=Complete]"
     ]
    },
    {
     "name": "stdout",
     "output_type": "stream",
     "text": [
      "Initial params in unconstrained space: [-0.46701175 -0.5102159  -0.7985077 ]\n",
      "Initial params in unconstrained space: [-0.10337298 -0.5102159  -0.7985077 ]\n",
      "Reached max iterations with fractional norm error 37.75123980375044.\n"
     ]
    },
    {
     "name": "stderr",
     "output_type": "stream",
     "text": [
      "Gibbs Sampling:  15%|█▍        | 218/1500 [2:37:54<15:59:42, 44.92s/it, Sample=218, Status=Complete]"
     ]
    },
    {
     "name": "stdout",
     "output_type": "stream",
     "text": [
      "Initial params in unconstrained space: [-0.46701175 -0.5102159  -0.7985077 ]\n",
      "Initial params in unconstrained space: [-0.10337298 -0.5102159  -0.7985077 ]\n"
     ]
    },
    {
     "name": "stderr",
     "output_type": "stream",
     "text": [
      "Gibbs Sampling:  15%|█▍        | 219/1500 [2:38:35<15:33:37, 43.73s/it, Sample=219, Status=Complete]"
     ]
    },
    {
     "name": "stdout",
     "output_type": "stream",
     "text": [
      "Reached max iterations with fractional norm error 0.9659982012041035.\n",
      "Initial params in unconstrained space: [-0.46701175 -0.5102159  -0.7985077 ]\n",
      "Initial params in unconstrained space: [-0.10337298 -0.5102159  -0.7985077 ]\n"
     ]
    },
    {
     "name": "stderr",
     "output_type": "stream",
     "text": [
      "Gibbs Sampling:  15%|█▍        | 220/1500 [2:39:18<15:26:40, 43.44s/it, Sample=220, Status=Complete]"
     ]
    },
    {
     "name": "stdout",
     "output_type": "stream",
     "text": [
      "Reached max iterations with fractional norm error 0.6705737924263064.\n",
      "Initial params in unconstrained space: [-0.46701175 -0.5102159  -0.7985077 ]\n",
      "Initial params in unconstrained space: [-0.10337298 -0.5102159  -0.7985077 ]\n"
     ]
    },
    {
     "name": "stderr",
     "output_type": "stream",
     "text": [
      "Gibbs Sampling:  15%|█▍        | 221/1500 [2:40:04<15:41:07, 44.15s/it, Sample=221, Status=Complete]"
     ]
    },
    {
     "name": "stdout",
     "output_type": "stream",
     "text": [
      "Reached max iterations with fractional norm error 1.0291967431777738.\n",
      "Initial params in unconstrained space: [-0.46701175 -0.5102159  -0.7985077 ]\n",
      "Initial params in unconstrained space: [-0.10337298 -0.5102159  -0.7985077 ]\n"
     ]
    },
    {
     "name": "stderr",
     "output_type": "stream",
     "text": [
      "Gibbs Sampling:  15%|█▍        | 222/1500 [2:40:44<15:15:30, 42.98s/it, Sample=222, Status=Complete]"
     ]
    },
    {
     "name": "stdout",
     "output_type": "stream",
     "text": [
      "Reached max iterations with fractional norm error 19.283084632343414.\n",
      "Initial params in unconstrained space: [-0.46701175 -0.5102159  -0.7985077 ]\n",
      "Initial params in unconstrained space: [-0.10337298 -0.5102159  -0.7985077 ]\n"
     ]
    },
    {
     "name": "stderr",
     "output_type": "stream",
     "text": [
      "Gibbs Sampling:  15%|█▍        | 223/1500 [2:41:26<15:07:15, 42.63s/it, Sample=223, Status=Complete]"
     ]
    },
    {
     "name": "stdout",
     "output_type": "stream",
     "text": [
      "Reached max iterations with fractional norm error 0.6148972190454806.\n",
      "Initial params in unconstrained space: [-0.46701175 -0.5102159  -0.7985077 ]\n",
      "Initial params in unconstrained space: [-0.10337298 -0.5102159  -0.7985077 ]\n"
     ]
    },
    {
     "name": "stderr",
     "output_type": "stream",
     "text": [
      "Gibbs Sampling:  15%|█▍        | 224/1500 [2:42:11<15:27:07, 43.59s/it, Sample=224, Status=Complete]"
     ]
    },
    {
     "name": "stdout",
     "output_type": "stream",
     "text": [
      "Reached max iterations with fractional norm error 0.9385076575234035.\n",
      "Initial params in unconstrained space: [-0.46701175 -0.5102159  -0.7985077 ]\n",
      "Initial params in unconstrained space: [-0.10337298 -0.5102159  -0.7985077 ]\n"
     ]
    },
    {
     "name": "stderr",
     "output_type": "stream",
     "text": [
      "Gibbs Sampling:  15%|█▌        | 225/1500 [2:42:53<15:13:38, 42.99s/it, Sample=225, Status=Complete]"
     ]
    },
    {
     "name": "stdout",
     "output_type": "stream",
     "text": [
      "Reached max iterations with fractional norm error 1.7086708014526792.\n",
      "Initial params in unconstrained space: [-0.46701175 -0.5102159  -0.7985077 ]\n",
      "Initial params in unconstrained space: [-0.10337298 -0.5102159  -0.7985077 ]\n"
     ]
    },
    {
     "name": "stderr",
     "output_type": "stream",
     "text": [
      "Gibbs Sampling:  15%|█▌        | 226/1500 [2:43:36<15:09:22, 42.83s/it, Sample=226, Status=Complete]"
     ]
    },
    {
     "name": "stdout",
     "output_type": "stream",
     "text": [
      "Reached max iterations with fractional norm error 0.9858982234953787.\n",
      "Initial params in unconstrained space: [-0.46701175 -0.5102159  -0.7985077 ]\n",
      "Initial params in unconstrained space: [-0.10337298 -0.5102159  -0.7985077 ]\n"
     ]
    },
    {
     "name": "stderr",
     "output_type": "stream",
     "text": [
      "Gibbs Sampling:  15%|█▌        | 227/1500 [2:44:21<15:23:01, 43.51s/it, Sample=227, Status=Complete]"
     ]
    },
    {
     "name": "stdout",
     "output_type": "stream",
     "text": [
      "Reached max iterations with fractional norm error 0.35229125547107387.\n",
      "Initial params in unconstrained space: [-0.46701175 -0.5102159  -0.7985077 ]\n",
      "Initial params in unconstrained space: [-0.10337298 -0.5102159  -0.7985077 ]\n"
     ]
    },
    {
     "name": "stderr",
     "output_type": "stream",
     "text": [
      "Gibbs Sampling:  15%|█▌        | 228/1500 [2:45:03<15:12:39, 43.05s/it, Sample=228, Status=Complete]"
     ]
    },
    {
     "name": "stdout",
     "output_type": "stream",
     "text": [
      "Reached max iterations with fractional norm error 0.32519896623379907.\n",
      "Initial params in unconstrained space: [-0.46701175 -0.5102159  -0.7985077 ]\n",
      "Initial params in unconstrained space: [-0.10337298 -0.5102159  -0.7985077 ]\n"
     ]
    },
    {
     "name": "stderr",
     "output_type": "stream",
     "text": [
      "Gibbs Sampling:  15%|█▌        | 229/1500 [2:45:48<15:26:27, 43.74s/it, Sample=229, Status=Complete]"
     ]
    },
    {
     "name": "stdout",
     "output_type": "stream",
     "text": [
      "Reached max iterations with fractional norm error 0.11084668807165424.\n",
      "Initial params in unconstrained space: [-0.46701175 -0.5102159  -0.7985077 ]\n",
      "Initial params in unconstrained space: [-0.10337298 -0.5102159  -0.7985077 ]\n"
     ]
    },
    {
     "name": "stderr",
     "output_type": "stream",
     "text": [
      "Gibbs Sampling:  15%|█▌        | 230/1500 [2:46:31<15:20:52, 43.51s/it, Sample=230, Status=Complete]"
     ]
    },
    {
     "name": "stdout",
     "output_type": "stream",
     "text": [
      "Reached max iterations with fractional norm error 0.3813262490773251.\n",
      "Initial params in unconstrained space: [-0.46701175 -0.5102159  -0.7985077 ]\n",
      "Initial params in unconstrained space: [-0.10337298 -0.5102159  -0.7985077 ]\n"
     ]
    },
    {
     "name": "stderr",
     "output_type": "stream",
     "text": [
      "Gibbs Sampling:  15%|█▌        | 231/1500 [2:47:12<15:04:06, 42.75s/it, Sample=231, Status=Complete]"
     ]
    },
    {
     "name": "stdout",
     "output_type": "stream",
     "text": [
      "Reached max iterations with fractional norm error 0.697552265518936.\n",
      "Initial params in unconstrained space: [-0.46701175 -0.5102159  -0.7985077 ]\n",
      "Initial params in unconstrained space: [-0.10337298 -0.5102159  -0.7985077 ]\n"
     ]
    },
    {
     "name": "stderr",
     "output_type": "stream",
     "text": [
      "Gibbs Sampling:  15%|█▌        | 232/1500 [2:47:58<15:24:20, 43.74s/it, Sample=232, Status=Complete]"
     ]
    },
    {
     "name": "stdout",
     "output_type": "stream",
     "text": [
      "Reached max iterations with fractional norm error 0.7941466861948373.\n",
      "Initial params in unconstrained space: [-0.46701175 -0.5102159  -0.7985077 ]\n",
      "Initial params in unconstrained space: [-0.10337298 -0.5102159  -0.7985077 ]\n"
     ]
    },
    {
     "name": "stderr",
     "output_type": "stream",
     "text": [
      "Gibbs Sampling:  16%|█▌        | 233/1500 [2:48:41<15:22:33, 43.69s/it, Sample=233, Status=Complete]"
     ]
    },
    {
     "name": "stdout",
     "output_type": "stream",
     "text": [
      "Reached max iterations with fractional norm error 55.30764698772954.\n",
      "Initial params in unconstrained space: [-0.46701175 -0.5102159  -0.7985077 ]\n",
      "Initial params in unconstrained space: [-0.10337298 -0.5102159  -0.7985077 ]\n"
     ]
    },
    {
     "name": "stderr",
     "output_type": "stream",
     "text": [
      "Gibbs Sampling:  16%|█▌        | 234/1500 [2:49:23<15:05:10, 42.90s/it, Sample=234, Status=Complete]"
     ]
    },
    {
     "name": "stdout",
     "output_type": "stream",
     "text": [
      "Reached max iterations with fractional norm error 0.126204392185762.\n",
      "Initial params in unconstrained space: [-0.46701175 -0.5102159  -0.7985077 ]\n",
      "Initial params in unconstrained space: [-0.10337298 -0.5102159  -0.7985077 ]\n"
     ]
    },
    {
     "name": "stderr",
     "output_type": "stream",
     "text": [
      "Gibbs Sampling:  16%|█▌        | 235/1500 [2:50:06<15:10:43, 43.20s/it, Sample=235, Status=Complete]"
     ]
    },
    {
     "name": "stdout",
     "output_type": "stream",
     "text": [
      "Reached max iterations with fractional norm error 0.4743004118604262.\n",
      "Initial params in unconstrained space: [-0.46701175 -0.5102159  -0.7985077 ]\n",
      "Initial params in unconstrained space: [-0.10337298 -0.5102159  -0.7985077 ]\n"
     ]
    },
    {
     "name": "stderr",
     "output_type": "stream",
     "text": [
      "Gibbs Sampling:  16%|█▌        | 236/1500 [2:50:50<15:09:29, 43.17s/it, Sample=236, Status=Complete]"
     ]
    },
    {
     "name": "stdout",
     "output_type": "stream",
     "text": [
      "Reached max iterations with fractional norm error 0.9948226006178185.\n",
      "Initial params in unconstrained space: [-0.46701175 -0.5102159  -0.7985077 ]\n",
      "Initial params in unconstrained space: [-0.10337298 -0.5102159  -0.7985077 ]\n"
     ]
    },
    {
     "name": "stderr",
     "output_type": "stream",
     "text": [
      "Gibbs Sampling:  16%|█▌        | 237/1500 [2:51:31<14:58:08, 42.67s/it, Sample=237, Status=Complete]"
     ]
    },
    {
     "name": "stdout",
     "output_type": "stream",
     "text": [
      "Reached max iterations with fractional norm error 0.687253079835122.\n",
      "Initial params in unconstrained space: [-0.46701175 -0.5102159  -0.7985077 ]\n",
      "Initial params in unconstrained space: [-0.10337298 -0.5102159  -0.7985077 ]\n"
     ]
    },
    {
     "name": "stderr",
     "output_type": "stream",
     "text": [
      "Gibbs Sampling:  16%|█▌        | 238/1500 [2:52:21<15:46:03, 44.98s/it, Sample=238, Status=Complete]"
     ]
    },
    {
     "name": "stdout",
     "output_type": "stream",
     "text": [
      "Reached max iterations with fractional norm error 0.5955275751162932.\n",
      "Initial params in unconstrained space: [-0.46701175 -0.5102159  -0.7985077 ]\n",
      "Initial params in unconstrained space: [-0.10337298 -0.5102159  -0.7985077 ]\n"
     ]
    },
    {
     "name": "stderr",
     "output_type": "stream",
     "text": [
      "Gibbs Sampling:  16%|█▌        | 239/1500 [2:53:03<15:26:00, 44.06s/it, Sample=239, Status=Complete]"
     ]
    },
    {
     "name": "stdout",
     "output_type": "stream",
     "text": [
      "Reached max iterations with fractional norm error 0.9999291010786632.\n",
      "Initial params in unconstrained space: [-0.46701175 -0.5102159  -0.7985077 ]\n",
      "Initial params in unconstrained space: [-0.10337298 -0.5102159  -0.7985077 ]\n",
      "Reached max iterations with fractional norm error 1.5360748166755762.\n"
     ]
    },
    {
     "name": "stderr",
     "output_type": "stream",
     "text": [
      "Gibbs Sampling:  16%|█▌        | 240/1500 [2:53:46<15:17:01, 43.67s/it, Sample=240, Status=Complete]"
     ]
    },
    {
     "name": "stdout",
     "output_type": "stream",
     "text": [
      "Initial params in unconstrained space: [-0.46701175 -0.5102159  -0.7985077 ]\n",
      "Initial params in unconstrained space: [-0.10337298 -0.5102159  -0.7985077 ]\n"
     ]
    },
    {
     "name": "stderr",
     "output_type": "stream",
     "text": [
      "Gibbs Sampling:  16%|█▌        | 241/1500 [2:54:33<15:36:30, 44.63s/it, Sample=241, Status=Complete]"
     ]
    },
    {
     "name": "stdout",
     "output_type": "stream",
     "text": [
      "Reached max iterations with fractional norm error 0.3865374812506098.\n",
      "Initial params in unconstrained space: [-0.46701175 -0.5102159  -0.7985077 ]\n",
      "Initial params in unconstrained space: [-0.10337298 -0.5102159  -0.7985077 ]\n",
      "Reached max iterations with fractional norm error 2.3712429830403536.\n"
     ]
    },
    {
     "name": "stderr",
     "output_type": "stream",
     "text": [
      "Gibbs Sampling:  16%|█▌        | 242/1500 [2:55:16<15:27:48, 44.25s/it, Sample=242, Status=Complete]"
     ]
    },
    {
     "name": "stdout",
     "output_type": "stream",
     "text": [
      "Initial params in unconstrained space: [-0.46701175 -0.5102159  -0.7985077 ]\n",
      "Initial params in unconstrained space: [-0.10337298 -0.5102159  -0.7985077 ]\n"
     ]
    },
    {
     "name": "stderr",
     "output_type": "stream",
     "text": [
      "Gibbs Sampling:  16%|█▌        | 243/1500 [2:56:03<15:40:30, 44.89s/it, Sample=243, Status=Complete]"
     ]
    },
    {
     "name": "stdout",
     "output_type": "stream",
     "text": [
      "Reached max iterations with fractional norm error 0.1845727737194077.\n",
      "Initial params in unconstrained space: [-0.46701175 -0.5102159  -0.7985077 ]\n",
      "Initial params in unconstrained space: [-0.10337298 -0.5102159  -0.7985077 ]\n"
     ]
    },
    {
     "name": "stderr",
     "output_type": "stream",
     "text": [
      "Gibbs Sampling:  16%|█▋        | 244/1500 [2:56:50<15:53:12, 45.54s/it, Sample=244, Status=Complete]"
     ]
    },
    {
     "name": "stdout",
     "output_type": "stream",
     "text": [
      "Reached max iterations with fractional norm error 0.6523458015221915.\n",
      "Initial params in unconstrained space: [-0.46701175 -0.5102159  -0.7985077 ]\n",
      "Initial params in unconstrained space: [-0.10337298 -0.5102159  -0.7985077 ]\n"
     ]
    },
    {
     "name": "stderr",
     "output_type": "stream",
     "text": [
      "Gibbs Sampling:  16%|█▋        | 245/1500 [2:57:30<15:20:17, 44.00s/it, Sample=245, Status=Complete]"
     ]
    },
    {
     "name": "stdout",
     "output_type": "stream",
     "text": [
      "Reached max iterations with fractional norm error 2.9439880752600445.\n",
      "Initial params in unconstrained space: [-0.46701175 -0.5102159  -0.7985077 ]\n",
      "Initial params in unconstrained space: [-0.10337298 -0.5102159  -0.7985077 ]\n"
     ]
    },
    {
     "name": "stderr",
     "output_type": "stream",
     "text": [
      "Gibbs Sampling:  16%|█▋        | 246/1500 [2:58:14<15:16:14, 43.84s/it, Sample=246, Status=Complete]"
     ]
    },
    {
     "name": "stdout",
     "output_type": "stream",
     "text": [
      "Reached max iterations with fractional norm error 0.965226848007186.\n",
      "Initial params in unconstrained space: [-0.46701175 -0.5102159  -0.7985077 ]\n",
      "Initial params in unconstrained space: [-0.10337298 -0.5102159  -0.7985077 ]\n"
     ]
    },
    {
     "name": "stderr",
     "output_type": "stream",
     "text": [
      "Gibbs Sampling:  16%|█▋        | 247/1500 [2:58:58<15:20:48, 44.09s/it, Sample=247, Status=Complete]"
     ]
    },
    {
     "name": "stdout",
     "output_type": "stream",
     "text": [
      "Reached max iterations with fractional norm error 0.3732491494321975.\n",
      "Initial params in unconstrained space: [-0.46701175 -0.5102159  -0.7985077 ]\n",
      "Initial params in unconstrained space: [-0.10337298 -0.5102159  -0.7985077 ]\n"
     ]
    },
    {
     "name": "stderr",
     "output_type": "stream",
     "text": [
      "Gibbs Sampling:  17%|█▋        | 248/1500 [2:59:42<15:15:58, 43.90s/it, Sample=248, Status=Complete]"
     ]
    },
    {
     "name": "stdout",
     "output_type": "stream",
     "text": [
      "Reached max iterations with fractional norm error 1.0009886025339967.\n",
      "Initial params in unconstrained space: [-0.46701175 -0.5102159  -0.7985077 ]\n",
      "Initial params in unconstrained space: [-0.10337298 -0.5102159  -0.7985077 ]\n",
      "Reached max iterations with fractional norm error 0.8156121518456902.\n"
     ]
    },
    {
     "name": "stderr",
     "output_type": "stream",
     "text": [
      "Gibbs Sampling:  17%|█▋        | 249/1500 [3:00:30<15:40:57, 45.13s/it, Sample=249, Status=Complete]"
     ]
    },
    {
     "name": "stdout",
     "output_type": "stream",
     "text": [
      "Initial params in unconstrained space: [-0.46701175 -0.5102159  -0.7985077 ]\n",
      "Initial params in unconstrained space: [-0.10337298 -0.5102159  -0.7985077 ]\n"
     ]
    },
    {
     "name": "stderr",
     "output_type": "stream",
     "text": [
      "Gibbs Sampling:  17%|█▋        | 250/1500 [3:01:12<15:20:15, 44.17s/it, Sample=250, Status=Complete]"
     ]
    },
    {
     "name": "stdout",
     "output_type": "stream",
     "text": [
      "Reached max iterations with fractional norm error 0.3154626565351567.\n",
      "Initial params in unconstrained space: [-0.46701175 -0.5102159  -0.7985077 ]\n",
      "Initial params in unconstrained space: [-0.10337298 -0.5102159  -0.7985077 ]\n",
      "Reached max iterations with fractional norm error 0.21664967120905665.\n"
     ]
    },
    {
     "name": "stderr",
     "output_type": "stream",
     "text": [
      "Gibbs Sampling:  17%|█▋        | 251/1500 [3:01:53<15:02:21, 43.35s/it, Sample=251, Status=Complete]"
     ]
    },
    {
     "name": "stdout",
     "output_type": "stream",
     "text": [
      "Initial params in unconstrained space: [-0.46701175 -0.5102159  -0.7985077 ]\n",
      "Initial params in unconstrained space: [-0.10337298 -0.5102159  -0.7985077 ]\n"
     ]
    },
    {
     "name": "stderr",
     "output_type": "stream",
     "text": [
      "Gibbs Sampling:  17%|█▋        | 252/1500 [3:02:38<15:14:11, 43.95s/it, Sample=252, Status=Complete]"
     ]
    },
    {
     "name": "stdout",
     "output_type": "stream",
     "text": [
      "Reached max iterations with fractional norm error 0.25600620605078167.\n",
      "Initial params in unconstrained space: [-0.46701175 -0.5102159  -0.7985077 ]\n",
      "Initial params in unconstrained space: [-0.10337298 -0.5102159  -0.7985077 ]\n"
     ]
    },
    {
     "name": "stderr",
     "output_type": "stream",
     "text": [
      "Gibbs Sampling:  17%|█▋        | 253/1500 [3:03:20<14:58:57, 43.25s/it, Sample=253, Status=Complete]"
     ]
    },
    {
     "name": "stdout",
     "output_type": "stream",
     "text": [
      "Reached max iterations with fractional norm error 0.8164181971680152.\n",
      "Initial params in unconstrained space: [-0.46701175 -0.5102159  -0.7985077 ]\n",
      "Initial params in unconstrained space: [-0.10337298 -0.5102159  -0.7985077 ]\n"
     ]
    },
    {
     "name": "stderr",
     "output_type": "stream",
     "text": [
      "Gibbs Sampling:  17%|█▋        | 254/1500 [3:04:02<14:51:46, 42.94s/it, Sample=254, Status=Complete]"
     ]
    },
    {
     "name": "stdout",
     "output_type": "stream",
     "text": [
      "Reached max iterations with fractional norm error 3.371696294104054.\n",
      "Initial params in unconstrained space: [-0.46701175 -0.5102159  -0.7985077 ]\n",
      "Initial params in unconstrained space: [-0.10337298 -0.5102159  -0.7985077 ]\n"
     ]
    },
    {
     "name": "stderr",
     "output_type": "stream",
     "text": [
      "Gibbs Sampling:  17%|█▋        | 255/1500 [3:04:50<15:20:27, 44.36s/it, Sample=255, Status=Complete]"
     ]
    },
    {
     "name": "stdout",
     "output_type": "stream",
     "text": [
      "Reached max iterations with fractional norm error 0.5654595761925792.\n",
      "Initial params in unconstrained space: [-0.46701175 -0.5102159  -0.7985077 ]\n",
      "Initial params in unconstrained space: [-0.10337298 -0.5102159  -0.7985077 ]\n",
      "Reached max iterations with fractional norm error 0.27668445245613904.\n"
     ]
    },
    {
     "name": "stderr",
     "output_type": "stream",
     "text": [
      "Gibbs Sampling:  17%|█▋        | 256/1500 [3:05:32<15:06:14, 43.71s/it, Sample=256, Status=Complete]"
     ]
    },
    {
     "name": "stdout",
     "output_type": "stream",
     "text": [
      "Initial params in unconstrained space: [-0.46701175 -0.5102159  -0.7985077 ]\n",
      "Initial params in unconstrained space: [-0.10337298 -0.5102159  -0.7985077 ]\n"
     ]
    },
    {
     "name": "stderr",
     "output_type": "stream",
     "text": [
      "Gibbs Sampling:  17%|█▋        | 257/1500 [3:06:16<15:07:18, 43.80s/it, Sample=257, Status=Complete]"
     ]
    },
    {
     "name": "stdout",
     "output_type": "stream",
     "text": [
      "Reached max iterations with fractional norm error 0.9967855039165093.\n",
      "Initial params in unconstrained space: [-0.46701175 -0.5102159  -0.7985077 ]\n",
      "Initial params in unconstrained space: [-0.10337298 -0.5102159  -0.7985077 ]\n"
     ]
    },
    {
     "name": "stderr",
     "output_type": "stream",
     "text": [
      "Gibbs Sampling:  17%|█▋        | 258/1500 [3:07:04<15:32:19, 45.04s/it, Sample=258, Status=Complete]"
     ]
    },
    {
     "name": "stdout",
     "output_type": "stream",
     "text": [
      "Reached max iterations with fractional norm error 0.8565429727621457.\n",
      "Initial params in unconstrained space: [-0.46701175 -0.5102159  -0.7985077 ]\n",
      "Initial params in unconstrained space: [-0.10337298 -0.5102159  -0.7985077 ]\n"
     ]
    },
    {
     "name": "stderr",
     "output_type": "stream",
     "text": [
      "Gibbs Sampling:  17%|█▋        | 259/1500 [3:07:46<15:09:26, 43.97s/it, Sample=259, Status=Complete]"
     ]
    },
    {
     "name": "stdout",
     "output_type": "stream",
     "text": [
      "Reached max iterations with fractional norm error 0.6226102806355176.\n",
      "Initial params in unconstrained space: [-0.46701175 -0.5102159  -0.7985077 ]\n",
      "Initial params in unconstrained space: [-0.10337298 -0.5102159  -0.7985077 ]\n",
      "Reached max iterations with fractional norm error 1.484664852739112.\n"
     ]
    },
    {
     "name": "stderr",
     "output_type": "stream",
     "text": [
      "Gibbs Sampling:  17%|█▋        | 260/1500 [3:08:29<15:03:36, 43.72s/it, Sample=260, Status=Complete]"
     ]
    },
    {
     "name": "stdout",
     "output_type": "stream",
     "text": [
      "Initial params in unconstrained space: [-0.46701175 -0.5102159  -0.7985077 ]\n",
      "Initial params in unconstrained space: [-0.10337298 -0.5102159  -0.7985077 ]\n"
     ]
    },
    {
     "name": "stderr",
     "output_type": "stream",
     "text": [
      "Gibbs Sampling:  17%|█▋        | 261/1500 [3:09:14<15:14:40, 44.29s/it, Sample=261, Status=Complete]"
     ]
    },
    {
     "name": "stdout",
     "output_type": "stream",
     "text": [
      "Reached max iterations with fractional norm error 0.7813390836191763.\n",
      "Initial params in unconstrained space: [-0.46701175 -0.5102159  -0.7985077 ]\n",
      "Initial params in unconstrained space: [-0.10337298 -0.5102159  -0.7985077 ]\n"
     ]
    },
    {
     "name": "stderr",
     "output_type": "stream",
     "text": [
      "Gibbs Sampling:  17%|█▋        | 262/1500 [3:09:55<14:51:30, 43.21s/it, Sample=262, Status=Complete]"
     ]
    },
    {
     "name": "stdout",
     "output_type": "stream",
     "text": [
      "Reached max iterations with fractional norm error 2.522997536950167.\n",
      "Initial params in unconstrained space: [-0.46701175 -0.5102159  -0.7985077 ]\n",
      "Initial params in unconstrained space: [-0.10337298 -0.5102159  -0.7985077 ]\n",
      "Reached max iterations with fractional norm error 0.10870306529636098.\n"
     ]
    },
    {
     "name": "stderr",
     "output_type": "stream",
     "text": [
      "Gibbs Sampling:  18%|█▊        | 263/1500 [3:10:38<14:46:50, 43.02s/it, Sample=263, Status=Complete]"
     ]
    },
    {
     "name": "stdout",
     "output_type": "stream",
     "text": [
      "Initial params in unconstrained space: [-0.46701175 -0.5102159  -0.7985077 ]\n",
      "Initial params in unconstrained space: [-0.10337298 -0.5102159  -0.7985077 ]\n",
      "Reached max iterations with fractional norm error 0.6239997056025763.\n"
     ]
    },
    {
     "name": "stderr",
     "output_type": "stream",
     "text": [
      "Gibbs Sampling:  18%|█▊        | 264/1500 [3:11:23<14:58:35, 43.62s/it, Sample=264, Status=Complete]"
     ]
    },
    {
     "name": "stdout",
     "output_type": "stream",
     "text": [
      "Initial params in unconstrained space: [-0.46701175 -0.5102159  -0.7985077 ]\n",
      "Initial params in unconstrained space: [-0.10337298 -0.5102159  -0.7985077 ]\n"
     ]
    },
    {
     "name": "stderr",
     "output_type": "stream",
     "text": [
      "Gibbs Sampling:  18%|█▊        | 265/1500 [3:12:04<14:42:19, 42.87s/it, Sample=265, Status=Complete]"
     ]
    },
    {
     "name": "stdout",
     "output_type": "stream",
     "text": [
      "Reached max iterations with fractional norm error 0.20879780639683299.\n",
      "Initial params in unconstrained space: [-0.46701175 -0.5102159  -0.7985077 ]\n",
      "Initial params in unconstrained space: [-0.10337298 -0.5102159  -0.7985077 ]\n",
      "Reached max iterations with fractional norm error 0.9149656446798999.\n"
     ]
    },
    {
     "name": "stderr",
     "output_type": "stream",
     "text": [
      "Gibbs Sampling:  18%|█▊        | 266/1500 [3:12:48<14:47:21, 43.15s/it, Sample=266, Status=Complete]"
     ]
    },
    {
     "name": "stdout",
     "output_type": "stream",
     "text": [
      "Initial params in unconstrained space: [-0.46701175 -0.5102159  -0.7985077 ]\n",
      "Initial params in unconstrained space: [-0.10337298 -0.5102159  -0.7985077 ]\n"
     ]
    },
    {
     "name": "stderr",
     "output_type": "stream",
     "text": [
      "Gibbs Sampling:  18%|█▊        | 267/1500 [3:13:31<14:50:21, 43.33s/it, Sample=267, Status=Complete]"
     ]
    },
    {
     "name": "stdout",
     "output_type": "stream",
     "text": [
      "Reached max iterations with fractional norm error 0.22356211321894437.\n",
      "Initial params in unconstrained space: [-0.46701175 -0.5102159  -0.7985077 ]\n",
      "Initial params in unconstrained space: [-0.10337298 -0.5102159  -0.7985077 ]\n"
     ]
    },
    {
     "name": "stderr",
     "output_type": "stream",
     "text": [
      "Gibbs Sampling:  18%|█▊        | 268/1500 [3:14:12<14:34:14, 42.58s/it, Sample=268, Status=Complete]"
     ]
    },
    {
     "name": "stdout",
     "output_type": "stream",
     "text": [
      "Reached max iterations with fractional norm error 0.27460618055342045.\n",
      "Initial params in unconstrained space: [-0.46701175 -0.5102159  -0.7985077 ]\n",
      "Initial params in unconstrained space: [-0.10337298 -0.5102159  -0.7985077 ]\n",
      "Reached max iterations with fractional norm error 0.9999402345579246.\n"
     ]
    },
    {
     "name": "stderr",
     "output_type": "stream",
     "text": [
      "Gibbs Sampling:  18%|█▊        | 269/1500 [3:14:57<14:45:23, 43.15s/it, Sample=269, Status=Complete]"
     ]
    },
    {
     "name": "stdout",
     "output_type": "stream",
     "text": [
      "Initial params in unconstrained space: [-0.46701175 -0.5102159  -0.7985077 ]\n",
      "Initial params in unconstrained space: [-0.10337298 -0.5102159  -0.7985077 ]\n"
     ]
    },
    {
     "name": "stderr",
     "output_type": "stream",
     "text": [
      "Gibbs Sampling:  18%|█▊        | 270/1500 [3:15:43<15:03:19, 44.06s/it, Sample=270, Status=Complete]"
     ]
    },
    {
     "name": "stdout",
     "output_type": "stream",
     "text": [
      "Reached max iterations with fractional norm error 0.912681784219727.\n",
      "Initial params in unconstrained space: [-0.46701175 -0.5102159  -0.7985077 ]\n",
      "Initial params in unconstrained space: [-0.10337298 -0.5102159  -0.7985077 ]\n"
     ]
    },
    {
     "name": "stderr",
     "output_type": "stream",
     "text": [
      "Gibbs Sampling:  18%|█▊        | 271/1500 [3:16:24<14:42:01, 43.06s/it, Sample=271, Status=Complete]"
     ]
    },
    {
     "name": "stdout",
     "output_type": "stream",
     "text": [
      "Reached max iterations with fractional norm error 0.5150199255206739.\n",
      "Initial params in unconstrained space: [-0.46701175 -0.5102159  -0.7985077 ]\n",
      "Initial params in unconstrained space: [-0.10337298 -0.5102159  -0.7985077 ]\n",
      "Reached max iterations with fractional norm error 2.4723707552762684.\n"
     ]
    },
    {
     "name": "stderr",
     "output_type": "stream",
     "text": [
      "Gibbs Sampling:  18%|█▊        | 272/1500 [3:17:07<14:44:19, 43.21s/it, Sample=272, Status=Complete]"
     ]
    },
    {
     "name": "stdout",
     "output_type": "stream",
     "text": [
      "Initial params in unconstrained space: [-0.46701175 -0.5102159  -0.7985077 ]\n",
      "Initial params in unconstrained space: [-0.10337298 -0.5102159  -0.7985077 ]\n"
     ]
    },
    {
     "name": "stderr",
     "output_type": "stream",
     "text": [
      "Gibbs Sampling:  18%|█▊        | 273/1500 [3:17:53<14:59:50, 44.00s/it, Sample=273, Status=Complete]"
     ]
    },
    {
     "name": "stdout",
     "output_type": "stream",
     "text": [
      "Reached max iterations with fractional norm error 0.2594590680902095.\n",
      "Initial params in unconstrained space: [-0.46701175 -0.5102159  -0.7985077 ]\n",
      "Initial params in unconstrained space: [-0.10337298 -0.5102159  -0.7985077 ]\n"
     ]
    },
    {
     "name": "stderr",
     "output_type": "stream",
     "text": [
      "Gibbs Sampling:  18%|█▊        | 274/1500 [3:18:35<14:45:43, 43.35s/it, Sample=274, Status=Complete]"
     ]
    },
    {
     "name": "stdout",
     "output_type": "stream",
     "text": [
      "Reached max iterations with fractional norm error 6.48483211890285.\n",
      "Initial params in unconstrained space: [-0.46701175 -0.5102159  -0.7985077 ]\n",
      "Initial params in unconstrained space: [-0.10337298 -0.5102159  -0.7985077 ]\n"
     ]
    },
    {
     "name": "stderr",
     "output_type": "stream",
     "text": [
      "Gibbs Sampling:  18%|█▊        | 275/1500 [3:19:19<14:47:46, 43.48s/it, Sample=275, Status=Complete]"
     ]
    },
    {
     "name": "stdout",
     "output_type": "stream",
     "text": [
      "Reached max iterations with fractional norm error 1.082893015142675.\n",
      "Initial params in unconstrained space: [-0.46701175 -0.5102159  -0.7985077 ]\n",
      "Initial params in unconstrained space: [-0.10337298 -0.5102159  -0.7985077 ]\n"
     ]
    },
    {
     "name": "stderr",
     "output_type": "stream",
     "text": [
      "Gibbs Sampling:  18%|█▊        | 276/1500 [3:20:03<14:53:28, 43.80s/it, Sample=276, Status=Complete]"
     ]
    },
    {
     "name": "stdout",
     "output_type": "stream",
     "text": [
      "Reached max iterations with fractional norm error 0.9246310615986574.\n",
      "Initial params in unconstrained space: [-0.46701175 -0.5102159  -0.7985077 ]\n",
      "Initial params in unconstrained space: [-0.10337298 -0.5102159  -0.7985077 ]\n"
     ]
    },
    {
     "name": "stderr",
     "output_type": "stream",
     "text": [
      "Gibbs Sampling:  18%|█▊        | 277/1500 [3:20:43<14:30:48, 42.72s/it, Sample=277, Status=Complete]"
     ]
    },
    {
     "name": "stdout",
     "output_type": "stream",
     "text": [
      "Reached max iterations with fractional norm error 13.941092430945233.\n",
      "Initial params in unconstrained space: [-0.46701175 -0.5102159  -0.7985077 ]\n",
      "Initial params in unconstrained space: [-0.10337298 -0.5102159  -0.7985077 ]\n",
      "Reached max iterations with fractional norm error 7.017140377476637.\n"
     ]
    },
    {
     "name": "stderr",
     "output_type": "stream",
     "text": [
      "Gibbs Sampling:  19%|█▊        | 278/1500 [3:21:27<14:33:04, 42.87s/it, Sample=278, Status=Complete]"
     ]
    },
    {
     "name": "stdout",
     "output_type": "stream",
     "text": [
      "Initial params in unconstrained space: [-0.46701175 -0.5102159  -0.7985077 ]\n",
      "Initial params in unconstrained space: [-0.10337298 -0.5102159  -0.7985077 ]\n"
     ]
    },
    {
     "name": "stderr",
     "output_type": "stream",
     "text": [
      "Gibbs Sampling:  19%|█▊        | 279/1500 [3:22:12<14:48:43, 43.67s/it, Sample=279, Status=Complete]"
     ]
    },
    {
     "name": "stdout",
     "output_type": "stream",
     "text": [
      "Reached max iterations with fractional norm error 0.463373994549795.\n",
      "Initial params in unconstrained space: [-0.46701175 -0.5102159  -0.7985077 ]\n",
      "Initial params in unconstrained space: [-0.10337298 -0.5102159  -0.7985077 ]\n"
     ]
    },
    {
     "name": "stderr",
     "output_type": "stream",
     "text": [
      "Gibbs Sampling:  19%|█▊        | 280/1500 [3:22:53<14:28:25, 42.71s/it, Sample=280, Status=Complete]"
     ]
    },
    {
     "name": "stdout",
     "output_type": "stream",
     "text": [
      "Reached max iterations with fractional norm error 0.5598875437113128.\n",
      "Initial params in unconstrained space: [-0.46701175 -0.5102159  -0.7985077 ]\n",
      "Initial params in unconstrained space: [-0.10337298 -0.5102159  -0.7985077 ]\n"
     ]
    },
    {
     "name": "stderr",
     "output_type": "stream",
     "text": [
      "Gibbs Sampling:  19%|█▊        | 281/1500 [3:23:37<14:38:02, 43.22s/it, Sample=281, Status=Complete]"
     ]
    },
    {
     "name": "stdout",
     "output_type": "stream",
     "text": [
      "Reached max iterations with fractional norm error 0.3630034744011458.\n",
      "Initial params in unconstrained space: [-0.46701175 -0.5102159  -0.7985077 ]\n",
      "Initial params in unconstrained space: [-0.10337298 -0.5102159  -0.7985077 ]\n"
     ]
    },
    {
     "name": "stderr",
     "output_type": "stream",
     "text": [
      "Gibbs Sampling:  19%|█▉        | 282/1500 [3:24:24<15:01:30, 44.41s/it, Sample=282, Status=Complete]"
     ]
    },
    {
     "name": "stdout",
     "output_type": "stream",
     "text": [
      "Reached max iterations with fractional norm error 0.6074556015619684.\n",
      "Initial params in unconstrained space: [-0.46701175 -0.5102159  -0.7985077 ]\n",
      "Initial params in unconstrained space: [-0.10337298 -0.5102159  -0.7985077 ]\n"
     ]
    },
    {
     "name": "stderr",
     "output_type": "stream",
     "text": [
      "Gibbs Sampling:  19%|█▉        | 283/1500 [3:25:05<14:40:37, 43.42s/it, Sample=283, Status=Complete]"
     ]
    },
    {
     "name": "stdout",
     "output_type": "stream",
     "text": [
      "Reached max iterations with fractional norm error 0.2698096693413846.\n",
      "Initial params in unconstrained space: [-0.46701175 -0.5102159  -0.7985077 ]\n",
      "Initial params in unconstrained space: [-0.10337298 -0.5102159  -0.7985077 ]\n",
      "Reached max iterations with fractional norm error 0.1269573612018.\n"
     ]
    },
    {
     "name": "stderr",
     "output_type": "stream",
     "text": [
      "Gibbs Sampling:  19%|█▉        | 284/1500 [3:25:51<14:55:20, 44.18s/it, Sample=284, Status=Complete]"
     ]
    },
    {
     "name": "stdout",
     "output_type": "stream",
     "text": [
      "Initial params in unconstrained space: [-0.46701175 -0.5102159  -0.7985077 ]\n",
      "Initial params in unconstrained space: [-0.10337298 -0.5102159  -0.7985077 ]\n"
     ]
    },
    {
     "name": "stderr",
     "output_type": "stream",
     "text": [
      "Gibbs Sampling:  19%|█▉        | 285/1500 [3:26:36<15:01:10, 44.50s/it, Sample=285, Status=Complete]"
     ]
    },
    {
     "name": "stdout",
     "output_type": "stream",
     "text": [
      "Reached max iterations with fractional norm error 1.0423011310767567.\n",
      "Initial params in unconstrained space: [-0.46701175 -0.5102159  -0.7985077 ]\n",
      "Initial params in unconstrained space: [-0.10337298 -0.5102159  -0.7985077 ]\n"
     ]
    },
    {
     "name": "stderr",
     "output_type": "stream",
     "text": [
      "Gibbs Sampling:  19%|█▉        | 286/1500 [3:27:20<14:54:08, 44.19s/it, Sample=286, Status=Complete]"
     ]
    },
    {
     "name": "stdout",
     "output_type": "stream",
     "text": [
      "Reached max iterations with fractional norm error 0.7571240732098589.\n",
      "Initial params in unconstrained space: [-0.46701175 -0.5102159  -0.7985077 ]\n",
      "Initial params in unconstrained space: [-0.10337298 -0.5102159  -0.7985077 ]\n",
      "Reached max iterations with fractional norm error 8.356275700855889.\n"
     ]
    },
    {
     "name": "stderr",
     "output_type": "stream",
     "text": [
      "Gibbs Sampling:  19%|█▉        | 287/1500 [3:28:05<15:01:44, 44.60s/it, Sample=287, Status=Complete]"
     ]
    },
    {
     "name": "stdout",
     "output_type": "stream",
     "text": [
      "Initial params in unconstrained space: [-0.46701175 -0.5102159  -0.7985077 ]\n",
      "Initial params in unconstrained space: [-0.10337298 -0.5102159  -0.7985077 ]\n"
     ]
    },
    {
     "name": "stderr",
     "output_type": "stream",
     "text": [
      "Gibbs Sampling:  19%|█▉        | 288/1500 [3:28:48<14:47:26, 43.93s/it, Sample=288, Status=Complete]"
     ]
    },
    {
     "name": "stdout",
     "output_type": "stream",
     "text": [
      "Reached max iterations with fractional norm error 0.2644174067549117.\n",
      "Initial params in unconstrained space: [-0.46701175 -0.5102159  -0.7985077 ]\n",
      "Initial params in unconstrained space: [-0.10337298 -0.5102159  -0.7985077 ]\n",
      "Reached max iterations with fractional norm error 0.6879039572187604.\n"
     ]
    },
    {
     "name": "stderr",
     "output_type": "stream",
     "text": [
      "Gibbs Sampling:  19%|█▉        | 289/1500 [3:29:30<14:33:04, 43.26s/it, Sample=289, Status=Complete]"
     ]
    },
    {
     "name": "stdout",
     "output_type": "stream",
     "text": [
      "Initial params in unconstrained space: [-0.46701175 -0.5102159  -0.7985077 ]\n",
      "Initial params in unconstrained space: [-0.10337298 -0.5102159  -0.7985077 ]\n"
     ]
    },
    {
     "name": "stderr",
     "output_type": "stream",
     "text": [
      "Gibbs Sampling:  19%|█▉        | 290/1500 [3:30:15<14:47:01, 43.98s/it, Sample=290, Status=Complete]"
     ]
    },
    {
     "name": "stdout",
     "output_type": "stream",
     "text": [
      "Reached max iterations with fractional norm error 0.612879400894519.\n",
      "Initial params in unconstrained space: [-0.46701175 -0.5102159  -0.7985077 ]\n",
      "Initial params in unconstrained space: [-0.10337298 -0.5102159  -0.7985077 ]\n"
     ]
    },
    {
     "name": "stderr",
     "output_type": "stream",
     "text": [
      "Gibbs Sampling:  19%|█▉        | 291/1500 [3:30:57<14:36:04, 43.48s/it, Sample=291, Status=Complete]"
     ]
    },
    {
     "name": "stdout",
     "output_type": "stream",
     "text": [
      "Reached max iterations with fractional norm error 0.4490546834201243.\n",
      "Initial params in unconstrained space: [-0.46701175 -0.5102159  -0.7985077 ]\n",
      "Initial params in unconstrained space: [-0.10337298 -0.5102159  -0.7985077 ]\n",
      "Reached max iterations with fractional norm error 4.174957771500927.\n"
     ]
    },
    {
     "name": "stderr",
     "output_type": "stream",
     "text": [
      "Gibbs Sampling:  19%|█▉        | 292/1500 [3:31:40<14:29:07, 43.17s/it, Sample=292, Status=Complete]"
     ]
    },
    {
     "name": "stdout",
     "output_type": "stream",
     "text": [
      "Initial params in unconstrained space: [-0.46701175 -0.5102159  -0.7985077 ]\n",
      "Initial params in unconstrained space: [-0.10337298 -0.5102159  -0.7985077 ]\n",
      "Reached max iterations with fractional norm error 0.9174038429540341.\n"
     ]
    },
    {
     "name": "stderr",
     "output_type": "stream",
     "text": [
      "Gibbs Sampling:  20%|█▉        | 293/1500 [3:32:26<14:47:49, 44.13s/it, Sample=293, Status=Complete]"
     ]
    },
    {
     "name": "stdout",
     "output_type": "stream",
     "text": [
      "Initial params in unconstrained space: [-0.46701175 -0.5102159  -0.7985077 ]\n",
      "Initial params in unconstrained space: [-0.10337298 -0.5102159  -0.7985077 ]\n"
     ]
    },
    {
     "name": "stderr",
     "output_type": "stream",
     "text": [
      "Gibbs Sampling:  20%|█▉        | 294/1500 [3:33:07<14:28:37, 43.22s/it, Sample=294, Status=Complete]"
     ]
    },
    {
     "name": "stdout",
     "output_type": "stream",
     "text": [
      "Reached max iterations with fractional norm error 0.1864763099127205.\n",
      "Initial params in unconstrained space: [-0.46701175 -0.5102159  -0.7985077 ]\n",
      "Initial params in unconstrained space: [-0.10337298 -0.5102159  -0.7985077 ]\n"
     ]
    },
    {
     "name": "stderr",
     "output_type": "stream",
     "text": [
      "Gibbs Sampling:  20%|█▉        | 295/1500 [3:33:51<14:29:29, 43.29s/it, Sample=295, Status=Complete]"
     ]
    },
    {
     "name": "stdout",
     "output_type": "stream",
     "text": [
      "Reached max iterations with fractional norm error 1.277415148083055.\n",
      "Initial params in unconstrained space: [-0.46701175 -0.5102159  -0.7985077 ]\n",
      "Initial params in unconstrained space: [-0.10337298 -0.5102159  -0.7985077 ]\n"
     ]
    },
    {
     "name": "stderr",
     "output_type": "stream",
     "text": [
      "Gibbs Sampling:  20%|█▉        | 296/1500 [3:34:40<15:03:11, 45.01s/it, Sample=296, Status=Complete]"
     ]
    },
    {
     "name": "stdout",
     "output_type": "stream",
     "text": [
      "Reached max iterations with fractional norm error 1.0237262752452534.\n",
      "Initial params in unconstrained space: [-0.46701175 -0.5102159  -0.7985077 ]\n",
      "Initial params in unconstrained space: [-0.10337298 -0.5102159  -0.7985077 ]\n"
     ]
    },
    {
     "name": "stderr",
     "output_type": "stream",
     "text": [
      "Gibbs Sampling:  20%|█▉        | 297/1500 [3:35:22<14:47:33, 44.27s/it, Sample=297, Status=Complete]"
     ]
    },
    {
     "name": "stdout",
     "output_type": "stream",
     "text": [
      "Reached max iterations with fractional norm error 0.1635010814426058.\n",
      "Initial params in unconstrained space: [-0.46701175 -0.5102159  -0.7985077 ]\n",
      "Initial params in unconstrained space: [-0.10337298 -0.5102159  -0.7985077 ]\n"
     ]
    },
    {
     "name": "stderr",
     "output_type": "stream",
     "text": [
      "Gibbs Sampling:  20%|█▉        | 298/1500 [3:36:10<15:04:26, 45.15s/it, Sample=298, Status=Complete]"
     ]
    },
    {
     "name": "stdout",
     "output_type": "stream",
     "text": [
      "Reached max iterations with fractional norm error 2.3746655869115707.\n",
      "Initial params in unconstrained space: [-0.46701175 -0.5102159  -0.7985077 ]\n",
      "Initial params in unconstrained space: [-0.10337298 -0.5102159  -0.7985077 ]\n"
     ]
    },
    {
     "name": "stderr",
     "output_type": "stream",
     "text": [
      "Gibbs Sampling:  20%|█▉        | 299/1500 [3:36:53<14:52:29, 44.59s/it, Sample=299, Status=Complete]"
     ]
    },
    {
     "name": "stdout",
     "output_type": "stream",
     "text": [
      "Reached max iterations with fractional norm error 2.776378382582648.\n",
      "Initial params in unconstrained space: [-0.46701175 -0.5102159  -0.7985077 ]\n",
      "Initial params in unconstrained space: [-0.10337298 -0.5102159  -0.7985077 ]\n"
     ]
    },
    {
     "name": "stderr",
     "output_type": "stream",
     "text": [
      "Gibbs Sampling:  20%|██        | 300/1500 [3:37:34<14:29:59, 43.50s/it, Sample=300, Status=Complete]"
     ]
    },
    {
     "name": "stdout",
     "output_type": "stream",
     "text": [
      "Reached max iterations with fractional norm error 0.22570601778994565.\n",
      "Initial params in unconstrained space: [-0.46701175 -0.5102159  -0.7985077 ]\n",
      "Initial params in unconstrained space: [-0.10337298 -0.5102159  -0.7985077 ]\n"
     ]
    },
    {
     "name": "stderr",
     "output_type": "stream",
     "text": [
      "Gibbs Sampling:  20%|██        | 301/1500 [3:38:19<14:40:01, 44.04s/it, Sample=301, Status=Complete]"
     ]
    },
    {
     "name": "stdout",
     "output_type": "stream",
     "text": [
      "Reached max iterations with fractional norm error 1034.1024446443164.\n",
      "Initial params in unconstrained space: [-0.46701175 -0.5102159  -0.7985077 ]\n",
      "Initial params in unconstrained space: [-0.10337298 -0.5102159  -0.7985077 ]\n"
     ]
    },
    {
     "name": "stderr",
     "output_type": "stream",
     "text": [
      "Gibbs Sampling:  20%|██        | 302/1500 [3:39:02<14:33:50, 43.77s/it, Sample=302, Status=Complete]"
     ]
    },
    {
     "name": "stdout",
     "output_type": "stream",
     "text": [
      "Reached max iterations with fractional norm error 0.6998664444270914.\n",
      "Initial params in unconstrained space: [-0.46701175 -0.5102159  -0.7985077 ]\n",
      "Initial params in unconstrained space: [-0.10337298 -0.5102159  -0.7985077 ]\n"
     ]
    },
    {
     "name": "stderr",
     "output_type": "stream",
     "text": [
      "Gibbs Sampling:  20%|██        | 303/1500 [3:39:44<14:18:07, 43.01s/it, Sample=303, Status=Complete]"
     ]
    },
    {
     "name": "stdout",
     "output_type": "stream",
     "text": [
      "Reached max iterations with fractional norm error 6.778515740603303.\n",
      "Initial params in unconstrained space: [-0.46701175 -0.5102159  -0.7985077 ]\n",
      "Initial params in unconstrained space: [-0.10337298 -0.5102159  -0.7985077 ]\n"
     ]
    },
    {
     "name": "stderr",
     "output_type": "stream",
     "text": [
      "Gibbs Sampling:  20%|██        | 304/1500 [3:40:29<14:31:20, 43.71s/it, Sample=304, Status=Complete]"
     ]
    },
    {
     "name": "stdout",
     "output_type": "stream",
     "text": [
      "Reached max iterations with fractional norm error 22.744284301979448.\n",
      "Initial params in unconstrained space: [-0.46701175 -0.5102159  -0.7985077 ]\n",
      "Initial params in unconstrained space: [-0.10337298 -0.5102159  -0.7985077 ]\n"
     ]
    },
    {
     "name": "stderr",
     "output_type": "stream",
     "text": [
      "Gibbs Sampling:  20%|██        | 305/1500 [3:41:13<14:33:09, 43.84s/it, Sample=305, Status=Complete]"
     ]
    },
    {
     "name": "stdout",
     "output_type": "stream",
     "text": [
      "Reached max iterations with fractional norm error 3.522394089561998.\n",
      "Initial params in unconstrained space: [-0.46701175 -0.5102159  -0.7985077 ]\n",
      "Initial params in unconstrained space: [-0.10337298 -0.5102159  -0.7985077 ]\n"
     ]
    },
    {
     "name": "stderr",
     "output_type": "stream",
     "text": [
      "Gibbs Sampling:  20%|██        | 306/1500 [3:41:54<14:15:04, 42.97s/it, Sample=306, Status=Complete]"
     ]
    },
    {
     "name": "stdout",
     "output_type": "stream",
     "text": [
      "Reached max iterations with fractional norm error 2.4578627390598533.\n",
      "Initial params in unconstrained space: [-0.46701175 -0.5102159  -0.7985077 ]\n",
      "Initial params in unconstrained space: [-0.10337298 -0.5102159  -0.7985077 ]\n"
     ]
    },
    {
     "name": "stderr",
     "output_type": "stream",
     "text": [
      "Gibbs Sampling:  20%|██        | 307/1500 [3:42:36<14:10:48, 42.79s/it, Sample=307, Status=Complete]"
     ]
    },
    {
     "name": "stdout",
     "output_type": "stream",
     "text": [
      "Reached max iterations with fractional norm error 0.8628216041792112.\n",
      "Initial params in unconstrained space: [-0.46701175 -0.5102159  -0.7985077 ]\n",
      "Initial params in unconstrained space: [-0.10337298 -0.5102159  -0.7985077 ]\n"
     ]
    },
    {
     "name": "stderr",
     "output_type": "stream",
     "text": [
      "Gibbs Sampling:  21%|██        | 308/1500 [3:43:20<14:16:21, 43.11s/it, Sample=308, Status=Complete]"
     ]
    },
    {
     "name": "stdout",
     "output_type": "stream",
     "text": [
      "Reached max iterations with fractional norm error 0.7443700584228399.\n",
      "Initial params in unconstrained space: [-0.46701175 -0.5102159  -0.7985077 ]\n",
      "Initial params in unconstrained space: [-0.10337298 -0.5102159  -0.7985077 ]\n"
     ]
    },
    {
     "name": "stderr",
     "output_type": "stream",
     "text": [
      "Gibbs Sampling:  21%|██        | 309/1500 [3:44:01<14:00:36, 42.35s/it, Sample=309, Status=Complete]"
     ]
    },
    {
     "name": "stdout",
     "output_type": "stream",
     "text": [
      "Reached max iterations with fractional norm error 0.9321046521576524.\n",
      "Initial params in unconstrained space: [-0.46701175 -0.5102159  -0.7985077 ]\n",
      "Initial params in unconstrained space: [-0.10337298 -0.5102159  -0.7985077 ]\n"
     ]
    },
    {
     "name": "stderr",
     "output_type": "stream",
     "text": [
      "Gibbs Sampling:  21%|██        | 310/1500 [3:44:46<14:16:54, 43.21s/it, Sample=310, Status=Complete]"
     ]
    },
    {
     "name": "stdout",
     "output_type": "stream",
     "text": [
      "Reached max iterations with fractional norm error 0.778105282113073.\n",
      "Initial params in unconstrained space: [-0.46701175 -0.5102159  -0.7985077 ]\n",
      "Initial params in unconstrained space: [-0.10337298 -0.5102159  -0.7985077 ]\n"
     ]
    },
    {
     "name": "stderr",
     "output_type": "stream",
     "text": [
      "Gibbs Sampling:  21%|██        | 311/1500 [3:45:30<14:21:53, 43.49s/it, Sample=311, Status=Complete]"
     ]
    },
    {
     "name": "stdout",
     "output_type": "stream",
     "text": [
      "Reached max iterations with fractional norm error 0.15271611687491685.\n",
      "Initial params in unconstrained space: [-0.46701175 -0.5102159  -0.7985077 ]\n",
      "Initial params in unconstrained space: [-0.10337298 -0.5102159  -0.7985077 ]\n"
     ]
    },
    {
     "name": "stderr",
     "output_type": "stream",
     "text": [
      "Gibbs Sampling:  21%|██        | 312/1500 [3:46:12<14:14:26, 43.15s/it, Sample=312, Status=Complete]"
     ]
    },
    {
     "name": "stdout",
     "output_type": "stream",
     "text": [
      "Reached max iterations with fractional norm error 140.97160845346156.\n",
      "Initial params in unconstrained space: [-0.46701175 -0.5102159  -0.7985077 ]\n",
      "Initial params in unconstrained space: [-0.10337298 -0.5102159  -0.7985077 ]\n"
     ]
    },
    {
     "name": "stderr",
     "output_type": "stream",
     "text": [
      "Gibbs Sampling:  21%|██        | 313/1500 [3:46:57<14:19:51, 43.46s/it, Sample=313, Status=Complete]"
     ]
    },
    {
     "name": "stdout",
     "output_type": "stream",
     "text": [
      "Reached max iterations with fractional norm error 0.709447391902847.\n",
      "Initial params in unconstrained space: [-0.46701175 -0.5102159  -0.7985077 ]\n",
      "Initial params in unconstrained space: [-0.10337298 -0.5102159  -0.7985077 ]\n"
     ]
    },
    {
     "name": "stderr",
     "output_type": "stream",
     "text": [
      "Gibbs Sampling:  21%|██        | 314/1500 [3:47:41<14:24:17, 43.72s/it, Sample=314, Status=Complete]"
     ]
    },
    {
     "name": "stdout",
     "output_type": "stream",
     "text": [
      "Reached max iterations with fractional norm error 0.21741103430967498.\n",
      "Initial params in unconstrained space: [-0.46701175 -0.5102159  -0.7985077 ]\n",
      "Initial params in unconstrained space: [-0.10337298 -0.5102159  -0.7985077 ]\n"
     ]
    },
    {
     "name": "stderr",
     "output_type": "stream",
     "text": [
      "Gibbs Sampling:  21%|██        | 315/1500 [3:48:22<14:10:17, 43.05s/it, Sample=315, Status=Complete]"
     ]
    },
    {
     "name": "stdout",
     "output_type": "stream",
     "text": [
      "Reached max iterations with fractional norm error 0.18373803323898336.\n",
      "Initial params in unconstrained space: [-0.46701175 -0.5102159  -0.7985077 ]\n",
      "Initial params in unconstrained space: [-0.10337298 -0.5102159  -0.7985077 ]\n",
      "Reached max iterations with fractional norm error 0.4772484420577306.\n"
     ]
    },
    {
     "name": "stderr",
     "output_type": "stream",
     "text": [
      "Gibbs Sampling:  21%|██        | 316/1500 [3:49:06<14:14:44, 43.31s/it, Sample=316, Status=Complete]"
     ]
    },
    {
     "name": "stdout",
     "output_type": "stream",
     "text": [
      "Initial params in unconstrained space: [-0.46701175 -0.5102159  -0.7985077 ]\n",
      "Initial params in unconstrained space: [-0.10337298 -0.5102159  -0.7985077 ]\n"
     ]
    },
    {
     "name": "stderr",
     "output_type": "stream",
     "text": [
      "Gibbs Sampling:  21%|██        | 317/1500 [3:49:50<14:17:45, 43.50s/it, Sample=317, Status=Complete]"
     ]
    },
    {
     "name": "stdout",
     "output_type": "stream",
     "text": [
      "Reached max iterations with fractional norm error 0.361578154720703.\n",
      "Initial params in unconstrained space: [-0.46701175 -0.5102159  -0.7985077 ]\n",
      "Initial params in unconstrained space: [-0.10337298 -0.5102159  -0.7985077 ]\n"
     ]
    },
    {
     "name": "stderr",
     "output_type": "stream",
     "text": [
      "Gibbs Sampling:  21%|██        | 318/1500 [3:50:33<14:11:18, 43.21s/it, Sample=318, Status=Complete]"
     ]
    },
    {
     "name": "stdout",
     "output_type": "stream",
     "text": [
      "Reached max iterations with fractional norm error 48.492615462084736.\n",
      "Initial params in unconstrained space: [-0.46701175 -0.5102159  -0.7985077 ]\n",
      "Initial params in unconstrained space: [-0.10337298 -0.5102159  -0.7985077 ]\n"
     ]
    },
    {
     "name": "stderr",
     "output_type": "stream",
     "text": [
      "Gibbs Sampling:  21%|██▏       | 319/1500 [3:51:23<14:50:21, 45.23s/it, Sample=319, Status=Complete]"
     ]
    },
    {
     "name": "stdout",
     "output_type": "stream",
     "text": [
      "Reached max iterations with fractional norm error 0.986415433000789.\n",
      "Initial params in unconstrained space: [-0.46701175 -0.5102159  -0.7985077 ]\n",
      "Initial params in unconstrained space: [-0.10337298 -0.5102159  -0.7985077 ]\n"
     ]
    },
    {
     "name": "stderr",
     "output_type": "stream",
     "text": [
      "Gibbs Sampling:  21%|██▏       | 320/1500 [3:52:04<14:25:32, 44.01s/it, Sample=320, Status=Complete]"
     ]
    },
    {
     "name": "stdout",
     "output_type": "stream",
     "text": [
      "Reached max iterations with fractional norm error 0.33411292362596196.\n",
      "Initial params in unconstrained space: [-0.46701175 -0.5102159  -0.7985077 ]\n",
      "Initial params in unconstrained space: [-0.10337298 -0.5102159  -0.7985077 ]\n"
     ]
    },
    {
     "name": "stderr",
     "output_type": "stream",
     "text": [
      "Gibbs Sampling:  21%|██▏       | 321/1500 [3:52:45<14:08:43, 43.19s/it, Sample=321, Status=Complete]"
     ]
    },
    {
     "name": "stdout",
     "output_type": "stream",
     "text": [
      "Reached max iterations with fractional norm error 0.9839027875965257.\n",
      "Initial params in unconstrained space: [-0.46701175 -0.5102159  -0.7985077 ]\n",
      "Initial params in unconstrained space: [-0.10337298 -0.5102159  -0.7985077 ]\n"
     ]
    },
    {
     "name": "stderr",
     "output_type": "stream",
     "text": [
      "Gibbs Sampling:  21%|██▏       | 322/1500 [3:53:31<14:22:58, 43.96s/it, Sample=322, Status=Complete]"
     ]
    },
    {
     "name": "stdout",
     "output_type": "stream",
     "text": [
      "Reached max iterations with fractional norm error 0.1643458831976224.\n",
      "Initial params in unconstrained space: [-0.46701175 -0.5102159  -0.7985077 ]\n",
      "Initial params in unconstrained space: [-0.10337298 -0.5102159  -0.7985077 ]\n"
     ]
    },
    {
     "name": "stderr",
     "output_type": "stream",
     "text": [
      "Gibbs Sampling:  22%|██▏       | 323/1500 [3:54:14<14:15:06, 43.59s/it, Sample=323, Status=Complete]"
     ]
    },
    {
     "name": "stdout",
     "output_type": "stream",
     "text": [
      "Reached max iterations with fractional norm error 0.20937783722079745.\n",
      "Initial params in unconstrained space: [-0.46701175 -0.5102159  -0.7985077 ]\n",
      "Initial params in unconstrained space: [-0.10337298 -0.5102159  -0.7985077 ]\n",
      "Reached max iterations with fractional norm error 0.7907147325404105.\n"
     ]
    },
    {
     "name": "stderr",
     "output_type": "stream",
     "text": [
      "Gibbs Sampling:  22%|██▏       | 324/1500 [3:54:55<14:02:19, 42.98s/it, Sample=324, Status=Complete]"
     ]
    },
    {
     "name": "stdout",
     "output_type": "stream",
     "text": [
      "Initial params in unconstrained space: [-0.46701175 -0.5102159  -0.7985077 ]\n",
      "Initial params in unconstrained space: [-0.10337298 -0.5102159  -0.7985077 ]\n"
     ]
    },
    {
     "name": "stderr",
     "output_type": "stream",
     "text": [
      "Gibbs Sampling:  22%|██▏       | 325/1500 [3:55:42<14:21:19, 43.98s/it, Sample=325, Status=Complete]"
     ]
    },
    {
     "name": "stdout",
     "output_type": "stream",
     "text": [
      "Reached max iterations with fractional norm error 0.6977561178659389.\n",
      "Initial params in unconstrained space: [-0.46701175 -0.5102159  -0.7985077 ]\n",
      "Initial params in unconstrained space: [-0.10337298 -0.5102159  -0.7985077 ]\n"
     ]
    },
    {
     "name": "stderr",
     "output_type": "stream",
     "text": [
      "Gibbs Sampling:  22%|██▏       | 326/1500 [3:56:23<14:06:30, 43.26s/it, Sample=326, Status=Complete]"
     ]
    },
    {
     "name": "stdout",
     "output_type": "stream",
     "text": [
      "Reached max iterations with fractional norm error 21.40806769417148.\n",
      "Initial params in unconstrained space: [-0.46701175 -0.5102159  -0.7985077 ]\n",
      "Initial params in unconstrained space: [-0.10337298 -0.5102159  -0.7985077 ]\n",
      "Reached max iterations with fractional norm error 0.5808617914916001.\n"
     ]
    },
    {
     "name": "stderr",
     "output_type": "stream",
     "text": [
      "Gibbs Sampling:  22%|██▏       | 327/1500 [3:57:05<13:57:12, 42.82s/it, Sample=327, Status=Complete]"
     ]
    },
    {
     "name": "stdout",
     "output_type": "stream",
     "text": [
      "Initial params in unconstrained space: [-0.46701175 -0.5102159  -0.7985077 ]\n",
      "Initial params in unconstrained space: [-0.10337298 -0.5102159  -0.7985077 ]\n",
      "Reached max iterations with fractional norm error 1.244423887882488.\n"
     ]
    },
    {
     "name": "stderr",
     "output_type": "stream",
     "text": [
      "Gibbs Sampling:  22%|██▏       | 328/1500 [3:57:53<14:24:03, 44.24s/it, Sample=328, Status=Complete]"
     ]
    },
    {
     "name": "stdout",
     "output_type": "stream",
     "text": [
      "Initial params in unconstrained space: [-0.46701175 -0.5102159  -0.7985077 ]\n",
      "Initial params in unconstrained space: [-0.10337298 -0.5102159  -0.7985077 ]\n"
     ]
    },
    {
     "name": "stderr",
     "output_type": "stream",
     "text": [
      "Gibbs Sampling:  22%|██▏       | 329/1500 [3:58:33<14:02:39, 43.18s/it, Sample=329, Status=Complete]"
     ]
    },
    {
     "name": "stdout",
     "output_type": "stream",
     "text": [
      "Reached max iterations with fractional norm error 0.5536460849701603.\n",
      "Initial params in unconstrained space: [-0.46701175 -0.5102159  -0.7985077 ]\n",
      "Initial params in unconstrained space: [-0.10337298 -0.5102159  -0.7985077 ]\n"
     ]
    },
    {
     "name": "stderr",
     "output_type": "stream",
     "text": [
      "Gibbs Sampling:  22%|██▏       | 330/1500 [3:59:15<13:54:41, 42.80s/it, Sample=330, Status=Complete]"
     ]
    },
    {
     "name": "stdout",
     "output_type": "stream",
     "text": [
      "Reached max iterations with fractional norm error 0.818439916547275.\n",
      "Initial params in unconstrained space: [-0.46701175 -0.5102159  -0.7985077 ]\n",
      "Initial params in unconstrained space: [-0.10337298 -0.5102159  -0.7985077 ]\n"
     ]
    },
    {
     "name": "stderr",
     "output_type": "stream",
     "text": [
      "Gibbs Sampling:  22%|██▏       | 331/1500 [4:00:01<14:10:47, 43.67s/it, Sample=331, Status=Complete]"
     ]
    },
    {
     "name": "stdout",
     "output_type": "stream",
     "text": [
      "Reached max iterations with fractional norm error 0.5850948913265868.\n",
      "Initial params in unconstrained space: [-0.46701175 -0.5102159  -0.7985077 ]\n",
      "Initial params in unconstrained space: [-0.10337298 -0.5102159  -0.7985077 ]\n"
     ]
    },
    {
     "name": "stderr",
     "output_type": "stream",
     "text": [
      "Gibbs Sampling:  22%|██▏       | 332/1500 [4:00:43<13:58:43, 43.09s/it, Sample=332, Status=Complete]"
     ]
    },
    {
     "name": "stdout",
     "output_type": "stream",
     "text": [
      "Reached max iterations with fractional norm error 0.12832489352046875.\n",
      "Initial params in unconstrained space: [-0.46701175 -0.5102159  -0.7985077 ]\n",
      "Initial params in unconstrained space: [-0.10337298 -0.5102159  -0.7985077 ]\n"
     ]
    },
    {
     "name": "stderr",
     "output_type": "stream",
     "text": [
      "Gibbs Sampling:  22%|██▏       | 333/1500 [4:01:24<13:45:51, 42.46s/it, Sample=333, Status=Complete]"
     ]
    },
    {
     "name": "stdout",
     "output_type": "stream",
     "text": [
      "Reached max iterations with fractional norm error 0.9983212346337896.\n",
      "Initial params in unconstrained space: [-0.46701175 -0.5102159  -0.7985077 ]\n",
      "Initial params in unconstrained space: [-0.10337298 -0.5102159  -0.7985077 ]\n"
     ]
    },
    {
     "name": "stderr",
     "output_type": "stream",
     "text": [
      "Gibbs Sampling:  22%|██▏       | 334/1500 [4:02:12<14:22:42, 44.39s/it, Sample=334, Status=Complete]"
     ]
    },
    {
     "name": "stdout",
     "output_type": "stream",
     "text": [
      "Reached max iterations with fractional norm error 0.6445070714866538.\n",
      "Initial params in unconstrained space: [-0.46701175 -0.5102159  -0.7985077 ]\n",
      "Initial params in unconstrained space: [-0.10337298 -0.5102159  -0.7985077 ]\n"
     ]
    },
    {
     "name": "stderr",
     "output_type": "stream",
     "text": [
      "Gibbs Sampling:  22%|██▏       | 335/1500 [4:02:57<14:24:47, 44.54s/it, Sample=335, Status=Complete]"
     ]
    },
    {
     "name": "stdout",
     "output_type": "stream",
     "text": [
      "Reached max iterations with fractional norm error 53.830537347695085.\n",
      "Initial params in unconstrained space: [-0.46701175 -0.5102159  -0.7985077 ]\n",
      "Initial params in unconstrained space: [-0.10337298 -0.5102159  -0.7985077 ]\n"
     ]
    },
    {
     "name": "stderr",
     "output_type": "stream",
     "text": [
      "Gibbs Sampling:  22%|██▏       | 336/1500 [4:03:40<14:10:22, 43.83s/it, Sample=336, Status=Complete]"
     ]
    },
    {
     "name": "stdout",
     "output_type": "stream",
     "text": [
      "Reached max iterations with fractional norm error 1.9304269209283953.\n",
      "Initial params in unconstrained space: [-0.46701175 -0.5102159  -0.7985077 ]\n",
      "Initial params in unconstrained space: [-0.10337298 -0.5102159  -0.7985077 ]\n"
     ]
    },
    {
     "name": "stderr",
     "output_type": "stream",
     "text": [
      "Gibbs Sampling:  22%|██▏       | 337/1500 [4:04:26<14:23:09, 44.53s/it, Sample=337, Status=Complete]"
     ]
    },
    {
     "name": "stdout",
     "output_type": "stream",
     "text": [
      "Reached max iterations with fractional norm error 0.9079677511434635.\n",
      "Initial params in unconstrained space: [-0.46701175 -0.5102159  -0.7985077 ]\n",
      "Initial params in unconstrained space: [-0.10337298 -0.5102159  -0.7985077 ]\n"
     ]
    },
    {
     "name": "stderr",
     "output_type": "stream",
     "text": [
      "Gibbs Sampling:  23%|██▎       | 338/1500 [4:05:06<13:57:42, 43.25s/it, Sample=338, Status=Complete]"
     ]
    },
    {
     "name": "stdout",
     "output_type": "stream",
     "text": [
      "Reached max iterations with fractional norm error 0.34252415602721764.\n",
      "Initial params in unconstrained space: [-0.46701175 -0.5102159  -0.7985077 ]\n",
      "Initial params in unconstrained space: [-0.10337298 -0.5102159  -0.7985077 ]\n"
     ]
    },
    {
     "name": "stderr",
     "output_type": "stream",
     "text": [
      "Gibbs Sampling:  23%|██▎       | 339/1500 [4:05:49<13:52:39, 43.03s/it, Sample=339, Status=Complete]"
     ]
    },
    {
     "name": "stdout",
     "output_type": "stream",
     "text": [
      "Reached max iterations with fractional norm error 0.395449341767169.\n",
      "Initial params in unconstrained space: [-0.46701175 -0.5102159  -0.7985077 ]\n",
      "Initial params in unconstrained space: [-0.10337298 -0.5102159  -0.7985077 ]\n"
     ]
    },
    {
     "name": "stderr",
     "output_type": "stream",
     "text": [
      "Gibbs Sampling:  23%|██▎       | 340/1500 [4:06:35<14:11:25, 44.04s/it, Sample=340, Status=Complete]"
     ]
    },
    {
     "name": "stdout",
     "output_type": "stream",
     "text": [
      "Reached max iterations with fractional norm error 1.00028512695468.\n",
      "Initial params in unconstrained space: [-0.46701175 -0.5102159  -0.7985077 ]\n",
      "Initial params in unconstrained space: [-0.10337298 -0.5102159  -0.7985077 ]\n"
     ]
    },
    {
     "name": "stderr",
     "output_type": "stream",
     "text": [
      "Gibbs Sampling:  23%|██▎       | 341/1500 [4:07:16<13:51:14, 43.03s/it, Sample=341, Status=Complete]"
     ]
    },
    {
     "name": "stdout",
     "output_type": "stream",
     "text": [
      "Reached max iterations with fractional norm error 0.7302042553450148.\n",
      "Initial params in unconstrained space: [-0.46701175 -0.5102159  -0.7985077 ]\n",
      "Initial params in unconstrained space: [-0.10337298 -0.5102159  -0.7985077 ]\n"
     ]
    },
    {
     "name": "stderr",
     "output_type": "stream",
     "text": [
      "Gibbs Sampling:  23%|██▎       | 342/1500 [4:08:00<13:58:08, 43.43s/it, Sample=342, Status=Complete]"
     ]
    },
    {
     "name": "stdout",
     "output_type": "stream",
     "text": [
      "Reached max iterations with fractional norm error 0.3239975810834148.\n",
      "Initial params in unconstrained space: [-0.46701175 -0.5102159  -0.7985077 ]\n",
      "Initial params in unconstrained space: [-0.10337298 -0.5102159  -0.7985077 ]\n",
      "Reached max iterations with fractional norm error 0.4673029006167107.\n"
     ]
    },
    {
     "name": "stderr",
     "output_type": "stream",
     "text": [
      "Gibbs Sampling:  23%|██▎       | 343/1500 [4:08:47<14:19:38, 44.58s/it, Sample=343, Status=Complete]"
     ]
    },
    {
     "name": "stdout",
     "output_type": "stream",
     "text": [
      "Initial params in unconstrained space: [-0.46701175 -0.5102159  -0.7985077 ]\n",
      "Initial params in unconstrained space: [-0.10337298 -0.5102159  -0.7985077 ]\n"
     ]
    },
    {
     "name": "stderr",
     "output_type": "stream",
     "text": [
      "Gibbs Sampling:  23%|██▎       | 344/1500 [4:09:29<14:01:50, 43.69s/it, Sample=344, Status=Complete]"
     ]
    },
    {
     "name": "stdout",
     "output_type": "stream",
     "text": [
      "Reached max iterations with fractional norm error 0.9258900025885809.\n",
      "Initial params in unconstrained space: [-0.46701175 -0.5102159  -0.7985077 ]\n",
      "Initial params in unconstrained space: [-0.10337298 -0.5102159  -0.7985077 ]\n"
     ]
    },
    {
     "name": "stderr",
     "output_type": "stream",
     "text": [
      "Gibbs Sampling:  23%|██▎       | 345/1500 [4:10:12<13:58:36, 43.56s/it, Sample=345, Status=Complete]"
     ]
    },
    {
     "name": "stdout",
     "output_type": "stream",
     "text": [
      "Reached max iterations with fractional norm error 2.582414287313084.\n",
      "Initial params in unconstrained space: [-0.46701175 -0.5102159  -0.7985077 ]\n",
      "Initial params in unconstrained space: [-0.10337298 -0.5102159  -0.7985077 ]\n"
     ]
    },
    {
     "name": "stderr",
     "output_type": "stream",
     "text": [
      "Gibbs Sampling:  23%|██▎       | 346/1500 [4:10:57<14:07:00, 44.04s/it, Sample=346, Status=Complete]"
     ]
    },
    {
     "name": "stdout",
     "output_type": "stream",
     "text": [
      "Reached max iterations with fractional norm error 1.4487156756978505.\n",
      "Initial params in unconstrained space: [-0.46701175 -0.5102159  -0.7985077 ]\n",
      "Initial params in unconstrained space: [-0.10337298 -0.5102159  -0.7985077 ]\n"
     ]
    },
    {
     "name": "stderr",
     "output_type": "stream",
     "text": [
      "Gibbs Sampling:  23%|██▎       | 347/1500 [4:11:38<13:46:26, 43.01s/it, Sample=347, Status=Complete]"
     ]
    },
    {
     "name": "stdout",
     "output_type": "stream",
     "text": [
      "Reached max iterations with fractional norm error 0.5744405418094811.\n",
      "Initial params in unconstrained space: [-0.46701175 -0.5102159  -0.7985077 ]\n",
      "Initial params in unconstrained space: [-0.10337298 -0.5102159  -0.7985077 ]\n"
     ]
    },
    {
     "name": "stderr",
     "output_type": "stream",
     "text": [
      "Gibbs Sampling:  23%|██▎       | 348/1500 [4:12:23<14:00:50, 43.79s/it, Sample=348, Status=Complete]"
     ]
    },
    {
     "name": "stdout",
     "output_type": "stream",
     "text": [
      "Reached max iterations with fractional norm error 3.941488747023107.\n",
      "Initial params in unconstrained space: [-0.46701175 -0.5102159  -0.7985077 ]\n",
      "Initial params in unconstrained space: [-0.10337298 -0.5102159  -0.7985077 ]\n"
     ]
    },
    {
     "name": "stderr",
     "output_type": "stream",
     "text": [
      "Gibbs Sampling:  23%|██▎       | 349/1500 [4:13:07<13:56:30, 43.61s/it, Sample=349, Status=Complete]"
     ]
    },
    {
     "name": "stdout",
     "output_type": "stream",
     "text": [
      "Reached max iterations with fractional norm error 0.5729056167455612.\n",
      "Initial params in unconstrained space: [-0.46701175 -0.5102159  -0.7985077 ]\n",
      "Initial params in unconstrained space: [-0.10337298 -0.5102159  -0.7985077 ]\n",
      "Reached max iterations with fractional norm error 0.9989716895790675.\n"
     ]
    },
    {
     "name": "stderr",
     "output_type": "stream",
     "text": [
      "Gibbs Sampling:  23%|██▎       | 350/1500 [4:13:49<13:49:30, 43.28s/it, Sample=350, Status=Complete]"
     ]
    },
    {
     "name": "stdout",
     "output_type": "stream",
     "text": [
      "Initial params in unconstrained space: [-0.46701175 -0.5102159  -0.7985077 ]\n",
      "Initial params in unconstrained space: [-0.10337298 -0.5102159  -0.7985077 ]\n"
     ]
    },
    {
     "name": "stderr",
     "output_type": "stream",
     "text": [
      "Gibbs Sampling:  23%|██▎       | 351/1500 [4:14:36<14:08:35, 44.31s/it, Sample=351, Status=Complete]"
     ]
    },
    {
     "name": "stdout",
     "output_type": "stream",
     "text": [
      "Reached max iterations with fractional norm error 1.1281944260536034.\n",
      "Initial params in unconstrained space: [-0.46701175 -0.5102159  -0.7985077 ]\n",
      "Initial params in unconstrained space: [-0.10337298 -0.5102159  -0.7985077 ]\n"
     ]
    },
    {
     "name": "stderr",
     "output_type": "stream",
     "text": [
      "Gibbs Sampling:  23%|██▎       | 352/1500 [4:15:20<14:04:21, 44.13s/it, Sample=352, Status=Complete]"
     ]
    },
    {
     "name": "stdout",
     "output_type": "stream",
     "text": [
      "Reached max iterations with fractional norm error 10.97583920874054.\n",
      "Initial params in unconstrained space: [-0.46701175 -0.5102159  -0.7985077 ]\n",
      "Initial params in unconstrained space: [-0.10337298 -0.5102159  -0.7985077 ]\n",
      "Reached max iterations with fractional norm error 0.8704448256564778.\n"
     ]
    },
    {
     "name": "stderr",
     "output_type": "stream",
     "text": [
      "Gibbs Sampling:  24%|██▎       | 353/1500 [4:16:06<14:14:26, 44.70s/it, Sample=353, Status=Complete]"
     ]
    },
    {
     "name": "stdout",
     "output_type": "stream",
     "text": [
      "Initial params in unconstrained space: [-0.46701175 -0.5102159  -0.7985077 ]\n",
      "Initial params in unconstrained space: [-0.10337298 -0.5102159  -0.7985077 ]\n"
     ]
    },
    {
     "name": "stderr",
     "output_type": "stream",
     "text": [
      "Gibbs Sampling:  24%|██▎       | 354/1500 [4:16:51<14:19:19, 44.99s/it, Sample=354, Status=Complete]"
     ]
    },
    {
     "name": "stdout",
     "output_type": "stream",
     "text": [
      "Reached max iterations with fractional norm error 0.15010232183915886.\n",
      "Initial params in unconstrained space: [-0.46701175 -0.5102159  -0.7985077 ]\n",
      "Initial params in unconstrained space: [-0.10337298 -0.5102159  -0.7985077 ]\n"
     ]
    },
    {
     "name": "stderr",
     "output_type": "stream",
     "text": [
      "Gibbs Sampling:  24%|██▎       | 355/1500 [4:17:32<13:54:03, 43.71s/it, Sample=355, Status=Complete]"
     ]
    },
    {
     "name": "stdout",
     "output_type": "stream",
     "text": [
      "Reached max iterations with fractional norm error 0.06692548956260808.\n",
      "Initial params in unconstrained space: [-0.46701175 -0.5102159  -0.7985077 ]\n",
      "Initial params in unconstrained space: [-0.10337298 -0.5102159  -0.7985077 ]\n"
     ]
    },
    {
     "name": "stderr",
     "output_type": "stream",
     "text": [
      "Gibbs Sampling:  24%|██▎       | 356/1500 [4:18:17<14:01:53, 44.15s/it, Sample=356, Status=Complete]"
     ]
    },
    {
     "name": "stdout",
     "output_type": "stream",
     "text": [
      "Reached max iterations with fractional norm error 0.47587124486824184.\n",
      "Initial params in unconstrained space: [-0.46701175 -0.5102159  -0.7985077 ]\n",
      "Initial params in unconstrained space: [-0.10337298 -0.5102159  -0.7985077 ]\n"
     ]
    },
    {
     "name": "stderr",
     "output_type": "stream",
     "text": [
      "Gibbs Sampling:  24%|██▍       | 357/1500 [4:18:59<13:50:38, 43.60s/it, Sample=357, Status=Complete]"
     ]
    },
    {
     "name": "stdout",
     "output_type": "stream",
     "text": [
      "Reached max iterations with fractional norm error 0.8733773930652116.\n",
      "Initial params in unconstrained space: [-0.46701175 -0.5102159  -0.7985077 ]\n",
      "Initial params in unconstrained space: [-0.10337298 -0.5102159  -0.7985077 ]\n"
     ]
    },
    {
     "name": "stderr",
     "output_type": "stream",
     "text": [
      "Gibbs Sampling:  24%|██▍       | 358/1500 [4:19:41<13:38:14, 42.99s/it, Sample=358, Status=Complete]"
     ]
    },
    {
     "name": "stdout",
     "output_type": "stream",
     "text": [
      "Reached max iterations with fractional norm error 0.7243491390488309.\n",
      "Initial params in unconstrained space: [-0.46701175 -0.5102159  -0.7985077 ]\n",
      "Initial params in unconstrained space: [-0.10337298 -0.5102159  -0.7985077 ]\n",
      "Reached max iterations with fractional norm error 1.1015332534962838.\n"
     ]
    },
    {
     "name": "stderr",
     "output_type": "stream",
     "text": [
      "Gibbs Sampling:  24%|██▍       | 359/1500 [4:20:25<13:45:41, 43.42s/it, Sample=359, Status=Complete]"
     ]
    },
    {
     "name": "stdout",
     "output_type": "stream",
     "text": [
      "Initial params in unconstrained space: [-0.46701175 -0.5102159  -0.7985077 ]\n",
      "Initial params in unconstrained space: [-0.10337298 -0.5102159  -0.7985077 ]\n"
     ]
    },
    {
     "name": "stderr",
     "output_type": "stream",
     "text": [
      "Gibbs Sampling:  24%|██▍       | 360/1500 [4:21:09<13:44:06, 43.37s/it, Sample=360, Status=Complete]"
     ]
    },
    {
     "name": "stdout",
     "output_type": "stream",
     "text": [
      "Reached max iterations with fractional norm error 0.5803767031723535.\n",
      "Initial params in unconstrained space: [-0.46701175 -0.5102159  -0.7985077 ]\n",
      "Initial params in unconstrained space: [-0.10337298 -0.5102159  -0.7985077 ]\n",
      "Reached max iterations with fractional norm error 0.7169564395879834.\n"
     ]
    },
    {
     "name": "stderr",
     "output_type": "stream",
     "text": [
      "Gibbs Sampling:  24%|██▍       | 361/1500 [4:21:54<13:53:52, 43.93s/it, Sample=361, Status=Complete]"
     ]
    },
    {
     "name": "stdout",
     "output_type": "stream",
     "text": [
      "Initial params in unconstrained space: [-0.46701175 -0.5102159  -0.7985077 ]\n",
      "Initial params in unconstrained space: [-0.10337298 -0.5102159  -0.7985077 ]\n",
      "Reached max iterations with fractional norm error 0.999960610884509.\n"
     ]
    },
    {
     "name": "stderr",
     "output_type": "stream",
     "text": [
      "Gibbs Sampling:  24%|██▍       | 362/1500 [4:22:41<14:08:40, 44.75s/it, Sample=362, Status=Complete]"
     ]
    },
    {
     "name": "stdout",
     "output_type": "stream",
     "text": [
      "Initial params in unconstrained space: [-0.46701175 -0.5102159  -0.7985077 ]\n",
      "Initial params in unconstrained space: [-0.10337298 -0.5102159  -0.7985077 ]\n"
     ]
    },
    {
     "name": "stderr",
     "output_type": "stream",
     "text": [
      "Gibbs Sampling:  24%|██▍       | 363/1500 [4:23:22<13:49:58, 43.80s/it, Sample=363, Status=Complete]"
     ]
    },
    {
     "name": "stdout",
     "output_type": "stream",
     "text": [
      "Reached max iterations with fractional norm error 0.7646822339705777.\n",
      "Initial params in unconstrained space: [-0.46701175 -0.5102159  -0.7985077 ]\n",
      "Initial params in unconstrained space: [-0.10337298 -0.5102159  -0.7985077 ]\n"
     ]
    },
    {
     "name": "stderr",
     "output_type": "stream",
     "text": [
      "Gibbs Sampling:  24%|██▍       | 364/1500 [4:24:04<13:39:42, 43.29s/it, Sample=364, Status=Complete]"
     ]
    },
    {
     "name": "stdout",
     "output_type": "stream",
     "text": [
      "Reached max iterations with fractional norm error 0.4161893043375851.\n",
      "Initial params in unconstrained space: [-0.46701175 -0.5102159  -0.7985077 ]\n",
      "Initial params in unconstrained space: [-0.10337298 -0.5102159  -0.7985077 ]\n"
     ]
    },
    {
     "name": "stderr",
     "output_type": "stream",
     "text": [
      "Gibbs Sampling:  24%|██▍       | 365/1500 [4:24:50<13:54:01, 44.09s/it, Sample=365, Status=Complete]"
     ]
    },
    {
     "name": "stdout",
     "output_type": "stream",
     "text": [
      "Reached max iterations with fractional norm error 1.2633602175398035.\n",
      "Initial params in unconstrained space: [-0.46701175 -0.5102159  -0.7985077 ]\n",
      "Initial params in unconstrained space: [-0.10337298 -0.5102159  -0.7985077 ]\n"
     ]
    },
    {
     "name": "stderr",
     "output_type": "stream",
     "text": [
      "Gibbs Sampling:  24%|██▍       | 366/1500 [4:25:31<13:34:48, 43.11s/it, Sample=366, Status=Complete]"
     ]
    },
    {
     "name": "stdout",
     "output_type": "stream",
     "text": [
      "Reached max iterations with fractional norm error 0.5683892000525409.\n",
      "Initial params in unconstrained space: [-0.46701175 -0.5102159  -0.7985077 ]\n",
      "Initial params in unconstrained space: [-0.10337298 -0.5102159  -0.7985077 ]\n"
     ]
    },
    {
     "name": "stderr",
     "output_type": "stream",
     "text": [
      "Gibbs Sampling:  24%|██▍       | 367/1500 [4:26:12<13:23:41, 42.56s/it, Sample=367, Status=Complete]"
     ]
    },
    {
     "name": "stdout",
     "output_type": "stream",
     "text": [
      "Reached max iterations with fractional norm error 0.658097836690414.\n",
      "Initial params in unconstrained space: [-0.46701175 -0.5102159  -0.7985077 ]\n",
      "Initial params in unconstrained space: [-0.10337298 -0.5102159  -0.7985077 ]\n"
     ]
    },
    {
     "name": "stderr",
     "output_type": "stream",
     "text": [
      "Gibbs Sampling:  25%|██▍       | 368/1500 [4:27:00<13:49:37, 43.97s/it, Sample=368, Status=Complete]"
     ]
    },
    {
     "name": "stdout",
     "output_type": "stream",
     "text": [
      "Reached max iterations with fractional norm error 1.184789380210762.\n",
      "Initial params in unconstrained space: [-0.46701175 -0.5102159  -0.7985077 ]\n",
      "Initial params in unconstrained space: [-0.10337298 -0.5102159  -0.7985077 ]\n"
     ]
    },
    {
     "name": "stderr",
     "output_type": "stream",
     "text": [
      "Gibbs Sampling:  25%|██▍       | 369/1500 [4:27:40<13:27:51, 42.86s/it, Sample=369, Status=Complete]"
     ]
    },
    {
     "name": "stdout",
     "output_type": "stream",
     "text": [
      "Reached max iterations with fractional norm error 1.038581632791756.\n",
      "Initial params in unconstrained space: [-0.46701175 -0.5102159  -0.7985077 ]\n",
      "Initial params in unconstrained space: [-0.10337298 -0.5102159  -0.7985077 ]\n"
     ]
    },
    {
     "name": "stderr",
     "output_type": "stream",
     "text": [
      "Gibbs Sampling:  25%|██▍       | 370/1500 [4:28:22<13:20:43, 42.52s/it, Sample=370, Status=Complete]"
     ]
    },
    {
     "name": "stdout",
     "output_type": "stream",
     "text": [
      "Reached max iterations with fractional norm error 0.7471624603825899.\n",
      "Initial params in unconstrained space: [-0.46701175 -0.5102159  -0.7985077 ]\n",
      "Initial params in unconstrained space: [-0.10337298 -0.5102159  -0.7985077 ]\n"
     ]
    },
    {
     "name": "stderr",
     "output_type": "stream",
     "text": [
      "Gibbs Sampling:  25%|██▍       | 371/1500 [4:29:08<13:41:58, 43.68s/it, Sample=371, Status=Complete]"
     ]
    },
    {
     "name": "stdout",
     "output_type": "stream",
     "text": [
      "Reached max iterations with fractional norm error 0.9757171492577312.\n",
      "Initial params in unconstrained space: [-0.46701175 -0.5102159  -0.7985077 ]\n",
      "Initial params in unconstrained space: [-0.10337298 -0.5102159  -0.7985077 ]\n"
     ]
    },
    {
     "name": "stderr",
     "output_type": "stream",
     "text": [
      "Gibbs Sampling:  25%|██▍       | 372/1500 [4:29:49<13:23:40, 42.75s/it, Sample=372, Status=Complete]"
     ]
    },
    {
     "name": "stdout",
     "output_type": "stream",
     "text": [
      "Reached max iterations with fractional norm error 0.7757420435486693.\n",
      "Initial params in unconstrained space: [-0.46701175 -0.5102159  -0.7985077 ]\n",
      "Initial params in unconstrained space: [-0.10337298 -0.5102159  -0.7985077 ]\n",
      "Reached max iterations with fractional norm error 39.98089105466443.\n"
     ]
    },
    {
     "name": "stderr",
     "output_type": "stream",
     "text": [
      "Gibbs Sampling:  25%|██▍       | 373/1500 [4:30:30<13:17:53, 42.48s/it, Sample=373, Status=Complete]"
     ]
    },
    {
     "name": "stdout",
     "output_type": "stream",
     "text": [
      "Initial params in unconstrained space: [-0.46701175 -0.5102159  -0.7985077 ]\n",
      "Initial params in unconstrained space: [-0.10337298 -0.5102159  -0.7985077 ]\n"
     ]
    },
    {
     "name": "stderr",
     "output_type": "stream",
     "text": [
      "Gibbs Sampling:  25%|██▍       | 374/1500 [4:31:17<13:41:08, 43.76s/it, Sample=374, Status=Complete]"
     ]
    },
    {
     "name": "stdout",
     "output_type": "stream",
     "text": [
      "Reached max iterations with fractional norm error 0.16828323731821432.\n",
      "Initial params in unconstrained space: [-0.46701175 -0.5102159  -0.7985077 ]\n",
      "Initial params in unconstrained space: [-0.10337298 -0.5102159  -0.7985077 ]\n"
     ]
    },
    {
     "name": "stderr",
     "output_type": "stream",
     "text": [
      "Gibbs Sampling:  25%|██▌       | 375/1500 [4:31:59<13:27:32, 43.07s/it, Sample=375, Status=Complete]"
     ]
    },
    {
     "name": "stdout",
     "output_type": "stream",
     "text": [
      "Reached max iterations with fractional norm error 0.21794855659277385.\n",
      "Initial params in unconstrained space: [-0.46701175 -0.5102159  -0.7985077 ]\n",
      "Initial params in unconstrained space: [-0.10337298 -0.5102159  -0.7985077 ]\n",
      "Reached max iterations with fractional norm error 1.0360263439597288.\n"
     ]
    },
    {
     "name": "stderr",
     "output_type": "stream",
     "text": [
      "Gibbs Sampling:  25%|██▌       | 376/1500 [4:32:44<13:37:37, 43.65s/it, Sample=376, Status=Complete]"
     ]
    },
    {
     "name": "stdout",
     "output_type": "stream",
     "text": [
      "Initial params in unconstrained space: [-0.46701175 -0.5102159  -0.7985077 ]\n",
      "Initial params in unconstrained space: [-0.10337298 -0.5102159  -0.7985077 ]\n"
     ]
    },
    {
     "name": "stderr",
     "output_type": "stream",
     "text": [
      "Gibbs Sampling:  25%|██▌       | 377/1500 [4:33:28<13:39:56, 43.81s/it, Sample=377, Status=Complete]"
     ]
    },
    {
     "name": "stdout",
     "output_type": "stream",
     "text": [
      "Reached max iterations with fractional norm error 0.6590375828235766.\n",
      "Initial params in unconstrained space: [-0.46701175 -0.5102159  -0.7985077 ]\n",
      "Initial params in unconstrained space: [-0.10337298 -0.5102159  -0.7985077 ]\n"
     ]
    },
    {
     "name": "stderr",
     "output_type": "stream",
     "text": [
      "Gibbs Sampling:  25%|██▌       | 378/1500 [4:34:09<13:23:01, 42.94s/it, Sample=378, Status=Complete]"
     ]
    },
    {
     "name": "stdout",
     "output_type": "stream",
     "text": [
      "Reached max iterations with fractional norm error 0.952781369547649.\n",
      "Initial params in unconstrained space: [-0.46701175 -0.5102159  -0.7985077 ]\n",
      "Initial params in unconstrained space: [-0.10337298 -0.5102159  -0.7985077 ]\n"
     ]
    },
    {
     "name": "stderr",
     "output_type": "stream",
     "text": [
      "Gibbs Sampling:  25%|██▌       | 379/1500 [4:34:55<13:42:18, 44.01s/it, Sample=379, Status=Complete]"
     ]
    },
    {
     "name": "stdout",
     "output_type": "stream",
     "text": [
      "Reached max iterations with fractional norm error 0.46761812961436566.\n",
      "Initial params in unconstrained space: [-0.46701175 -0.5102159  -0.7985077 ]\n",
      "Initial params in unconstrained space: [-0.10337298 -0.5102159  -0.7985077 ]\n"
     ]
    },
    {
     "name": "stderr",
     "output_type": "stream",
     "text": [
      "Gibbs Sampling:  25%|██▌       | 380/1500 [4:35:37<13:28:51, 43.33s/it, Sample=380, Status=Complete]"
     ]
    },
    {
     "name": "stdout",
     "output_type": "stream",
     "text": [
      "Reached max iterations with fractional norm error 0.9694002351229359.\n",
      "Initial params in unconstrained space: [-0.46701175 -0.5102159  -0.7985077 ]\n",
      "Initial params in unconstrained space: [-0.10337298 -0.5102159  -0.7985077 ]\n"
     ]
    },
    {
     "name": "stderr",
     "output_type": "stream",
     "text": [
      "Gibbs Sampling:  25%|██▌       | 381/1500 [4:36:18<13:15:35, 42.66s/it, Sample=381, Status=Complete]"
     ]
    },
    {
     "name": "stdout",
     "output_type": "stream",
     "text": [
      "Reached max iterations with fractional norm error 1.0077413787839475.\n",
      "Initial params in unconstrained space: [-0.46701175 -0.5102159  -0.7985077 ]\n",
      "Initial params in unconstrained space: [-0.10337298 -0.5102159  -0.7985077 ]\n"
     ]
    },
    {
     "name": "stderr",
     "output_type": "stream",
     "text": [
      "Gibbs Sampling:  25%|██▌       | 382/1500 [4:37:05<13:36:45, 43.83s/it, Sample=382, Status=Complete]"
     ]
    },
    {
     "name": "stdout",
     "output_type": "stream",
     "text": [
      "Reached max iterations with fractional norm error 5.590291963637972.\n",
      "Initial params in unconstrained space: [-0.46701175 -0.5102159  -0.7985077 ]\n",
      "Initial params in unconstrained space: [-0.10337298 -0.5102159  -0.7985077 ]\n"
     ]
    },
    {
     "name": "stderr",
     "output_type": "stream",
     "text": [
      "Gibbs Sampling:  26%|██▌       | 383/1500 [4:37:45<13:18:14, 42.88s/it, Sample=383, Status=Complete]"
     ]
    },
    {
     "name": "stdout",
     "output_type": "stream",
     "text": [
      "Reached max iterations with fractional norm error 0.9504516325285752.\n",
      "Initial params in unconstrained space: [-0.46701175 -0.5102159  -0.7985077 ]\n",
      "Initial params in unconstrained space: [-0.10337298 -0.5102159  -0.7985077 ]\n"
     ]
    },
    {
     "name": "stderr",
     "output_type": "stream",
     "text": [
      "Gibbs Sampling:  26%|██▌       | 384/1500 [4:38:27<13:12:11, 42.59s/it, Sample=384, Status=Complete]"
     ]
    },
    {
     "name": "stdout",
     "output_type": "stream",
     "text": [
      "Reached max iterations with fractional norm error 0.9392788179271232.\n",
      "Initial params in unconstrained space: [-0.46701175 -0.5102159  -0.7985077 ]\n",
      "Initial params in unconstrained space: [-0.10337298 -0.5102159  -0.7985077 ]\n",
      "Reached max iterations with fractional norm error 1.170300467485832.\n"
     ]
    },
    {
     "name": "stderr",
     "output_type": "stream",
     "text": [
      "Gibbs Sampling:  26%|██▌       | 385/1500 [4:39:14<13:32:01, 43.70s/it, Sample=385, Status=Complete]"
     ]
    },
    {
     "name": "stdout",
     "output_type": "stream",
     "text": [
      "Initial params in unconstrained space: [-0.46701175 -0.5102159  -0.7985077 ]\n",
      "Initial params in unconstrained space: [-0.10337298 -0.5102159  -0.7985077 ]\n",
      "Reached max iterations with fractional norm error 3.917744666200751.\n"
     ]
    },
    {
     "name": "stderr",
     "output_type": "stream",
     "text": [
      "Gibbs Sampling:  26%|██▌       | 386/1500 [4:39:56<13:22:55, 43.25s/it, Sample=386, Status=Complete]"
     ]
    },
    {
     "name": "stdout",
     "output_type": "stream",
     "text": [
      "Initial params in unconstrained space: [-0.46701175 -0.5102159  -0.7985077 ]\n",
      "Initial params in unconstrained space: [-0.10337298 -0.5102159  -0.7985077 ]\n"
     ]
    },
    {
     "name": "stderr",
     "output_type": "stream",
     "text": [
      "Gibbs Sampling:  26%|██▌       | 387/1500 [4:40:39<13:20:22, 43.15s/it, Sample=387, Status=Complete]"
     ]
    },
    {
     "name": "stdout",
     "output_type": "stream",
     "text": [
      "Reached max iterations with fractional norm error 0.908308204478459.\n",
      "Initial params in unconstrained space: [-0.46701175 -0.5102159  -0.7985077 ]\n",
      "Initial params in unconstrained space: [-0.10337298 -0.5102159  -0.7985077 ]\n"
     ]
    },
    {
     "name": "stderr",
     "output_type": "stream",
     "text": [
      "Gibbs Sampling:  26%|██▌       | 388/1500 [4:41:24<13:34:13, 43.93s/it, Sample=388, Status=Complete]"
     ]
    },
    {
     "name": "stdout",
     "output_type": "stream",
     "text": [
      "Reached max iterations with fractional norm error 0.3223518411656754.\n",
      "Initial params in unconstrained space: [-0.46701175 -0.5102159  -0.7985077 ]\n",
      "Initial params in unconstrained space: [-0.10337298 -0.5102159  -0.7985077 ]\n"
     ]
    },
    {
     "name": "stderr",
     "output_type": "stream",
     "text": [
      "Gibbs Sampling:  26%|██▌       | 389/1500 [4:42:06<13:18:48, 43.14s/it, Sample=389, Status=Complete]"
     ]
    },
    {
     "name": "stdout",
     "output_type": "stream",
     "text": [
      "Reached max iterations with fractional norm error 0.27372185905598495.\n",
      "Initial params in unconstrained space: [-0.46701175 -0.5102159  -0.7985077 ]\n",
      "Initial params in unconstrained space: [-0.10337298 -0.5102159  -0.7985077 ]\n",
      "Reached max iterations with fractional norm error 0.5758022511275882.\n"
     ]
    },
    {
     "name": "stderr",
     "output_type": "stream",
     "text": [
      "Gibbs Sampling:  26%|██▌       | 390/1500 [4:42:50<13:23:26, 43.43s/it, Sample=390, Status=Complete]"
     ]
    },
    {
     "name": "stdout",
     "output_type": "stream",
     "text": [
      "Initial params in unconstrained space: [-0.46701175 -0.5102159  -0.7985077 ]\n",
      "Initial params in unconstrained space: [-0.10337298 -0.5102159  -0.7985077 ]\n"
     ]
    },
    {
     "name": "stderr",
     "output_type": "stream",
     "text": [
      "Gibbs Sampling:  26%|██▌       | 391/1500 [4:43:37<13:45:11, 44.65s/it, Sample=391, Status=Complete]"
     ]
    },
    {
     "name": "stdout",
     "output_type": "stream",
     "text": [
      "Reached max iterations with fractional norm error 0.9435934207096515.\n",
      "Initial params in unconstrained space: [-0.46701175 -0.5102159  -0.7985077 ]\n",
      "Initial params in unconstrained space: [-0.10337298 -0.5102159  -0.7985077 ]\n"
     ]
    },
    {
     "name": "stderr",
     "output_type": "stream",
     "text": [
      "Gibbs Sampling:  26%|██▌       | 392/1500 [4:44:18<13:23:03, 43.49s/it, Sample=392, Status=Complete]"
     ]
    },
    {
     "name": "stdout",
     "output_type": "stream",
     "text": [
      "Reached max iterations with fractional norm error 1.0513583307526777.\n",
      "Initial params in unconstrained space: [-0.46701175 -0.5102159  -0.7985077 ]\n",
      "Initial params in unconstrained space: [-0.10337298 -0.5102159  -0.7985077 ]\n",
      "Reached max iterations with fractional norm error 0.9313924288517066.\n"
     ]
    },
    {
     "name": "stderr",
     "output_type": "stream",
     "text": [
      "Gibbs Sampling:  26%|██▌       | 393/1500 [4:45:03<13:31:05, 43.96s/it, Sample=393, Status=Complete]"
     ]
    },
    {
     "name": "stdout",
     "output_type": "stream",
     "text": [
      "Initial params in unconstrained space: [-0.46701175 -0.5102159  -0.7985077 ]\n",
      "Initial params in unconstrained space: [-0.10337298 -0.5102159  -0.7985077 ]\n"
     ]
    },
    {
     "name": "stderr",
     "output_type": "stream",
     "text": [
      "Gibbs Sampling:  26%|██▋       | 394/1500 [4:45:47<13:32:17, 44.07s/it, Sample=394, Status=Complete]"
     ]
    },
    {
     "name": "stdout",
     "output_type": "stream",
     "text": [
      "Reached max iterations with fractional norm error 0.7228416391755339.\n",
      "Initial params in unconstrained space: [-0.46701175 -0.5102159  -0.7985077 ]\n",
      "Initial params in unconstrained space: [-0.10337298 -0.5102159  -0.7985077 ]\n"
     ]
    },
    {
     "name": "stderr",
     "output_type": "stream",
     "text": [
      "Gibbs Sampling:  26%|██▋       | 395/1500 [4:46:30<13:23:12, 43.61s/it, Sample=395, Status=Complete]"
     ]
    },
    {
     "name": "stdout",
     "output_type": "stream",
     "text": [
      "Reached max iterations with fractional norm error 1.3206289283210593.\n",
      "Initial params in unconstrained space: [-0.46701175 -0.5102159  -0.7985077 ]\n",
      "Initial params in unconstrained space: [-0.10337298 -0.5102159  -0.7985077 ]\n"
     ]
    },
    {
     "name": "stderr",
     "output_type": "stream",
     "text": [
      "Gibbs Sampling:  26%|██▋       | 396/1500 [4:47:13<13:21:29, 43.56s/it, Sample=396, Status=Complete]"
     ]
    },
    {
     "name": "stdout",
     "output_type": "stream",
     "text": [
      "Reached max iterations with fractional norm error 0.7065935515444096.\n",
      "Initial params in unconstrained space: [-0.46701175 -0.5102159  -0.7985077 ]\n",
      "Initial params in unconstrained space: [-0.10337298 -0.5102159  -0.7985077 ]\n"
     ]
    },
    {
     "name": "stderr",
     "output_type": "stream",
     "text": [
      "Gibbs Sampling:  26%|██▋       | 397/1500 [4:47:59<13:33:41, 44.26s/it, Sample=397, Status=Complete]"
     ]
    },
    {
     "name": "stdout",
     "output_type": "stream",
     "text": [
      "Reached max iterations with fractional norm error 24.27678925536757.\n",
      "Initial params in unconstrained space: [-0.46701175 -0.5102159  -0.7985077 ]\n",
      "Initial params in unconstrained space: [-0.10337298 -0.5102159  -0.7985077 ]\n"
     ]
    },
    {
     "name": "stderr",
     "output_type": "stream",
     "text": [
      "Gibbs Sampling:  27%|██▋       | 398/1500 [4:48:41<13:16:03, 43.34s/it, Sample=398, Status=Complete]"
     ]
    },
    {
     "name": "stdout",
     "output_type": "stream",
     "text": [
      "Reached max iterations with fractional norm error 0.27359411168562914.\n",
      "Initial params in unconstrained space: [-0.46701175 -0.5102159  -0.7985077 ]\n",
      "Initial params in unconstrained space: [-0.10337298 -0.5102159  -0.7985077 ]\n",
      "Reached max iterations with fractional norm error 0.9101406899064215.\n"
     ]
    },
    {
     "name": "stderr",
     "output_type": "stream",
     "text": [
      "Gibbs Sampling:  27%|██▋       | 399/1500 [4:49:24<13:14:55, 43.32s/it, Sample=399, Status=Complete]"
     ]
    },
    {
     "name": "stdout",
     "output_type": "stream",
     "text": [
      "Initial params in unconstrained space: [-0.46701175 -0.5102159  -0.7985077 ]\n",
      "Initial params in unconstrained space: [-0.10337298 -0.5102159  -0.7985077 ]\n"
     ]
    },
    {
     "name": "stderr",
     "output_type": "stream",
     "text": [
      "Gibbs Sampling:  27%|██▋       | 400/1500 [4:50:09<13:23:16, 43.81s/it, Sample=400, Status=Complete]"
     ]
    },
    {
     "name": "stdout",
     "output_type": "stream",
     "text": [
      "Reached max iterations with fractional norm error 3.283616057413751.\n",
      "Initial params in unconstrained space: [-0.46701175 -0.5102159  -0.7985077 ]\n",
      "Initial params in unconstrained space: [-0.10337298 -0.5102159  -0.7985077 ]\n"
     ]
    },
    {
     "name": "stderr",
     "output_type": "stream",
     "text": [
      "Gibbs Sampling:  27%|██▋       | 401/1500 [4:50:49<13:04:34, 42.83s/it, Sample=401, Status=Complete]"
     ]
    },
    {
     "name": "stdout",
     "output_type": "stream",
     "text": [
      "Reached max iterations with fractional norm error 1.4959643265062892.\n",
      "Initial params in unconstrained space: [-0.46701175 -0.5102159  -0.7985077 ]\n",
      "Initial params in unconstrained space: [-0.10337298 -0.5102159  -0.7985077 ]\n"
     ]
    },
    {
     "name": "stderr",
     "output_type": "stream",
     "text": [
      "Gibbs Sampling:  27%|██▋       | 402/1500 [4:51:34<13:13:09, 43.34s/it, Sample=402, Status=Complete]"
     ]
    },
    {
     "name": "stdout",
     "output_type": "stream",
     "text": [
      "Reached max iterations with fractional norm error 0.2159730699073871.\n",
      "Initial params in unconstrained space: [-0.46701175 -0.5102159  -0.7985077 ]\n",
      "Initial params in unconstrained space: [-0.10337298 -0.5102159  -0.7985077 ]\n"
     ]
    },
    {
     "name": "stderr",
     "output_type": "stream",
     "text": [
      "Gibbs Sampling:  27%|██▋       | 403/1500 [4:52:19<13:24:54, 44.02s/it, Sample=403, Status=Complete]"
     ]
    },
    {
     "name": "stdout",
     "output_type": "stream",
     "text": [
      "Reached max iterations with fractional norm error 9.096378136062247.\n",
      "Initial params in unconstrained space: [-0.46701175 -0.5102159  -0.7985077 ]\n",
      "Initial params in unconstrained space: [-0.10337298 -0.5102159  -0.7985077 ]\n"
     ]
    },
    {
     "name": "stderr",
     "output_type": "stream",
     "text": [
      "Gibbs Sampling:  27%|██▋       | 404/1500 [4:52:59<13:01:49, 42.80s/it, Sample=404, Status=Complete]"
     ]
    },
    {
     "name": "stdout",
     "output_type": "stream",
     "text": [
      "Reached max iterations with fractional norm error 0.39831651038254834.\n",
      "Initial params in unconstrained space: [-0.46701175 -0.5102159  -0.7985077 ]\n",
      "Initial params in unconstrained space: [-0.10337298 -0.5102159  -0.7985077 ]\n"
     ]
    },
    {
     "name": "stderr",
     "output_type": "stream",
     "text": [
      "Gibbs Sampling:  27%|██▋       | 405/1500 [4:53:43<13:07:06, 43.13s/it, Sample=405, Status=Complete]"
     ]
    },
    {
     "name": "stdout",
     "output_type": "stream",
     "text": [
      "Reached max iterations with fractional norm error 24.58109488466578.\n",
      "Initial params in unconstrained space: [-0.46701175 -0.5102159  -0.7985077 ]\n",
      "Initial params in unconstrained space: [-0.10337298 -0.5102159  -0.7985077 ]\n"
     ]
    },
    {
     "name": "stderr",
     "output_type": "stream",
     "text": [
      "Gibbs Sampling:  27%|██▋       | 406/1500 [4:54:29<13:21:36, 43.96s/it, Sample=406, Status=Complete]"
     ]
    },
    {
     "name": "stdout",
     "output_type": "stream",
     "text": [
      "Reached max iterations with fractional norm error 1.3074937304115781.\n",
      "Initial params in unconstrained space: [-0.46701175 -0.5102159  -0.7985077 ]\n",
      "Initial params in unconstrained space: [-0.10337298 -0.5102159  -0.7985077 ]\n"
     ]
    },
    {
     "name": "stderr",
     "output_type": "stream",
     "text": [
      "Gibbs Sampling:  27%|██▋       | 407/1500 [4:55:11<13:07:05, 43.21s/it, Sample=407, Status=Complete]"
     ]
    },
    {
     "name": "stdout",
     "output_type": "stream",
     "text": [
      "Reached max iterations with fractional norm error 0.9770064098569251.\n",
      "Initial params in unconstrained space: [-0.46701175 -0.5102159  -0.7985077 ]\n",
      "Initial params in unconstrained space: [-0.10337298 -0.5102159  -0.7985077 ]\n",
      "Reached max iterations with fractional norm error 1.092018156095717.\n"
     ]
    },
    {
     "name": "stderr",
     "output_type": "stream",
     "text": [
      "Gibbs Sampling:  27%|██▋       | 408/1500 [4:55:54<13:06:55, 43.24s/it, Sample=408, Status=Complete]"
     ]
    },
    {
     "name": "stdout",
     "output_type": "stream",
     "text": [
      "Initial params in unconstrained space: [-0.46701175 -0.5102159  -0.7985077 ]\n",
      "Initial params in unconstrained space: [-0.10337298 -0.5102159  -0.7985077 ]\n"
     ]
    },
    {
     "name": "stderr",
     "output_type": "stream",
     "text": [
      "Gibbs Sampling:  27%|██▋       | 409/1500 [4:56:40<13:22:30, 44.13s/it, Sample=409, Status=Complete]"
     ]
    },
    {
     "name": "stdout",
     "output_type": "stream",
     "text": [
      "Reached max iterations with fractional norm error 1.0708903900669604.\n",
      "Initial params in unconstrained space: [-0.46701175 -0.5102159  -0.7985077 ]\n",
      "Initial params in unconstrained space: [-0.10337298 -0.5102159  -0.7985077 ]\n"
     ]
    },
    {
     "name": "stderr",
     "output_type": "stream",
     "text": [
      "Gibbs Sampling:  27%|██▋       | 410/1500 [4:57:21<13:05:02, 43.21s/it, Sample=410, Status=Complete]"
     ]
    },
    {
     "name": "stdout",
     "output_type": "stream",
     "text": [
      "Reached max iterations with fractional norm error 0.9592486822999081.\n",
      "Initial params in unconstrained space: [-0.46701175 -0.5102159  -0.7985077 ]\n",
      "Initial params in unconstrained space: [-0.10337298 -0.5102159  -0.7985077 ]\n",
      "Reached max iterations with fractional norm error 0.4798132279513477.\n"
     ]
    },
    {
     "name": "stderr",
     "output_type": "stream",
     "text": [
      "Gibbs Sampling:  27%|██▋       | 411/1500 [4:58:04<13:02:45, 43.13s/it, Sample=411, Status=Complete]"
     ]
    },
    {
     "name": "stdout",
     "output_type": "stream",
     "text": [
      "Initial params in unconstrained space: [-0.46701175 -0.5102159  -0.7985077 ]\n",
      "Initial params in unconstrained space: [-0.10337298 -0.5102159  -0.7985077 ]\n"
     ]
    },
    {
     "name": "stderr",
     "output_type": "stream",
     "text": [
      "Gibbs Sampling:  27%|██▋       | 412/1500 [4:58:50<13:14:23, 43.81s/it, Sample=412, Status=Complete]"
     ]
    },
    {
     "name": "stdout",
     "output_type": "stream",
     "text": [
      "Reached max iterations with fractional norm error 1.0243555439564664.\n",
      "Initial params in unconstrained space: [-0.46701175 -0.5102159  -0.7985077 ]\n",
      "Initial params in unconstrained space: [-0.10337298 -0.5102159  -0.7985077 ]\n"
     ]
    },
    {
     "name": "stderr",
     "output_type": "stream",
     "text": [
      "Gibbs Sampling:  28%|██▊       | 413/1500 [4:59:30<12:57:24, 42.91s/it, Sample=413, Status=Complete]"
     ]
    },
    {
     "name": "stdout",
     "output_type": "stream",
     "text": [
      "Reached max iterations with fractional norm error 0.668681893025053.\n",
      "Initial params in unconstrained space: [-0.46701175 -0.5102159  -0.7985077 ]\n",
      "Initial params in unconstrained space: [-0.10337298 -0.5102159  -0.7985077 ]\n"
     ]
    },
    {
     "name": "stderr",
     "output_type": "stream",
     "text": [
      "Gibbs Sampling:  28%|██▊       | 414/1500 [5:00:14<13:02:01, 43.21s/it, Sample=414, Status=Complete]"
     ]
    },
    {
     "name": "stdout",
     "output_type": "stream",
     "text": [
      "Reached max iterations with fractional norm error 1.4383017777503386.\n",
      "Initial params in unconstrained space: [-0.46701175 -0.5102159  -0.7985077 ]\n",
      "Initial params in unconstrained space: [-0.10337298 -0.5102159  -0.7985077 ]\n"
     ]
    },
    {
     "name": "stderr",
     "output_type": "stream",
     "text": [
      "Gibbs Sampling:  28%|██▊       | 415/1500 [5:01:01<13:20:55, 44.29s/it, Sample=415, Status=Complete]"
     ]
    },
    {
     "name": "stdout",
     "output_type": "stream",
     "text": [
      "Reached max iterations with fractional norm error 0.9943938297688566.\n",
      "Initial params in unconstrained space: [-0.46701175 -0.5102159  -0.7985077 ]\n",
      "Initial params in unconstrained space: [-0.10337298 -0.5102159  -0.7985077 ]\n"
     ]
    },
    {
     "name": "stderr",
     "output_type": "stream",
     "text": [
      "Gibbs Sampling:  28%|██▊       | 416/1500 [5:01:42<13:02:01, 43.29s/it, Sample=416, Status=Complete]"
     ]
    },
    {
     "name": "stdout",
     "output_type": "stream",
     "text": [
      "Reached max iterations with fractional norm error 0.14440347110102472.\n",
      "Initial params in unconstrained space: [-0.46701175 -0.5102159  -0.7985077 ]\n",
      "Initial params in unconstrained space: [-0.10337298 -0.5102159  -0.7985077 ]\n",
      "Reached max iterations with fractional norm error 0.33826515578001515.\n"
     ]
    },
    {
     "name": "stderr",
     "output_type": "stream",
     "text": [
      "Gibbs Sampling:  28%|██▊       | 417/1500 [5:02:26<13:05:51, 43.54s/it, Sample=417, Status=Complete]"
     ]
    },
    {
     "name": "stdout",
     "output_type": "stream",
     "text": [
      "Initial params in unconstrained space: [-0.46701175 -0.5102159  -0.7985077 ]\n",
      "Initial params in unconstrained space: [-0.10337298 -0.5102159  -0.7985077 ]\n"
     ]
    },
    {
     "name": "stderr",
     "output_type": "stream",
     "text": [
      "Gibbs Sampling:  28%|██▊       | 418/1500 [5:03:11<13:13:54, 44.02s/it, Sample=418, Status=Complete]"
     ]
    },
    {
     "name": "stdout",
     "output_type": "stream",
     "text": [
      "Reached max iterations with fractional norm error 10.6550440359956.\n",
      "Initial params in unconstrained space: [-0.46701175 -0.5102159  -0.7985077 ]\n",
      "Initial params in unconstrained space: [-0.10337298 -0.5102159  -0.7985077 ]\n"
     ]
    },
    {
     "name": "stderr",
     "output_type": "stream",
     "text": [
      "Gibbs Sampling:  28%|██▊       | 419/1500 [5:03:52<12:54:24, 42.98s/it, Sample=419, Status=Complete]"
     ]
    },
    {
     "name": "stdout",
     "output_type": "stream",
     "text": [
      "Reached max iterations with fractional norm error 1.0002204951160596.\n",
      "Initial params in unconstrained space: [-0.46701175 -0.5102159  -0.7985077 ]\n",
      "Initial params in unconstrained space: [-0.10337298 -0.5102159  -0.7985077 ]\n"
     ]
    },
    {
     "name": "stderr",
     "output_type": "stream",
     "text": [
      "Gibbs Sampling:  28%|██▊       | 420/1500 [5:04:36<12:57:31, 43.20s/it, Sample=420, Status=Complete]"
     ]
    },
    {
     "name": "stdout",
     "output_type": "stream",
     "text": [
      "Reached max iterations with fractional norm error 0.1997188147418702.\n",
      "Initial params in unconstrained space: [-0.46701175 -0.5102159  -0.7985077 ]\n",
      "Initial params in unconstrained space: [-0.10337298 -0.5102159  -0.7985077 ]\n"
     ]
    },
    {
     "name": "stderr",
     "output_type": "stream",
     "text": [
      "Gibbs Sampling:  28%|██▊       | 421/1500 [5:05:22<13:16:52, 44.31s/it, Sample=421, Status=Complete]"
     ]
    },
    {
     "name": "stdout",
     "output_type": "stream",
     "text": [
      "Reached max iterations with fractional norm error 0.13111316496552772.\n",
      "Initial params in unconstrained space: [-0.46701175 -0.5102159  -0.7985077 ]\n",
      "Initial params in unconstrained space: [-0.10337298 -0.5102159  -0.7985077 ]\n"
     ]
    },
    {
     "name": "stderr",
     "output_type": "stream",
     "text": [
      "Gibbs Sampling:  28%|██▊       | 422/1500 [5:06:03<12:54:52, 43.13s/it, Sample=422, Status=Complete]"
     ]
    },
    {
     "name": "stdout",
     "output_type": "stream",
     "text": [
      "Reached max iterations with fractional norm error 0.16062707742525978.\n",
      "Initial params in unconstrained space: [-0.46701175 -0.5102159  -0.7985077 ]\n",
      "Initial params in unconstrained space: [-0.10337298 -0.5102159  -0.7985077 ]\n",
      "Reached max iterations with fractional norm error 0.46537843383015215.\n"
     ]
    },
    {
     "name": "stderr",
     "output_type": "stream",
     "text": [
      "Gibbs Sampling:  28%|██▊       | 423/1500 [5:06:46<12:56:55, 43.28s/it, Sample=423, Status=Complete]"
     ]
    },
    {
     "name": "stdout",
     "output_type": "stream",
     "text": [
      "Initial params in unconstrained space: [-0.46701175 -0.5102159  -0.7985077 ]\n",
      "Initial params in unconstrained space: [-0.10337298 -0.5102159  -0.7985077 ]\n",
      "Reached max iterations with fractional norm error 1.17115958530371.\n"
     ]
    },
    {
     "name": "stderr",
     "output_type": "stream",
     "text": [
      "Gibbs Sampling:  28%|██▊       | 424/1500 [5:07:33<13:12:20, 44.18s/it, Sample=424, Status=Complete]"
     ]
    },
    {
     "name": "stdout",
     "output_type": "stream",
     "text": [
      "Initial params in unconstrained space: [-0.46701175 -0.5102159  -0.7985077 ]\n",
      "Initial params in unconstrained space: [-0.10337298 -0.5102159  -0.7985077 ]\n"
     ]
    },
    {
     "name": "stderr",
     "output_type": "stream",
     "text": [
      "Gibbs Sampling:  28%|██▊       | 425/1500 [5:08:14<12:57:33, 43.40s/it, Sample=425, Status=Complete]"
     ]
    },
    {
     "name": "stdout",
     "output_type": "stream",
     "text": [
      "Reached max iterations with fractional norm error 0.31179882173654583.\n",
      "Initial params in unconstrained space: [-0.46701175 -0.5102159  -0.7985077 ]\n",
      "Initial params in unconstrained space: [-0.10337298 -0.5102159  -0.7985077 ]\n"
     ]
    },
    {
     "name": "stderr",
     "output_type": "stream",
     "text": [
      "Gibbs Sampling:  28%|██▊       | 426/1500 [5:08:58<12:59:07, 43.53s/it, Sample=426, Status=Complete]"
     ]
    },
    {
     "name": "stdout",
     "output_type": "stream",
     "text": [
      "Reached max iterations with fractional norm error 47.80559702263899.\n",
      "Initial params in unconstrained space: [-0.46701175 -0.5102159  -0.7985077 ]\n",
      "Initial params in unconstrained space: [-0.10337298 -0.5102159  -0.7985077 ]\n"
     ]
    },
    {
     "name": "stderr",
     "output_type": "stream",
     "text": [
      "Gibbs Sampling:  28%|██▊       | 427/1500 [5:09:44<13:10:52, 44.22s/it, Sample=427, Status=Complete]"
     ]
    },
    {
     "name": "stdout",
     "output_type": "stream",
     "text": [
      "Reached max iterations with fractional norm error 0.2758679900050015.\n",
      "Initial params in unconstrained space: [-0.46701175 -0.5102159  -0.7985077 ]\n",
      "Initial params in unconstrained space: [-0.10337298 -0.5102159  -0.7985077 ]\n"
     ]
    },
    {
     "name": "stderr",
     "output_type": "stream",
     "text": [
      "Gibbs Sampling:  29%|██▊       | 428/1500 [5:10:24<12:48:45, 43.03s/it, Sample=428, Status=Complete]"
     ]
    },
    {
     "name": "stdout",
     "output_type": "stream",
     "text": [
      "Reached max iterations with fractional norm error 0.08253265786623634.\n",
      "Initial params in unconstrained space: [-0.46701175 -0.5102159  -0.7985077 ]\n",
      "Initial params in unconstrained space: [-0.10337298 -0.5102159  -0.7985077 ]\n",
      "Reached max iterations with fractional norm error 0.9274970764633499.\n"
     ]
    },
    {
     "name": "stderr",
     "output_type": "stream",
     "text": [
      "Gibbs Sampling:  29%|██▊       | 429/1500 [5:11:08<12:53:06, 43.31s/it, Sample=429, Status=Complete]"
     ]
    },
    {
     "name": "stdout",
     "output_type": "stream",
     "text": [
      "Initial params in unconstrained space: [-0.46701175 -0.5102159  -0.7985077 ]\n",
      "Initial params in unconstrained space: [-0.10337298 -0.5102159  -0.7985077 ]\n"
     ]
    },
    {
     "name": "stderr",
     "output_type": "stream",
     "text": [
      "Gibbs Sampling:  29%|██▊       | 430/1500 [5:11:54<13:07:42, 44.17s/it, Sample=430, Status=Complete]"
     ]
    },
    {
     "name": "stdout",
     "output_type": "stream",
     "text": [
      "Reached max iterations with fractional norm error 0.5954489664459676.\n",
      "Initial params in unconstrained space: [-0.46701175 -0.5102159  -0.7985077 ]\n",
      "Initial params in unconstrained space: [-0.10337298 -0.5102159  -0.7985077 ]\n"
     ]
    },
    {
     "name": "stderr",
     "output_type": "stream",
     "text": [
      "Gibbs Sampling:  29%|██▊       | 431/1500 [5:12:35<12:49:54, 43.21s/it, Sample=431, Status=Complete]"
     ]
    },
    {
     "name": "stdout",
     "output_type": "stream",
     "text": [
      "Reached max iterations with fractional norm error 0.25871671381636935.\n",
      "Initial params in unconstrained space: [-0.46701175 -0.5102159  -0.7985077 ]\n",
      "Initial params in unconstrained space: [-0.10337298 -0.5102159  -0.7985077 ]\n"
     ]
    },
    {
     "name": "stderr",
     "output_type": "stream",
     "text": [
      "Gibbs Sampling:  29%|██▊       | 431/1500 [5:13:18<12:49:54, 43.21s/it, Sample=432, Status=Complete]"
     ]
    },
    {
     "name": "stdout",
     "output_type": "stream",
     "text": [
      "Reached max iterations with fractional norm error 1.0021620932339055.\n"
     ]
    },
    {
     "name": "stderr",
     "output_type": "stream",
     "text": [
      "Gibbs Sampling:  29%|██▉       | 432/1500 [5:13:18<12:47:24, 43.11s/it, Sample=432, Status=Complete]"
     ]
    },
    {
     "name": "stdout",
     "output_type": "stream",
     "text": [
      "Initial params in unconstrained space: [-0.46701175 -0.5102159  -0.7985077 ]\n",
      "Initial params in unconstrained space: [-0.10337298 -0.5102159  -0.7985077 ]\n"
     ]
    },
    {
     "name": "stderr",
     "output_type": "stream",
     "text": [
      "Gibbs Sampling:  29%|██▉       | 433/1500 [5:14:03<12:57:26, 43.72s/it, Sample=433, Status=Complete]"
     ]
    },
    {
     "name": "stdout",
     "output_type": "stream",
     "text": [
      "Reached max iterations with fractional norm error 0.9613553789378376.\n",
      "Initial params in unconstrained space: [-0.46701175 -0.5102159  -0.7985077 ]\n",
      "Initial params in unconstrained space: [-0.10337298 -0.5102159  -0.7985077 ]\n"
     ]
    },
    {
     "name": "stderr",
     "output_type": "stream",
     "text": [
      "Gibbs Sampling:  29%|██▉       | 434/1500 [5:14:44<12:40:02, 42.78s/it, Sample=434, Status=Complete]"
     ]
    },
    {
     "name": "stdout",
     "output_type": "stream",
     "text": [
      "Reached max iterations with fractional norm error 0.6444193930825646.\n",
      "Initial params in unconstrained space: [-0.46701175 -0.5102159  -0.7985077 ]\n",
      "Initial params in unconstrained space: [-0.10337298 -0.5102159  -0.7985077 ]\n",
      "Reached max iterations with fractional norm error 0.16970958272371636.\n"
     ]
    },
    {
     "name": "stderr",
     "output_type": "stream",
     "text": [
      "Gibbs Sampling:  29%|██▉       | 435/1500 [5:15:29<12:49:47, 43.37s/it, Sample=435, Status=Complete]"
     ]
    },
    {
     "name": "stdout",
     "output_type": "stream",
     "text": [
      "Initial params in unconstrained space: [-0.46701175 -0.5102159  -0.7985077 ]\n",
      "Initial params in unconstrained space: [-0.10337298 -0.5102159  -0.7985077 ]\n"
     ]
    },
    {
     "name": "stderr",
     "output_type": "stream",
     "text": [
      "Gibbs Sampling:  29%|██▉       | 436/1500 [5:16:14<13:01:19, 44.06s/it, Sample=436, Status=Complete]"
     ]
    },
    {
     "name": "stdout",
     "output_type": "stream",
     "text": [
      "Reached max iterations with fractional norm error 0.1430504072721474.\n",
      "Initial params in unconstrained space: [-0.46701175 -0.5102159  -0.7985077 ]\n",
      "Initial params in unconstrained space: [-0.10337298 -0.5102159  -0.7985077 ]\n"
     ]
    },
    {
     "name": "stderr",
     "output_type": "stream",
     "text": [
      "Gibbs Sampling:  29%|██▉       | 437/1500 [5:16:56<12:49:41, 43.44s/it, Sample=437, Status=Complete]"
     ]
    },
    {
     "name": "stdout",
     "output_type": "stream",
     "text": [
      "Reached max iterations with fractional norm error 0.3777221530528519.\n",
      "Initial params in unconstrained space: [-0.46701175 -0.5102159  -0.7985077 ]\n",
      "Initial params in unconstrained space: [-0.10337298 -0.5102159  -0.7985077 ]\n"
     ]
    },
    {
     "name": "stderr",
     "output_type": "stream",
     "text": [
      "Gibbs Sampling:  29%|██▉       | 438/1500 [5:17:40<12:50:57, 43.56s/it, Sample=438, Status=Complete]"
     ]
    },
    {
     "name": "stdout",
     "output_type": "stream",
     "text": [
      "Reached max iterations with fractional norm error 0.3283903635668775.\n",
      "Initial params in unconstrained space: [-0.46701175 -0.5102159  -0.7985077 ]\n",
      "Initial params in unconstrained space: [-0.10337298 -0.5102159  -0.7985077 ]\n"
     ]
    },
    {
     "name": "stderr",
     "output_type": "stream",
     "text": [
      "Gibbs Sampling:  29%|██▉       | 439/1500 [5:18:26<13:00:43, 44.15s/it, Sample=439, Status=Complete]"
     ]
    },
    {
     "name": "stdout",
     "output_type": "stream",
     "text": [
      "Reached max iterations with fractional norm error 0.45388543980715956.\n",
      "Initial params in unconstrained space: [-0.46701175 -0.5102159  -0.7985077 ]\n",
      "Initial params in unconstrained space: [-0.10337298 -0.5102159  -0.7985077 ]\n"
     ]
    },
    {
     "name": "stderr",
     "output_type": "stream",
     "text": [
      "Gibbs Sampling:  29%|██▉       | 440/1500 [5:19:08<12:50:37, 43.62s/it, Sample=440, Status=Complete]"
     ]
    },
    {
     "name": "stdout",
     "output_type": "stream",
     "text": [
      "Reached max iterations with fractional norm error 1.489277514332816.\n",
      "Initial params in unconstrained space: [-0.46701175 -0.5102159  -0.7985077 ]\n",
      "Initial params in unconstrained space: [-0.10337298 -0.5102159  -0.7985077 ]\n",
      "Reached max iterations with fractional norm error 0.4253601499646525.\n"
     ]
    },
    {
     "name": "stderr",
     "output_type": "stream",
     "text": [
      "Gibbs Sampling:  29%|██▉       | 441/1500 [5:19:57<13:20:15, 45.34s/it, Sample=441, Status=Complete]"
     ]
    },
    {
     "name": "stdout",
     "output_type": "stream",
     "text": [
      "Initial params in unconstrained space: [-0.46701175 -0.5102159  -0.7985077 ]\n",
      "Initial params in unconstrained space: [-0.10337298 -0.5102159  -0.7985077 ]\n"
     ]
    },
    {
     "name": "stderr",
     "output_type": "stream",
     "text": [
      "Gibbs Sampling:  29%|██▉       | 442/1500 [5:20:39<13:01:23, 44.31s/it, Sample=442, Status=Complete]"
     ]
    },
    {
     "name": "stdout",
     "output_type": "stream",
     "text": [
      "Reached max iterations with fractional norm error 0.9117256958527836.\n",
      "Initial params in unconstrained space: [-0.46701175 -0.5102159  -0.7985077 ]\n",
      "Initial params in unconstrained space: [-0.10337298 -0.5102159  -0.7985077 ]\n",
      "Reached max iterations with fractional norm error 0.6201722997276855.\n"
     ]
    },
    {
     "name": "stderr",
     "output_type": "stream",
     "text": [
      "Gibbs Sampling:  30%|██▉       | 443/1500 [5:21:25<13:07:00, 44.67s/it, Sample=443, Status=Complete]"
     ]
    },
    {
     "name": "stdout",
     "output_type": "stream",
     "text": [
      "Initial params in unconstrained space: [-0.46701175 -0.5102159  -0.7985077 ]\n",
      "Initial params in unconstrained space: [-0.10337298 -0.5102159  -0.7985077 ]\n",
      "Reached max iterations with fractional norm error 0.31184355973472294.\n"
     ]
    },
    {
     "name": "stderr",
     "output_type": "stream",
     "text": [
      "Gibbs Sampling:  30%|██▉       | 444/1500 [5:22:10<13:07:46, 44.76s/it, Sample=444, Status=Complete]"
     ]
    },
    {
     "name": "stdout",
     "output_type": "stream",
     "text": [
      "Initial params in unconstrained space: [-0.46701175 -0.5102159  -0.7985077 ]\n",
      "Initial params in unconstrained space: [-0.10337298 -0.5102159  -0.7985077 ]\n"
     ]
    },
    {
     "name": "stderr",
     "output_type": "stream",
     "text": [
      "Gibbs Sampling:  30%|██▉       | 445/1500 [5:22:51<12:49:17, 43.75s/it, Sample=445, Status=Complete]"
     ]
    },
    {
     "name": "stdout",
     "output_type": "stream",
     "text": [
      "Reached max iterations with fractional norm error 3.2942426830190867.\n",
      "Initial params in unconstrained space: [-0.46701175 -0.5102159  -0.7985077 ]\n",
      "Initial params in unconstrained space: [-0.10337298 -0.5102159  -0.7985077 ]\n"
     ]
    },
    {
     "name": "stderr",
     "output_type": "stream",
     "text": [
      "Gibbs Sampling:  30%|██▉       | 446/1500 [5:23:35<12:50:37, 43.87s/it, Sample=446, Status=Complete]"
     ]
    },
    {
     "name": "stdout",
     "output_type": "stream",
     "text": [
      "Reached max iterations with fractional norm error 0.6805600607331781.\n",
      "Initial params in unconstrained space: [-0.46701175 -0.5102159  -0.7985077 ]\n",
      "Initial params in unconstrained space: [-0.10337298 -0.5102159  -0.7985077 ]\n"
     ]
    },
    {
     "name": "stderr",
     "output_type": "stream",
     "text": [
      "Gibbs Sampling:  30%|██▉       | 447/1500 [5:24:22<13:03:58, 44.67s/it, Sample=447, Status=Complete]"
     ]
    },
    {
     "name": "stdout",
     "output_type": "stream",
     "text": [
      "Reached max iterations with fractional norm error 1.0634813602832636.\n",
      "Initial params in unconstrained space: [-0.46701175 -0.5102159  -0.7985077 ]\n",
      "Initial params in unconstrained space: [-0.10337298 -0.5102159  -0.7985077 ]\n"
     ]
    },
    {
     "name": "stderr",
     "output_type": "stream",
     "text": [
      "Gibbs Sampling:  30%|██▉       | 448/1500 [5:25:04<12:50:42, 43.96s/it, Sample=448, Status=Complete]"
     ]
    },
    {
     "name": "stdout",
     "output_type": "stream",
     "text": [
      "Reached max iterations with fractional norm error 0.9983869259046511.\n",
      "Initial params in unconstrained space: [-0.46701175 -0.5102159  -0.7985077 ]\n",
      "Initial params in unconstrained space: [-0.10337298 -0.5102159  -0.7985077 ]\n",
      "Reached max iterations with fractional norm error 1.385357001195305.\n"
     ]
    },
    {
     "name": "stderr",
     "output_type": "stream",
     "text": [
      "Gibbs Sampling:  30%|██▉       | 449/1500 [5:25:49<12:56:27, 44.33s/it, Sample=449, Status=Complete]"
     ]
    },
    {
     "name": "stdout",
     "output_type": "stream",
     "text": [
      "Initial params in unconstrained space: [-0.46701175 -0.5102159  -0.7985077 ]\n",
      "Initial params in unconstrained space: [-0.10337298 -0.5102159  -0.7985077 ]\n"
     ]
    },
    {
     "name": "stderr",
     "output_type": "stream",
     "text": [
      "Gibbs Sampling:  30%|███       | 450/1500 [5:26:33<12:52:07, 44.12s/it, Sample=450, Status=Complete]"
     ]
    },
    {
     "name": "stdout",
     "output_type": "stream",
     "text": [
      "Reached max iterations with fractional norm error 0.49628304592744066.\n",
      "Initial params in unconstrained space: [-0.46701175 -0.5102159  -0.7985077 ]\n",
      "Initial params in unconstrained space: [-0.10337298 -0.5102159  -0.7985077 ]\n"
     ]
    },
    {
     "name": "stderr",
     "output_type": "stream",
     "text": [
      "Gibbs Sampling:  30%|███       | 451/1500 [5:27:15<12:38:27, 43.38s/it, Sample=451, Status=Complete]"
     ]
    },
    {
     "name": "stdout",
     "output_type": "stream",
     "text": [
      "Reached max iterations with fractional norm error 5.874942692618449.\n",
      "Initial params in unconstrained space: [-0.46701175 -0.5102159  -0.7985077 ]\n",
      "Initial params in unconstrained space: [-0.10337298 -0.5102159  -0.7985077 ]\n"
     ]
    },
    {
     "name": "stderr",
     "output_type": "stream",
     "text": [
      "Gibbs Sampling:  30%|███       | 452/1500 [5:28:05<13:14:47, 45.50s/it, Sample=452, Status=Complete]"
     ]
    },
    {
     "name": "stdout",
     "output_type": "stream",
     "text": [
      "Reached max iterations with fractional norm error 2.5896714550063784.\n",
      "Initial params in unconstrained space: [-0.46701175 -0.5102159  -0.7985077 ]\n",
      "Initial params in unconstrained space: [-0.10337298 -0.5102159  -0.7985077 ]\n"
     ]
    },
    {
     "name": "stderr",
     "output_type": "stream",
     "text": [
      "Gibbs Sampling:  30%|███       | 453/1500 [5:28:49<13:05:57, 45.04s/it, Sample=453, Status=Complete]"
     ]
    },
    {
     "name": "stdout",
     "output_type": "stream",
     "text": [
      "Reached max iterations with fractional norm error 1.1734022544384295.\n",
      "Initial params in unconstrained space: [-0.46701175 -0.5102159  -0.7985077 ]\n",
      "Initial params in unconstrained space: [-0.10337298 -0.5102159  -0.7985077 ]\n"
     ]
    },
    {
     "name": "stderr",
     "output_type": "stream",
     "text": [
      "Gibbs Sampling:  30%|███       | 454/1500 [5:29:34<13:02:00, 44.86s/it, Sample=454, Status=Complete]"
     ]
    },
    {
     "name": "stdout",
     "output_type": "stream",
     "text": [
      "Reached max iterations with fractional norm error 0.293123747462252.\n",
      "Initial params in unconstrained space: [-0.46701175 -0.5102159  -0.7985077 ]\n",
      "Initial params in unconstrained space: [-0.10337298 -0.5102159  -0.7985077 ]\n"
     ]
    },
    {
     "name": "stderr",
     "output_type": "stream",
     "text": [
      "Gibbs Sampling:  30%|███       | 455/1500 [5:30:20<13:11:05, 45.42s/it, Sample=455, Status=Complete]"
     ]
    },
    {
     "name": "stdout",
     "output_type": "stream",
     "text": [
      "Reached max iterations with fractional norm error 11.818334401226966.\n",
      "Initial params in unconstrained space: [-0.46701175 -0.5102159  -0.7985077 ]\n",
      "Initial params in unconstrained space: [-0.10337298 -0.5102159  -0.7985077 ]\n"
     ]
    },
    {
     "name": "stderr",
     "output_type": "stream",
     "text": [
      "Gibbs Sampling:  30%|███       | 456/1500 [5:31:03<12:55:37, 44.58s/it, Sample=456, Status=Complete]"
     ]
    },
    {
     "name": "stdout",
     "output_type": "stream",
     "text": [
      "Reached max iterations with fractional norm error 0.4211263497845114.\n",
      "Initial params in unconstrained space: [-0.46701175 -0.5102159  -0.7985077 ]\n",
      "Initial params in unconstrained space: [-0.10337298 -0.5102159  -0.7985077 ]\n"
     ]
    },
    {
     "name": "stderr",
     "output_type": "stream",
     "text": [
      "Gibbs Sampling:  30%|███       | 457/1500 [5:31:49<13:01:13, 44.94s/it, Sample=457, Status=Complete]"
     ]
    },
    {
     "name": "stdout",
     "output_type": "stream",
     "text": [
      "Reached max iterations with fractional norm error 0.2891261767941032.\n",
      "Initial params in unconstrained space: [-0.46701175 -0.5102159  -0.7985077 ]\n",
      "Initial params in unconstrained space: [-0.10337298 -0.5102159  -0.7985077 ]\n"
     ]
    },
    {
     "name": "stderr",
     "output_type": "stream",
     "text": [
      "Gibbs Sampling:  31%|███       | 458/1500 [5:32:31<12:45:43, 44.09s/it, Sample=458, Status=Complete]"
     ]
    },
    {
     "name": "stdout",
     "output_type": "stream",
     "text": [
      "Reached max iterations with fractional norm error 0.5213456048788817.\n",
      "Initial params in unconstrained space: [-0.46701175 -0.5102159  -0.7985077 ]\n",
      "Initial params in unconstrained space: [-0.10337298 -0.5102159  -0.7985077 ]\n"
     ]
    },
    {
     "name": "stderr",
     "output_type": "stream",
     "text": [
      "Gibbs Sampling:  31%|███       | 459/1500 [5:33:12<12:31:07, 43.29s/it, Sample=459, Status=Complete]"
     ]
    },
    {
     "name": "stdout",
     "output_type": "stream",
     "text": [
      "Reached max iterations with fractional norm error 0.3824841931279334.\n",
      "Initial params in unconstrained space: [-0.46701175 -0.5102159  -0.7985077 ]\n",
      "Initial params in unconstrained space: [-0.10337298 -0.5102159  -0.7985077 ]\n",
      "Reached max iterations with fractional norm error 0.5076125358856252.\n"
     ]
    },
    {
     "name": "stderr",
     "output_type": "stream",
     "text": [
      "Gibbs Sampling:  31%|███       | 460/1500 [5:33:59<12:49:18, 44.38s/it, Sample=460, Status=Complete]"
     ]
    },
    {
     "name": "stdout",
     "output_type": "stream",
     "text": [
      "Initial params in unconstrained space: [-0.46701175 -0.5102159  -0.7985077 ]\n",
      "Initial params in unconstrained space: [-0.10337298 -0.5102159  -0.7985077 ]\n"
     ]
    },
    {
     "name": "stderr",
     "output_type": "stream",
     "text": [
      "Gibbs Sampling:  31%|███       | 461/1500 [5:34:42<12:39:39, 43.87s/it, Sample=461, Status=Complete]"
     ]
    },
    {
     "name": "stdout",
     "output_type": "stream",
     "text": [
      "Reached max iterations with fractional norm error 0.5773491111970087.\n",
      "Initial params in unconstrained space: [-0.46701175 -0.5102159  -0.7985077 ]\n",
      "Initial params in unconstrained space: [-0.10337298 -0.5102159  -0.7985077 ]\n"
     ]
    },
    {
     "name": "stderr",
     "output_type": "stream",
     "text": [
      "Gibbs Sampling:  31%|███       | 462/1500 [5:35:28<12:50:16, 44.52s/it, Sample=462, Status=Complete]"
     ]
    },
    {
     "name": "stdout",
     "output_type": "stream",
     "text": [
      "Reached max iterations with fractional norm error 0.21099498103752798.\n",
      "Initial params in unconstrained space: [-0.46701175 -0.5102159  -0.7985077 ]\n",
      "Initial params in unconstrained space: [-0.10337298 -0.5102159  -0.7985077 ]\n"
     ]
    },
    {
     "name": "stderr",
     "output_type": "stream",
     "text": [
      "Gibbs Sampling:  31%|███       | 463/1500 [5:36:13<12:53:29, 44.75s/it, Sample=463, Status=Complete]"
     ]
    },
    {
     "name": "stdout",
     "output_type": "stream",
     "text": [
      "Reached max iterations with fractional norm error 0.9822564427360848.\n",
      "Initial params in unconstrained space: [-0.46701175 -0.5102159  -0.7985077 ]\n",
      "Initial params in unconstrained space: [-0.10337298 -0.5102159  -0.7985077 ]\n"
     ]
    },
    {
     "name": "stderr",
     "output_type": "stream",
     "text": [
      "Gibbs Sampling:  31%|███       | 464/1500 [5:36:54<12:33:34, 43.64s/it, Sample=464, Status=Complete]"
     ]
    },
    {
     "name": "stdout",
     "output_type": "stream",
     "text": [
      "Reached max iterations with fractional norm error 24.859083445914038.\n",
      "Initial params in unconstrained space: [-0.46701175 -0.5102159  -0.7985077 ]\n",
      "Initial params in unconstrained space: [-0.10337298 -0.5102159  -0.7985077 ]\n"
     ]
    },
    {
     "name": "stderr",
     "output_type": "stream",
     "text": [
      "Gibbs Sampling:  31%|███       | 465/1500 [5:37:38<12:30:49, 43.53s/it, Sample=465, Status=Complete]"
     ]
    },
    {
     "name": "stdout",
     "output_type": "stream",
     "text": [
      "Reached max iterations with fractional norm error 0.4770548642838766.\n",
      "Initial params in unconstrained space: [-0.46701175 -0.5102159  -0.7985077 ]\n",
      "Initial params in unconstrained space: [-0.10337298 -0.5102159  -0.7985077 ]\n"
     ]
    },
    {
     "name": "stderr",
     "output_type": "stream",
     "text": [
      "Gibbs Sampling:  31%|███       | 466/1500 [5:38:23<12:41:52, 44.21s/it, Sample=466, Status=Complete]"
     ]
    },
    {
     "name": "stdout",
     "output_type": "stream",
     "text": [
      "Reached max iterations with fractional norm error 0.37988477489959926.\n",
      "Initial params in unconstrained space: [-0.46701175 -0.5102159  -0.7985077 ]\n",
      "Initial params in unconstrained space: [-0.10337298 -0.5102159  -0.7985077 ]\n"
     ]
    },
    {
     "name": "stderr",
     "output_type": "stream",
     "text": [
      "Gibbs Sampling:  31%|███       | 467/1500 [5:39:05<12:26:36, 43.37s/it, Sample=467, Status=Complete]"
     ]
    },
    {
     "name": "stdout",
     "output_type": "stream",
     "text": [
      "Reached max iterations with fractional norm error 0.40789682903055924.\n",
      "Initial params in unconstrained space: [-0.46701175 -0.5102159  -0.7985077 ]\n",
      "Initial params in unconstrained space: [-0.10337298 -0.5102159  -0.7985077 ]\n"
     ]
    },
    {
     "name": "stderr",
     "output_type": "stream",
     "text": [
      "Gibbs Sampling:  31%|███       | 468/1500 [5:39:48<12:25:41, 43.35s/it, Sample=468, Status=Complete]"
     ]
    },
    {
     "name": "stdout",
     "output_type": "stream",
     "text": [
      "Reached max iterations with fractional norm error 1.248792288197907.\n",
      "Initial params in unconstrained space: [-0.46701175 -0.5102159  -0.7985077 ]\n",
      "Initial params in unconstrained space: [-0.10337298 -0.5102159  -0.7985077 ]\n"
     ]
    },
    {
     "name": "stderr",
     "output_type": "stream",
     "text": [
      "Gibbs Sampling:  31%|███       | 468/1500 [5:40:35<12:25:41, 43.35s/it, Sample=469, Status=Complete]"
     ]
    },
    {
     "name": "stdout",
     "output_type": "stream",
     "text": [
      "Reached max iterations with fractional norm error 0.45515264757114554.\n"
     ]
    },
    {
     "name": "stderr",
     "output_type": "stream",
     "text": [
      "Gibbs Sampling:  31%|███▏      | 469/1500 [5:40:35<12:41:06, 44.29s/it, Sample=469, Status=Complete]"
     ]
    },
    {
     "name": "stdout",
     "output_type": "stream",
     "text": [
      "Initial params in unconstrained space: [-0.46701175 -0.5102159  -0.7985077 ]\n",
      "Initial params in unconstrained space: [-0.10337298 -0.5102159  -0.7985077 ]\n"
     ]
    },
    {
     "name": "stderr",
     "output_type": "stream",
     "text": [
      "Gibbs Sampling:  31%|███▏      | 470/1500 [5:41:15<12:19:52, 43.10s/it, Sample=470, Status=Complete]"
     ]
    },
    {
     "name": "stdout",
     "output_type": "stream",
     "text": [
      "Reached max iterations with fractional norm error 0.9996365619725631.\n",
      "Initial params in unconstrained space: [-0.46701175 -0.5102159  -0.7985077 ]\n",
      "Initial params in unconstrained space: [-0.10337298 -0.5102159  -0.7985077 ]\n"
     ]
    },
    {
     "name": "stderr",
     "output_type": "stream",
     "text": [
      "Gibbs Sampling:  31%|███▏      | 471/1500 [5:41:57<12:13:41, 42.78s/it, Sample=471, Status=Complete]"
     ]
    },
    {
     "name": "stdout",
     "output_type": "stream",
     "text": [
      "Reached max iterations with fractional norm error 1.1456014146539955.\n",
      "Initial params in unconstrained space: [-0.46701175 -0.5102159  -0.7985077 ]\n",
      "Initial params in unconstrained space: [-0.10337298 -0.5102159  -0.7985077 ]\n"
     ]
    },
    {
     "name": "stderr",
     "output_type": "stream",
     "text": [
      "Gibbs Sampling:  31%|███▏      | 472/1500 [5:42:45<12:40:22, 44.38s/it, Sample=472, Status=Complete]"
     ]
    },
    {
     "name": "stdout",
     "output_type": "stream",
     "text": [
      "Reached max iterations with fractional norm error 0.5643702342444894.\n",
      "Initial params in unconstrained space: [-0.46701175 -0.5102159  -0.7985077 ]\n",
      "Initial params in unconstrained space: [-0.10337298 -0.5102159  -0.7985077 ]\n"
     ]
    },
    {
     "name": "stderr",
     "output_type": "stream",
     "text": [
      "Gibbs Sampling:  32%|███▏      | 473/1500 [5:43:25<12:19:33, 43.21s/it, Sample=473, Status=Complete]"
     ]
    },
    {
     "name": "stdout",
     "output_type": "stream",
     "text": [
      "Reached max iterations with fractional norm error 5.193416808915313.\n",
      "Initial params in unconstrained space: [-0.46701175 -0.5102159  -0.7985077 ]\n",
      "Initial params in unconstrained space: [-0.10337298 -0.5102159  -0.7985077 ]\n"
     ]
    },
    {
     "name": "stderr",
     "output_type": "stream",
     "text": [
      "Gibbs Sampling:  32%|███▏      | 474/1500 [5:44:06<12:06:40, 42.50s/it, Sample=474, Status=Complete]"
     ]
    },
    {
     "name": "stdout",
     "output_type": "stream",
     "text": [
      "Reached max iterations with fractional norm error 0.4749263307610612.\n",
      "Initial params in unconstrained space: [-0.46701175 -0.5102159  -0.7985077 ]\n",
      "Initial params in unconstrained space: [-0.10337298 -0.5102159  -0.7985077 ]\n"
     ]
    },
    {
     "name": "stderr",
     "output_type": "stream",
     "text": [
      "Gibbs Sampling:  32%|███▏      | 475/1500 [5:44:52<12:22:36, 43.47s/it, Sample=475, Status=Complete]"
     ]
    },
    {
     "name": "stdout",
     "output_type": "stream",
     "text": [
      "Reached max iterations with fractional norm error 0.998581313296699.\n",
      "Initial params in unconstrained space: [-0.46701175 -0.5102159  -0.7985077 ]\n",
      "Initial params in unconstrained space: [-0.10337298 -0.5102159  -0.7985077 ]\n"
     ]
    },
    {
     "name": "stderr",
     "output_type": "stream",
     "text": [
      "Gibbs Sampling:  32%|███▏      | 476/1500 [5:45:32<12:05:02, 42.48s/it, Sample=476, Status=Complete]"
     ]
    },
    {
     "name": "stdout",
     "output_type": "stream",
     "text": [
      "Reached max iterations with fractional norm error 1.05081424530724.\n",
      "Initial params in unconstrained space: [-0.46701175 -0.5102159  -0.7985077 ]\n",
      "Initial params in unconstrained space: [-0.10337298 -0.5102159  -0.7985077 ]\n",
      "Reached max iterations with fractional norm error 0.8388226021951036.\n"
     ]
    },
    {
     "name": "stderr",
     "output_type": "stream",
     "text": [
      "Gibbs Sampling:  32%|███▏      | 477/1500 [5:46:14<11:58:51, 42.16s/it, Sample=477, Status=Complete]"
     ]
    },
    {
     "name": "stdout",
     "output_type": "stream",
     "text": [
      "Initial params in unconstrained space: [-0.46701175 -0.5102159  -0.7985077 ]\n",
      "Initial params in unconstrained space: [-0.10337298 -0.5102159  -0.7985077 ]\n"
     ]
    },
    {
     "name": "stderr",
     "output_type": "stream",
     "text": [
      "Gibbs Sampling:  32%|███▏      | 478/1500 [5:47:00<12:17:15, 43.28s/it, Sample=478, Status=Complete]"
     ]
    },
    {
     "name": "stdout",
     "output_type": "stream",
     "text": [
      "Reached max iterations with fractional norm error 0.36739647949205195.\n",
      "Initial params in unconstrained space: [-0.46701175 -0.5102159  -0.7985077 ]\n",
      "Initial params in unconstrained space: [-0.10337298 -0.5102159  -0.7985077 ]\n"
     ]
    },
    {
     "name": "stderr",
     "output_type": "stream",
     "text": [
      "Gibbs Sampling:  32%|███▏      | 479/1500 [5:47:40<12:03:06, 42.49s/it, Sample=479, Status=Complete]"
     ]
    },
    {
     "name": "stdout",
     "output_type": "stream",
     "text": [
      "Reached max iterations with fractional norm error 0.9238501697775232.\n",
      "Initial params in unconstrained space: [-0.46701175 -0.5102159  -0.7985077 ]\n",
      "Initial params in unconstrained space: [-0.10337298 -0.5102159  -0.7985077 ]\n",
      "Reached max iterations with fractional norm error 0.6342491642879182.\n"
     ]
    },
    {
     "name": "stderr",
     "output_type": "stream",
     "text": [
      "Gibbs Sampling:  32%|███▏      | 480/1500 [5:48:22<12:00:45, 42.40s/it, Sample=480, Status=Complete]"
     ]
    },
    {
     "name": "stdout",
     "output_type": "stream",
     "text": [
      "Initial params in unconstrained space: [-0.46701175 -0.5102159  -0.7985077 ]\n",
      "Initial params in unconstrained space: [-0.10337298 -0.5102159  -0.7985077 ]\n",
      "Reached max iterations with fractional norm error 15.767702373710849.\n"
     ]
    },
    {
     "name": "stderr",
     "output_type": "stream",
     "text": [
      "Gibbs Sampling:  32%|███▏      | 481/1500 [5:49:09<12:20:43, 43.62s/it, Sample=481, Status=Complete]"
     ]
    },
    {
     "name": "stdout",
     "output_type": "stream",
     "text": [
      "Initial params in unconstrained space: [-0.46701175 -0.5102159  -0.7985077 ]\n",
      "Initial params in unconstrained space: [-0.10337298 -0.5102159  -0.7985077 ]\n",
      "Reached max iterations with fractional norm error 0.22010026883330744.\n"
     ]
    },
    {
     "name": "stderr",
     "output_type": "stream",
     "text": [
      "Gibbs Sampling:  32%|███▏      | 482/1500 [5:49:49<12:01:32, 42.53s/it, Sample=482, Status=Complete]"
     ]
    },
    {
     "name": "stdout",
     "output_type": "stream",
     "text": [
      "Initial params in unconstrained space: [-0.46701175 -0.5102159  -0.7985077 ]\n",
      "Initial params in unconstrained space: [-0.10337298 -0.5102159  -0.7985077 ]\n",
      "Reached max iterations with fractional norm error 0.5346033854498853.\n"
     ]
    },
    {
     "name": "stderr",
     "output_type": "stream",
     "text": [
      "Gibbs Sampling:  32%|███▏      | 483/1500 [5:50:31<11:58:52, 42.41s/it, Sample=483, Status=Complete]"
     ]
    },
    {
     "name": "stdout",
     "output_type": "stream",
     "text": [
      "Initial params in unconstrained space: [-0.46701175 -0.5102159  -0.7985077 ]\n",
      "Initial params in unconstrained space: [-0.10337298 -0.5102159  -0.7985077 ]\n"
     ]
    },
    {
     "name": "stderr",
     "output_type": "stream",
     "text": [
      "Gibbs Sampling:  32%|███▏      | 484/1500 [5:51:16<12:13:36, 43.32s/it, Sample=484, Status=Complete]"
     ]
    },
    {
     "name": "stdout",
     "output_type": "stream",
     "text": [
      "Reached max iterations with fractional norm error 0.42428045943532094.\n",
      "Initial params in unconstrained space: [-0.46701175 -0.5102159  -0.7985077 ]\n",
      "Initial params in unconstrained space: [-0.10337298 -0.5102159  -0.7985077 ]\n"
     ]
    },
    {
     "name": "stderr",
     "output_type": "stream",
     "text": [
      "Gibbs Sampling:  32%|███▏      | 485/1500 [5:51:57<11:59:40, 42.54s/it, Sample=485, Status=Complete]"
     ]
    },
    {
     "name": "stdout",
     "output_type": "stream",
     "text": [
      "Reached max iterations with fractional norm error 1.5655647801064263.\n",
      "Initial params in unconstrained space: [-0.46701175 -0.5102159  -0.7985077 ]\n",
      "Initial params in unconstrained space: [-0.10337298 -0.5102159  -0.7985077 ]\n"
     ]
    },
    {
     "name": "stderr",
     "output_type": "stream",
     "text": [
      "Gibbs Sampling:  32%|███▏      | 486/1500 [5:52:40<11:59:10, 42.56s/it, Sample=486, Status=Complete]"
     ]
    },
    {
     "name": "stdout",
     "output_type": "stream",
     "text": [
      "Reached max iterations with fractional norm error 1.047676720638844.\n",
      "Initial params in unconstrained space: [-0.46701175 -0.5102159  -0.7985077 ]\n",
      "Initial params in unconstrained space: [-0.10337298 -0.5102159  -0.7985077 ]\n"
     ]
    },
    {
     "name": "stderr",
     "output_type": "stream",
     "text": [
      "Gibbs Sampling:  32%|███▏      | 487/1500 [5:53:26<12:16:17, 43.61s/it, Sample=487, Status=Complete]"
     ]
    },
    {
     "name": "stdout",
     "output_type": "stream",
     "text": [
      "Reached max iterations with fractional norm error 0.9788468737767342.\n",
      "Initial params in unconstrained space: [-0.46701175 -0.5102159  -0.7985077 ]\n",
      "Initial params in unconstrained space: [-0.10337298 -0.5102159  -0.7985077 ]\n"
     ]
    },
    {
     "name": "stderr",
     "output_type": "stream",
     "text": [
      "Gibbs Sampling:  33%|███▎      | 488/1500 [5:54:06<11:59:34, 42.66s/it, Sample=488, Status=Complete]"
     ]
    },
    {
     "name": "stdout",
     "output_type": "stream",
     "text": [
      "Reached max iterations with fractional norm error 0.7019815181719815.\n",
      "Initial params in unconstrained space: [-0.46701175 -0.5102159  -0.7985077 ]\n",
      "Initial params in unconstrained space: [-0.10337298 -0.5102159  -0.7985077 ]\n",
      "Reached max iterations with fractional norm error 2.6822185480026484.\n"
     ]
    },
    {
     "name": "stderr",
     "output_type": "stream",
     "text": [
      "Gibbs Sampling:  33%|███▎      | 489/1500 [5:54:51<12:13:39, 43.54s/it, Sample=489, Status=Complete]\n"
     ]
    },
    {
     "ename": "KeyboardInterrupt",
     "evalue": "",
     "output_type": "error",
     "traceback": [
      "\u001b[31m---------------------------------------------------------------------------\u001b[39m",
      "\u001b[31mKeyboardInterrupt\u001b[39m                         Traceback (most recent call last)",
      "\u001b[36mCell\u001b[39m\u001b[36m \u001b[39m\u001b[32mIn[6]\u001b[39m\u001b[32m, line 5\u001b[39m\n\u001b[32m      1\u001b[39m \u001b[38;5;66;03m# Import the FlickerCorrEmulator class first\u001b[39;00m\n\u001b[32m      2\u001b[39m \u001b[38;5;28;01mfrom\u001b[39;00m\u001b[38;5;250m \u001b[39m\u001b[34;01mfull_Gibbs_sampler\u001b[39;00m\u001b[38;5;250m \u001b[39m\u001b[38;5;28;01mimport\u001b[39;00m TOD_Gibbs_sampler\n\u001b[32m      4\u001b[39m Tsky_samples, all_gain_samples, all_noise_samples, all_Tloc_samples = \\\n\u001b[32m----> \u001b[39m\u001b[32m5\u001b[39m     \u001b[43mTOD_Gibbs_sampler\u001b[49m\u001b[43m(\u001b[49m\n\u001b[32m      6\u001b[39m \u001b[43m        \u001b[49m\u001b[43m[\u001b[49m\u001b[43mTOD_setting\u001b[49m\u001b[43m,\u001b[49m\u001b[43m \u001b[49m\u001b[43mTOD_rising\u001b[49m\u001b[43m]\u001b[49m\u001b[43m,\u001b[49m\n\u001b[32m      7\u001b[39m \u001b[43m        \u001b[49m\u001b[43m[\u001b[49m\u001b[43mt_list\u001b[49m\u001b[43m,\u001b[49m\u001b[43m \u001b[49m\u001b[43mt_list\u001b[49m\u001b[43m]\u001b[49m\u001b[43m,\u001b[49m\n\u001b[32m      8\u001b[39m \u001b[43m        \u001b[49m\u001b[43m[\u001b[49m\u001b[43mgain_proj\u001b[49m\u001b[43m,\u001b[49m\u001b[43m \u001b[49m\u001b[43mgain_proj\u001b[49m\u001b[43m]\u001b[49m\u001b[43m,\u001b[49m\n\u001b[32m      9\u001b[39m \u001b[43m        \u001b[49m\u001b[43m[\u001b[49m\u001b[43mTsky_operator_setting\u001b[49m\u001b[43m,\u001b[49m\u001b[43m \u001b[49m\u001b[43mTsky_operator_rising\u001b[49m\u001b[43m]\u001b[49m\u001b[43m,\u001b[49m\n\u001b[32m     10\u001b[39m \u001b[43m        \u001b[49m\u001b[43m[\u001b[49m\u001b[43mnd_rec_operator\u001b[49m\u001b[43m,\u001b[49m\u001b[43m \u001b[49m\u001b[43mnd_rec_operator\u001b[49m\u001b[43m]\u001b[49m\u001b[43m,\u001b[49m\n\u001b[32m     11\u001b[39m \u001b[43m        \u001b[49m\u001b[43minit_Tsky_params\u001b[49m\u001b[43m,\u001b[49m\n\u001b[32m     12\u001b[39m \u001b[43m        \u001b[49m\u001b[43minit_Tloc_params_list\u001b[49m\u001b[43m,\u001b[49m\n\u001b[32m     13\u001b[39m \u001b[43m        \u001b[49m\u001b[43minit_noise_params_list\u001b[49m\u001b[43m,\u001b[49m\n\u001b[32m     14\u001b[39m \u001b[43m        \u001b[49m\u001b[43m[\u001b[49m\u001b[43mlogfc\u001b[49m\u001b[43m,\u001b[49m\u001b[43m \u001b[49m\u001b[43mlogfc\u001b[49m\u001b[43m]\u001b[49m\u001b[43m,\u001b[49m\n\u001b[32m     15\u001b[39m \u001b[43m        \u001b[49m\u001b[43mwnoise_var\u001b[49m\u001b[43m=\u001b[49m\u001b[32;43m2.5e-6\u001b[39;49m\u001b[43m,\u001b[49m\n\u001b[32m     16\u001b[39m \u001b[43m        \u001b[49m\u001b[43mTsky_prior_cov_inv\u001b[49m\u001b[43m=\u001b[49m\u001b[43mTsky_prior_cov_inv\u001b[49m\u001b[43m,\u001b[49m\n\u001b[32m     17\u001b[39m \u001b[43m        \u001b[49m\u001b[43mTsky_prior_mean\u001b[49m\u001b[43m=\u001b[49m\u001b[43msky_params\u001b[49m\u001b[43m,\u001b[49m\n\u001b[32m     18\u001b[39m \u001b[43m        \u001b[49m\u001b[43mlocal_Tloc_prior_cov_inv_list\u001b[49m\u001b[43m=\u001b[49m\u001b[43mTloc_prior_cov_inv_list\u001b[49m\u001b[43m,\u001b[49m\n\u001b[32m     19\u001b[39m \u001b[43m        \u001b[49m\u001b[43mlocal_Tloc_prior_mean_list\u001b[49m\u001b[43m=\u001b[49m\u001b[43mTloc_prior_mean_list\u001b[49m\u001b[43m,\u001b[49m\n\u001b[32m     20\u001b[39m \u001b[43m        \u001b[49m\u001b[43mlocal_gain_prior_cov_inv_list\u001b[49m\u001b[43m=\u001b[49m\u001b[43mgain_prior_cov_inv_list\u001b[49m\u001b[43m,\u001b[49m\n\u001b[32m     21\u001b[39m \u001b[43m        \u001b[49m\u001b[43mlocal_gain_prior_mean_list\u001b[49m\u001b[43m=\u001b[49m\u001b[43mgain_prior_mean_list\u001b[49m\u001b[43m,\u001b[49m\n\u001b[32m     22\u001b[39m \u001b[43m        \u001b[49m\u001b[43mlocal_noise_prior_func_list\u001b[49m\u001b[43m=\u001b[49m\u001b[43m[\u001b[49m\u001b[43mlog_prior_noise_s\u001b[49m\u001b[43m,\u001b[49m\u001b[43m \u001b[49m\u001b[43mlog_prior_noise_r\u001b[49m\u001b[43m]\u001b[49m\u001b[43m,\u001b[49m\n\u001b[32m     23\u001b[39m \u001b[43m        \u001b[49m\u001b[43mjoint_Tsys_sampling\u001b[49m\u001b[43m=\u001b[49m\u001b[38;5;28;43;01mFalse\u001b[39;49;00m\u001b[43m,\u001b[49m\n\u001b[32m     24\u001b[39m \u001b[43m        \u001b[49m\u001b[43msmooth_gain_model\u001b[49m\u001b[43m=\u001b[49m\u001b[33;43m\"\u001b[39;49m\u001b[33;43mfactorized\u001b[39;49m\u001b[33;43m\"\u001b[39;49m\u001b[43m,\u001b[49m\n\u001b[32m     25\u001b[39m \u001b[43m        \u001b[49m\u001b[43mnoise_sampler_type\u001b[49m\u001b[43m=\u001b[49m\u001b[33;43m\"\u001b[39;49m\u001b[33;43memcee\u001b[39;49m\u001b[33;43m\"\u001b[39;49m\u001b[43m,\u001b[49m\n\u001b[32m     26\u001b[39m \u001b[43m        \u001b[49m\u001b[43mnoise_Jeffreys_prior\u001b[49m\u001b[43m=\u001b[49m\u001b[38;5;28;43;01mFalse\u001b[39;49;00m\u001b[43m,\u001b[49m\n\u001b[32m     27\u001b[39m \u001b[43m        \u001b[49m\u001b[43mn_samples\u001b[49m\u001b[43m=\u001b[49m\u001b[32;43m1500\u001b[39;49m\u001b[43m,\u001b[49m\n\u001b[32m     28\u001b[39m \u001b[43m        \u001b[49m\u001b[43mtol\u001b[49m\u001b[43m=\u001b[49m\u001b[32;43m1e-20\u001b[39;49m\u001b[43m)\u001b[49m\n",
      "\u001b[36mFile \u001b[39m\u001b[32m~/Workspace/flicker/notebooks/../hydra_tod/full_Gibbs_sampler.py:234\u001b[39m, in \u001b[36mTOD_Gibbs_sampler\u001b[39m\u001b[34m(local_TOD_list, local_t_lists, local_gain_operator_list, local_Tsky_operator_list, local_Tloc_operator_list, init_Tsky_params, init_Tloc_params_list, init_noise_params_list, local_logfc_list, local_Tsys_injection_list, wnoise_var, Tsky_prior_cov_inv, Tsky_prior_mean, local_Tloc_prior_cov_inv_list, local_Tloc_prior_mean_list, local_gain_prior_cov_inv_list, local_gain_prior_mean_list, local_noise_prior_func_list, joint_Tsys_sampling, smooth_gain_model, noise_sampler_type, noise_Jeffreys_prior, noise_params_bounds, n_samples, tol, linear_solver, root, Est_mode, debug)\u001b[39m\n\u001b[32m    231\u001b[39m logfc = local_logfc_list[di]\n\u001b[32m    233\u001b[39m \u001b[38;5;66;03m# Sample gain parameters\u001b[39;00m\n\u001b[32m--> \u001b[39m\u001b[32m234\u001b[39m gain_sample, gains = \u001b[43mgain_sampler\u001b[49m\u001b[43m(\u001b[49m\n\u001b[32m    235\u001b[39m \u001b[43m    \u001b[49m\u001b[43mTOD\u001b[49m\u001b[43m,\u001b[49m\u001b[43m \u001b[49m\u001b[43mt_list\u001b[49m\u001b[43m,\u001b[49m\u001b[43m \u001b[49m\u001b[43mgain_operator\u001b[49m\u001b[43m,\u001b[49m\u001b[43m \u001b[49m\u001b[43mTsys\u001b[49m\u001b[43m,\u001b[49m\u001b[43m \u001b[49m\u001b[43mnoise_params\u001b[49m\u001b[43m,\u001b[49m\n\u001b[32m    236\u001b[39m \u001b[43m    \u001b[49m\u001b[43mlogfc\u001b[49m\u001b[43m,\u001b[49m\n\u001b[32m    237\u001b[39m \u001b[43m    \u001b[49m\u001b[43mmodel\u001b[49m\u001b[43m=\u001b[49m\u001b[43msmooth_gain_model\u001b[49m\u001b[43m,\u001b[49m\n\u001b[32m    238\u001b[39m \u001b[43m    \u001b[49m\u001b[43mwnoise_var\u001b[49m\u001b[43m=\u001b[49m\u001b[43mwnoise_var\u001b[49m\u001b[43m,\u001b[49m\n\u001b[32m    239\u001b[39m \u001b[43m    \u001b[49m\u001b[43mn_samples\u001b[49m\u001b[43m=\u001b[49m\u001b[43mnum_sample\u001b[49m\u001b[43m,\u001b[49m\n\u001b[32m    240\u001b[39m \u001b[43m    \u001b[49m\u001b[43mtol\u001b[49m\u001b[43m=\u001b[49m\u001b[43mtol\u001b[49m\u001b[43m,\u001b[49m\n\u001b[32m    241\u001b[39m \u001b[43m    \u001b[49m\u001b[43mprior_cov_inv\u001b[49m\u001b[43m=\u001b[49m\u001b[43mlocal_gain_prior_cov_inv_list\u001b[49m\u001b[43m[\u001b[49m\u001b[43mdi\u001b[49m\u001b[43m]\u001b[49m\u001b[43m,\u001b[49m\n\u001b[32m    242\u001b[39m \u001b[43m    \u001b[49m\u001b[43mprior_mean\u001b[49m\u001b[43m=\u001b[49m\u001b[43mlocal_gain_prior_mean_list\u001b[49m\u001b[43m[\u001b[49m\u001b[43mdi\u001b[49m\u001b[43m]\u001b[49m\u001b[43m,\u001b[49m\n\u001b[32m    243\u001b[39m \u001b[43m    \u001b[49m\u001b[43msolver\u001b[49m\u001b[43m=\u001b[49m\u001b[43mlinear_solver\u001b[49m\n\u001b[32m    244\u001b[39m \u001b[43m\u001b[49m\u001b[43m)\u001b[49m\n\u001b[32m    246\u001b[39m local_gain_samples[di, si, :] = gain_sample\n\u001b[32m    248\u001b[39m \u001b[38;5;28;01mif\u001b[39;00m include_DC_Gain:\n",
      "\u001b[36mFile \u001b[39m\u001b[32m~/Workspace/flicker/notebooks/../hydra_tod/gain_sampler.py:82\u001b[39m, in \u001b[36mgain_sampler\u001b[39m\u001b[34m(data, t_list, gain_proj, Tsys, noise_params, logfc, model, wnoise_var, n_samples, tol, prior_cov_inv, prior_mean, solver)\u001b[39m\n\u001b[32m     80\u001b[39m     gains = np.exp(gain_proj\u001b[38;5;129m@sample\u001b[39m)\n\u001b[32m     81\u001b[39m \u001b[38;5;28;01melif\u001b[39;00m model == \u001b[33m\"\u001b[39m\u001b[33mfactorized\u001b[39m\u001b[33m\"\u001b[39m:\n\u001b[32m---> \u001b[39m\u001b[32m82\u001b[39m     sample = \u001b[43mfactorized_gain_sampler\u001b[49m\u001b[43m(\u001b[49m\u001b[43mdata\u001b[49m\u001b[43m,\u001b[49m\u001b[43m \u001b[49m\u001b[43mt_list\u001b[49m\u001b[43m,\u001b[49m\u001b[43m \u001b[49m\u001b[43mgain_proj\u001b[49m\u001b[43m,\u001b[49m\u001b[43m \u001b[49m\u001b[43mTsys\u001b[49m\u001b[43m,\u001b[49m\u001b[43m \u001b[49m\u001b[43mnoise_params\u001b[49m\u001b[43m,\u001b[49m\u001b[43m \u001b[49m\u001b[43mlogfc\u001b[49m\u001b[43m,\u001b[49m\u001b[43m \u001b[49m\u001b[43mwnoise_var\u001b[49m\u001b[43m=\u001b[49m\u001b[43mwnoise_var\u001b[49m\u001b[43m,\u001b[49m\u001b[43m \u001b[49m\u001b[43mmu\u001b[49m\u001b[43m=\u001b[49m\u001b[32;43m1.0\u001b[39;49m\u001b[43m,\u001b[49m\u001b[43m \u001b[49m\u001b[43mn_samples\u001b[49m\u001b[43m=\u001b[49m\u001b[43mn_samples\u001b[49m\u001b[43m,\u001b[49m\u001b[43m \u001b[49m\u001b[43mtol\u001b[49m\u001b[43m=\u001b[49m\u001b[43mtol\u001b[49m\u001b[43m,\u001b[49m\u001b[43m \u001b[49m\u001b[43mprior_cov_inv\u001b[49m\u001b[43m=\u001b[49m\u001b[43mprior_cov_inv\u001b[49m\u001b[43m,\u001b[49m\u001b[43m \u001b[49m\u001b[43mprior_mean\u001b[49m\u001b[43m=\u001b[49m\u001b[43mprior_mean\u001b[49m\u001b[43m,\u001b[49m\u001b[43m \u001b[49m\u001b[43msolver\u001b[49m\u001b[43m=\u001b[49m\u001b[43msolver\u001b[49m\u001b[43m)\u001b[49m\n\u001b[32m     83\u001b[39m     gains = gain_proj\u001b[38;5;129m@sample\u001b[39m + \u001b[32m1.0\u001b[39m\n\u001b[32m     84\u001b[39m \u001b[38;5;28;01melse\u001b[39;00m:\n",
      "\u001b[36mFile \u001b[39m\u001b[32m~/Workspace/flicker/notebooks/../hydra_tod/gain_sampler.py:59\u001b[39m, in \u001b[36mfactorized_gain_sampler\u001b[39m\u001b[34m(data, t_list, gain_proj, Tsys, noise_params, logfc, wnoise_var, mu, n_samples, tol, prior_cov_inv, prior_mean, solver)\u001b[39m\n\u001b[32m     57\u001b[39m d_vec = data/Tsys/DC_gain\n\u001b[32m     58\u001b[39m Ncov_inv = cho_compute_mat_inv( flicker_cov(t_list, \u001b[32m10.\u001b[39m**logf0, \u001b[32m10.\u001b[39m**logfc, alpha,  white_n_variance=wnoise_var, only_row_0=\u001b[38;5;28;01mFalse\u001b[39;00m) )\n\u001b[32m---> \u001b[39m\u001b[32m59\u001b[39m p_GLS, sigma_inv = \u001b[43miterative_gls\u001b[49m\u001b[43m(\u001b[49m\u001b[43md_vec\u001b[49m\u001b[43m,\u001b[49m\u001b[43m \u001b[49m\u001b[43mgain_proj\u001b[49m\u001b[43m,\u001b[49m\u001b[43m \u001b[49m\u001b[43mNcov_inv\u001b[49m\u001b[43m,\u001b[49m\u001b[43m \u001b[49m\u001b[43mmu\u001b[49m\u001b[43m=\u001b[49m\u001b[43mmu\u001b[49m\u001b[43m,\u001b[49m\u001b[43m \u001b[49m\u001b[43mtol\u001b[49m\u001b[43m=\u001b[49m\u001b[43mtol\u001b[49m\u001b[43m)\u001b[49m\n\u001b[32m     60\u001b[39m \u001b[38;5;28;01mreturn\u001b[39;00m sample_p_old(d_vec, gain_proj, sigma_inv, num_samples=n_samples, mu=mu, prior_cov_inv=prior_cov_inv, prior_mean=prior_mean, solver=solver)\n",
      "\u001b[36mFile \u001b[39m\u001b[32m~/Workspace/flicker/notebooks/../hydra_tod/linear_sampler.py:73\u001b[39m, in \u001b[36miterative_gls\u001b[39m\u001b[34m(d, U, N_inv, mu, tol, min_iter, max_iter, solver)\u001b[39m\n\u001b[32m     71\u001b[39m     p_new = solve(UTSigma_invU, UTSigma_invD, assume_a=\u001b[33m'\u001b[39m\u001b[33msym\u001b[39m\u001b[33m'\u001b[39m)\n\u001b[32m     72\u001b[39m \u001b[38;5;28;01melse\u001b[39;00m:\n\u001b[32m---> \u001b[39m\u001b[32m73\u001b[39m     p_new = \u001b[43msolver\u001b[49m\u001b[43m(\u001b[49m\u001b[43mUTSigma_invU\u001b[49m\u001b[43m,\u001b[49m\u001b[43m \u001b[49m\u001b[43mUTSigma_invD\u001b[49m\u001b[43m)\u001b[49m\n\u001b[32m     75\u001b[39m \u001b[38;5;66;03m# Check for convergence\u001b[39;00m\n\u001b[32m     76\u001b[39m \u001b[38;5;28;01mif\u001b[39;00m np.linalg.norm(p_new - p) < tol*np.linalg.norm(p) \u001b[38;5;129;01mand\u001b[39;00m iteration >= min_iter:\n",
      "\u001b[36mFile \u001b[39m\u001b[32m~/Workspace/flicker/notebooks/../hydra_tod/linear_solver.py:418\u001b[39m, in \u001b[36mcg\u001b[39m\u001b[34m(Amat, bvec, maxiters, abs_tol, use_norm_tol, x0, linear_op, comm)\u001b[39m\n\u001b[32m    414\u001b[39m     comm_active.barrier()\n\u001b[32m    415\u001b[39m     \u001b[38;5;28;01mreturn\u001b[39;00m x_all\n\u001b[32m--> \u001b[39m\u001b[32m418\u001b[39m \u001b[38;5;28;01mdef\u001b[39;00m\u001b[38;5;250m \u001b[39m\u001b[34mcg\u001b[39m(\n\u001b[32m    419\u001b[39m     Amat,\n\u001b[32m    420\u001b[39m     bvec,\n\u001b[32m    421\u001b[39m     maxiters=\u001b[32m1000\u001b[39m,\n\u001b[32m    422\u001b[39m     abs_tol=\u001b[32m1e-18\u001b[39m,\n\u001b[32m    423\u001b[39m     use_norm_tol=\u001b[38;5;28;01mFalse\u001b[39;00m,\n\u001b[32m    424\u001b[39m     x0=\u001b[38;5;28;01mNone\u001b[39;00m,\n\u001b[32m    425\u001b[39m     linear_op=\u001b[38;5;28;01mNone\u001b[39;00m,\n\u001b[32m    426\u001b[39m     comm=\u001b[38;5;28;01mNone\u001b[39;00m,\n\u001b[32m    427\u001b[39m ):\n\u001b[32m    428\u001b[39m \u001b[38;5;250m    \u001b[39m\u001b[33;03m\"\"\"\u001b[39;00m\n\u001b[32m    429\u001b[39m \u001b[33;03m    Simple Conjugate Gradient solver that operates in serial. This uses the\u001b[39;00m\n\u001b[32m    430\u001b[39m \u001b[33;03m    same algorithm as `cg_mpi()` and so can be used for testing/comparison of\u001b[39;00m\n\u001b[32m   (...)\u001b[39m\u001b[32m    462\u001b[39m \u001b[33;03m            Solution vector for the full system.\u001b[39;00m\n\u001b[32m    463\u001b[39m \u001b[33;03m    \"\"\"\u001b[39;00m\n\u001b[32m    464\u001b[39m     \u001b[38;5;66;03m# MPI worker ID\u001b[39;00m\n",
      "\u001b[31mKeyboardInterrupt\u001b[39m: "
     ]
    }
   ],
   "source": [
    "# Import the FlickerCorrEmulator class first\n",
    "from full_Gibbs_sampler import TOD_Gibbs_sampler\n",
    "\n",
    "Tsky_samples, all_gain_samples, all_noise_samples, all_Tloc_samples = \\\n",
    "    TOD_Gibbs_sampler(\n",
    "        [TOD_setting, TOD_rising],\n",
    "        [t_list, t_list],\n",
    "        [gain_proj, gain_proj],\n",
    "        [Tsky_operator_setting, Tsky_operator_rising],\n",
    "        [nd_rec_operator, nd_rec_operator],\n",
    "        init_Tsky_params,\n",
    "        init_Tloc_params_list,\n",
    "        init_noise_params_list,\n",
    "        [logfc, logfc],\n",
    "        wnoise_var=2.5e-6,\n",
    "        Tsky_prior_cov_inv=Tsky_prior_cov_inv,\n",
    "        Tsky_prior_mean=sky_params,\n",
    "        local_Tloc_prior_cov_inv_list=Tloc_prior_cov_inv_list,\n",
    "        local_Tloc_prior_mean_list=Tloc_prior_mean_list,\n",
    "        local_gain_prior_cov_inv_list=gain_prior_cov_inv_list,\n",
    "        local_gain_prior_mean_list=gain_prior_mean_list,\n",
    "        local_noise_prior_func_list=[log_prior_noise_s, log_prior_noise_r],\n",
    "        joint_Tsys_sampling=False,\n",
    "        smooth_gain_model=\"factorized\",\n",
    "        noise_sampler_type=\"emcee\",\n",
    "        noise_Jeffreys_prior=False,\n",
    "        n_samples=1500,\n",
    "        tol=1e-20)"
   ]
  },
  {
   "cell_type": "code",
   "execution_count": null,
   "metadata": {},
   "outputs": [
    {
     "data": {
      "text/plain": [
       "[Array([ 6.3119426, -4.8745713,  2.       ], dtype=float32),\n",
       " Array([ 6.8450785, -4.8745713,  2.       ], dtype=float32)]"
      ]
     },
     "execution_count": 7,
     "metadata": {},
     "output_type": "execute_result"
    }
   ],
   "source": [
    "init_noise_params_list"
   ]
  },
  {
   "cell_type": "code",
   "execution_count": null,
   "metadata": {},
   "outputs": [
    {
     "data": {
      "text/plain": [
       "SlogdetResult(sign=Array(1., dtype=float32), logabsdet=Array(2.8903718, dtype=float32))"
      ]
     },
     "execution_count": 22,
     "metadata": {},
     "output_type": "execute_result"
    }
   ],
   "source": [
    "import jax.numpy as jnp\n",
    "import jax\n",
    "\n",
    "\n",
    "def func(x):\n",
    "    return jnp.sum(x**3+2*x)\n",
    "\n",
    "jnp.linalg.slogdet(jnp.atleast_2d(jax.hessian(func)(3.)))#.shape[0]"
   ]
  },
  {
   "cell_type": "code",
   "execution_count": null,
   "metadata": {},
   "outputs": [],
   "source": [
    "# First, save the samples as npy files..\n",
    "\n",
    "np.save(\"outputs/GSF5_db/Tsky_samples_logG.npy\", Tsky_samples)\n",
    "np.save(\"outputs/GSF5_db/gain_samples_logG.npy\", np.concatenate(all_gain_samples, axis=0))\n",
    "np.save(\"outputs/GSF5_db/noise_samples_logG.npy\", np.concatenate(all_noise_samples, axis=0))\n",
    "np.save(\"outputs/GSF5_db/Tloc_samples_logG.npy\", np.concatenate(all_Tloc_samples, axis=0))"
   ]
  },
  {
   "cell_type": "code",
   "execution_count": null,
   "metadata": {},
   "outputs": [],
   "source": [
    "from noise_sampler_fixed_fc import flicker_cov_jax, flicker_logdet_jax"
   ]
  },
  {
   "cell_type": "code",
   "execution_count": null,
   "metadata": {},
   "outputs": [],
   "source": [
    "# # Import the FlickerCorrEmulator class first\n",
    "# from flicker_model import FlickerCorrEmulator\n",
    "# from full_Gibbs_sampler import full_Gibbs_sampler_multi_TODS_v2\n",
    "\n",
    "# Tsys_samples, all_gain_samples, all_noise_samples = \\\n",
    "#     full_Gibbs_sampler_multi_TODS_v2([TOD_setting, TOD_rising],\n",
    "#                                     [t_list, t_list],\n",
    "#                                     [gain_proj, gain_proj],\n",
    "#                                     [Tsky_operator_setting, Tsky_operator_rising],\n",
    "#                                     [nd_rec_operator, nd_rec_operator],\n",
    "#                                     init_Tsys_params,\n",
    "#                                     init_noise_params, \n",
    "#                                     [logfc, logfc],\n",
    "#                                     num_Jeffrey=False,\n",
    "#                                     wnoise_var=2.5e-6,\n",
    "#                                     Tsky_prior_cov_inv=Tsky_prior_cov_inv,\n",
    "#                                     Tsky_prior_mean=sky_params,\n",
    "#                                     local_Trec_prior_cov_inv_list=Trec_prior_cov_inv_list,\n",
    "#                                     local_Trec_prior_mean_list=[nd_rec_params, nd_rec_params],\n",
    "#                                     local_gain_prior_cov_inv_list=[gain_prior_cov_inv,gain_prior_cov_inv],\n",
    "#                                     local_gain_prior_mean_list=[gain_params_setting,gain_params_rising],\n",
    "#                                     local_noise_prior_func_list=[log_prior_noise, log_prior_noise],\n",
    "#                                     n_samples=3000,\n",
    "#                                     tol=1e-20)"
   ]
  },
  {
   "cell_type": "code",
   "execution_count": null,
   "metadata": {},
   "outputs": [],
   "source": [
    "# # First, save the samples as npy files..\n",
    "\n",
    "# np.save(\"outputs/GSF5_db/Tsys_samples_22Aug.npy\", Tsys_samples)\n",
    "# np.save(\"outputs/GSF5_db/gain_samples_22Aug.npy\", np.concatenate(all_gain_samples, axis=0))\n",
    "# np.save(\"outputs/GSF5_db/noise_samples_22Aug.npy\", np.concatenate(all_noise_samples, axis=0))"
   ]
  },
  {
   "cell_type": "code",
   "execution_count": null,
   "metadata": {},
   "outputs": [],
   "source": [
    "Tsky_samples = np.load(\"outputs/GSF5_db/Tsky_samples_samplerv1.npy\")\n",
    "gain_samples = np.load(\"outputs/GSF5_db/gain_samples_samplerv1.npy\")\n",
    "noise_samples = np.load(\"outputs/GSF5_db/noise_samples_samplerv1.npy\")\n",
    "Tloc_samples = np.load(\"outputs/GSF5_db/Tloc_samples_samplerv1.npy\")\n"
   ]
  },
  {
   "cell_type": "code",
   "execution_count": null,
   "metadata": {},
   "outputs": [],
   "source": [
    "from MCMC_diagnostics import diagnostics"
   ]
  },
  {
   "cell_type": "code",
   "execution_count": null,
   "metadata": {},
   "outputs": [],
   "source": [
    "Tloc_samples.shape"
   ]
  },
  {
   "cell_type": "code",
   "execution_count": null,
   "metadata": {},
   "outputs": [],
   "source": [
    "aux = gain_samples[1].reshape(1, 2000, 4)\n",
    "diagnostics(aux[:, :, :], param_names=[r\"$p_{g,0}$\", r\"$p_{g,1}$\",r\"$p_{g,2}$\",r\"$p_{g,3}$\"])"
   ]
  },
  {
   "cell_type": "code",
   "execution_count": null,
   "metadata": {},
   "outputs": [],
   "source": [
    "gain_samples.shape"
   ]
  },
  {
   "cell_type": "code",
   "execution_count": null,
   "metadata": {},
   "outputs": [],
   "source": [
    "import numpy as np\n",
    "import matplotlib.pyplot as plt\n",
    "import seaborn as sns\n",
    "from scipy.stats import pearsonr\n",
    "import pandas as pd\n",
    "\n",
    "# Load the samples\n",
    "gain_samples = np.load(\"outputs/GSF5_db/gain_samples_samplerv1.npy\")\n",
    "noise_samples = np.load(\"outputs/GSF5_db/noise_samples_samplerv1.npy\") \n",
    "Tloc_samples = np.load(\"outputs/GSF5_db/Tloc_samples_samplerv1.npy\")\n",
    "\n",
    "print(\"Sample shapes:\")\n",
    "print(f\"Gain samples: {gain_samples.shape}\")\n",
    "print(f\"Noise samples: {noise_samples.shape}\")\n",
    "print(f\"Tloc samples: {Tloc_samples.shape}\")\n",
    "\n",
    "def analyze_parameter_correlations(gain_samples, noise_samples, Tloc_samples, \n",
    "                                 figsize=(16, 12), save_path=None):\n",
    "    \"\"\"\n",
    "    Comprehensive correlation analysis between gain, noise, and Tloc parameters\n",
    "    \"\"\"\n",
    "    \n",
    "    # Reshape samples if needed\n",
    "    n_chains_gain = gain_samples.shape[0] if len(gain_samples.shape) > 2 else 1\n",
    "    n_chains_noise = noise_samples.shape[0] if len(noise_samples.shape) > 2 else 1\n",
    "    n_chains_tloc = Tloc_samples.shape[0] if len(Tloc_samples.shape) > 2 else 1\n",
    "    \n",
    "    # Flatten chains if multiple chains exist\n",
    "    if len(gain_samples.shape) == 3:\n",
    "        gain_flat = gain_samples.reshape(-1, gain_samples.shape[-1])\n",
    "    else:\n",
    "        gain_flat = gain_samples\n",
    "        \n",
    "    if len(noise_samples.shape) == 3:\n",
    "        noise_flat = noise_samples.reshape(-1, noise_samples.shape[-1])\n",
    "    else:\n",
    "        noise_flat = noise_samples\n",
    "        \n",
    "    if len(Tloc_samples.shape) == 3:\n",
    "        tloc_flat = Tloc_samples.reshape(-1, Tloc_samples.shape[-1])\n",
    "    else:\n",
    "        tloc_flat = Tloc_samples\n",
    "    \n",
    "    # Create parameter names\n",
    "    n_gain_params = gain_flat.shape[1] if len(gain_flat.shape) > 1 else 1\n",
    "    n_noise_params = noise_flat.shape[1] if len(noise_flat.shape) > 1 else 1 \n",
    "    n_tloc_params = tloc_flat.shape[1] if len(tloc_flat.shape) > 1 else 1\n",
    "    \n",
    "    param_names = []\n",
    "    param_names.extend([f'Gain_{i}' for i in range(n_gain_params)])\n",
    "    param_names.extend([f'Noise_{i}' for i in range(n_noise_params)])\n",
    "    param_names.extend([f'Tloc_{i}' for i in range(n_tloc_params)])\n",
    "    \n",
    "    # Combine all parameters\n",
    "    all_samples = np.column_stack([gain_flat, noise_flat, tloc_flat])\n",
    "    \n",
    "    # Calculate correlation matrix\n",
    "    corr_matrix = np.corrcoef(all_samples.T)\n",
    "    \n",
    "    # Create figure with subplots\n",
    "    fig = plt.figure(figsize=figsize)\n",
    "    gs = fig.add_gridspec(2, 2, height_ratios=[2, 1], width_ratios=[2, 1])\n",
    "    \n",
    "    # Main correlation heatmap\n",
    "    ax_main = fig.add_subplot(gs[0, 0])\n",
    "    mask = np.triu(np.ones_like(corr_matrix, dtype=bool), k=1)\n",
    "    \n",
    "    sns.heatmap(corr_matrix, mask=mask, annot=True, fmt='.3f', \n",
    "                xticklabels=param_names, yticklabels=param_names,\n",
    "                cmap='RdBu_r', center=0, square=True, ax=ax_main,\n",
    "                cbar_kws={'shrink': 0.8, 'label': 'Correlation Coefficient'})\n",
    "    ax_main.set_title('Parameter Correlation Matrix', fontsize=14, fontweight='bold')\n",
    "    \n",
    "    # Correlation histogram\n",
    "    ax_hist = fig.add_subplot(gs[0, 1])\n",
    "    lower_triangle = corr_matrix[np.tril_indices_from(corr_matrix, k=-1)]\n",
    "    ax_hist.hist(lower_triangle, bins=30, alpha=0.7, color='steelblue', edgecolor='black')\n",
    "    ax_hist.axvline(0, color='red', linestyle='--', alpha=0.8)\n",
    "    ax_hist.set_xlabel('Correlation Coefficient')\n",
    "    ax_hist.set_ylabel('Frequency')\n",
    "    ax_hist.set_title('Distribution of\\nCorrelation Coefficients')\n",
    "    ax_hist.grid(True, alpha=0.3)\n",
    "    \n",
    "    # Strong correlations table\n",
    "    ax_table = fig.add_subplot(gs[1, :])\n",
    "    ax_table.axis('off')\n",
    "    \n",
    "    # Find strongest correlations (excluding diagonal)\n",
    "    strong_corrs = []\n",
    "    for i in range(len(param_names)):\n",
    "        for j in range(i+1, len(param_names)):\n",
    "            corr_val = corr_matrix[i, j]\n",
    "            if abs(corr_val) > 0.1:  # Threshold for \"strong\" correlation\n",
    "                strong_corrs.append((param_names[i], param_names[j], corr_val))\n",
    "    \n",
    "    # Sort by absolute correlation strength\n",
    "    strong_corrs.sort(key=lambda x: abs(x[2]), reverse=True)\n",
    "    \n",
    "    # Create table\n",
    "    if strong_corrs:\n",
    "        table_data = []\n",
    "        for param1, param2, corr in strong_corrs[:10]:  # Top 10\n",
    "            table_data.append([param1, param2, f'{corr:.4f}'])\n",
    "        \n",
    "        table = ax_table.table(cellText=table_data,\n",
    "                              colLabels=['Parameter 1', 'Parameter 2', 'Correlation'],\n",
    "                              cellLoc='center',\n",
    "                              loc='center',\n",
    "                              bbox=[0.1, 0.3, 0.8, 0.6])\n",
    "        table.auto_set_font_size(False)\n",
    "        table.set_fontsize(10)\n",
    "        table.scale(1.2, 1.5)\n",
    "        \n",
    "        ax_table.set_title('Strongest Parameter Correlations (|r| > 0.1)', \n",
    "                          fontsize=12, fontweight='bold', y=0.95)\n",
    "    \n",
    "    plt.tight_layout()\n",
    "    \n",
    "    if save_path:\n",
    "        plt.savefig(save_path, dpi=300, bbox_inches='tight')\n",
    "        print(f\"Correlation analysis saved to: {save_path}\")\n",
    "    \n",
    "    plt.show()\n",
    "    \n",
    "    return corr_matrix, param_names, strong_corrs\n",
    "\n",
    "# Run the analysis\n",
    "corr_matrix, param_names, strong_corrs = analyze_parameter_correlations(\n",
    "    gain_samples, noise_samples, Tloc_samples,\n",
    "    figsize=(18, 12),\n",
    "    save_path=\"figures/parameter_correlations_GSF5_db.pdf\"\n",
    ")"
   ]
  },
  {
   "cell_type": "code",
   "execution_count": null,
   "metadata": {},
   "outputs": [],
   "source": [
    "def plot_pairwise_correlations(gain_samples, noise_samples, Tloc_samples, \n",
    "                              top_n=6, figsize=(15, 10), save_path=None):\n",
    "    \"\"\"\n",
    "    Create pairwise scatter plots for the most correlated parameters\n",
    "    \"\"\"\n",
    "    # Flatten samples\n",
    "    if len(gain_samples.shape) == 3:\n",
    "        gain_flat = gain_samples.reshape(-1, gain_samples.shape[-1])\n",
    "    else:\n",
    "        gain_flat = gain_samples\n",
    "        \n",
    "    if len(noise_samples.shape) == 3:\n",
    "        noise_flat = noise_samples.reshape(-1, noise_samples.shape[-1])\n",
    "    else:\n",
    "        noise_flat = noise_samples\n",
    "        \n",
    "    if len(Tloc_samples.shape) == 3:\n",
    "        tloc_flat = Tloc_samples.reshape(-1, Tloc_samples.shape[-1])\n",
    "    else:\n",
    "        tloc_flat = Tloc_samples\n",
    "    \n",
    "    # Combine all parameters\n",
    "    all_samples = np.column_stack([gain_flat, noise_flat, tloc_flat])\n",
    "    \n",
    "    # Parameter names with more descriptive labels\n",
    "    param_labels = []\n",
    "    param_labels.extend([f'Gain p_{{{i}}}' for i in range(gain_flat.shape[1])])\n",
    "    param_labels.extend([f'log f_0, α' if i < 2 else f'Noise_{{{i}}}' for i in range(noise_flat.shape[1])])\n",
    "    param_labels.extend([f'T_{{loc,{i}}}' for i in range(tloc_flat.shape[1])])\n",
    "    \n",
    "    # Calculate correlations and find strongest ones\n",
    "    n_params = all_samples.shape[1]\n",
    "    correlations = []\n",
    "    \n",
    "    for i in range(n_params):\n",
    "        for j in range(i+1, n_params):\n",
    "            corr, p_val = pearsonr(all_samples[:, i], all_samples[:, j])\n",
    "            correlations.append((i, j, corr, p_val, param_labels[i], param_labels[j]))\n",
    "    \n",
    "    # Sort by absolute correlation\n",
    "    correlations.sort(key=lambda x: abs(x[2]), reverse=True)\n",
    "    \n",
    "    # Create subplot grid\n",
    "    rows = (top_n + 2) // 3\n",
    "    cols = min(3, top_n)\n",
    "    \n",
    "    fig, axes = plt.subplots(rows, cols, figsize=figsize)\n",
    "    if rows == 1:\n",
    "        axes = axes.reshape(1, -1)\n",
    "    \n",
    "    for idx, (i, j, corr, p_val, label_i, label_j) in enumerate(correlations[:top_n]):\n",
    "        row = idx // cols\n",
    "        col = idx % cols\n",
    "        ax = axes[row, col]\n",
    "        \n",
    "        # Create hexbin plot\n",
    "        hb = ax.hexbin(all_samples[:, i], all_samples[:, j], \n",
    "                      gridsize=30, cmap='Blues', alpha=0.8)\n",
    "        \n",
    "        # Add trend line\n",
    "        z = np.polyfit(all_samples[:, i], all_samples[:, j], 1)\n",
    "        p = np.poly1d(z)\n",
    "        x_trend = np.linspace(all_samples[:, i].min(), all_samples[:, i].max(), 100)\n",
    "        ax.plot(x_trend, p(x_trend), \"red\", alpha=0.8, linewidth=2)\n",
    "        \n",
    "        # Labels and title\n",
    "        ax.set_xlabel(label_i, fontsize=11)\n",
    "        ax.set_ylabel(label_j, fontsize=11)\n",
    "        ax.set_title(f'r = {corr:.3f}' + (f', p < 0.001' if p_val < 0.001 else f', p = {p_val:.3f}'), \n",
    "                    fontsize=12, fontweight='bold')\n",
    "        ax.grid(True, alpha=0.3)\n",
    "    \n",
    "    # Remove empty subplots\n",
    "    for idx in range(top_n, rows * cols):\n",
    "        row = idx // cols\n",
    "        col = idx % cols\n",
    "        fig.delaxes(axes[row, col])\n",
    "    \n",
    "    plt.tight_layout()\n",
    "    \n",
    "    if save_path:\n",
    "        plt.savefig(save_path, dpi=300, bbox_inches='tight')\n",
    "        print(f\"Pairwise correlations saved to: {save_path}\")\n",
    "    \n",
    "    plt.show()\n",
    "    \n",
    "    return correlations[:top_n]\n",
    "\n",
    "# Create pairwise plots\n",
    "top_correlations = plot_pairwise_correlations(\n",
    "    gain_samples, noise_samples, Tloc_samples,\n",
    "    top_n=9,  # 3x3 grid\n",
    "    figsize=(16, 12),\n",
    "    save_path=\"figures/pairwise_correlations_GSF5_db.pdf\"\n",
    ")"
   ]
  },
  {
   "cell_type": "code",
   "execution_count": null,
   "metadata": {},
   "outputs": [],
   "source": [
    "def plot_correlation_evolution(gain_samples, noise_samples, Tloc_samples, \n",
    "                             window_size=200, figsize=(14, 8), save_path=None):\n",
    "    \"\"\"\n",
    "    Plot how correlations evolve during the sampling process\n",
    "    \"\"\"\n",
    "    # Flatten samples (assuming shape is [n_chains, n_samples, n_params])\n",
    "    if len(gain_samples.shape) == 3:\n",
    "        gain_flat = gain_samples[0]  # Use first chain\n",
    "    else:\n",
    "        gain_flat = gain_samples\n",
    "        \n",
    "    if len(noise_samples.shape) == 3:\n",
    "        noise_flat = noise_samples[0]\n",
    "    else:\n",
    "        noise_flat = noise_samples\n",
    "        \n",
    "    if len(Tloc_samples.shape) == 3:\n",
    "        tloc_flat = Tloc_samples[0]\n",
    "    else:\n",
    "        tloc_flat = Tloc_samples\n",
    "    \n",
    "    all_samples = np.column_stack([gain_flat, noise_flat, tloc_flat])\n",
    "    n_samples, n_params = all_samples.shape\n",
    "    \n",
    "    # Calculate rolling correlations\n",
    "    sample_points = range(window_size, n_samples, window_size//4)\n",
    "    \n",
    "    # Select a few interesting parameter pairs\n",
    "    interesting_pairs = [\n",
    "        (0, n_params-2),  # First gain param vs first noise param\n",
    "        (0, n_params-1),  # First gain param vs second noise param  \n",
    "        (1, n_params-2),  # Second gain param vs first noise param\n",
    "        (0, gain_flat.shape[1]),  # First gain param vs first Tloc param\n",
    "    ]\n",
    "    \n",
    "    fig, axes = plt.subplots(2, 2, figsize=figsize)\n",
    "    axes = axes.flatten()\n",
    "    \n",
    "    param_labels = []\n",
    "    param_labels.extend([f'Gain_{i}' for i in range(gain_flat.shape[1])])\n",
    "    param_labels.extend([f'Noise_{i}' for i in range(noise_flat.shape[1])])\n",
    "    param_labels.extend([f'Tloc_{i}' for i in range(tloc_flat.shape[1])])\n",
    "    \n",
    "    for idx, (i, j) in enumerate(interesting_pairs):\n",
    "        if idx >= 4:\n",
    "            break\n",
    "            \n",
    "        correlations = []\n",
    "        for end_point in sample_points:\n",
    "            start_point = max(0, end_point - window_size)\n",
    "            window_data_i = all_samples[start_point:end_point, i]\n",
    "            window_data_j = all_samples[start_point:end_point, j]\n",
    "            corr, _ = pearsonr(window_data_i, window_data_j)\n",
    "            correlations.append(corr)\n",
    "        \n",
    "        ax = axes[idx]\n",
    "        ax.plot(sample_points, correlations, 'b-', linewidth=2, alpha=0.8)\n",
    "        ax.axhline(0, color='red', linestyle='--', alpha=0.5)\n",
    "        ax.set_xlabel('Sample Number')\n",
    "        ax.set_ylabel('Correlation')\n",
    "        ax.set_title(f'{param_labels[i]} vs {param_labels[j]}')\n",
    "        ax.grid(True, alpha=0.3)\n",
    "    \n",
    "    plt.tight_layout()\n",
    "    \n",
    "    if save_path:\n",
    "        plt.savefig(save_path, dpi=300, bbox_inches='tight')\n",
    "        print(f\"Correlation evolution saved to: {save_path}\")\n",
    "    \n",
    "    plt.show()\n",
    "\n",
    "# Plot correlation evolution\n",
    "plot_correlation_evolution(\n",
    "    gain_samples, noise_samples, Tloc_samples,\n",
    "    window_size=300,\n",
    "    save_path=\"figures/correlation_evolution_GSF5_db.pdf\"\n",
    ")"
   ]
  },
  {
   "cell_type": "code",
   "execution_count": null,
   "metadata": {},
   "outputs": [],
   "source": [
    "def print_correlation_summary(gain_samples, noise_samples, Tloc_samples):\n",
    "    \"\"\"\n",
    "    Print summary statistics for parameter correlations\n",
    "    \"\"\"\n",
    "    # Flatten samples\n",
    "    if len(gain_samples.shape) == 3:\n",
    "        gain_flat = gain_samples.reshape(-1, gain_samples.shape[-1])\n",
    "        noise_flat = noise_samples.reshape(-1, noise_samples.shape[-1])\n",
    "        tloc_flat = Tloc_samples.reshape(-1, Tloc_samples.shape[-1])\n",
    "    else:\n",
    "        gain_flat = gain_samples\n",
    "        noise_flat = noise_samples  \n",
    "        tloc_flat = Tloc_samples\n",
    "    \n",
    "    print(\"=== PARAMETER CORRELATION SUMMARY ===\\n\")\n",
    "    \n",
    "    # Within-group correlations\n",
    "    print(\"GAIN PARAMETER CORRELATIONS:\")\n",
    "    gain_corr = np.corrcoef(gain_flat.T)\n",
    "    for i in range(gain_flat.shape[1]):\n",
    "        for j in range(i+1, gain_flat.shape[1]):\n",
    "            corr = gain_corr[i, j]\n",
    "            print(f\"  Gain_{i} - Gain_{j}: {corr:.4f}\")\n",
    "    \n",
    "    print(\"\\nNOISE PARAMETER CORRELATIONS:\")\n",
    "    noise_corr = np.corrcoef(noise_flat.T)\n",
    "    for i in range(noise_flat.shape[1]):\n",
    "        for j in range(i+1, noise_flat.shape[1]):\n",
    "            corr = noise_corr[i, j]\n",
    "            print(f\"  Noise_{i} - Noise_{j}: {corr:.4f}\")\n",
    "    \n",
    "    print(\"\\nTLOC PARAMETER CORRELATIONS:\")\n",
    "    tloc_corr = np.corrcoef(tloc_flat.T)\n",
    "    for i in range(tloc_flat.shape[1]):\n",
    "        for j in range(i+1, tloc_flat.shape[1]):\n",
    "            corr = tloc_corr[i, j]\n",
    "            print(f\"  Tloc_{i} - Tloc_{j}: {corr:.4f}\")\n",
    "    \n",
    "    # Cross-group correlations\n",
    "    print(\"\\nCROSS-GROUP CORRELATIONS (|r| > 0.05):\")\n",
    "    all_samples = np.column_stack([gain_flat, noise_flat, tloc_flat])\n",
    "    full_corr = np.corrcoef(all_samples.T)\n",
    "    \n",
    "    param_types = ['Gain']*gain_flat.shape[1] + ['Noise']*noise_flat.shape[1] + ['Tloc']*tloc_flat.shape[1]\n",
    "    param_indices = list(range(gain_flat.shape[1])) + list(range(noise_flat.shape[1])) + list(range(tloc_flat.shape[1]))\n",
    "    \n",
    "    for i in range(len(param_types)):\n",
    "        for j in range(i+1, len(param_types)):\n",
    "            if param_types[i] != param_types[j]:  # Cross-group only\n",
    "                corr = full_corr[i, j]\n",
    "                if abs(corr) > 0.05:\n",
    "                    print(f\"  {param_types[i]}_{param_indices[i]} - {param_types[j]}_{param_indices[j]}: {corr:.4f}\")\n",
    "\n",
    "# Print summary\n",
    "print_correlation_summary(gain_samples, noise_samples, Tloc_samples)"
   ]
  }
 ],
 "metadata": {
  "kernelspec": {
   "display_name": "TOD",
   "language": "python",
   "name": "python3"
  },
  "language_info": {
   "codemirror_mode": {
    "name": "ipython",
    "version": 3
   },
   "file_extension": ".py",
   "mimetype": "text/x-python",
   "name": "python",
   "nbconvert_exporter": "python",
   "pygments_lexer": "ipython3",
   "version": "3.13.2"
  }
 },
 "nbformat": 4,
 "nbformat_minor": 2
}
